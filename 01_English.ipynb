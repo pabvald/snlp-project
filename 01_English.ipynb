{
 "cells": [
  {
   "cell_type": "markdown",
   "source": [
    "# English Notebook"
   ],
   "metadata": {}
  },
  {
   "cell_type": "markdown",
   "source": [
    "## Import basic libraries and dependencies"
   ],
   "metadata": {}
  },
  {
   "cell_type": "code",
   "execution_count": 1,
   "source": [
    "import sys\n",
    "import importlib\n",
    "\n",
    "sys.path.append('./modules')\n",
    "from config import English, Bengali"
   ],
   "outputs": [],
   "metadata": {}
  },
  {
   "cell_type": "markdown",
   "source": [
    "## Set a language"
   ],
   "metadata": {}
  },
  {
   "cell_type": "code",
   "execution_count": 2,
   "source": [
    "LANG = English # English, Bengali"
   ],
   "outputs": [],
   "metadata": {}
  },
  {
   "cell_type": "markdown",
   "source": [
    "# 0. Language overview\n",
    "Some characteristics of the English language are:\n",
    "\n",
    "- Native speakers: around 360 million.\n",
    "- Language family: \tIndo-European > Germanic > West Germanic > Ingvaeonic > Anglo-Frisian > Anglic > English.\n",
    "- Vocabulary size: 170,000 words, or 220,000 if obsolete words are counted.\n",
    "- Writing system: \n",
    "    + written in [Latin alphabet](https://en.wikipedia.org/wiki/Latin_alphabet).\n",
    "    + 26 letters, plus their corresponding capital form.\n",
    "    + 14 puntuaction marks.\n",
    "- Phonology: \n",
    "    + 24 consonant phonemes.\n",
    "    + pronunciation of vowels varies a great deal between dialects.\n"
   ],
   "metadata": {}
  },
  {
   "cell_type": "markdown",
   "source": [
    "# 1. Data Preparation"
   ],
   "metadata": {}
  },
  {
   "cell_type": "markdown",
   "source": [
    "**Assumptions**:\n",
    "- Two-or-more end-of-line symbols (e.g. '\\n\\n') signify the separation of two paragraphs.\n",
    "- No single sentence resides in more than one paragraph.\n",
    "- We are allowed to use `nltk` for sentence-tokenization. The function from `nltk` (`nltk.tokenize.sent_tokenize`) is sufficient for the task.\n",
    "- There is no situation where double-space makes sense, so we contract all sequences of more than one space into a space character (i.e. from the regex point of view, ' +' is substituted with ' ').\n",
    "\n",
    "**Operations**:\n",
    "- Get a list of paragraphs by splitting the text by at-least-2 consecutive end-of-line characters (i.e. '\\n{2,}').\n",
    "- For each paragraph:\n",
    "    + Replace all end-of-line characters with a space.\n",
    "    + Contract all sequences of more than one space into a space character.\n",
    "    + Tokenize into sentences.\n",
    "- Collect all sentences from all paragraphs as a list and return.\n"
   ],
   "metadata": {}
  },
  {
   "cell_type": "code",
   "execution_count": 3,
   "source": [
    "# import libraries and dependencies\n",
    "import preprocessing\n",
    "import utils\n",
    "importlib.reload(preprocessing)\n",
    "from preprocessing import raw_preprocess, split_train_test"
   ],
   "outputs": [],
   "metadata": {}
  },
  {
   "cell_type": "markdown",
   "source": [
    "## 1.1. Preprocess data for sentencepiece"
   ],
   "metadata": {}
  },
  {
   "cell_type": "code",
   "execution_count": 4,
   "source": [
    "# preprocess raw data to get a list of sentences.\n",
    "sentences = raw_preprocess(LANG)\n",
    "\n",
    "# write the sentences into a file, each sentence on one line.\n",
    "with open(f'data/{LANG.name}/preprocessed.txt', 'w') as f:\n",
    "    for sentence in sentences:\n",
    "        f.write(f'{sentence}\\n')\n",
    "\n",
    "utils.print_length_statistics(sentences)"
   ],
   "outputs": [
    {
     "output_type": "stream",
     "name": "stdout",
     "text": [
      "Num. of sentences = 1707\n",
      "Avg. length = 82.49560632688927\n",
      "Std. dev. of the length = 82.6500329930229\n",
      "Maximum length = 919\n",
      "Minimum length = 3\n"
     ]
    }
   ],
   "metadata": {}
  },
  {
   "cell_type": "markdown",
   "source": [
    "## 1.2. Train/test split"
   ],
   "metadata": {}
  },
  {
   "cell_type": "code",
   "execution_count": 5,
   "source": [
    "# split data to train and test.\n",
    "train, test = split_train_test(sentences, LANG)\n",
    "\n",
    "# write train and test data into corresponding files.\n",
    "train_path = f'data/{LANG.name}/train.txt'\n",
    "test_path = f'data/{LANG.name}/test.txt'\n",
    "\n",
    "with open(train_path, 'w') as f:\n",
    "    f.write('\\n'.join(train))\n",
    "with open(test_path, 'w') as f:\n",
    "    f.write('\\n'.join(test))"
   ],
   "outputs": [],
   "metadata": {}
  },
  {
   "cell_type": "markdown",
   "source": [
    "# 2. Subword segmentation"
   ],
   "metadata": {}
  },
  {
   "cell_type": "markdown",
   "source": [
    "In this section, we work on 3 segmentation models with difference vocabulary sizes. The first one employs character-level segmentation, which is simply to treat each character as a token, resulting in a vocabulary size of 74. In the rest of this section, we focus mostly on the other 2 models."
   ],
   "metadata": {}
  },
  {
   "cell_type": "markdown",
   "source": [
    "## 2.1. Experiments with vocabulary sizes\n",
    "\n",
    "There are 2 types of subword: small vocabulary size (i.e. usually from 100 to 800) and large vocabulary size (i.e. from 1500 to 3000). For each type, we do some experiments to choose an exact vocabulary size, which will be fixed for subsequent tasks.\n",
    "\n",
    "**Approach**:\n",
    "\n",
    "We propose to employ the [Minimum Description Length (MDL)](https://en.wikipedia.org/wiki/Minimum_description_length) principle to tackle this task. The MDL is a technique for model selection inspired by Occam's razor. In its basic form, MDL prefers the model which summarizes the data the best, i.e. the total size of the model and the description of the data given the model is the smallest.\n",
    "\n",
    "![figures/MLD_1.PNG](figures/MLD_1.PNG)\n",
    "\n",
    "For our current task, we formalize the description length as the total size of the model file, the vocab file and the encoded text file. In which, the model file and the vocab file represent the model, and the encoded file represents the data given the model.\n",
    "\n",
    "![figures/MLD_2.PNG](figures/MLD_2.PNG)\n",
    "\n",
    "To prevent from overfitting, we only consider vocab sizes rounded to hundredth, i.e. 100, 200, ..., 800 and 1500, 1600, ..., 3000. The best vocabulary size is chosen as the one which results in the smallest description length per the formulation above.\n",
    "\n",
    "\n",
    "**Experiment details**:\n",
    "\n",
    "a. Small vocabulary:\n",
    "\n",
    "For small vocabulary sizes (from 100 to 800), the corresponding description length (or total file size) is shown in the figure below. The smallest description length belongs to the vocabulary size of 500.\n",
    "\n",
    "![figures/en/task2.3_small_vocab_file_size.png](figures/en/task2.3_small_vocab_file_size.png)\n",
    "\n",
    "One interesting observation is that the description length decreases sharply from vocabulary size of 100 to 200. For a qualitative evalution, let us look at an examplar sentence:\n",
    "\n",
    "original text:\n",
    "\n",
    "> There was a table set out under a tree in front of the house, and the March Hare and the Hatter were having tea at it: a Dormouse was sitting between them, fast asleep, and the other two were using it as a cushion, resting their elbows on it, and talking over its head.\n",
    "\n",
    "vocab_size = 100:\n",
    "\n",
    "> ▁ T he re ▁w a s ▁a ▁t a b l e ▁s e t ▁ ou t ▁ u nd er ▁a ▁t re e ▁ in ▁ f r o n t ▁o f ▁the ▁ h ou s e , ▁and ▁the ▁ M a r c h ▁ H a re ▁and ▁the ▁ H a t t er ▁w er e ▁ ha v ing ▁t e a ▁a t ▁ it : ▁a ▁ D o r m ou s e ▁w a s ▁s it t ing ▁b e t w e en ▁the m , ▁ f a s t ▁a s l e e p , ▁and ▁the ▁o t he r ▁t w o ▁w er e ▁ u s ing ▁ it ▁a s ▁a ▁c u s h i o n , ▁ re s t ing ▁the i r ▁ e l b o w s ▁o n ▁ it , ▁and ▁t a l k ing ▁o v er ▁ it s ▁ he a d .\n",
    "\n",
    "vocab_size = 200:\n",
    "\n",
    "> ▁T he re ▁was ▁a ▁t a b le ▁s et ▁ out ▁u nd er ▁a ▁t re e ▁in ▁f r on t ▁of ▁the ▁h ou se , ▁and ▁the ▁M ar ch ▁H a re ▁and ▁the ▁H at ter ▁w er e ▁ha v ing ▁t ea ▁at ▁it : ▁a ▁D or m ou se ▁was ▁s it t ing ▁be t w e en ▁the m , ▁f as t ▁as le e p , ▁and ▁the ▁o t her ▁t w o ▁w er e ▁u s ing ▁it ▁as ▁a ▁c u s h i on , ▁re st ing ▁the ir ▁e l b ow s ▁on ▁it , ▁and ▁t a l k ing ▁o ver ▁it s ▁he ad .\n",
    "\n",
    "vocab_size = 500:\n",
    "\n",
    "> ▁The re ▁was ▁a ▁t able ▁s et ▁out ▁u nder ▁a ▁t ree ▁in ▁fr on t ▁of ▁the ▁h ouse , ▁and ▁the ▁March ▁H are ▁and ▁the ▁Hatter ▁were ▁ha v ing ▁t ea ▁at ▁it : ▁a ▁Dormouse ▁was ▁s it ting ▁be t w een ▁them , ▁f ast ▁as le e p , ▁and ▁the ▁other ▁tw o ▁were ▁us ing ▁it ▁as ▁a ▁c us h ion , ▁re st ing ▁their ▁e l b ow s ▁on ▁it , ▁and ▁t al king ▁over ▁its ▁head .\n",
    "\n",
    "For the size of 100, nearly every token is a character, which is obviously a bad sign since it cannot utilize the use of longer subwords or words to foster learning. Note that since this text has roughtly 72 characters, only 100-72=28 combinations of characters are taken as tokens for this size. \n",
    "\n",
    "For the size of 200, more meaningful combinations of characters are recognized as a token. In particular, the number almost quintuples from 28 to 128. As an example, *'ing'* has its own place. This explains the great drop in the description length.\n",
    "\n",
    "This trend continues up to the size of 500, where the trade-off between generality and specificity of adding new tokens equalizes. Most of the stopwords, which are very frequent, occupy their own tokens. Meaningful suffixes like *'able'* now also have their own place. \n",
    "\n",
    "While a vocabulary size of 500 is quite small in practice, we believe it is suitable for our current problem since the input text file is small.\n",
    "\n",
    "b. Large vocabulary\n",
    "\n",
    "For large vocabulary sizes (from 1500 to 3000), we apply the same procedure as described. The description lengths corresponding to different sizes are shown below: \n",
    "\n",
    "![figures/en/task2.3_large_vocab_file_size.png](figures/en/task2.3_large_vocab_file_size.png)\n",
    "\n",
    "It can be observed from the figure that the larger the vocabulary size, the longer the description length. We suspect that this is because 1500 is already bigger than the optimal size, thus adding more tokens only makes things worse. For the purposes of the next tasks, we will use the size of 1500 for the large vocabulary size.\n",
    "\n",
    "Regarding the example above, let us look at how the sentence is segmented:\n",
    "\n",
    "vocab_size = 1500:\n",
    "\n",
    "> ▁There ▁was ▁a ▁table ▁set ▁out ▁under ▁a ▁t ree ▁in ▁fr on t ▁of ▁the ▁house , ▁and ▁the ▁March ▁Hare ▁and ▁the ▁Hatter ▁were ▁having ▁tea ▁at ▁it : ▁a ▁Dormouse ▁was ▁sitting ▁bet w een ▁them , ▁f ast ▁asleep , ▁and ▁the ▁other ▁two ▁were ▁us ing ▁it ▁as ▁a ▁c ush ion , ▁rest ing ▁their ▁el b ow s ▁on ▁it , ▁and ▁talking ▁over ▁its ▁head .\n",
    "\n",
    "We can see that most of the words are standing alone as a token. This becomes close to word-level segmentation, which may potentially reduce the advantages of using sub-words for handling OOV.\n",
    "\n",
    "## 2.2. Training of Segmentation models\n",
    "\n",
    "**Operations**:\n",
    "- We train 3 segmentation models of different vocabulary sizes:\n",
    "    - character-level segmentation.\n",
    "    - small subword vocabulary size of 500.\n",
    "    - large subword vocabulary size of 1500.\n",
    "- For each vocabulary size, we:\n",
    "    - train a segmentation model.\n",
    "    - apply the model on the training data to get an encoded text.\n",
    "    - decode the encoded text, verify that the decoded text is the same as the original training data to ensure the correctness of the model.\n",
    "    - apply the same encoding, decoding operations on the test data.   "
   ],
   "metadata": {}
  },
  {
   "cell_type": "code",
   "execution_count": 6,
   "source": [
    "# import libraries and dependencies\n",
    "import segmentation\n",
    "importlib.reload(segmentation)\n",
    "from segmentation import train_segmentation, encode_text_file, decode_text_file\n",
    "from config import seg_profiles"
   ],
   "outputs": [],
   "metadata": {}
  },
  {
   "cell_type": "code",
   "execution_count": 7,
   "source": [
    "seg_profiles[LANG.name]"
   ],
   "outputs": [
    {
     "output_type": "execute_result",
     "data": {
      "text/plain": [
       "[SegmentationConf(id='s1', vocab_size=None, model_type='char'),\n",
       " SegmentationConf(id='s2', vocab_size=500, model_type='bpe'),\n",
       " SegmentationConf(id='s3', vocab_size=1500, model_type='bpe')]"
      ]
     },
     "metadata": {},
     "execution_count": 7
    }
   ],
   "metadata": {}
  },
  {
   "cell_type": "code",
   "execution_count": null,
   "source": [
    "for seg in seg_profiles[LANG.name]:\n",
    "    # train segmentation on the train data\n",
    "    spm1 = train_segmentation(\n",
    "        text_file=train_path, \n",
    "        LANG=LANG, \n",
    "        vocab_size=seg.vocab_size, \n",
    "        model_type=seg.model_type)\n",
    "  \n",
    "    encoded_file = f'data/{LANG.name}/segmentation/{seg.id}.txt'\n",
    "    encode_text_file(text_file=train_path, model_path=spm1, output_file=encoded_file)\n",
    "    \n",
    "    decoded_file = f'data/{LANG.name}/segmentation/{seg.id}_decoded.txt'\n",
    "    decode_text_file(text_file=encoded_file, model_path=spm1, output_file=decoded_file)\n",
    "    \n",
    "    # test it on the test data\n",
    "    encoded_file = f'data/{LANG.name}/segmentation/{seg.id}_test.txt'\n",
    "    encode_text_file(text_file=test_path, model_path=spm1, output_file=encoded_file)\n",
    "    \n",
    "    decoded_file = f'data/{LANG.name}/segmentation/{seg.id}_decoded_test.txt'\n",
    "    decode_text_file(text_file=encoded_file, model_path=spm1, output_file=decoded_file)"
   ],
   "outputs": [],
   "metadata": {}
  },
  {
   "cell_type": "markdown",
   "source": [
    "# 3. Language Model"
   ],
   "metadata": {}
  },
  {
   "cell_type": "markdown",
   "source": [
    "## 3.1. Baseline"
   ],
   "metadata": {
    "tags": []
   }
  },
  {
   "cell_type": "code",
   "execution_count": 8,
   "source": [
    "from config import baseline_conf\n",
    "baseline_conf"
   ],
   "outputs": [
    {
     "output_type": "execute_result",
     "data": {
      "text/plain": [
       "TrainingConf(hidden=40, rand_seed=1, debug=2, bptt=4, n_class=9999)"
      ]
     },
     "metadata": {},
     "execution_count": 8
    }
   ],
   "metadata": {}
  },
  {
   "cell_type": "markdown",
   "source": [
    "Executing the following cell will delete the already trained language models. To simply see the perplexity of the trained models, skip this cell and execute the next one."
   ],
   "metadata": {}
  },
  {
   "cell_type": "code",
   "execution_count": null,
   "source": [
    "for seg in seg_profiles[LANG.name]:\n",
    "    # Hyper parameters\n",
    "    hidden = baseline_conf.hidden\n",
    "    rand_seed = baseline_conf.rand_seed\n",
    "    debug = baseline_conf.debug\n",
    "    bptt = baseline_conf.bptt\n",
    "    n_class = baseline_conf.n_class\n",
    "\n",
    "    # Parameters\n",
    "    model_path = f'models/rnnlm/{LANG.name}/{seg.id}_baseline'\n",
    "    train_path = f'../../../../data/{LANG.name}/segmentation/{seg.id}.txt'\n",
    "    valid_path = f'../../../../data/{LANG.name}/segmentation/{seg.id}_test.txt'\n",
    "\n",
    "    # run the model \n",
    "    !rm -rf $model_path \\\n",
    "      && mkdir $model_path \\\n",
    "      && cd $model_path \\\n",
    "      && ../../../../rnnlm-0.3e/rnnlm \\\n",
    "        -train $train_path \\\n",
    "        -valid $valid_path \\\n",
    "        -rnnlm model \\\n",
    "        -hidden $hidden \\\n",
    "        -rand-seed $rand_seed \\\n",
    "        -debug $debug \\\n",
    "        -bptt $bptt \\\n",
    "        -class $n_class"
   ],
   "outputs": [],
   "metadata": {}
  },
  {
   "cell_type": "markdown",
   "source": [
    "The validation perplexities of the baseline models are:"
   ],
   "metadata": {}
  },
  {
   "cell_type": "code",
   "execution_count": 9,
   "source": [
    "for seg in seg_profiles[LANG.name]:\n",
    "    model_path = f'models/rnnlm/{LANG.name}/{seg.id}_baseline'\n",
    "        \n",
    "    # read output and print perplexity\n",
    "    with open(f'{model_path}/model.output.txt', 'r') as f:\n",
    "        output = f.read()\n",
    "        pp = output.split()[-1]\n",
    "        print(f'Baseline {LANG.name}-{seg.id} validation perplexity: {pp}')"
   ],
   "outputs": [
    {
     "output_type": "stream",
     "name": "stdout",
     "text": [
      "Baseline en-s1 validation perplexity: 5.257669\n",
      "Baseline en-s2 validation perplexity: 33.814382\n",
      "Baseline en-s3 validation perplexity: 85.886606\n"
     ]
    }
   ],
   "metadata": {}
  },
  {
   "cell_type": "markdown",
   "source": [
    "\n",
    "## 3.2. Experiments\n",
    "\n",
    "**Approach**:\n",
    "\n",
    "To cover a wide range of hyperparameter values, we employ grid search.\n",
    "\n",
    "**Operations**:\n",
    "\n",
    "For each model, we do grid search on 3 hyperparameters: \n",
    "- `hidden`: the number of neurons in the hidden layer,\n",
    "- `bptt`: the number of steps in time that error is backpropagated,\n",
    "- `class`: the number of classes for class-based LM.\n",
    "\n",
    "The exact list of values for each hyperparameters can be seen in the code. Note that for the `hidden`, we set an upperbound of 200 as suggested by the authors of the [rnnlm toolkit](http://www.fit.vutbr.cz/~imikolov/rnnlm/FAQ.txt) for small texts with less than 1M words. For the `class`, all values greater than or equal to 1500 are equivalent (since the maximum vocabulary size we selected in the previous section is 1500). Here we set an upperbound of 1501."
   ],
   "metadata": {}
  },
  {
   "cell_type": "code",
   "execution_count": 10,
   "source": [
    "import pickle\n",
    "import itertools"
   ],
   "outputs": [],
   "metadata": {}
  },
  {
   "cell_type": "code",
   "execution_count": 11,
   "source": [
    "# experimented results are kept in a file\n",
    "grid_result_file = f'experiments/{LANG.name}/task3_grid_search.pickle'\n",
    "# grid_results stores the results in memory\n",
    "grid_results = {}\n",
    "\n",
    "# import previous results if exists\n",
    "\n",
    "with open(grid_result_file, 'rb') as f:\n",
    "    previous_results = pickle.load(f)\n",
    "    grid_results.update(previous_results)\n",
    "\n",
    "grid_results"
   ],
   "outputs": [
    {
     "output_type": "execute_result",
     "data": {
      "text/plain": [
       "{('en', 's1', 5, 0, 10): 10.887227,\n",
       " ('en', 's1', 5, 0, 100): 10.645946,\n",
       " ('en', 's1', 5, 0, 1501): 10.482386,\n",
       " ('en', 's1', 5, 1, 10): 10.605196,\n",
       " ('en', 's1', 5, 1, 100): 10.271953,\n",
       " ('en', 's1', 5, 1, 1501): 10.261143,\n",
       " ('en', 's1', 5, 3, 10): 10.650879,\n",
       " ('en', 's1', 5, 3, 100): 10.273488,\n",
       " ('en', 's1', 5, 3, 1501): 10.1756,\n",
       " ('en', 's1', 5, 5, 10): 10.650509,\n",
       " ('en', 's1', 5, 5, 100): 10.275037,\n",
       " ('en', 's1', 5, 5, 1501): 10.170872,\n",
       " ('en', 's1', 20, 0, 10): 7.372125,\n",
       " ('en', 's1', 20, 0, 100): 6.910608,\n",
       " ('en', 's1', 20, 0, 1501): 7.039472,\n",
       " ('en', 's1', 20, 1, 10): 6.759173,\n",
       " ('en', 's1', 20, 1, 100): 6.477795,\n",
       " ('en', 's1', 20, 1, 1501): 6.552387,\n",
       " ('en', 's1', 20, 3, 10): 6.617757,\n",
       " ('en', 's1', 20, 3, 100): 6.550642,\n",
       " ('en', 's1', 20, 3, 1501): 6.441925,\n",
       " ('en', 's1', 20, 5, 10): 6.675042,\n",
       " ('en', 's1', 20, 5, 100): 6.571401,\n",
       " ('en', 's1', 20, 5, 1501): 6.611228,\n",
       " ('en', 's1', 40, 0, 10): 6.051518,\n",
       " ('en', 's1', 40, 0, 100): 5.971961,\n",
       " ('en', 's1', 40, 0, 1501): 5.99838,\n",
       " ('en', 's1', 40, 1, 10): 5.437759,\n",
       " ('en', 's1', 40, 1, 100): 5.316452,\n",
       " ('en', 's1', 40, 1, 1501): 5.325766,\n",
       " ('en', 's1', 40, 3, 10): 5.407829,\n",
       " ('en', 's1', 40, 3, 100): 5.300316,\n",
       " ('en', 's1', 40, 3, 1501): 5.358696,\n",
       " ('en', 's1', 40, 5, 10): 5.450305,\n",
       " ('en', 's1', 40, 5, 100): 5.26304,\n",
       " ('en', 's1', 40, 5, 1501): 5.314311,\n",
       " ('en', 's1', 70, 0, 10): 5.305246,\n",
       " ('en', 's1', 70, 0, 100): 5.192741,\n",
       " ('en', 's1', 70, 0, 1501): 5.206954,\n",
       " ('en', 's1', 70, 1, 10): 4.716855,\n",
       " ('en', 's1', 70, 1, 100): 4.592401,\n",
       " ('en', 's1', 70, 1, 1501): 4.615947,\n",
       " ('en', 's1', 70, 3, 10): 4.694345,\n",
       " ('en', 's1', 70, 3, 100): 4.618809,\n",
       " ('en', 's1', 70, 3, 1501): 4.580358,\n",
       " ('en', 's1', 70, 5, 10): 4.756707,\n",
       " ('en', 's1', 70, 5, 100): 4.612161,\n",
       " ('en', 's1', 70, 5, 1501): 4.571423,\n",
       " ('en', 's1', 100, 0, 10): 5.00432,\n",
       " ('en', 's1', 100, 0, 100): 4.906095,\n",
       " ('en', 's1', 100, 0, 1501): 4.747253,\n",
       " ('en', 's1', 100, 1, 10): 4.424928,\n",
       " ('en', 's1', 100, 1, 100): 4.269873,\n",
       " ('en', 's1', 100, 1, 1501): 4.25408,\n",
       " ('en', 's1', 100, 3, 10): 4.416273,\n",
       " ('en', 's1', 100, 3, 100): 4.313073,\n",
       " ('en', 's1', 100, 3, 1501): 4.253318,\n",
       " ('en', 's1', 100, 5, 10): 4.38419,\n",
       " ('en', 's1', 100, 5, 100): 4.268893,\n",
       " ('en', 's1', 100, 5, 1501): 4.306499,\n",
       " ('en', 's2', 5, 0, 10): 79.917113,\n",
       " ('en', 's2', 5, 0, 100): 91.003108,\n",
       " ('en', 's2', 5, 0, 1501): 76.94798,\n",
       " ('en', 's2', 5, 1, 10): 81.820482,\n",
       " ('en', 's2', 5, 1, 100): 89.977811,\n",
       " ('en', 's2', 5, 1, 1501): 76.729335,\n",
       " ('en', 's2', 5, 3, 10): 81.852043,\n",
       " ('en', 's2', 5, 3, 100): 90.061156,\n",
       " ('en', 's2', 5, 3, 1501): 78.192649,\n",
       " ('en', 's2', 5, 5, 10): 81.062396,\n",
       " ('en', 's2', 5, 5, 100): 90.06735,\n",
       " ('en', 's2', 5, 5, 1501): 78.185581,\n",
       " ('en', 's2', 20, 0, 10): 45.955262,\n",
       " ('en', 's2', 20, 0, 100): 48.136868,\n",
       " ('en', 's2', 20, 0, 1501): 41.553778,\n",
       " ('en', 's2', 20, 1, 10): 43.400182,\n",
       " ('en', 's2', 20, 1, 100): 46.621071,\n",
       " ('en', 's2', 20, 1, 1501): 39.809213,\n",
       " ('en', 's2', 20, 3, 10): 43.379997,\n",
       " ('en', 's2', 20, 3, 100): 46.926589,\n",
       " ('en', 's2', 20, 3, 1501): 40.009833,\n",
       " ('en', 's2', 20, 5, 10): 43.661502,\n",
       " ('en', 's2', 20, 5, 100): 46.680885,\n",
       " ('en', 's2', 20, 5, 1501): 39.995691,\n",
       " ('en', 's2', 40, 0, 10): 39.261794,\n",
       " ('en', 's2', 40, 0, 100): 41.81998,\n",
       " ('en', 's2', 40, 0, 1501): 35.676485,\n",
       " ('en', 's2', 40, 1, 10): 37.889069,\n",
       " ('en', 's2', 40, 1, 100): 39.46187,\n",
       " ('en', 's2', 40, 1, 1501): 34.018567,\n",
       " ('en', 's2', 40, 3, 10): 38.041814,\n",
       " ('en', 's2', 40, 3, 100): 39.391447,\n",
       " ('en', 's2', 40, 3, 1501): 33.666623,\n",
       " ('en', 's2', 40, 5, 10): 38.163084,\n",
       " ('en', 's2', 40, 5, 100): 39.34923,\n",
       " ('en', 's2', 40, 5, 1501): 33.926588,\n",
       " ('en', 's2', 70, 0, 10): 37.479954,\n",
       " ('en', 's2', 70, 0, 100): 38.349149,\n",
       " ('en', 's2', 70, 0, 1501): 34.186575,\n",
       " ('en', 's2', 70, 1, 10): 37.086731,\n",
       " ('en', 's2', 70, 1, 100): 36.532976,\n",
       " ('en', 's2', 70, 1, 1501): 31.983317,\n",
       " ('en', 's2', 70, 3, 10): 36.082172,\n",
       " ('en', 's2', 70, 3, 100): 36.814332,\n",
       " ('en', 's2', 70, 3, 1501): 32.01026,\n",
       " ('en', 's2', 70, 5, 10): 36.1004,\n",
       " ('en', 's2', 70, 5, 100): 37.142751,\n",
       " ('en', 's2', 70, 5, 1501): 31.948504,\n",
       " ('en', 's2', 100, 0, 10): 37.132552,\n",
       " ('en', 's2', 100, 0, 100): 37.63228,\n",
       " ('en', 's2', 100, 0, 1501): 34.24341,\n",
       " ('en', 's2', 100, 1, 10): 35.457378,\n",
       " ('en', 's2', 100, 1, 100): 36.476024,\n",
       " ('en', 's2', 100, 1, 1501): 32.254808,\n",
       " ('en', 's2', 100, 3, 10): 35.248742,\n",
       " ('en', 's2', 100, 3, 100): 36.105768,\n",
       " ('en', 's2', 100, 3, 1501): 31.724294,\n",
       " ('en', 's2', 100, 5, 10): 35.378668,\n",
       " ('en', 's2', 100, 5, 100): 36.213214,\n",
       " ('en', 's2', 100, 5, 1501): 32.134818,\n",
       " ('en', 's3', 5, 0, 10): 129.486665,\n",
       " ('en', 's3', 5, 0, 100): 154.827237,\n",
       " ('en', 's3', 5, 0, 1501): 124.444336,\n",
       " ('en', 's3', 5, 1, 10): 129.329557,\n",
       " ('en', 's3', 5, 1, 100): 146.402615,\n",
       " ('en', 's3', 5, 1, 1501): 126.377034,\n",
       " ('en', 's3', 5, 3, 10): 129.802971,\n",
       " ('en', 's3', 5, 3, 100): 146.458968,\n",
       " ('en', 's3', 5, 3, 1501): 125.207263,\n",
       " ('en', 's3', 5, 5, 10): 129.817731,\n",
       " ('en', 's3', 5, 5, 100): 146.510168,\n",
       " ('en', 's3', 5, 5, 1501): 125.232471,\n",
       " ('en', 's3', 20, 0, 10): 84.936761,\n",
       " ('en', 's3', 20, 0, 100): 92.439914,\n",
       " ('en', 's3', 20, 0, 1501): 83.038117,\n",
       " ('en', 's3', 20, 1, 10): 87.361218,\n",
       " ('en', 's3', 20, 1, 100): 95.813698,\n",
       " ('en', 's3', 20, 1, 1501): 84.001277,\n",
       " ('en', 's3', 20, 3, 10): 91.381798,\n",
       " ('en', 's3', 20, 3, 100): 96.344725,\n",
       " ('en', 's3', 20, 3, 1501): 87.109214,\n",
       " ('en', 's3', 20, 5, 10): 92.278409,\n",
       " ('en', 's3', 20, 5, 100): 95.730928,\n",
       " ('en', 's3', 20, 5, 1501): 87.425986,\n",
       " ('en', 's3', 40, 0, 10): 82.584596,\n",
       " ('en', 's3', 40, 0, 100): 87.538349,\n",
       " ('en', 's3', 40, 0, 1501): 81.272751,\n",
       " ('en', 's3', 40, 1, 10): 87.442705,\n",
       " ('en', 's3', 40, 1, 100): 94.475276,\n",
       " ('en', 's3', 40, 1, 1501): 84.571293,\n",
       " ('en', 's3', 40, 3, 10): 88.000203,\n",
       " ('en', 's3', 40, 3, 100): 93.488502,\n",
       " ('en', 's3', 40, 3, 1501): 86.396765,\n",
       " ('en', 's3', 40, 5, 10): 88.458003,\n",
       " ('en', 's3', 40, 5, 100): 94.455227,\n",
       " ('en', 's3', 40, 5, 1501): 87.545986,\n",
       " ('en', 's3', 70, 0, 10): 83.427868,\n",
       " ('en', 's3', 70, 0, 100): 89.895547,\n",
       " ('en', 's3', 70, 0, 1501): 85.551072,\n",
       " ('en', 's3', 70, 1, 10): 86.183936,\n",
       " ('en', 's3', 70, 1, 100): 91.10678,\n",
       " ('en', 's3', 70, 1, 1501): 85.31454,\n",
       " ('en', 's3', 70, 3, 10): 87.148869,\n",
       " ('en', 's3', 70, 3, 100): 93.839767,\n",
       " ('en', 's3', 70, 3, 1501): 87.199227,\n",
       " ('en', 's3', 70, 5, 10): 87.453107,\n",
       " ('en', 's3', 70, 5, 100): 93.421055,\n",
       " ('en', 's3', 70, 5, 1501): 88.09753,\n",
       " ('en', 's3', 100, 0, 10): 84.750986,\n",
       " ('en', 's3', 100, 0, 100): 91.323652,\n",
       " ('en', 's3', 100, 0, 1501): 86.012182,\n",
       " ('en', 's3', 100, 1, 10): 88.366665,\n",
       " ('en', 's3', 100, 1, 100): 92.328073,\n",
       " ('en', 's3', 100, 1, 1501): 88.589836,\n",
       " ('en', 's3', 100, 3, 10): 87.912403,\n",
       " ('en', 's3', 100, 3, 100): 92.999376,\n",
       " ('en', 's3', 100, 3, 1501): 96.743101,\n",
       " ('en', 's3', 100, 5, 10): 88.806794,\n",
       " ('en', 's3', 100, 5, 100): 95.070122,\n",
       " ('en', 's3', 100, 5, 1501): 89.744803,\n",
       " ('en', 's1', 150, 0, 10): 4.781489,\n",
       " ('en', 's1', 150, 0, 100): 4.605979,\n",
       " ('en', 's1', 150, 0, 1501): 4.515349,\n",
       " ('en', 's1', 150, 1, 10): 4.198978,\n",
       " ('en', 's1', 150, 1, 100): 4.102886,\n",
       " ('en', 's1', 150, 1, 1501): 4.120607,\n",
       " ('en', 's1', 150, 3, 10): 4.13526,\n",
       " ('en', 's1', 150, 3, 100): 4.127839,\n",
       " ('en', 's1', 150, 3, 1501): 4.049141,\n",
       " ('en', 's1', 150, 5, 10): 4.201073,\n",
       " ('en', 's1', 150, 5, 100): 4.069257,\n",
       " ('en', 's1', 150, 5, 1501): 4.055643,\n",
       " ('en', 's1', 200, 0, 10): 4.709409,\n",
       " ('en', 's1', 200, 0, 100): 4.558869,\n",
       " ('en', 's1', 200, 0, 1501): 4.614805,\n",
       " ('en', 's1', 200, 1, 10): 4.095692,\n",
       " ('en', 's1', 200, 1, 100): 4.058359,\n",
       " ('en', 's1', 200, 1, 1501): 4.018158,\n",
       " ('en', 's1', 200, 3, 10): 4.073541,\n",
       " ('en', 's1', 200, 3, 100): 3.958083,\n",
       " ('en', 's1', 200, 3, 1501): 3.996584,\n",
       " ('en', 's1', 200, 5, 10): 4.099608,\n",
       " ('en', 's1', 200, 5, 100): 4.040458,\n",
       " ('en', 's1', 200, 5, 1501): 3.980423,\n",
       " ('en', 's2', 150, 0, 10): 36.179975,\n",
       " ('en', 's2', 150, 0, 100): 36.448608,\n",
       " ('en', 's2', 150, 0, 1501): 33.964105,\n",
       " ('en', 's2', 150, 1, 10): 35.481469,\n",
       " ('en', 's2', 150, 1, 100): 35.831927,\n",
       " ('en', 's2', 150, 1, 1501): 32.380335,\n",
       " ('en', 's2', 150, 3, 10): 35.752299,\n",
       " ('en', 's2', 150, 3, 100): 36.01969,\n",
       " ('en', 's2', 150, 3, 1501): 31.466389,\n",
       " ('en', 's2', 150, 5, 10): 35.315552,\n",
       " ('en', 's2', 150, 5, 100): 36.098534,\n",
       " ('en', 's2', 150, 5, 1501): 31.823615,\n",
       " ('en', 's2', 200, 0, 10): 36.100396,\n",
       " ('en', 's2', 200, 0, 100): 36.59243,\n",
       " ('en', 's2', 200, 0, 1501): 33.80988,\n",
       " ('en', 's2', 200, 1, 10): 35.105685,\n",
       " ('en', 's2', 200, 1, 100): 36.088001,\n",
       " ('en', 's2', 200, 1, 1501): 32.343795,\n",
       " ('en', 's2', 200, 3, 10): 35.166543,\n",
       " ('en', 's2', 200, 3, 100): 36.4616,\n",
       " ('en', 's2', 200, 3, 1501): 31.358697,\n",
       " ('en', 's2', 200, 5, 10): 35.102639,\n",
       " ('en', 's2', 200, 5, 100): 36.149027,\n",
       " ('en', 's2', 200, 5, 1501): 31.537923,\n",
       " ('en', 's3', 150, 0, 10): 86.195108,\n",
       " ('en', 's3', 150, 0, 100): 89.120879,\n",
       " ('en', 's3', 150, 0, 1501): 88.098382,\n",
       " ('en', 's3', 150, 1, 10): 87.674062,\n",
       " ('en', 's3', 150, 1, 100): 90.484762,\n",
       " ('en', 's3', 150, 1, 1501): 88.756647,\n",
       " ('en', 's3', 150, 3, 10): 88.410128,\n",
       " ('en', 's3', 150, 3, 100): 91.128259,\n",
       " ('en', 's3', 150, 3, 1501): 91.295904,\n",
       " ('en', 's3', 150, 5, 10): 87.808701,\n",
       " ('en', 's3', 150, 5, 100): 91.722583,\n",
       " ('en', 's3', 150, 5, 1501): 91.035236,\n",
       " ('en', 's3', 200, 0, 10): 85.464932,\n",
       " ('en', 's3', 200, 0, 100): 89.023724,\n",
       " ('en', 's3', 200, 0, 1501): 86.097993,\n",
       " ('en', 's3', 200, 1, 10): 86.257335,\n",
       " ('en', 's3', 200, 1, 100): 90.254313,\n",
       " ('en', 's3', 200, 1, 1501): 90.185754,\n",
       " ('en', 's3', 200, 3, 10): 87.47169,\n",
       " ('en', 's3', 200, 3, 100): 90.232826,\n",
       " ('en', 's3', 200, 3, 1501): 89.895455,\n",
       " ('en', 's3', 200, 5, 10): 102.336159,\n",
       " ('en', 's3', 200, 5, 100): 91.813027,\n",
       " ('en', 's3', 200, 5, 1501): 90.32816}"
      ]
     },
     "metadata": {},
     "execution_count": 11
    }
   ],
   "metadata": {
    "scrolled": true,
    "tags": []
   }
  },
  {
   "cell_type": "code",
   "execution_count": null,
   "source": [
    "hidden_choices = [5, 20, 40, 70, 100, 150, 200]\n",
    "bptt_choices = [0, 1, 3, 5]\n",
    "class_choices = [10, 100, 1501]\n",
    "rand_seed = 1\n",
    "debug = 2\n",
    "\n",
    "for seg, hidden, bptt, _class in itertools.product(\n",
    "    seg_profiles[LANG.name], hidden_choices, bptt_choices, class_choices):\n",
    "\n",
    "    if (LANG.name, seg.id, hidden, bptt, _class) in grid_results:\n",
    "        print(f'skip {LANG.name} {seg.id} {hidden} {bptt} {_class}')\n",
    "        continue\n",
    "\n",
    "    # Parameters\n",
    "    model_path = f'models/rnnlm/{LANG.name}/{seg.id}'\n",
    "    train_path = f'../../../../data/{LANG.name}/segmentation/{seg.id}.txt'\n",
    "    valid_path = f'../../../../data/{LANG.name}/segmentation/{seg.id}_test.txt'\n",
    "\n",
    "    # run the model \n",
    "    !rm -rf $model_path \\\n",
    "      && mkdir $model_path \\\n",
    "      && cd $model_path \\\n",
    "      && ../../../../rnnlm-0.3e/rnnlm \\\n",
    "        -train $train_path \\\n",
    "        -valid $valid_path \\\n",
    "        -rnnlm model \\\n",
    "        -hidden $hidden \\\n",
    "        -rand-seed $rand_seed \\\n",
    "        -debug $debug \\\n",
    "        -bptt $bptt \\\n",
    "        -class $_class \\\n",
    "        2> error.txt\n",
    "\n",
    "    # read output extract validation perplexity\n",
    "    with open(f'{model_path}/model.output.txt', 'r') as f:\n",
    "        output = f.read()\n",
    "        pp = float(output.split()[-1])\n",
    "        grid_results[(LANG.name, seg.id, hidden, bptt, _class)] = pp\n",
    "\n",
    "    # write current results to file\n",
    "    with open(grid_result_file, 'wb') as f:\n",
    "        pickle.dump(grid_results, f)"
   ],
   "outputs": [],
   "metadata": {
    "scrolled": true,
    "tags": []
   }
  },
  {
   "cell_type": "markdown",
   "source": [
    "\n",
    "**Observations**:\n",
    "\n",
    "The following plots show how the perplexity of the model varies when changing each of the hyperparameters, while leaving the rest fixed. "
   ],
   "metadata": {}
  },
  {
   "cell_type": "code",
   "execution_count": 12,
   "source": [
    "import visualisation \n",
    "\n",
    "visualisation.plot_grid_results(English, grid_results)"
   ],
   "outputs": [
    {
     "output_type": "display_data",
     "data": {
      "text/plain": [
       "<Figure size 1152x360 with 3 Axes>"
      ],
      "image/png": "[encoded data removed]"
     },
     "metadata": {
      "needs_background": "light"
     }
    }
   ],
   "metadata": {}
  },
  {
   "cell_type": "markdown",
   "source": [
    "The first plot shows the perplexity values for different sizes of the `hidden` layer of the RNNLM for a fixed value of `bptt` and `class`. In all cases, increasing the number of hidden layers gives a lower (better) perplexity. For `s1` and `s2`, changing from 5 to 20 hidden neurons implies a huge decrease. The intensity of change is lessened when there are more and more neurons. From 100 neurons onwards, the differences are negligible.\n",
    "\n",
    "The second plot shows how the perplexity varies with `bptt`. In general, this hyperparameter does not have a major impact to the perplexity. While for `s1` and `s2`, increasing `bptt` from 0 to 1 results in slightly better perplexities, the reverse is true for `s3`. Higher values of `bptt` then have almost no impact to the perplexity on average.\n",
    "\n",
    "The variation of the perplexity for different values of `class` is shown in the third plot. From 100, increasing the number of classes usually reduces the perplexity for the three vocabulary sizes. There is a trade-off between model performance and training speed: a higher value of `class` requires longer time to train but may result in a marginally better performance and vice versa.\n",
    "\n",
    "Another interesting observation is that the overall performance of `s1` is much better than `s2`, which in turn is much better than `s3`. **We suspect this is because the *rnnlm toolkit* misunderstood the spaces in the input files (which represent separation between tokens) as meaningful characters of the text**. Thus, for `s1`, it can just predict that for any non-space character, the next character is a space, and then it has half of the predictions correct, which results in such a low perplexity. Since we are more focused on OOV handling but not perplexity optimization, we ignore this problem for the rest of the project.\n"
   ],
   "metadata": {}
  },
  {
   "cell_type": "markdown",
   "source": [
    "\n",
    "**Results**:\n",
    "\n",
    "There are different approaches to select the sets of optimal hyperparameters base on the above results and observations. One may follow Occam's Razor and prefer small values for the hyperparameters as long as the perplexity is only slightly higher than the minimum one. Another may directly choose the sets of values that result in the optimal perplexities. For simplicity, we opt for the second approach.\n",
    "\n",
    "The configurations of hyperparameters that minimize the perplexity of the model for each vocabulary size are: "
   ],
   "metadata": {}
  },
  {
   "cell_type": "code",
   "execution_count": 13,
   "source": [
    "for seg in seg_profiles[LANG.name]:\n",
    "    results = dict((k, v) for (k, v) in grid_results.items() if k[1] == seg.id)\n",
    "    print(f\"{seg.id}: {min(results, key=results.get)}\")"
   ],
   "outputs": [
    {
     "output_type": "stream",
     "name": "stdout",
     "text": [
      "s1: ('en', 's1', 200, 3, 100)\n",
      "s2: ('en', 's2', 200, 3, 1501)\n",
      "s3: ('en', 's3', 40, 0, 1501)\n"
     ]
    }
   ],
   "metadata": {}
  },
  {
   "cell_type": "markdown",
   "source": [
    "or to be more explicit:\n",
    "\n",
    "| vocab | hidden | bptt | class | (perplexity) |\n",
    "|-------|--------|------|-------|--------------|\n",
    "| s1    | 200    | 3    | 100   | 3.96         |\n",
    "| s2    | 200    | 3    | 1501  | 31.36        |\n",
    "| s3    | 40     | 0    | 1501  | 81.27        |"
   ],
   "metadata": {}
  },
  {
   "cell_type": "code",
   "execution_count": null,
   "source": [
    "# train and save LMs for the optimal configurations\n",
    "importlib.reload(config)\n",
    "from config import optimal_conf\n",
    "\n",
    "for id, (hidden, rand_seed, debug, bptt, n_class) in \\\n",
    "    enumerate(optimal_conf[LANG.name], start=1):\n",
    "    \n",
    "    seg_id = f's{id}'\n",
    "\n",
    "    # paths\n",
    "    model_path = f'models/rnnlm/{LANG.name}/{seg_id}_optimal'\n",
    "    train_path = f'../../../../data/{LANG.name}/segmentation/{seg_id}.txt'\n",
    "    valid_path = f'../../../../data/{LANG.name}/segmentation/{seg_id}_test.txt'\n",
    "\n",
    "    # run the model \n",
    "    !rm -rf $model_path \\\n",
    "      && mkdir $model_path \\\n",
    "      && cd $model_path \\\n",
    "      && ../../../../rnnlm-0.3e/rnnlm \\\n",
    "        -train $train_path \\\n",
    "        -valid $valid_path \\\n",
    "        -rnnlm model \\\n",
    "        -hidden $hidden \\\n",
    "        -rand-seed $rand_seed \\\n",
    "        -debug $debug \\\n",
    "        -bptt $bptt \\\n",
    "        -class $n_class"
   ],
   "outputs": [],
   "metadata": {}
  },
  {
   "cell_type": "markdown",
   "source": [
    "# 4. Text Generation"
   ],
   "metadata": {}
  },
  {
   "cell_type": "markdown",
   "source": [
    "We generate texts of different lengths for each of the 6 language models (3 baseline and 3 optimal models) from section 3. The generated texts are then decoded by the corresponding segmentation models. Next, we compare the artificial texts of length 100."
   ],
   "metadata": {}
  },
  {
   "cell_type": "code",
   "execution_count": 5,
   "source": [
    "from config import SEG_MODELS_PATH"
   ],
   "outputs": [],
   "metadata": {}
  },
  {
   "cell_type": "markdown",
   "source": [
    "## 4.1. Baseline models"
   ],
   "metadata": {}
  },
  {
   "cell_type": "code",
   "execution_count": 6,
   "source": [
    "for seg in seg_profiles[LANG.name]:\n",
    "    gen_folder = f'data/{LANG.name}/generation/{seg.id}_baseline'\n",
    "    # path to LM file\n",
    "    language_model_file = f'models/rnnlm/{LANG.name}/{seg.id}_baseline/model'\n",
    "    # path to segmentation file\n",
    "    if seg.model_type == 'char':\n",
    "        seg_model_file = f'{SEG_MODELS_PATH}/{LANG.name}/spm_{seg.model_type}.model'\n",
    "    else:\n",
    "        seg_model_file = f'{SEG_MODELS_PATH}/{LANG.name}/spm_{seg.model_type}_vocabsize-{seg.vocab_size}.model'\n",
    "    \n",
    "    # remove the text-generation folder\n",
    "    !rm -rf $gen_folder \\\n",
    "        && mkdir $gen_folder\n",
    "    \n",
    "    for n_gen in [10, 100, 1000, 10000, 100000, 1000000, 10000000]:\n",
    "        # generate text using rnnlm\n",
    "        gen_file = f'{gen_folder}/{n_gen}.txt'\n",
    "        !rnnlm-0.3e/rnnlm \\\n",
    "                -rnnlm $language_model_file \\\n",
    "                -gen $n_gen \\\n",
    "                -debug 0 \\\n",
    "            > $gen_file\n",
    "        \n",
    "        # decode generated text using sentencepiece\n",
    "        decoded_gen_file = f'{gen_folder}/{n_gen}_decoded.txt'\n",
    "        decode_text_file(gen_file, seg_model_file, decoded_gen_file)"
   ],
   "outputs": [],
   "metadata": {}
  },
  {
   "cell_type": "markdown",
   "source": [
    "`s1 baseline`:\n",
    "> Withle his hear very time a lid shoup of bith could arraution pogg a won't ince: boghmendhed insee \n",
    "\n",
    "`s2 baseline`:\n",
    "> Alice began little lesson--thege in courthed pice, as prie was the Criter kipp now in Wet, twink on, cards have cometely to that is any haird.  \n",
    "`What hildider that flay too much nerept the way of you werehadge, will I can't anything out in your inter, if they'\n",
    "\n",
    "`s3 baseline`:\n",
    "> he took the Duchess--' to!'  \n",
    "\\`No are that,' said Alice, and all a nl t argo, beginning!'  \n",
    "\\`It's it how?'  \n",
    "Arills all, I have go out of any a thing it written.'  \n",
    "O E did you tast either you,' said the Mock Turtle; \\` swro idea anyab came to know when the Nes!  \n",
    "\\`It's begunered to see them about, when I can tell you more"
   ],
   "metadata": {}
  },
  {
   "cell_type": "markdown",
   "source": [
    "## 4.2. Tuned models"
   ],
   "metadata": {}
  },
  {
   "cell_type": "code",
   "execution_count": 41,
   "source": [
    "for seg in seg_profiles[LANG.name]:\n",
    "    gen_folder = f'data/{LANG.name}/generation/{seg.id}'\n",
    "    # path to LM file\n",
    "    language_model_file = f'models/rnnlm/{LANG.name}/{seg.id}_optimal/model'\n",
    "    # path to segmentation file\n",
    "    if seg.model_type == 'char':\n",
    "        seg_model_file = f'{SEG_MODELS_PATH}/{LANG.name}/spm_{seg.model_type}.model'\n",
    "    else:\n",
    "        seg_model_file = f'{SEG_MODELS_PATH}/{LANG.name}/spm_{seg.model_type}_vocabsize-{seg.vocab_size}.model'\n",
    "    \n",
    "    # remove the text-generation folder\n",
    "    !rm -rf $gen_folder \\\n",
    "        && mkdir $gen_folder\n",
    "    \n",
    "    for n_gen in [10, 100, 1000, 10000, 100000, 1000000, 10000000]:\n",
    "        # generate text using rnnlm\n",
    "        gen_file = f'{gen_folder}/{n_gen}.txt'\n",
    "        !rnnlm-0.3e/rnnlm \\\n",
    "                -rnnlm $language_model_file \\\n",
    "                -gen $n_gen \\\n",
    "                -debug 0 \\\n",
    "            > $gen_file\n",
    "        \n",
    "        # decode generated text using sentencepiece\n",
    "        decoded_gen_file = f'{gen_folder}/{n_gen}_decoded.txt'\n",
    "        decode_text_file(gen_file, seg_model_file, decoded_gen_file)"
   ],
   "outputs": [],
   "metadata": {}
  },
  {
   "cell_type": "markdown",
   "source": [
    "`s1 optimal`:\n",
    "> \\`If her head of a.'  \n",
    "\\`I should this losk, deen tone; \\`But that's at remarked,' Alice found Alice, a\n",
    "\n",
    "`s2 optimal`:\n",
    "> Atter used the time in looked blows at the guess of the book, and he found on the pimmiast, the children last nearly.  \n",
    "And she was goved, little she thought peep at it, so went to sure.  \n",
    "poolowing the biture: but Alice toom at the musost, and a great song that s\n",
    "\n",
    "`s3 optimal`:\n",
    "> She said the Lpoty is, \\` soon knew her teanher of a Fock tearenion, beautifulidly, and began finished her feet, that had an moral to get off; and behind it, and a great hard sadceen in that, howb jo under a poor little anything viola quietly.  \n",
    "\\`There's getting likeer about at them soto.  \n",
    "said the Gryphon remarked, \\`and this ear turned a tone of them sisterass\n",
    "\n",
    "It can be seen that for both baseline and optimal models, the 3 texts have differences in length (in terms of number of characters). Since `s1` use only single characters as tokens, the text it generates is the shortest. On the other hand, `s3` generates the longest text because it uses more lengthier combinations of characters.\n",
    "\n",
    "Overall, the optimal models show a better performance over the baseline models. This agrees with the reduction in perplexity that the optimal models were optimized for.\n",
    "\n",
    "Regarding the optimal models, it looks like `s2` gives the highest quality of text. \n",
    "* For `s1`, the context seems very \"short\", each sentence comprises a small number of words, and words at moderate distance seems to be unrelated to each other. We deem this problem to be a consequence of using very short tokens (i.e. character tokens). For example, let's say the RNN LM can regard the last 10 tokens to generate the next token, if all those last 10 tokens are characters, then that effectively means our LM only has a context of 2 or 3 words. In contrast, if those tokens are all words themselves, then our LM has a larger context of 10 words.\n",
    "    \n",
    "* The same reasoning applies to explain why the text from `s3` gives longer sentence on average compared to the other models. Another observation taken from `s3` is that the generated text has many \"meaningless\" words like `teanher`, `tearenion`, `beautifulidly`. Note that these words didn't appear in the training data but rather are made up by the language model (by combining sub-words). The reason, as we suspect, is that since `s3` uses a large vocabulary size on a small training dataset, the statistics on its tokens are not significant (i.e. have low support), resulting in a bad performance.\n",
    "\n",
    "* The text generated by `s2`, while still has many flaws, seems to be most realistic. Among the 3 models, `s2` does the best job on balancing between generality and specificity of the tokens, as well as maintaining a reasonable support for them."
   ],
   "metadata": {}
  },
  {
   "cell_type": "markdown",
   "source": [
    "# 5. OOV comparison"
   ],
   "metadata": {}
  },
  {
   "cell_type": "markdown",
   "source": [
    "In this section, we compare the OOV rate of the original vocabulary and the augmented vocabularies from generated texts. (Note that we pre-process the texts with lower-casing and punctuation removal before computing OOV rates.)"
   ],
   "metadata": {}
  },
  {
   "cell_type": "code",
   "execution_count": 17,
   "source": [
    "import vocab_processing \n",
    "vocab_processing = importlib.reload(vocab_processing)\n",
    "from vocab_processing import get_word_level_vocabulary, get_word_level_tokens, get_oov_rate"
   ],
   "outputs": [],
   "metadata": {}
  },
  {
   "cell_type": "code",
   "execution_count": 18,
   "source": [
    "train_path = f'data/{LANG.name}/train.txt'\n",
    "test_path = f'data/{LANG.name}/test.txt'"
   ],
   "outputs": [],
   "metadata": {}
  },
  {
   "cell_type": "code",
   "execution_count": 19,
   "source": [
    "# get the training vocabulary on word-level\n",
    "train_vocab = get_word_level_vocabulary(LANG, train_path)\n",
    "# get the test tokens on word-level\n",
    "test_tokens = get_word_level_tokens(LANG, test_path)\n",
    "# compute and print OOV rate\n",
    "oov_rate = get_oov_rate(train_vocab, test_tokens)\n",
    "print(f'Original data\\'s OOV rate: {oov_rate:.2%}')"
   ],
   "outputs": [
    {
     "output_type": "stream",
     "name": "stdout",
     "text": [
      "Original data's OOV rate: 4.80%\n"
     ]
    }
   ],
   "metadata": {}
  },
  {
   "cell_type": "markdown",
   "source": [
    "## Augment vocabulary with generated data"
   ],
   "metadata": {}
  },
  {
   "cell_type": "markdown",
   "source": [
    "### Baseline models"
   ],
   "metadata": {}
  },
  {
   "cell_type": "code",
   "execution_count": 22,
   "source": [
    "oov_rates = []\n",
    "\n",
    "for seg in seg_profiles[LANG.name]:\n",
    "    gen_folder = f'data/{LANG.name}/generation/{seg.id}_baseline'\n",
    "    oov_rates.append([])\n",
    "    \n",
    "    for n_gen in [10, 100, 1000, 10000, 100000, 1000000, 10000000]:\n",
    "\n",
    "        # obtain the vocabulary from the generated corpora\n",
    "        decoded_gen_file = f'{gen_folder}/{n_gen}_decoded.txt'\n",
    "        gen_vocab = get_word_level_vocabulary(LANG, decoded_gen_file)\n",
    "\n",
    "        # compute the oov-rate on the augmented vocabulary\n",
    "        augmented_oov_rate = get_oov_rate(train_vocab | gen_vocab, test_tokens)\n",
    "        print(f'(Baseline) {LANG.name} {seg.id} {n_gen} OOV rate: {augmented_oov_rate:.2%}')\n",
    "        oov_rates[-1].append(augmented_oov_rate)"
   ],
   "outputs": [
    {
     "output_type": "stream",
     "name": "stdout",
     "text": [
      "(Baseline) en s1 10 OOV rate: 4.80%\n",
      "(Baseline) en s1 100 OOV rate: 4.80%\n",
      "(Baseline) en s1 1000 OOV rate: 4.80%\n",
      "(Baseline) en s1 10000 OOV rate: 4.80%\n",
      "(Baseline) en s1 100000 OOV rate: 4.62%\n",
      "(Baseline) en s1 1000000 OOV rate: 4.21%\n",
      "(Baseline) en s1 10000000 OOV rate: 3.41%\n",
      "(Baseline) en s2 10 OOV rate: 4.80%\n",
      "(Baseline) en s2 100 OOV rate: 4.80%\n",
      "(Baseline) en s2 1000 OOV rate: 4.80%\n",
      "(Baseline) en s2 10000 OOV rate: 4.75%\n",
      "(Baseline) en s2 100000 OOV rate: 4.33%\n",
      "(Baseline) en s2 1000000 OOV rate: 3.61%\n",
      "(Baseline) en s2 10000000 OOV rate: 2.83%\n",
      "(Baseline) en s3 10 OOV rate: 4.80%\n",
      "(Baseline) en s3 100 OOV rate: 4.80%\n",
      "(Baseline) en s3 1000 OOV rate: 4.79%\n",
      "(Baseline) en s3 10000 OOV rate: 4.77%\n",
      "(Baseline) en s3 100000 OOV rate: 4.51%\n",
      "(Baseline) en s3 1000000 OOV rate: 3.94%\n",
      "(Baseline) en s3 10000000 OOV rate: 3.20%\n"
     ]
    }
   ],
   "metadata": {}
  },
  {
   "cell_type": "markdown",
   "source": [
    "### Tuned models"
   ],
   "metadata": {}
  },
  {
   "cell_type": "code",
   "execution_count": 23,
   "source": [
    "for seg in seg_profiles[LANG.name]:\n",
    "    gen_folder = f'data/{LANG.name}/generation/{seg.id}'\n",
    "    oov_rates.append([])\n",
    "    \n",
    "    for n_gen in [10, 100, 1000, 10000, 100000, 1000000, 10000000]:\n",
    "\n",
    "        # obtain the vocabulary from the generated corpora\n",
    "        decoded_gen_file = f'{gen_folder}/{n_gen}_decoded.txt'\n",
    "        gen_vocab = get_word_level_vocabulary(LANG, decoded_gen_file)\n",
    "\n",
    "        # compute the oov-rate on the augmented vocabulary\n",
    "        augmented_oov_rate = get_oov_rate(train_vocab | gen_vocab, test_tokens)\n",
    "        print(f'(Tuned) {LANG.name} {seg.id} {n_gen} OOV rate: {augmented_oov_rate:.2%}')\n",
    "        oov_rates[-1].append(augmented_oov_rate)"
   ],
   "outputs": [
    {
     "output_type": "stream",
     "name": "stdout",
     "text": [
      "(Tuned) en s1 10 OOV rate: 4.80%\n",
      "(Tuned) en s1 100 OOV rate: 4.80%\n",
      "(Tuned) en s1 1000 OOV rate: 4.80%\n",
      "(Tuned) en s1 10000 OOV rate: 4.79%\n",
      "(Tuned) en s1 100000 OOV rate: 4.64%\n",
      "(Tuned) en s1 1000000 OOV rate: 3.92%\n",
      "(Tuned) en s1 10000000 OOV rate: 2.96%\n",
      "(Tuned) en s2 10 OOV rate: 4.80%\n",
      "(Tuned) en s2 100 OOV rate: 4.80%\n",
      "(Tuned) en s2 1000 OOV rate: 4.80%\n",
      "(Tuned) en s2 10000 OOV rate: 4.71%\n",
      "(Tuned) en s2 100000 OOV rate: 4.33%\n",
      "(Tuned) en s2 1000000 OOV rate: 3.59%\n",
      "(Tuned) en s2 10000000 OOV rate: 2.71%\n",
      "(Tuned) en s3 10 OOV rate: 4.80%\n",
      "(Tuned) en s3 100 OOV rate: 4.80%\n",
      "(Tuned) en s3 1000 OOV rate: 4.80%\n",
      "(Tuned) en s3 10000 OOV rate: 4.73%\n",
      "(Tuned) en s3 100000 OOV rate: 4.49%\n",
      "(Tuned) en s3 1000000 OOV rate: 3.81%\n",
      "(Tuned) en s3 10000000 OOV rate: 2.93%\n"
     ]
    }
   ],
   "metadata": {}
  },
  {
   "cell_type": "markdown",
   "source": [
    "\n",
    "While the original OOV rate is 4.80\\%, augmenting the vocabulary with RNNLM's generated texts can effectively reduce this number, as shown in the below table and figure:\n",
    "\n",
    "| model\\gen size | $10^1$ | $10^2$ | $10^3$ | $10^4$ | $10^5$ | $10^6$ | $10^7$ |\n",
    "|----------------|--------|--------|--------|--------|--------|--------|--------|\n",
    "| s1_baseline    | 4.80%  | 4.80%  | 4.80%  | 4.80%  | 4.62%  | 4.21%  | 3.41%  |\n",
    "| s2_baseline    | 4.80%  | 4.80%  | 4.80%  | 4.75%  | 4.33%  | 3.61%  | 2.83%  |\n",
    "| s3_baseline    | 4.80%  | 4.80%  | 4.79%  | 4.77%  | 4.51%  | 3.94%  | 3.20%  |\n",
    "|||||||||\n",
    "| s1_optimal     | 4.80%  | 4.80%  | 4.80%  | 4.79%  | 4.64%  | 3.92%  | 2.96%  |\n",
    "| s2_optimal     | 4.80%  | 4.80%  | 4.80%  | 4.71%  | 4.33%  | 3.59%  | 2.71%  |\n",
    "| s3_optimal     | 4.80%  | 4.80%  | 4.80%  | 4.73%  | 4.49%  | 3.81%  | 2.93%  |"
   ],
   "metadata": {}
  },
  {
   "cell_type": "code",
   "execution_count": 27,
   "source": [
    "import visualisation\n",
    "importlib.reload(visualisation)\n",
    "from visualisation import plot_oov_rates\n",
    "from config import FIGURES_PATH\n",
    "\n",
    "#plot_oov_rates(oov_rates)\n",
    "plot_oov_rates(oov_rates, save_path=f'{FIGURES_PATH}/{LANG.name}/task5_oov_rates.png')"
   ],
   "outputs": [
    {
     "output_type": "display_data",
     "data": {
      "text/plain": [
       "<Figure size 576x360 with 1 Axes>"
      ],
      "image/png": "[encoded data removed]"
     },
     "metadata": {
      "needs_background": "light"
     }
    }
   ],
   "metadata": {}
  },
  {
   "cell_type": "markdown",
   "source": [
    "\n",
    "**Observations**:\n",
    "* There are almost no improvement in OOV rates if the augmenting text is small (i.e. less than or equal to $10^3$ tokens). OOV rates start decreasing from $10^4$ tokens, but the reduction is still quite small at that stage. OOV rates get lower with longer generated texts.\n",
    "* From $10^5$ to $10^7$ tokens, the OOV rates of most models go almost linearly to the log of generated text size.\n",
    "* Overall, given the same vocabulary size, the optimal models reduce the OOV rate better than the baseline models, especially when the number of generate tokens is significant (i.e. $10^6$ and $10^7$).\n",
    "* In general, `s2` gives a better OOV rate than the other 2 models. This align well with our observation from above sections, where `s2` also showed superior results in terms of MDL and perplexity. \n",
    "* For practical applications, we would prefer `s2_optimal` over its counterparts."
   ],
   "metadata": {}
  },
  {
   "cell_type": "markdown",
   "source": [
    "# 6. Analysis"
   ],
   "metadata": {}
  },
  {
   "cell_type": "markdown",
   "source": [
    "See section 6 of the Bengali notebook."
   ],
   "metadata": {}
  }
 ],
 "metadata": {
  "interpreter": {
   "hash": "709e25c9509ebf51ab33454ee450f06cdb9cf989c600b578f7235622088438d7"
  },
  "kernelspec": {
   "display_name": "Python 3",
   "language": "python",
   "name": "python3"
  },
  "language_info": {
   "codemirror_mode": {
    "name": "ipython",
    "version": 3
   },
   "file_extension": ".py",
   "mimetype": "text/x-python",
   "name": "python",
   "nbconvert_exporter": "python",
   "pygments_lexer": "ipython3",
   "version": "3.8.3"
  }
 },
 "nbformat": 4,
 "nbformat_minor": 5
}