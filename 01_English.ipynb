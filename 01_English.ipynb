{
 "cells": [
  {
   "cell_type": "markdown",
   "source": [
    "# English Notebook"
   ],
   "metadata": {}
  },
  {
   "cell_type": "markdown",
   "source": [
    "## Import basic libraries and dependencies"
   ],
   "metadata": {}
  },
  {
   "cell_type": "code",
   "execution_count": 7,
   "source": [
    "import sys\n",
    "import importlib\n",
    "\n",
    "sys.path.append('./modules')\n",
    "from config import English, Bengali"
   ],
   "outputs": [],
   "metadata": {}
  },
  {
   "cell_type": "markdown",
   "source": [
    "## Set a language"
   ],
   "metadata": {}
  },
  {
   "cell_type": "code",
   "execution_count": 8,
   "source": [
    "LANG = English # English, Bengali"
   ],
   "outputs": [],
   "metadata": {}
  },
  {
   "cell_type": "markdown",
   "source": [
    "# 0. Language overview\n",
    "Some characteristics of the English language are:\n",
    "\n",
    "- Native speakers: around 360 million\n",
    "- Language family: \tIndo-European > Germanic > West Germanic > Ingvaeonic > Anglo-Frisian > Anglic > English\n",
    "- Vocabulary size: 170,000 words, or 220,000 if obsolete words are counted.\n",
    "- Writing system: \n",
    "    + written in [Latin alphabet](https://en.wikipedia.org/wiki/Latin_alphabet)\n",
    "    + 26 letters, plus their corresponding capital form\n",
    "    + 14 puntuaction marks\n",
    "- Phonology: \n",
    "    + 24 consonant phonemes\n",
    "    + pronunciation of vowels varies a great deal between dialects \n"
   ],
   "metadata": {}
  },
  {
   "cell_type": "markdown",
   "source": [
    "# 1. Data Preparation"
   ],
   "metadata": {}
  },
  {
   "cell_type": "markdown",
   "source": [
    "**Assumptions**:\n",
    "- Two-or-more end-of-line symbols (i.e. '\\n\\n') signify the separation of two paragraphs.\n",
    "- No single sentence resides in more than one paragraph.\n",
    "- We are allowed to use nltk for sentence-tokenization. The function from nltk (nltk.tokenize.sent_tokenize) is sufficient for the task.\n",
    "- There is no situation where double-space (i.e. '  ') makes sense, so we contract all sequences of more than one space into a space character (i.e. from the regex point of view, ' +' is substituted with ' ').\n",
    "\n",
    "**Operations**:\n",
    "- Get a list of paragraphs by splitting the text by at-least-2 consecutive end-of-line characters (i.e. '\\n{2,}').\n",
    "- For each paragraph:\n",
    "    + Replace all end-of-line characters with a space.\n",
    "    + Contract all sequences of more than one space into a space character.\n",
    "    + Tokenizer into sentences.\n",
    "- Collect all sentences from all paragraphs as a list and return.\n"
   ],
   "metadata": {}
  },
  {
   "cell_type": "code",
   "execution_count": 9,
   "source": [
    "# import libraries and dependencies\n",
    "import preprocessing\n",
    "import utils\n",
    "importlib.reload(preprocessing)\n",
    "from preprocessing import raw_preprocess, split_train_test"
   ],
   "outputs": [],
   "metadata": {}
  },
  {
   "cell_type": "markdown",
   "source": [
    "## 1.1. Preprocess data for sentencepiece"
   ],
   "metadata": {}
  },
  {
   "cell_type": "code",
   "execution_count": 10,
   "source": [
    "# preprocess raw data to get a list of sentences.\n",
    "sentences = raw_preprocess(LANG)\n",
    "\n",
    "# write the sentences into a file, each sentence on one line.\n",
    "with open(f'data/{LANG.name}/preprocessed.txt', 'w') as f:\n",
    "    for sentence in sentences:\n",
    "        f.write(f'{sentence}\\n')\n",
    "\n",
    "utils.print_length_statistics(sentences)"
   ],
   "outputs": [
    {
     "output_type": "stream",
     "name": "stdout",
     "text": [
      "Num. of sentences = 1707\n",
      "Avg. length = 82.49560632688927\n",
      "Std. dev. of the length = 82.6500329930229\n",
      "Maximum length = 919\n",
      "Minimum length = 3\n"
     ]
    }
   ],
   "metadata": {}
  },
  {
   "cell_type": "markdown",
   "source": [
    "## 1.2. Train/test split"
   ],
   "metadata": {}
  },
  {
   "cell_type": "code",
   "execution_count": 11,
   "source": [
    "# split data to train and test.\n",
    "train, test = split_train_test(sentences, LANG)\n",
    "\n",
    "# write train and test data into corresponding files.\n",
    "train_path = f'data/{LANG.name}/train.txt'\n",
    "test_path = f'data/{LANG.name}/test.txt'\n",
    "\n",
    "with open(train_path, 'w') as f:\n",
    "    f.write('\\n'.join(train))\n",
    "with open(test_path, 'w') as f:\n",
    "    f.write('\\n'.join(test))"
   ],
   "outputs": [],
   "metadata": {}
  },
  {
   "cell_type": "markdown",
   "source": [
    "# 2. Subword segmentation"
   ],
   "metadata": {}
  },
  {
   "cell_type": "markdown",
   "source": [
    "In this section, we work on 3 segmentation models with difference vocabulary sizes. The first one employs character-level segmentation, which is simply to treat each character as a token, resulting in a vocabulary size of 74. In the rest of this section, we focus mostly on the other 2 models."
   ],
   "metadata": {}
  },
  {
   "cell_type": "markdown",
   "source": [
    "## 2.1. Experiments with vocabulary sizes\n",
    "\n",
    "There are 2 types of subword: small vocabulary size (i.e. usually from 100 to 800) and large vocabulary size (i.e. from 1500 to 3000). For each type, we do some experiments to choose an exact vocabulary size, which will be fixed for subsequent tasks.\n",
    "\n",
    "**Approach**:\n",
    "\n",
    "We propose to employ the [Minimum Description Length (MDL)](https://en.wikipedia.org/wiki/Minimum_description_length) principle to tackle this task. The MDL is a technique for model selection inspired by Occam's razor. In its basic form, MDL prefers the model which summarizes the data the best, i.e. the total size of the model and the description of the data given the model is the smallest.\n",
    "\n",
    "![figures/MLD_1.PNG](figures/MLD_1.PNG)\n",
    "\n",
    "For our current task, we formalize the description length as the total size of the model file, the vocab file and the encoded text file. In which, the model file and the vocab file represent the model, and the encoded file represents the data given the model.\n",
    "\n",
    "![figures/MLD_2.PNG](figures/MLD_2.PNG)\n",
    "\n",
    "To prevent from overfitting, we only consider vocab sizes rounded to hundredth, i.e. 100, 200, ..., 800 and 1500, 1600, ..., 3000. The best vocabulary size is chosen as the one which results in the smallest description length per the formulation above.\n",
    "\n",
    "\n",
    "**Experiment details**:\n",
    "\n",
    "a. Small vocabulary:\n",
    "\n",
    "For small vocabulary sizes (from 100 to 800), the corresponding description length (or total file size) is shown in the figure below. The smallest description length belongs to the vocabulary size of 500.\n",
    "\n",
    "![figures/en/task2.3_small_vocab_file_size.png](figures/en/task2.3_small_vocab_file_size.png)\n",
    "\n",
    "One interesting observation is that the description length decreases sharply from vocabulary size of 100 to 200. For a qualitative evalution, let us look at an examplar sentence:\n",
    "\n",
    "original text:\n",
    "\n",
    "> There was a table set out under a tree in front of the house, and the March Hare and the Hatter were having tea at it: a Dormouse was sitting between them, fast asleep, and the other two were using it as a cushion, resting their elbows on it, and talking over its head.\n",
    "\n",
    "vocab_size = 100:\n",
    "\n",
    "> ▁ T he re ▁w a s ▁a ▁t a b l e ▁s e t ▁ ou t ▁ u nd er ▁a ▁t re e ▁ in ▁ f r o n t ▁o f ▁the ▁ h ou s e , ▁and ▁the ▁ M a r c h ▁ H a re ▁and ▁the ▁ H a t t er ▁w er e ▁ ha v ing ▁t e a ▁a t ▁ it : ▁a ▁ D o r m ou s e ▁w a s ▁s it t ing ▁b e t w e en ▁the m , ▁ f a s t ▁a s l e e p , ▁and ▁the ▁o t he r ▁t w o ▁w er e ▁ u s ing ▁ it ▁a s ▁a ▁c u s h i o n , ▁ re s t ing ▁the i r ▁ e l b o w s ▁o n ▁ it , ▁and ▁t a l k ing ▁o v er ▁ it s ▁ he a d .\n",
    "\n",
    "vocab_size = 200:\n",
    "\n",
    "> ▁T he re ▁was ▁a ▁t a b le ▁s et ▁ out ▁u nd er ▁a ▁t re e ▁in ▁f r on t ▁of ▁the ▁h ou se , ▁and ▁the ▁M ar ch ▁H a re ▁and ▁the ▁H at ter ▁w er e ▁ha v ing ▁t ea ▁at ▁it : ▁a ▁D or m ou se ▁was ▁s it t ing ▁be t w e en ▁the m , ▁f as t ▁as le e p , ▁and ▁the ▁o t her ▁t w o ▁w er e ▁u s ing ▁it ▁as ▁a ▁c u s h i on , ▁re st ing ▁the ir ▁e l b ow s ▁on ▁it , ▁and ▁t a l k ing ▁o ver ▁it s ▁he ad .\n",
    "\n",
    "vocab_size = 500:\n",
    "\n",
    "> ▁The re ▁was ▁a ▁t able ▁s et ▁out ▁u nder ▁a ▁t ree ▁in ▁fr on t ▁of ▁the ▁h ouse , ▁and ▁the ▁March ▁H are ▁and ▁the ▁Hatter ▁were ▁ha v ing ▁t ea ▁at ▁it : ▁a ▁Dormouse ▁was ▁s it ting ▁be t w een ▁them , ▁f ast ▁as le e p , ▁and ▁the ▁other ▁tw o ▁were ▁us ing ▁it ▁as ▁a ▁c us h ion , ▁re st ing ▁their ▁e l b ow s ▁on ▁it , ▁and ▁t al king ▁over ▁its ▁head .\n",
    "\n",
    "For the size of 100, nearly every token is a character, which is obviously a bad sign since it cannot utilize the use of longer subwords or words to foster learning. Note that since this text has roughtly 72 characters, only 100-72=28 combinations of characters are taken as tokens for this size. \n",
    "\n",
    "For the size of 200, more meaningful combinations of characters are recognized as a token. In particular, the number almost quintuples from 28 to 128. As an example, *'ing'* has its own place. This explains the great drop in the description length.\n",
    "\n",
    "This trend continues up to the size of 500, where the trade-off between generality and specificity of adding new tokens equalizes. Most of the stopwords, which are very frequent, occupy their own tokens. Meaningful suffixes like *'able'* now also have their own place. \n",
    "\n",
    "While a vocabulary size of 500 is quite small in practice, we believe it is suitable for our current problem since the input text file is small.\n",
    "\n",
    "b. Large vocabulary\n",
    "\n",
    "For large vocabulary sizes (from 1500 to 3000), we apply the same procedure as described. The description lengths corresponding to different sizes are shown below: \n",
    "\n",
    "![figures/en/task2.3_large_vocab_file_size.png](figures/en/task2.3_large_vocab_file_size.png)\n",
    "\n",
    "It can be observed from the figure that the larger the vocabulary size, the longer the description length. We suspect that this is because 1500 is already bigger than the optimal size, thus adding more tokens only makes things worse. For the purposes of the next tasks, we will use the size of 1500 for the large vocabulary size.\n",
    "\n",
    "Regarding the example above, let us look at how the sentence is segmented:\n",
    "\n",
    "vocab_size = 1500:\n",
    "\n",
    "> ▁There ▁was ▁a ▁table ▁set ▁out ▁under ▁a ▁t ree ▁in ▁fr on t ▁of ▁the ▁house , ▁and ▁the ▁March ▁Hare ▁and ▁the ▁Hatter ▁were ▁having ▁tea ▁at ▁it : ▁a ▁Dormouse ▁was ▁sitting ▁bet w een ▁them , ▁f ast ▁asleep , ▁and ▁the ▁other ▁two ▁were ▁us ing ▁it ▁as ▁a ▁c ush ion , ▁rest ing ▁their ▁el b ow s ▁on ▁it , ▁and ▁talking ▁over ▁its ▁head .\n",
    "\n",
    "We can see that most of the words are standing alone as a token. This becomes close to word-level segmentation, which may potentially reduce the advantages of using sub-words for handling OOV.\n",
    "\n",
    "## 2.2. Training of Segmentation models\n",
    "\n",
    "**Operations**:\n",
    "- We train 3 segmentation models of different vocabulary sizes:\n",
    "    - character-level segmentation.\n",
    "    - small subword vocabulary size of 500.\n",
    "    - large subword vocabulary size of 1500.\n",
    "- For each vocabulary size, we:\n",
    "    - train a segmentation model.\n",
    "    - apply the model on the training data to get an encoded text.\n",
    "    - decode the encoded text, verify that the decoded text is the same as the original training data to ensure the correctness of the model.\n",
    "    - apply the same encoding, decoding operations on the test data.   "
   ],
   "metadata": {}
  },
  {
   "cell_type": "code",
   "execution_count": 14,
   "source": [
    "# import libraries and dependencies\n",
    "import segmentation\n",
    "importlib.reload(segmentation)\n",
    "from segmentation import train_segmentation, encode_text_file, decode_text_file\n",
    "from config import seg_profiles"
   ],
   "outputs": [],
   "metadata": {}
  },
  {
   "cell_type": "code",
   "execution_count": 4,
   "source": [
    "seg_profiles[LANG.name]"
   ],
   "outputs": [
    {
     "output_type": "execute_result",
     "data": {
      "text/plain": [
       "[SegmentationConf(id='s1', vocab_size=None, model_type='char'),\n",
       " SegmentationConf(id='s2', vocab_size=800, model_type='bpe'),\n",
       " SegmentationConf(id='s3', vocab_size=1700, model_type='bpe')]"
      ]
     },
     "metadata": {},
     "execution_count": 4
    }
   ],
   "metadata": {}
  },
  {
   "cell_type": "code",
   "execution_count": null,
   "source": [
    "for seg in seg_profiles[LANG.name]:\n",
    "    # train segmentation on the train data\n",
    "    spm1 = train_segmentation(\n",
    "        text_file=train_path, \n",
    "        LANG=LANG, \n",
    "        vocab_size=seg.vocab_size, \n",
    "        model_type=seg.model_type)\n",
    "  \n",
    "    encoded_file = f'data/{LANG.name}/segmentation/{seg.id}.txt'\n",
    "    encode_text_file(text_file=train_path, model_path=spm1, output_file=encoded_file)\n",
    "    \n",
    "    decoded_file = f'data/{LANG.name}/segmentation/{seg.id}_decoded.txt'\n",
    "    decode_text_file(text_file=encoded_file, model_path=spm1, output_file=decoded_file)\n",
    "    \n",
    "    # test it on the test data\n",
    "    encoded_file = f'data/{LANG.name}/segmentation/{seg.id}_test.txt'\n",
    "    encode_text_file(text_file=test_path, model_path=spm1, output_file=encoded_file)\n",
    "    \n",
    "    decoded_file = f'data/{LANG.name}/segmentation/{seg.id}_decoded_test.txt'\n",
    "    decode_text_file(text_file=encoded_file, model_path=spm1, output_file=decoded_file)"
   ],
   "outputs": [],
   "metadata": {}
  },
  {
   "cell_type": "markdown",
   "source": [
    "# 3. Language Model"
   ],
   "metadata": {}
  },
  {
   "cell_type": "markdown",
   "source": [
    "## 3.1. Baseline"
   ],
   "metadata": {
    "tags": []
   }
  },
  {
   "cell_type": "code",
   "execution_count": 12,
   "source": [
    "from config import baseline_conf\n",
    "baseline_conf"
   ],
   "outputs": [
    {
     "output_type": "execute_result",
     "data": {
      "text/plain": [
       "TrainingConf(hidden=40, rand_seed=1, debug=2, bptt=4, n_class=9999)"
      ]
     },
     "metadata": {},
     "execution_count": 12
    }
   ],
   "metadata": {}
  },
  {
   "cell_type": "markdown",
   "source": [
    "Executing the following cell will delete the already trained language models. To simply see the perplexity of the trained models, skip this cell and execute the next one."
   ],
   "metadata": {}
  },
  {
   "cell_type": "code",
   "execution_count": null,
   "source": [
    "for seg in seg_profiles[LANG.name]:\n",
    "    # Hyper parameters\n",
    "    hidden = baseline_conf.hidden\n",
    "    rand_seed = baseline_conf.rand_seed\n",
    "    debug = baseline_conf.debug\n",
    "    bptt = baseline_conf.bptt\n",
    "    n_class = baseline_conf.n_class\n",
    "\n",
    "    # Parameters\n",
    "    model_path = f'models/rnnlm/{LANG.name}/{seg.id}_baseline'\n",
    "    train_path = f'../../../../data/{LANG.name}/segmentation/{seg.id}.txt'\n",
    "    valid_path = f'../../../../data/{LANG.name}/segmentation/{seg.id}_test.txt'\n",
    "\n",
    "    # run the model \n",
    "    !rm -rf $model_path \\\n",
    "      && mkdir $model_path \\\n",
    "      && cd $model_path \\\n",
    "      && ../../../../rnnlm-0.3e/rnnlm \\\n",
    "        -train $train_path \\\n",
    "        -valid $valid_path \\\n",
    "        -rnnlm model \\\n",
    "        -hidden $hidden \\\n",
    "        -rand-seed $rand_seed \\\n",
    "        -debug $debug \\\n",
    "        -bptt $bptt \\\n",
    "        -class $n_class"
   ],
   "outputs": [],
   "metadata": {}
  },
  {
   "cell_type": "markdown",
   "source": [
    "The validation perplexities of the baseline models are:"
   ],
   "metadata": {}
  },
  {
   "cell_type": "code",
   "execution_count": 15,
   "source": [
    "for seg in seg_profiles[LANG.name]:\n",
    "    model_path = f'models/rnnlm/{LANG.name}/{seg.id}_baseline'\n",
    "        \n",
    "    # read output and print perplexity\n",
    "    with open(f'{model_path}/model.output.txt', 'r') as f:\n",
    "        output = f.read()\n",
    "        pp = output.split()[-1]\n",
    "        print(f'Baseline {LANG.name}-{seg.id} validation perplexity: {pp}')"
   ],
   "outputs": [
    {
     "output_type": "stream",
     "name": "stdout",
     "text": [
      "Baseline en-s1 validation perplexity: 5.257669\n",
      "Baseline en-s2 validation perplexity: 33.814382\n",
      "Baseline en-s3 validation perplexity: 85.886606\n"
     ]
    }
   ],
   "metadata": {}
  },
  {
   "cell_type": "markdown",
   "source": [
    "\n",
    "## 3.2. Experiments\n",
    "\n",
    "**Approach**:\n",
    "\n",
    "To cover a wide range of hyperparameter values, we employ grid search.\n",
    "\n",
    "**Operations**:\n",
    "\n",
    "For each model, we do grid search on 3 hyperparameters: \n",
    "- `hidden`: the number of neurons in the hidden layer,\n",
    "- `bptt`: the number of steps in time that error is backpropagated,\n",
    "- `class`: the number of classes for class-based LM.\n",
    "\n",
    "The exact list of values for each hyperparameters can be seen in the code. Note that for the `hidden`, we set an upperbound of 200 as suggested by the authors of the [rnnlm toolkit](http://www.fit.vutbr.cz/~imikolov/rnnlm/FAQ.txt) for small texts with less than 1M words. For the `class`, all values greater than or equal to 1500 are equivalent (since the maximum vocabulary size we selected in the previous section is 1500). Here we set an upperbound of 1501."
   ],
   "metadata": {}
  },
  {
   "cell_type": "code",
   "execution_count": 16,
   "source": [
    "import pickle\n",
    "import itertools"
   ],
   "outputs": [],
   "metadata": {}
  },
  {
   "cell_type": "code",
   "execution_count": 17,
   "source": [
    "# experimented results are kept in a file\n",
    "grid_result_file = f'experiments/{LANG.name}/task3_grid_search.pickle'\n",
    "# grid_results stores the results in memory\n",
    "grid_results = {}\n",
    "\n",
    "# import previous results if exists\n",
    "\n",
    "with open(grid_result_file, 'rb') as f:\n",
    "    previous_results = pickle.load(f)\n",
    "    grid_results.update(previous_results)\n",
    "\n",
    "grid_results"
   ],
   "outputs": [
    {
     "output_type": "execute_result",
     "data": {
      "text/plain": [
       "{('en', 's1', 5, 0, 10): 10.887227,\n",
       " ('en', 's1', 5, 0, 100): 10.645946,\n",
       " ('en', 's1', 5, 0, 1501): 10.482386,\n",
       " ('en', 's1', 5, 1, 10): 10.605196,\n",
       " ('en', 's1', 5, 1, 100): 10.271953,\n",
       " ('en', 's1', 5, 1, 1501): 10.261143,\n",
       " ('en', 's1', 5, 3, 10): 10.650879,\n",
       " ('en', 's1', 5, 3, 100): 10.273488,\n",
       " ('en', 's1', 5, 3, 1501): 10.1756,\n",
       " ('en', 's1', 5, 5, 10): 10.650509,\n",
       " ('en', 's1', 5, 5, 100): 10.275037,\n",
       " ('en', 's1', 5, 5, 1501): 10.170872,\n",
       " ('en', 's1', 20, 0, 10): 7.372125,\n",
       " ('en', 's1', 20, 0, 100): 6.910608,\n",
       " ('en', 's1', 20, 0, 1501): 7.039472,\n",
       " ('en', 's1', 20, 1, 10): 6.759173,\n",
       " ('en', 's1', 20, 1, 100): 6.477795,\n",
       " ('en', 's1', 20, 1, 1501): 6.552387,\n",
       " ('en', 's1', 20, 3, 10): 6.617757,\n",
       " ('en', 's1', 20, 3, 100): 6.550642,\n",
       " ('en', 's1', 20, 3, 1501): 6.441925,\n",
       " ('en', 's1', 20, 5, 10): 6.675042,\n",
       " ('en', 's1', 20, 5, 100): 6.571401,\n",
       " ('en', 's1', 20, 5, 1501): 6.611228,\n",
       " ('en', 's1', 40, 0, 10): 6.051518,\n",
       " ('en', 's1', 40, 0, 100): 5.971961,\n",
       " ('en', 's1', 40, 0, 1501): 5.99838,\n",
       " ('en', 's1', 40, 1, 10): 5.437759,\n",
       " ('en', 's1', 40, 1, 100): 5.316452,\n",
       " ('en', 's1', 40, 1, 1501): 5.325766,\n",
       " ('en', 's1', 40, 3, 10): 5.407829,\n",
       " ('en', 's1', 40, 3, 100): 5.300316,\n",
       " ('en', 's1', 40, 3, 1501): 5.358696,\n",
       " ('en', 's1', 40, 5, 10): 5.450305,\n",
       " ('en', 's1', 40, 5, 100): 5.26304,\n",
       " ('en', 's1', 40, 5, 1501): 5.314311,\n",
       " ('en', 's1', 70, 0, 10): 5.305246,\n",
       " ('en', 's1', 70, 0, 100): 5.192741,\n",
       " ('en', 's1', 70, 0, 1501): 5.206954,\n",
       " ('en', 's1', 70, 1, 10): 4.716855,\n",
       " ('en', 's1', 70, 1, 100): 4.592401,\n",
       " ('en', 's1', 70, 1, 1501): 4.615947,\n",
       " ('en', 's1', 70, 3, 10): 4.694345,\n",
       " ('en', 's1', 70, 3, 100): 4.618809,\n",
       " ('en', 's1', 70, 3, 1501): 4.580358,\n",
       " ('en', 's1', 70, 5, 10): 4.756707,\n",
       " ('en', 's1', 70, 5, 100): 4.612161,\n",
       " ('en', 's1', 70, 5, 1501): 4.571423,\n",
       " ('en', 's1', 100, 0, 10): 5.00432,\n",
       " ('en', 's1', 100, 0, 100): 4.906095,\n",
       " ('en', 's1', 100, 0, 1501): 4.747253,\n",
       " ('en', 's1', 100, 1, 10): 4.424928,\n",
       " ('en', 's1', 100, 1, 100): 4.269873,\n",
       " ('en', 's1', 100, 1, 1501): 4.25408,\n",
       " ('en', 's1', 100, 3, 10): 4.416273,\n",
       " ('en', 's1', 100, 3, 100): 4.313073,\n",
       " ('en', 's1', 100, 3, 1501): 4.253318,\n",
       " ('en', 's1', 100, 5, 10): 4.38419,\n",
       " ('en', 's1', 100, 5, 100): 4.268893,\n",
       " ('en', 's1', 100, 5, 1501): 4.306499,\n",
       " ('en', 's2', 5, 0, 10): 79.917113,\n",
       " ('en', 's2', 5, 0, 100): 91.003108,\n",
       " ('en', 's2', 5, 0, 1501): 76.94798,\n",
       " ('en', 's2', 5, 1, 10): 81.820482,\n",
       " ('en', 's2', 5, 1, 100): 89.977811,\n",
       " ('en', 's2', 5, 1, 1501): 76.729335,\n",
       " ('en', 's2', 5, 3, 10): 81.852043,\n",
       " ('en', 's2', 5, 3, 100): 90.061156,\n",
       " ('en', 's2', 5, 3, 1501): 78.192649,\n",
       " ('en', 's2', 5, 5, 10): 81.062396,\n",
       " ('en', 's2', 5, 5, 100): 90.06735,\n",
       " ('en', 's2', 5, 5, 1501): 78.185581,\n",
       " ('en', 's2', 20, 0, 10): 45.955262,\n",
       " ('en', 's2', 20, 0, 100): 48.136868,\n",
       " ('en', 's2', 20, 0, 1501): 41.553778,\n",
       " ('en', 's2', 20, 1, 10): 43.400182,\n",
       " ('en', 's2', 20, 1, 100): 46.621071,\n",
       " ('en', 's2', 20, 1, 1501): 39.809213,\n",
       " ('en', 's2', 20, 3, 10): 43.379997,\n",
       " ('en', 's2', 20, 3, 100): 46.926589,\n",
       " ('en', 's2', 20, 3, 1501): 40.009833,\n",
       " ('en', 's2', 20, 5, 10): 43.661502,\n",
       " ('en', 's2', 20, 5, 100): 46.680885,\n",
       " ('en', 's2', 20, 5, 1501): 39.995691,\n",
       " ('en', 's2', 40, 0, 10): 39.261794,\n",
       " ('en', 's2', 40, 0, 100): 41.81998,\n",
       " ('en', 's2', 40, 0, 1501): 35.676485,\n",
       " ('en', 's2', 40, 1, 10): 37.889069,\n",
       " ('en', 's2', 40, 1, 100): 39.46187,\n",
       " ('en', 's2', 40, 1, 1501): 34.018567,\n",
       " ('en', 's2', 40, 3, 10): 38.041814,\n",
       " ('en', 's2', 40, 3, 100): 39.391447,\n",
       " ('en', 's2', 40, 3, 1501): 33.666623,\n",
       " ('en', 's2', 40, 5, 10): 38.163084,\n",
       " ('en', 's2', 40, 5, 100): 39.34923,\n",
       " ('en', 's2', 40, 5, 1501): 33.926588,\n",
       " ('en', 's2', 70, 0, 10): 37.479954,\n",
       " ('en', 's2', 70, 0, 100): 38.349149,\n",
       " ('en', 's2', 70, 0, 1501): 34.186575,\n",
       " ('en', 's2', 70, 1, 10): 37.086731,\n",
       " ('en', 's2', 70, 1, 100): 36.532976,\n",
       " ('en', 's2', 70, 1, 1501): 31.983317,\n",
       " ('en', 's2', 70, 3, 10): 36.082172,\n",
       " ('en', 's2', 70, 3, 100): 36.814332,\n",
       " ('en', 's2', 70, 3, 1501): 32.01026,\n",
       " ('en', 's2', 70, 5, 10): 36.1004,\n",
       " ('en', 's2', 70, 5, 100): 37.142751,\n",
       " ('en', 's2', 70, 5, 1501): 31.948504,\n",
       " ('en', 's2', 100, 0, 10): 37.132552,\n",
       " ('en', 's2', 100, 0, 100): 37.63228,\n",
       " ('en', 's2', 100, 0, 1501): 34.24341,\n",
       " ('en', 's2', 100, 1, 10): 35.457378,\n",
       " ('en', 's2', 100, 1, 100): 36.476024,\n",
       " ('en', 's2', 100, 1, 1501): 32.254808,\n",
       " ('en', 's2', 100, 3, 10): 35.248742,\n",
       " ('en', 's2', 100, 3, 100): 36.105768,\n",
       " ('en', 's2', 100, 3, 1501): 31.724294,\n",
       " ('en', 's2', 100, 5, 10): 35.378668,\n",
       " ('en', 's2', 100, 5, 100): 36.213214,\n",
       " ('en', 's2', 100, 5, 1501): 32.134818,\n",
       " ('en', 's3', 5, 0, 10): 129.486665,\n",
       " ('en', 's3', 5, 0, 100): 154.827237,\n",
       " ('en', 's3', 5, 0, 1501): 124.444336,\n",
       " ('en', 's3', 5, 1, 10): 129.329557,\n",
       " ('en', 's3', 5, 1, 100): 146.402615,\n",
       " ('en', 's3', 5, 1, 1501): 126.377034,\n",
       " ('en', 's3', 5, 3, 10): 129.802971,\n",
       " ('en', 's3', 5, 3, 100): 146.458968,\n",
       " ('en', 's3', 5, 3, 1501): 125.207263,\n",
       " ('en', 's3', 5, 5, 10): 129.817731,\n",
       " ('en', 's3', 5, 5, 100): 146.510168,\n",
       " ('en', 's3', 5, 5, 1501): 125.232471,\n",
       " ('en', 's3', 20, 0, 10): 84.936761,\n",
       " ('en', 's3', 20, 0, 100): 92.439914,\n",
       " ('en', 's3', 20, 0, 1501): 83.038117,\n",
       " ('en', 's3', 20, 1, 10): 87.361218,\n",
       " ('en', 's3', 20, 1, 100): 95.813698,\n",
       " ('en', 's3', 20, 1, 1501): 84.001277,\n",
       " ('en', 's3', 20, 3, 10): 91.381798,\n",
       " ('en', 's3', 20, 3, 100): 96.344725,\n",
       " ('en', 's3', 20, 3, 1501): 87.109214,\n",
       " ('en', 's3', 20, 5, 10): 92.278409,\n",
       " ('en', 's3', 20, 5, 100): 95.730928,\n",
       " ('en', 's3', 20, 5, 1501): 87.425986,\n",
       " ('en', 's3', 40, 0, 10): 82.584596,\n",
       " ('en', 's3', 40, 0, 100): 87.538349,\n",
       " ('en', 's3', 40, 0, 1501): 81.272751,\n",
       " ('en', 's3', 40, 1, 10): 87.442705,\n",
       " ('en', 's3', 40, 1, 100): 94.475276,\n",
       " ('en', 's3', 40, 1, 1501): 84.571293,\n",
       " ('en', 's3', 40, 3, 10): 88.000203,\n",
       " ('en', 's3', 40, 3, 100): 93.488502,\n",
       " ('en', 's3', 40, 3, 1501): 86.396765,\n",
       " ('en', 's3', 40, 5, 10): 88.458003,\n",
       " ('en', 's3', 40, 5, 100): 94.455227,\n",
       " ('en', 's3', 40, 5, 1501): 87.545986,\n",
       " ('en', 's3', 70, 0, 10): 83.427868,\n",
       " ('en', 's3', 70, 0, 100): 89.895547,\n",
       " ('en', 's3', 70, 0, 1501): 85.551072,\n",
       " ('en', 's3', 70, 1, 10): 86.183936,\n",
       " ('en', 's3', 70, 1, 100): 91.10678,\n",
       " ('en', 's3', 70, 1, 1501): 85.31454,\n",
       " ('en', 's3', 70, 3, 10): 87.148869,\n",
       " ('en', 's3', 70, 3, 100): 93.839767,\n",
       " ('en', 's3', 70, 3, 1501): 87.199227,\n",
       " ('en', 's3', 70, 5, 10): 87.453107,\n",
       " ('en', 's3', 70, 5, 100): 93.421055,\n",
       " ('en', 's3', 70, 5, 1501): 88.09753,\n",
       " ('en', 's3', 100, 0, 10): 84.750986,\n",
       " ('en', 's3', 100, 0, 100): 91.323652,\n",
       " ('en', 's3', 100, 0, 1501): 86.012182,\n",
       " ('en', 's3', 100, 1, 10): 88.366665,\n",
       " ('en', 's3', 100, 1, 100): 92.328073,\n",
       " ('en', 's3', 100, 1, 1501): 88.589836,\n",
       " ('en', 's3', 100, 3, 10): 87.912403,\n",
       " ('en', 's3', 100, 3, 100): 92.999376,\n",
       " ('en', 's3', 100, 3, 1501): 96.743101,\n",
       " ('en', 's3', 100, 5, 10): 88.806794,\n",
       " ('en', 's3', 100, 5, 100): 95.070122,\n",
       " ('en', 's3', 100, 5, 1501): 89.744803,\n",
       " ('en', 's1', 150, 0, 10): 4.781489,\n",
       " ('en', 's1', 150, 0, 100): 4.605979,\n",
       " ('en', 's1', 150, 0, 1501): 4.515349,\n",
       " ('en', 's1', 150, 1, 10): 4.198978,\n",
       " ('en', 's1', 150, 1, 100): 4.102886,\n",
       " ('en', 's1', 150, 1, 1501): 4.120607,\n",
       " ('en', 's1', 150, 3, 10): 4.13526,\n",
       " ('en', 's1', 150, 3, 100): 4.127839,\n",
       " ('en', 's1', 150, 3, 1501): 4.049141,\n",
       " ('en', 's1', 150, 5, 10): 4.201073,\n",
       " ('en', 's1', 150, 5, 100): 4.069257,\n",
       " ('en', 's1', 150, 5, 1501): 4.055643,\n",
       " ('en', 's1', 200, 0, 10): 4.709409,\n",
       " ('en', 's1', 200, 0, 100): 4.558869,\n",
       " ('en', 's1', 200, 0, 1501): 4.614805,\n",
       " ('en', 's1', 200, 1, 10): 4.095692,\n",
       " ('en', 's1', 200, 1, 100): 4.058359,\n",
       " ('en', 's1', 200, 1, 1501): 4.018158,\n",
       " ('en', 's1', 200, 3, 10): 4.073541,\n",
       " ('en', 's1', 200, 3, 100): 3.958083,\n",
       " ('en', 's1', 200, 3, 1501): 3.996584,\n",
       " ('en', 's1', 200, 5, 10): 4.099608,\n",
       " ('en', 's1', 200, 5, 100): 4.040458,\n",
       " ('en', 's1', 200, 5, 1501): 3.980423,\n",
       " ('en', 's2', 150, 0, 10): 36.179975,\n",
       " ('en', 's2', 150, 0, 100): 36.448608,\n",
       " ('en', 's2', 150, 0, 1501): 33.964105,\n",
       " ('en', 's2', 150, 1, 10): 35.481469,\n",
       " ('en', 's2', 150, 1, 100): 35.831927,\n",
       " ('en', 's2', 150, 1, 1501): 32.380335,\n",
       " ('en', 's2', 150, 3, 10): 35.752299,\n",
       " ('en', 's2', 150, 3, 100): 36.01969,\n",
       " ('en', 's2', 150, 3, 1501): 31.466389,\n",
       " ('en', 's2', 150, 5, 10): 35.315552,\n",
       " ('en', 's2', 150, 5, 100): 36.098534,\n",
       " ('en', 's2', 150, 5, 1501): 31.823615,\n",
       " ('en', 's2', 200, 0, 10): 36.100396,\n",
       " ('en', 's2', 200, 0, 100): 36.59243,\n",
       " ('en', 's2', 200, 0, 1501): 33.80988,\n",
       " ('en', 's2', 200, 1, 10): 35.105685,\n",
       " ('en', 's2', 200, 1, 100): 36.088001,\n",
       " ('en', 's2', 200, 1, 1501): 32.343795,\n",
       " ('en', 's2', 200, 3, 10): 35.166543,\n",
       " ('en', 's2', 200, 3, 100): 36.4616,\n",
       " ('en', 's2', 200, 3, 1501): 31.358697,\n",
       " ('en', 's2', 200, 5, 10): 35.102639,\n",
       " ('en', 's2', 200, 5, 100): 36.149027,\n",
       " ('en', 's2', 200, 5, 1501): 31.537923,\n",
       " ('en', 's3', 150, 0, 10): 86.195108,\n",
       " ('en', 's3', 150, 0, 100): 89.120879,\n",
       " ('en', 's3', 150, 0, 1501): 88.098382,\n",
       " ('en', 's3', 150, 1, 10): 87.674062,\n",
       " ('en', 's3', 150, 1, 100): 90.484762,\n",
       " ('en', 's3', 150, 1, 1501): 88.756647,\n",
       " ('en', 's3', 150, 3, 10): 88.410128,\n",
       " ('en', 's3', 150, 3, 100): 91.128259,\n",
       " ('en', 's3', 150, 3, 1501): 91.295904,\n",
       " ('en', 's3', 150, 5, 10): 87.808701,\n",
       " ('en', 's3', 150, 5, 100): 91.722583,\n",
       " ('en', 's3', 150, 5, 1501): 91.035236,\n",
       " ('en', 's3', 200, 0, 10): 85.464932,\n",
       " ('en', 's3', 200, 0, 100): 89.023724,\n",
       " ('en', 's3', 200, 0, 1501): 86.097993,\n",
       " ('en', 's3', 200, 1, 10): 86.257335,\n",
       " ('en', 's3', 200, 1, 100): 90.254313,\n",
       " ('en', 's3', 200, 1, 1501): 90.185754,\n",
       " ('en', 's3', 200, 3, 10): 87.47169,\n",
       " ('en', 's3', 200, 3, 100): 90.232826,\n",
       " ('en', 's3', 200, 3, 1501): 89.895455,\n",
       " ('en', 's3', 200, 5, 10): 102.336159,\n",
       " ('en', 's3', 200, 5, 100): 91.813027,\n",
       " ('en', 's3', 200, 5, 1501): 90.32816}"
      ]
     },
     "metadata": {},
     "execution_count": 17
    }
   ],
   "metadata": {
    "scrolled": true,
    "tags": []
   }
  },
  {
   "cell_type": "code",
   "execution_count": null,
   "source": [
    "hidden_choices = [5, 20, 40, 70, 100, 150, 200]\n",
    "bptt_choices = [0, 1, 3, 5]\n",
    "class_choices = [10, 100, 1501]\n",
    "rand_seed = 1\n",
    "debug = 2\n",
    "\n",
    "for seg, hidden, bptt, _class in itertools.product(\n",
    "    seg_profiles[LANG.name], hidden_choices, bptt_choices, class_choices):\n",
    "\n",
    "    if (LANG.name, seg.id, hidden, bptt, _class) in grid_results:\n",
    "        print(f'skip {LANG.name} {seg.id} {hidden} {bptt} {_class}')\n",
    "        continue\n",
    "\n",
    "    # Parameters\n",
    "    model_path = f'models/rnnlm/{LANG.name}/{seg.id}'\n",
    "    train_path = f'../../../../data/{LANG.name}/segmentation/{seg.id}.txt'\n",
    "    valid_path = f'../../../../data/{LANG.name}/segmentation/{seg.id}_test.txt'\n",
    "\n",
    "    # run the model \n",
    "    !rm -rf $model_path \\\n",
    "      && mkdir $model_path \\\n",
    "      && cd $model_path \\\n",
    "      && ../../../../rnnlm-0.3e/rnnlm \\\n",
    "        -train $train_path \\\n",
    "        -valid $valid_path \\\n",
    "        -rnnlm model \\\n",
    "        -hidden $hidden \\\n",
    "        -rand-seed $rand_seed \\\n",
    "        -debug $debug \\\n",
    "        -bptt $bptt \\\n",
    "        -class $_class \\\n",
    "        2> error.txt\n",
    "\n",
    "    # read output extract validation perplexity\n",
    "    with open(f'{model_path}/model.output.txt', 'r') as f:\n",
    "        output = f.read()\n",
    "        pp = float(output.split()[-1])\n",
    "        grid_results[(LANG.name, seg.id, hidden, bptt, _class)] = pp\n",
    "\n",
    "    # write current results to file\n",
    "    with open(grid_result_file, 'wb') as f:\n",
    "        pickle.dump(grid_results, f)"
   ],
   "outputs": [],
   "metadata": {
    "scrolled": true,
    "tags": []
   }
  },
  {
   "cell_type": "markdown",
   "source": [
    "\n",
    "**Observations**:\n",
    "\n",
    "The following plots show how the perplexity of the model varies when changing each of the hyperparameters, while leaving the rest fixed. "
   ],
   "metadata": {}
  },
  {
   "cell_type": "code",
   "execution_count": 18,
   "source": [
    "import visualisation \n",
    "\n",
    "visualisation.plot_grid_results(English, grid_results)"
   ],
   "outputs": [
    {
     "output_type": "display_data",
     "data": {
      "text/plain": [
       "<Figure size 1152x360 with 3 Axes>"
      ],
      "image/svg+xml": "<?xml version=\"1.0\" encoding=\"utf-8\" standalone=\"no\"?>\n<!DOCTYPE svg PUBLIC \"-//W3C//DTD SVG 1.1//EN\"\n  \"http://www.w3.org/Graphics/SVG/1.1/DTD/svg11.dtd\">\n<svg height=\"332.328125pt\" version=\"1.1\" viewBox=\"0 0 946.965625 332.328125\" width=\"946.965625pt\" xmlns=\"http://www.w3.org/2000/svg\" xmlns:xlink=\"http://www.w3.org/1999/xlink\">\n <metadata>\n  <rdf:RDF xmlns:cc=\"http://creativecommons.org/ns#\" xmlns:dc=\"http://purl.org/dc/elements/1.1/\" xmlns:rdf=\"http://www.w3.org/1999/02/22-rdf-syntax-ns#\">\n   <cc:Work>\n    <dc:type rdf:resource=\"http://purl.org/dc/dcmitype/StillImage\"/>\n    <dc:date>2021-08-17T12:00:53.143774</dc:date>\n    <dc:format>image/svg+xml</dc:format>\n    <dc:creator>\n     <cc:Agent>\n      <dc:title>Matplotlib v3.4.2, https://matplotlib.org/</dc:title>\n     </cc:Agent>\n    </dc:creator>\n   </cc:Work>\n  </rdf:RDF>\n </metadata>\n <defs>\n  <style type=\"text/css\">*{stroke-linecap:butt;stroke-linejoin:round;}</style>\n </defs>\n <g id=\"figure_1\">\n  <g id=\"patch_1\">\n   <path d=\"M 0 332.328125 \nL 946.965625 332.328125 \nL 946.965625 0 \nL 0 0 \nz\n\" style=\"fill:none;\"/>\n  </g>\n  <g id=\"axes_1\">\n   <g id=\"patch_2\">\n    <path d=\"M 46.965625 279 \nL 309.55386 279 \nL 309.55386 7.2 \nL 46.965625 7.2 \nz\n\" style=\"fill:#ffffff;\"/>\n   </g>\n   <g id=\"matplotlib.axis_1\">\n    <g id=\"xtick_1\">\n     <g id=\"line2d_1\">\n      <defs>\n       <path d=\"M 0 0 \nL 0 3.5 \n\" id=\"m40de900354\" style=\"stroke:#000000;stroke-width:0.8;\"/>\n      </defs>\n      <g>\n       <use style=\"stroke:#000000;stroke-width:0.8;\" x=\"58.901454\" xlink:href=\"#m40de900354\" y=\"279\"/>\n      </g>\n     </g>\n     <g id=\"text_1\">\n      <!-- 5 -->\n      <g transform=\"translate(55.720204 293.598437)scale(0.1 -0.1)\">\n       <defs>\n        <path d=\"M 691 4666 \nL 3169 4666 \nL 3169 4134 \nL 1269 4134 \nL 1269 2991 \nQ 1406 3038 1543 3061 \nQ 1681 3084 1819 3084 \nQ 2600 3084 3056 2656 \nQ 3513 2228 3513 1497 \nQ 3513 744 3044 326 \nQ 2575 -91 1722 -91 \nQ 1428 -91 1123 -41 \nQ 819 9 494 109 \nL 494 744 \nQ 775 591 1075 516 \nQ 1375 441 1709 441 \nQ 2250 441 2565 725 \nQ 2881 1009 2881 1497 \nQ 2881 1984 2565 2268 \nQ 2250 2553 1709 2553 \nQ 1456 2553 1204 2497 \nQ 953 2441 691 2322 \nL 691 4666 \nz\n\" id=\"DejaVuSans-35\" transform=\"scale(0.015625)\"/>\n       </defs>\n       <use xlink:href=\"#DejaVuSans-35\"/>\n      </g>\n     </g>\n    </g>\n    <g id=\"xtick_2\">\n     <g id=\"line2d_2\">\n      <g>\n       <use style=\"stroke:#000000;stroke-width:0.8;\" x=\"77.264268\" xlink:href=\"#m40de900354\" y=\"279\"/>\n      </g>\n     </g>\n     <g id=\"text_2\">\n      <!-- 20 -->\n      <g transform=\"translate(70.901768 293.598437)scale(0.1 -0.1)\">\n       <defs>\n        <path d=\"M 1228 531 \nL 3431 531 \nL 3431 0 \nL 469 0 \nL 469 531 \nQ 828 903 1448 1529 \nQ 2069 2156 2228 2338 \nQ 2531 2678 2651 2914 \nQ 2772 3150 2772 3378 \nQ 2772 3750 2511 3984 \nQ 2250 4219 1831 4219 \nQ 1534 4219 1204 4116 \nQ 875 4013 500 3803 \nL 500 4441 \nQ 881 4594 1212 4672 \nQ 1544 4750 1819 4750 \nQ 2544 4750 2975 4387 \nQ 3406 4025 3406 3419 \nQ 3406 3131 3298 2873 \nQ 3191 2616 2906 2266 \nQ 2828 2175 2409 1742 \nQ 1991 1309 1228 531 \nz\n\" id=\"DejaVuSans-32\" transform=\"scale(0.015625)\"/>\n        <path d=\"M 2034 4250 \nQ 1547 4250 1301 3770 \nQ 1056 3291 1056 2328 \nQ 1056 1369 1301 889 \nQ 1547 409 2034 409 \nQ 2525 409 2770 889 \nQ 3016 1369 3016 2328 \nQ 3016 3291 2770 3770 \nQ 2525 4250 2034 4250 \nz\nM 2034 4750 \nQ 2819 4750 3233 4129 \nQ 3647 3509 3647 2328 \nQ 3647 1150 3233 529 \nQ 2819 -91 2034 -91 \nQ 1250 -91 836 529 \nQ 422 1150 422 2328 \nQ 422 3509 836 4129 \nQ 1250 4750 2034 4750 \nz\n\" id=\"DejaVuSans-30\" transform=\"scale(0.015625)\"/>\n       </defs>\n       <use xlink:href=\"#DejaVuSans-32\"/>\n       <use x=\"63.623047\" xlink:href=\"#DejaVuSans-30\"/>\n      </g>\n     </g>\n    </g>\n    <g id=\"xtick_3\">\n     <g id=\"line2d_3\">\n      <g>\n       <use style=\"stroke:#000000;stroke-width:0.8;\" x=\"101.748019\" xlink:href=\"#m40de900354\" y=\"279\"/>\n      </g>\n     </g>\n     <g id=\"text_3\">\n      <!-- 40 -->\n      <g transform=\"translate(95.385519 293.598437)scale(0.1 -0.1)\">\n       <defs>\n        <path d=\"M 2419 4116 \nL 825 1625 \nL 2419 1625 \nL 2419 4116 \nz\nM 2253 4666 \nL 3047 4666 \nL 3047 1625 \nL 3713 1625 \nL 3713 1100 \nL 3047 1100 \nL 3047 0 \nL 2419 0 \nL 2419 1100 \nL 313 1100 \nL 313 1709 \nL 2253 4666 \nz\n\" id=\"DejaVuSans-34\" transform=\"scale(0.015625)\"/>\n       </defs>\n       <use xlink:href=\"#DejaVuSans-34\"/>\n       <use x=\"63.623047\" xlink:href=\"#DejaVuSans-30\"/>\n      </g>\n     </g>\n    </g>\n    <g id=\"xtick_4\">\n     <g id=\"line2d_4\">\n      <g>\n       <use style=\"stroke:#000000;stroke-width:0.8;\" x=\"138.473646\" xlink:href=\"#m40de900354\" y=\"279\"/>\n      </g>\n     </g>\n     <g id=\"text_4\">\n      <!-- 70 -->\n      <g transform=\"translate(132.111146 293.598437)scale(0.1 -0.1)\">\n       <defs>\n        <path d=\"M 525 4666 \nL 3525 4666 \nL 3525 4397 \nL 1831 0 \nL 1172 0 \nL 2766 4134 \nL 525 4134 \nL 525 4666 \nz\n\" id=\"DejaVuSans-37\" transform=\"scale(0.015625)\"/>\n       </defs>\n       <use xlink:href=\"#DejaVuSans-37\"/>\n       <use x=\"63.623047\" xlink:href=\"#DejaVuSans-30\"/>\n      </g>\n     </g>\n    </g>\n    <g id=\"xtick_5\">\n     <g id=\"line2d_5\">\n      <g>\n       <use style=\"stroke:#000000;stroke-width:0.8;\" x=\"175.199274\" xlink:href=\"#m40de900354\" y=\"279\"/>\n      </g>\n     </g>\n     <g id=\"text_5\">\n      <!-- 100 -->\n      <g transform=\"translate(165.655524 293.598437)scale(0.1 -0.1)\">\n       <defs>\n        <path d=\"M 794 531 \nL 1825 531 \nL 1825 4091 \nL 703 3866 \nL 703 4441 \nL 1819 4666 \nL 2450 4666 \nL 2450 531 \nL 3481 531 \nL 3481 0 \nL 794 0 \nL 794 531 \nz\n\" id=\"DejaVuSans-31\" transform=\"scale(0.015625)\"/>\n       </defs>\n       <use xlink:href=\"#DejaVuSans-31\"/>\n       <use x=\"63.623047\" xlink:href=\"#DejaVuSans-30\"/>\n       <use x=\"127.246094\" xlink:href=\"#DejaVuSans-30\"/>\n      </g>\n     </g>\n    </g>\n    <g id=\"xtick_6\">\n     <g id=\"line2d_6\">\n      <g>\n       <use style=\"stroke:#000000;stroke-width:0.8;\" x=\"236.408653\" xlink:href=\"#m40de900354\" y=\"279\"/>\n      </g>\n     </g>\n     <g id=\"text_6\">\n      <!-- 150 -->\n      <g transform=\"translate(226.864903 293.598437)scale(0.1 -0.1)\">\n       <use xlink:href=\"#DejaVuSans-31\"/>\n       <use x=\"63.623047\" xlink:href=\"#DejaVuSans-35\"/>\n       <use x=\"127.246094\" xlink:href=\"#DejaVuSans-30\"/>\n      </g>\n     </g>\n    </g>\n    <g id=\"xtick_7\">\n     <g id=\"line2d_7\">\n      <g>\n       <use style=\"stroke:#000000;stroke-width:0.8;\" x=\"297.618031\" xlink:href=\"#m40de900354\" y=\"279\"/>\n      </g>\n     </g>\n     <g id=\"text_7\">\n      <!-- 200 -->\n      <g transform=\"translate(288.074281 293.598437)scale(0.1 -0.1)\">\n       <use xlink:href=\"#DejaVuSans-32\"/>\n       <use x=\"63.623047\" xlink:href=\"#DejaVuSans-30\"/>\n       <use x=\"127.246094\" xlink:href=\"#DejaVuSans-30\"/>\n      </g>\n     </g>\n    </g>\n    <g id=\"text_8\">\n     <!-- # of hidden neurons -->\n     <g transform=\"translate(127.141774 307.276563)scale(0.1 -0.1)\">\n      <defs>\n       <path d=\"M 3272 2816 \nL 2363 2816 \nL 2100 1772 \nL 3016 1772 \nL 3272 2816 \nz\nM 2803 4594 \nL 2478 3297 \nL 3391 3297 \nL 3719 4594 \nL 4219 4594 \nL 3897 3297 \nL 4872 3297 \nL 4872 2816 \nL 3775 2816 \nL 3519 1772 \nL 4513 1772 \nL 4513 1294 \nL 3397 1294 \nL 3072 0 \nL 2572 0 \nL 2894 1294 \nL 1978 1294 \nL 1656 0 \nL 1153 0 \nL 1478 1294 \nL 494 1294 \nL 494 1772 \nL 1594 1772 \nL 1856 2816 \nL 850 2816 \nL 850 3297 \nL 1978 3297 \nL 2297 4594 \nL 2803 4594 \nz\n\" id=\"DejaVuSans-23\" transform=\"scale(0.015625)\"/>\n       <path id=\"DejaVuSans-20\" transform=\"scale(0.015625)\"/>\n       <path d=\"M 1959 3097 \nQ 1497 3097 1228 2736 \nQ 959 2375 959 1747 \nQ 959 1119 1226 758 \nQ 1494 397 1959 397 \nQ 2419 397 2687 759 \nQ 2956 1122 2956 1747 \nQ 2956 2369 2687 2733 \nQ 2419 3097 1959 3097 \nz\nM 1959 3584 \nQ 2709 3584 3137 3096 \nQ 3566 2609 3566 1747 \nQ 3566 888 3137 398 \nQ 2709 -91 1959 -91 \nQ 1206 -91 779 398 \nQ 353 888 353 1747 \nQ 353 2609 779 3096 \nQ 1206 3584 1959 3584 \nz\n\" id=\"DejaVuSans-6f\" transform=\"scale(0.015625)\"/>\n       <path d=\"M 2375 4863 \nL 2375 4384 \nL 1825 4384 \nQ 1516 4384 1395 4259 \nQ 1275 4134 1275 3809 \nL 1275 3500 \nL 2222 3500 \nL 2222 3053 \nL 1275 3053 \nL 1275 0 \nL 697 0 \nL 697 3053 \nL 147 3053 \nL 147 3500 \nL 697 3500 \nL 697 3744 \nQ 697 4328 969 4595 \nQ 1241 4863 1831 4863 \nL 2375 4863 \nz\n\" id=\"DejaVuSans-66\" transform=\"scale(0.015625)\"/>\n       <path d=\"M 3513 2113 \nL 3513 0 \nL 2938 0 \nL 2938 2094 \nQ 2938 2591 2744 2837 \nQ 2550 3084 2163 3084 \nQ 1697 3084 1428 2787 \nQ 1159 2491 1159 1978 \nL 1159 0 \nL 581 0 \nL 581 4863 \nL 1159 4863 \nL 1159 2956 \nQ 1366 3272 1645 3428 \nQ 1925 3584 2291 3584 \nQ 2894 3584 3203 3211 \nQ 3513 2838 3513 2113 \nz\n\" id=\"DejaVuSans-68\" transform=\"scale(0.015625)\"/>\n       <path d=\"M 603 3500 \nL 1178 3500 \nL 1178 0 \nL 603 0 \nL 603 3500 \nz\nM 603 4863 \nL 1178 4863 \nL 1178 4134 \nL 603 4134 \nL 603 4863 \nz\n\" id=\"DejaVuSans-69\" transform=\"scale(0.015625)\"/>\n       <path d=\"M 2906 2969 \nL 2906 4863 \nL 3481 4863 \nL 3481 0 \nL 2906 0 \nL 2906 525 \nQ 2725 213 2448 61 \nQ 2172 -91 1784 -91 \nQ 1150 -91 751 415 \nQ 353 922 353 1747 \nQ 353 2572 751 3078 \nQ 1150 3584 1784 3584 \nQ 2172 3584 2448 3432 \nQ 2725 3281 2906 2969 \nz\nM 947 1747 \nQ 947 1113 1208 752 \nQ 1469 391 1925 391 \nQ 2381 391 2643 752 \nQ 2906 1113 2906 1747 \nQ 2906 2381 2643 2742 \nQ 2381 3103 1925 3103 \nQ 1469 3103 1208 2742 \nQ 947 2381 947 1747 \nz\n\" id=\"DejaVuSans-64\" transform=\"scale(0.015625)\"/>\n       <path d=\"M 3597 1894 \nL 3597 1613 \nL 953 1613 \nQ 991 1019 1311 708 \nQ 1631 397 2203 397 \nQ 2534 397 2845 478 \nQ 3156 559 3463 722 \nL 3463 178 \nQ 3153 47 2828 -22 \nQ 2503 -91 2169 -91 \nQ 1331 -91 842 396 \nQ 353 884 353 1716 \nQ 353 2575 817 3079 \nQ 1281 3584 2069 3584 \nQ 2775 3584 3186 3129 \nQ 3597 2675 3597 1894 \nz\nM 3022 2063 \nQ 3016 2534 2758 2815 \nQ 2500 3097 2075 3097 \nQ 1594 3097 1305 2825 \nQ 1016 2553 972 2059 \nL 3022 2063 \nz\n\" id=\"DejaVuSans-65\" transform=\"scale(0.015625)\"/>\n       <path d=\"M 3513 2113 \nL 3513 0 \nL 2938 0 \nL 2938 2094 \nQ 2938 2591 2744 2837 \nQ 2550 3084 2163 3084 \nQ 1697 3084 1428 2787 \nQ 1159 2491 1159 1978 \nL 1159 0 \nL 581 0 \nL 581 3500 \nL 1159 3500 \nL 1159 2956 \nQ 1366 3272 1645 3428 \nQ 1925 3584 2291 3584 \nQ 2894 3584 3203 3211 \nQ 3513 2838 3513 2113 \nz\n\" id=\"DejaVuSans-6e\" transform=\"scale(0.015625)\"/>\n       <path d=\"M 544 1381 \nL 544 3500 \nL 1119 3500 \nL 1119 1403 \nQ 1119 906 1312 657 \nQ 1506 409 1894 409 \nQ 2359 409 2629 706 \nQ 2900 1003 2900 1516 \nL 2900 3500 \nL 3475 3500 \nL 3475 0 \nL 2900 0 \nL 2900 538 \nQ 2691 219 2414 64 \nQ 2138 -91 1772 -91 \nQ 1169 -91 856 284 \nQ 544 659 544 1381 \nz\nM 1991 3584 \nL 1991 3584 \nz\n\" id=\"DejaVuSans-75\" transform=\"scale(0.015625)\"/>\n       <path d=\"M 2631 2963 \nQ 2534 3019 2420 3045 \nQ 2306 3072 2169 3072 \nQ 1681 3072 1420 2755 \nQ 1159 2438 1159 1844 \nL 1159 0 \nL 581 0 \nL 581 3500 \nL 1159 3500 \nL 1159 2956 \nQ 1341 3275 1631 3429 \nQ 1922 3584 2338 3584 \nQ 2397 3584 2469 3576 \nQ 2541 3569 2628 3553 \nL 2631 2963 \nz\n\" id=\"DejaVuSans-72\" transform=\"scale(0.015625)\"/>\n       <path d=\"M 2834 3397 \nL 2834 2853 \nQ 2591 2978 2328 3040 \nQ 2066 3103 1784 3103 \nQ 1356 3103 1142 2972 \nQ 928 2841 928 2578 \nQ 928 2378 1081 2264 \nQ 1234 2150 1697 2047 \nL 1894 2003 \nQ 2506 1872 2764 1633 \nQ 3022 1394 3022 966 \nQ 3022 478 2636 193 \nQ 2250 -91 1575 -91 \nQ 1294 -91 989 -36 \nQ 684 19 347 128 \nL 347 722 \nQ 666 556 975 473 \nQ 1284 391 1588 391 \nQ 1994 391 2212 530 \nQ 2431 669 2431 922 \nQ 2431 1156 2273 1281 \nQ 2116 1406 1581 1522 \nL 1381 1569 \nQ 847 1681 609 1914 \nQ 372 2147 372 2553 \nQ 372 3047 722 3315 \nQ 1072 3584 1716 3584 \nQ 2034 3584 2315 3537 \nQ 2597 3491 2834 3397 \nz\n\" id=\"DejaVuSans-73\" transform=\"scale(0.015625)\"/>\n      </defs>\n      <use xlink:href=\"#DejaVuSans-23\"/>\n      <use x=\"83.789062\" xlink:href=\"#DejaVuSans-20\"/>\n      <use x=\"115.576172\" xlink:href=\"#DejaVuSans-6f\"/>\n      <use x=\"176.757812\" xlink:href=\"#DejaVuSans-66\"/>\n      <use x=\"211.962891\" xlink:href=\"#DejaVuSans-20\"/>\n      <use x=\"243.75\" xlink:href=\"#DejaVuSans-68\"/>\n      <use x=\"307.128906\" xlink:href=\"#DejaVuSans-69\"/>\n      <use x=\"334.912109\" xlink:href=\"#DejaVuSans-64\"/>\n      <use x=\"398.388672\" xlink:href=\"#DejaVuSans-64\"/>\n      <use x=\"461.865234\" xlink:href=\"#DejaVuSans-65\"/>\n      <use x=\"523.388672\" xlink:href=\"#DejaVuSans-6e\"/>\n      <use x=\"586.767578\" xlink:href=\"#DejaVuSans-20\"/>\n      <use x=\"618.554688\" xlink:href=\"#DejaVuSans-6e\"/>\n      <use x=\"681.933594\" xlink:href=\"#DejaVuSans-65\"/>\n      <use x=\"743.457031\" xlink:href=\"#DejaVuSans-75\"/>\n      <use x=\"806.835938\" xlink:href=\"#DejaVuSans-72\"/>\n      <use x=\"845.699219\" xlink:href=\"#DejaVuSans-6f\"/>\n      <use x=\"906.880859\" xlink:href=\"#DejaVuSans-6e\"/>\n      <use x=\"970.259766\" xlink:href=\"#DejaVuSans-73\"/>\n     </g>\n    </g>\n   </g>\n   <g id=\"matplotlib.axis_2\">\n    <g id=\"ytick_1\">\n     <g id=\"line2d_8\">\n      <defs>\n       <path d=\"M 0 0 \nL -3.5 0 \n\" id=\"mcd2b010279\" style=\"stroke:#000000;stroke-width:0.8;\"/>\n      </defs>\n      <g>\n       <use style=\"stroke:#000000;stroke-width:0.8;\" x=\"46.965625\" xlink:href=\"#mcd2b010279\" y=\"279\"/>\n      </g>\n     </g>\n     <g id=\"text_9\">\n      <!-- 0 -->\n      <g transform=\"translate(33.603125 282.799219)scale(0.1 -0.1)\">\n       <use xlink:href=\"#DejaVuSans-30\"/>\n      </g>\n     </g>\n    </g>\n    <g id=\"ytick_2\">\n     <g id=\"line2d_9\">\n      <g>\n       <use style=\"stroke:#000000;stroke-width:0.8;\" x=\"46.965625\" xlink:href=\"#mcd2b010279\" y=\"243.889899\"/>\n      </g>\n     </g>\n     <g id=\"text_10\">\n      <!-- 20 -->\n      <g transform=\"translate(27.240625 247.689117)scale(0.1 -0.1)\">\n       <use xlink:href=\"#DejaVuSans-32\"/>\n       <use x=\"63.623047\" xlink:href=\"#DejaVuSans-30\"/>\n      </g>\n     </g>\n    </g>\n    <g id=\"ytick_3\">\n     <g id=\"line2d_10\">\n      <g>\n       <use style=\"stroke:#000000;stroke-width:0.8;\" x=\"46.965625\" xlink:href=\"#mcd2b010279\" y=\"208.779797\"/>\n      </g>\n     </g>\n     <g id=\"text_11\">\n      <!-- 40 -->\n      <g transform=\"translate(27.240625 212.579016)scale(0.1 -0.1)\">\n       <use xlink:href=\"#DejaVuSans-34\"/>\n       <use x=\"63.623047\" xlink:href=\"#DejaVuSans-30\"/>\n      </g>\n     </g>\n    </g>\n    <g id=\"ytick_4\">\n     <g id=\"line2d_11\">\n      <g>\n       <use style=\"stroke:#000000;stroke-width:0.8;\" x=\"46.965625\" xlink:href=\"#mcd2b010279\" y=\"173.669696\"/>\n      </g>\n     </g>\n     <g id=\"text_12\">\n      <!-- 60 -->\n      <g transform=\"translate(27.240625 177.468914)scale(0.1 -0.1)\">\n       <defs>\n        <path d=\"M 2113 2584 \nQ 1688 2584 1439 2293 \nQ 1191 2003 1191 1497 \nQ 1191 994 1439 701 \nQ 1688 409 2113 409 \nQ 2538 409 2786 701 \nQ 3034 994 3034 1497 \nQ 3034 2003 2786 2293 \nQ 2538 2584 2113 2584 \nz\nM 3366 4563 \nL 3366 3988 \nQ 3128 4100 2886 4159 \nQ 2644 4219 2406 4219 \nQ 1781 4219 1451 3797 \nQ 1122 3375 1075 2522 \nQ 1259 2794 1537 2939 \nQ 1816 3084 2150 3084 \nQ 2853 3084 3261 2657 \nQ 3669 2231 3669 1497 \nQ 3669 778 3244 343 \nQ 2819 -91 2113 -91 \nQ 1303 -91 875 529 \nQ 447 1150 447 2328 \nQ 447 3434 972 4092 \nQ 1497 4750 2381 4750 \nQ 2619 4750 2861 4703 \nQ 3103 4656 3366 4563 \nz\n\" id=\"DejaVuSans-36\" transform=\"scale(0.015625)\"/>\n       </defs>\n       <use xlink:href=\"#DejaVuSans-36\"/>\n       <use x=\"63.623047\" xlink:href=\"#DejaVuSans-30\"/>\n      </g>\n     </g>\n    </g>\n    <g id=\"ytick_5\">\n     <g id=\"line2d_12\">\n      <g>\n       <use style=\"stroke:#000000;stroke-width:0.8;\" x=\"46.965625\" xlink:href=\"#mcd2b010279\" y=\"138.559594\"/>\n      </g>\n     </g>\n     <g id=\"text_13\">\n      <!-- 80 -->\n      <g transform=\"translate(27.240625 142.358813)scale(0.1 -0.1)\">\n       <defs>\n        <path d=\"M 2034 2216 \nQ 1584 2216 1326 1975 \nQ 1069 1734 1069 1313 \nQ 1069 891 1326 650 \nQ 1584 409 2034 409 \nQ 2484 409 2743 651 \nQ 3003 894 3003 1313 \nQ 3003 1734 2745 1975 \nQ 2488 2216 2034 2216 \nz\nM 1403 2484 \nQ 997 2584 770 2862 \nQ 544 3141 544 3541 \nQ 544 4100 942 4425 \nQ 1341 4750 2034 4750 \nQ 2731 4750 3128 4425 \nQ 3525 4100 3525 3541 \nQ 3525 3141 3298 2862 \nQ 3072 2584 2669 2484 \nQ 3125 2378 3379 2068 \nQ 3634 1759 3634 1313 \nQ 3634 634 3220 271 \nQ 2806 -91 2034 -91 \nQ 1263 -91 848 271 \nQ 434 634 434 1313 \nQ 434 1759 690 2068 \nQ 947 2378 1403 2484 \nz\nM 1172 3481 \nQ 1172 3119 1398 2916 \nQ 1625 2713 2034 2713 \nQ 2441 2713 2670 2916 \nQ 2900 3119 2900 3481 \nQ 2900 3844 2670 4047 \nQ 2441 4250 2034 4250 \nQ 1625 4250 1398 4047 \nQ 1172 3844 1172 3481 \nz\n\" id=\"DejaVuSans-38\" transform=\"scale(0.015625)\"/>\n       </defs>\n       <use xlink:href=\"#DejaVuSans-38\"/>\n       <use x=\"63.623047\" xlink:href=\"#DejaVuSans-30\"/>\n      </g>\n     </g>\n    </g>\n    <g id=\"ytick_6\">\n     <g id=\"line2d_13\">\n      <g>\n       <use style=\"stroke:#000000;stroke-width:0.8;\" x=\"46.965625\" xlink:href=\"#mcd2b010279\" y=\"103.449493\"/>\n      </g>\n     </g>\n     <g id=\"text_14\">\n      <!-- 100 -->\n      <g transform=\"translate(20.878125 107.248711)scale(0.1 -0.1)\">\n       <use xlink:href=\"#DejaVuSans-31\"/>\n       <use x=\"63.623047\" xlink:href=\"#DejaVuSans-30\"/>\n       <use x=\"127.246094\" xlink:href=\"#DejaVuSans-30\"/>\n      </g>\n     </g>\n    </g>\n    <g id=\"ytick_7\">\n     <g id=\"line2d_14\">\n      <g>\n       <use style=\"stroke:#000000;stroke-width:0.8;\" x=\"46.965625\" xlink:href=\"#mcd2b010279\" y=\"68.339391\"/>\n      </g>\n     </g>\n     <g id=\"text_15\">\n      <!-- 120 -->\n      <g transform=\"translate(20.878125 72.13861)scale(0.1 -0.1)\">\n       <use xlink:href=\"#DejaVuSans-31\"/>\n       <use x=\"63.623047\" xlink:href=\"#DejaVuSans-32\"/>\n       <use x=\"127.246094\" xlink:href=\"#DejaVuSans-30\"/>\n      </g>\n     </g>\n    </g>\n    <g id=\"ytick_8\">\n     <g id=\"line2d_15\">\n      <g>\n       <use style=\"stroke:#000000;stroke-width:0.8;\" x=\"46.965625\" xlink:href=\"#mcd2b010279\" y=\"33.22929\"/>\n      </g>\n     </g>\n     <g id=\"text_16\">\n      <!-- 140 -->\n      <g transform=\"translate(20.878125 37.028509)scale(0.1 -0.1)\">\n       <use xlink:href=\"#DejaVuSans-31\"/>\n       <use x=\"63.623047\" xlink:href=\"#DejaVuSans-34\"/>\n       <use x=\"127.246094\" xlink:href=\"#DejaVuSans-30\"/>\n      </g>\n     </g>\n    </g>\n    <g id=\"text_17\">\n     <!-- Perplexity -->\n     <g transform=\"translate(14.798438 167.885938)rotate(-90)scale(0.1 -0.1)\">\n      <defs>\n       <path d=\"M 1259 4147 \nL 1259 2394 \nL 2053 2394 \nQ 2494 2394 2734 2622 \nQ 2975 2850 2975 3272 \nQ 2975 3691 2734 3919 \nQ 2494 4147 2053 4147 \nL 1259 4147 \nz\nM 628 4666 \nL 2053 4666 \nQ 2838 4666 3239 4311 \nQ 3641 3956 3641 3272 \nQ 3641 2581 3239 2228 \nQ 2838 1875 2053 1875 \nL 1259 1875 \nL 1259 0 \nL 628 0 \nL 628 4666 \nz\n\" id=\"DejaVuSans-50\" transform=\"scale(0.015625)\"/>\n       <path d=\"M 1159 525 \nL 1159 -1331 \nL 581 -1331 \nL 581 3500 \nL 1159 3500 \nL 1159 2969 \nQ 1341 3281 1617 3432 \nQ 1894 3584 2278 3584 \nQ 2916 3584 3314 3078 \nQ 3713 2572 3713 1747 \nQ 3713 922 3314 415 \nQ 2916 -91 2278 -91 \nQ 1894 -91 1617 61 \nQ 1341 213 1159 525 \nz\nM 3116 1747 \nQ 3116 2381 2855 2742 \nQ 2594 3103 2138 3103 \nQ 1681 3103 1420 2742 \nQ 1159 2381 1159 1747 \nQ 1159 1113 1420 752 \nQ 1681 391 2138 391 \nQ 2594 391 2855 752 \nQ 3116 1113 3116 1747 \nz\n\" id=\"DejaVuSans-70\" transform=\"scale(0.015625)\"/>\n       <path d=\"M 603 4863 \nL 1178 4863 \nL 1178 0 \nL 603 0 \nL 603 4863 \nz\n\" id=\"DejaVuSans-6c\" transform=\"scale(0.015625)\"/>\n       <path d=\"M 3513 3500 \nL 2247 1797 \nL 3578 0 \nL 2900 0 \nL 1881 1375 \nL 863 0 \nL 184 0 \nL 1544 1831 \nL 300 3500 \nL 978 3500 \nL 1906 2253 \nL 2834 3500 \nL 3513 3500 \nz\n\" id=\"DejaVuSans-78\" transform=\"scale(0.015625)\"/>\n       <path d=\"M 1172 4494 \nL 1172 3500 \nL 2356 3500 \nL 2356 3053 \nL 1172 3053 \nL 1172 1153 \nQ 1172 725 1289 603 \nQ 1406 481 1766 481 \nL 2356 481 \nL 2356 0 \nL 1766 0 \nQ 1100 0 847 248 \nQ 594 497 594 1153 \nL 594 3053 \nL 172 3053 \nL 172 3500 \nL 594 3500 \nL 594 4494 \nL 1172 4494 \nz\n\" id=\"DejaVuSans-74\" transform=\"scale(0.015625)\"/>\n       <path d=\"M 2059 -325 \nQ 1816 -950 1584 -1140 \nQ 1353 -1331 966 -1331 \nL 506 -1331 \nL 506 -850 \nL 844 -850 \nQ 1081 -850 1212 -737 \nQ 1344 -625 1503 -206 \nL 1606 56 \nL 191 3500 \nL 800 3500 \nL 1894 763 \nL 2988 3500 \nL 3597 3500 \nL 2059 -325 \nz\n\" id=\"DejaVuSans-79\" transform=\"scale(0.015625)\"/>\n      </defs>\n      <use xlink:href=\"#DejaVuSans-50\"/>\n      <use x=\"56.677734\" xlink:href=\"#DejaVuSans-65\"/>\n      <use x=\"118.201172\" xlink:href=\"#DejaVuSans-72\"/>\n      <use x=\"159.314453\" xlink:href=\"#DejaVuSans-70\"/>\n      <use x=\"222.791016\" xlink:href=\"#DejaVuSans-6c\"/>\n      <use x=\"250.574219\" xlink:href=\"#DejaVuSans-65\"/>\n      <use x=\"310.347656\" xlink:href=\"#DejaVuSans-78\"/>\n      <use x=\"369.527344\" xlink:href=\"#DejaVuSans-69\"/>\n      <use x=\"397.310547\" xlink:href=\"#DejaVuSans-74\"/>\n      <use x=\"436.519531\" xlink:href=\"#DejaVuSans-79\"/>\n     </g>\n    </g>\n   </g>\n   <g id=\"line2d_16\">\n    <path clip-path=\"url(#pe1a2d52ee4)\" d=\"M 58.901454 260.96484 \nL 77.264268 267.500315 \nL 101.748019 269.695268 \nL 138.473646 270.891657 \nL 175.199274 271.428378 \nL 236.408653 271.753558 \nL 297.618031 272.051565 \n\" style=\"fill:none;stroke:#1f77b4;stroke-linecap:square;stroke-width:1.5;\"/>\n   </g>\n   <g id=\"line2d_17\">\n    <path clip-path=\"url(#pe1a2d52ee4)\" d=\"M 58.901454 120.897184 \nL 77.264268 196.620135 \nL 101.748019 209.848115 \nL 138.473646 214.372253 \nL 175.199274 215.616141 \nL 236.408653 215.767251 \nL 297.618031 214.991476 \n\" style=\"fill:none;stroke:#ff7f0e;stroke-linecap:square;stroke-width:1.5;\"/>\n   </g>\n   <g id=\"line2d_18\">\n    <path clip-path=\"url(#pe1a2d52ee4)\" d=\"M 58.901454 21.890539 \nL 77.264268 109.866347 \nL 101.748019 114.88046 \nL 138.473646 114.263813 \nL 175.199274 115.739124 \nL 236.408653 119.023879 \nL 297.618031 120.595816 \n\" style=\"fill:none;stroke:#2ca02c;stroke-linecap:square;stroke-width:1.5;\"/>\n   </g>\n   <g id=\"patch_3\">\n    <path d=\"M 46.965625 279 \nL 46.965625 7.2 \n\" style=\"fill:none;stroke:#000000;stroke-linecap:square;stroke-linejoin:miter;stroke-width:0.8;\"/>\n   </g>\n   <g id=\"patch_4\">\n    <path d=\"M 309.55386 279 \nL 309.55386 7.2 \n\" style=\"fill:none;stroke:#000000;stroke-linecap:square;stroke-linejoin:miter;stroke-width:0.8;\"/>\n   </g>\n   <g id=\"patch_5\">\n    <path d=\"M 46.965625 279 \nL 309.55386 279 \n\" style=\"fill:none;stroke:#000000;stroke-linecap:square;stroke-linejoin:miter;stroke-width:0.8;\"/>\n   </g>\n   <g id=\"patch_6\">\n    <path d=\"M 46.965625 7.2 \nL 309.55386 7.2 \n\" style=\"fill:none;stroke:#000000;stroke-linecap:square;stroke-linejoin:miter;stroke-width:0.8;\"/>\n   </g>\n   <g id=\"legend_1\">\n    <g id=\"patch_7\">\n     <path d=\"M 258.981985 59.234375 \nL 302.55386 59.234375 \nQ 304.55386 59.234375 304.55386 57.234375 \nL 304.55386 14.2 \nQ 304.55386 12.2 302.55386 12.2 \nL 258.981985 12.2 \nQ 256.981985 12.2 256.981985 14.2 \nL 256.981985 57.234375 \nQ 256.981985 59.234375 258.981985 59.234375 \nz\n\" style=\"fill:#ffffff;opacity:0.8;stroke:#cccccc;stroke-linejoin:miter;\"/>\n    </g>\n    <g id=\"line2d_19\">\n     <path d=\"M 260.981985 20.298437 \nL 280.981985 20.298437 \n\" style=\"fill:none;stroke:#1f77b4;stroke-linecap:square;stroke-width:1.5;\"/>\n    </g>\n    <g id=\"line2d_20\"/>\n    <g id=\"text_18\">\n     <!-- s1 -->\n     <g transform=\"translate(288.981985 23.798437)scale(0.1 -0.1)\">\n      <use xlink:href=\"#DejaVuSans-73\"/>\n      <use x=\"52.099609\" xlink:href=\"#DejaVuSans-31\"/>\n     </g>\n    </g>\n    <g id=\"line2d_21\">\n     <path d=\"M 260.981985 34.976562 \nL 280.981985 34.976562 \n\" style=\"fill:none;stroke:#ff7f0e;stroke-linecap:square;stroke-width:1.5;\"/>\n    </g>\n    <g id=\"line2d_22\"/>\n    <g id=\"text_19\">\n     <!-- s2 -->\n     <g transform=\"translate(288.981985 38.476562)scale(0.1 -0.1)\">\n      <use xlink:href=\"#DejaVuSans-73\"/>\n      <use x=\"52.099609\" xlink:href=\"#DejaVuSans-32\"/>\n     </g>\n    </g>\n    <g id=\"line2d_23\">\n     <path d=\"M 260.981985 49.654687 \nL 280.981985 49.654687 \n\" style=\"fill:none;stroke:#2ca02c;stroke-linecap:square;stroke-width:1.5;\"/>\n    </g>\n    <g id=\"line2d_24\"/>\n    <g id=\"text_20\">\n     <!-- s3 -->\n     <g transform=\"translate(288.981985 53.154687)scale(0.1 -0.1)\">\n      <defs>\n       <path d=\"M 2597 2516 \nQ 3050 2419 3304 2112 \nQ 3559 1806 3559 1356 \nQ 3559 666 3084 287 \nQ 2609 -91 1734 -91 \nQ 1441 -91 1130 -33 \nQ 819 25 488 141 \nL 488 750 \nQ 750 597 1062 519 \nQ 1375 441 1716 441 \nQ 2309 441 2620 675 \nQ 2931 909 2931 1356 \nQ 2931 1769 2642 2001 \nQ 2353 2234 1838 2234 \nL 1294 2234 \nL 1294 2753 \nL 1863 2753 \nQ 2328 2753 2575 2939 \nQ 2822 3125 2822 3475 \nQ 2822 3834 2567 4026 \nQ 2313 4219 1838 4219 \nQ 1578 4219 1281 4162 \nQ 984 4106 628 3988 \nL 628 4550 \nQ 988 4650 1302 4700 \nQ 1616 4750 1894 4750 \nQ 2613 4750 3031 4423 \nQ 3450 4097 3450 3541 \nQ 3450 3153 3228 2886 \nQ 3006 2619 2597 2516 \nz\n\" id=\"DejaVuSans-33\" transform=\"scale(0.015625)\"/>\n      </defs>\n      <use xlink:href=\"#DejaVuSans-73\"/>\n      <use x=\"52.099609\" xlink:href=\"#DejaVuSans-33\"/>\n     </g>\n    </g>\n   </g>\n  </g>\n  <g id=\"axes_2\">\n   <g id=\"patch_8\">\n    <path d=\"M 362.071507 279 \nL 624.659743 279 \nL 624.659743 7.2 \nL 362.071507 7.2 \nz\n\" style=\"fill:#ffffff;\"/>\n   </g>\n   <g id=\"matplotlib.axis_3\">\n    <g id=\"xtick_8\">\n     <g id=\"line2d_25\">\n      <g>\n       <use style=\"stroke:#000000;stroke-width:0.8;\" x=\"374.007336\" xlink:href=\"#m40de900354\" y=\"279\"/>\n      </g>\n     </g>\n     <g id=\"text_21\">\n      <!-- 0 -->\n      <g transform=\"translate(370.826086 293.598437)scale(0.1 -0.1)\">\n       <use xlink:href=\"#DejaVuSans-30\"/>\n      </g>\n     </g>\n    </g>\n    <g id=\"xtick_9\">\n     <g id=\"line2d_26\">\n      <g>\n       <use style=\"stroke:#000000;stroke-width:0.8;\" x=\"421.750652\" xlink:href=\"#m40de900354\" y=\"279\"/>\n      </g>\n     </g>\n     <g id=\"text_22\">\n      <!-- 1 -->\n      <g transform=\"translate(418.569402 293.598437)scale(0.1 -0.1)\">\n       <use xlink:href=\"#DejaVuSans-31\"/>\n      </g>\n     </g>\n    </g>\n    <g id=\"xtick_10\">\n     <g id=\"line2d_27\">\n      <g>\n       <use style=\"stroke:#000000;stroke-width:0.8;\" x=\"517.237283\" xlink:href=\"#m40de900354\" y=\"279\"/>\n      </g>\n     </g>\n     <g id=\"text_23\">\n      <!-- 3 -->\n      <g transform=\"translate(514.056033 293.598437)scale(0.1 -0.1)\">\n       <use xlink:href=\"#DejaVuSans-33\"/>\n      </g>\n     </g>\n    </g>\n    <g id=\"xtick_11\">\n     <g id=\"line2d_28\">\n      <g>\n       <use style=\"stroke:#000000;stroke-width:0.8;\" x=\"612.723914\" xlink:href=\"#m40de900354\" y=\"279\"/>\n      </g>\n     </g>\n     <g id=\"text_24\">\n      <!-- 5 -->\n      <g transform=\"translate(609.542664 293.598437)scale(0.1 -0.1)\">\n       <use xlink:href=\"#DejaVuSans-35\"/>\n      </g>\n     </g>\n    </g>\n    <g id=\"text_25\">\n     <!-- bptt -->\n     <g transform=\"translate(483.096875 307.276563)scale(0.1 -0.1)\">\n      <defs>\n       <path d=\"M 3116 1747 \nQ 3116 2381 2855 2742 \nQ 2594 3103 2138 3103 \nQ 1681 3103 1420 2742 \nQ 1159 2381 1159 1747 \nQ 1159 1113 1420 752 \nQ 1681 391 2138 391 \nQ 2594 391 2855 752 \nQ 3116 1113 3116 1747 \nz\nM 1159 2969 \nQ 1341 3281 1617 3432 \nQ 1894 3584 2278 3584 \nQ 2916 3584 3314 3078 \nQ 3713 2572 3713 1747 \nQ 3713 922 3314 415 \nQ 2916 -91 2278 -91 \nQ 1894 -91 1617 61 \nQ 1341 213 1159 525 \nL 1159 0 \nL 581 0 \nL 581 4863 \nL 1159 4863 \nL 1159 2969 \nz\n\" id=\"DejaVuSans-62\" transform=\"scale(0.015625)\"/>\n      </defs>\n      <use xlink:href=\"#DejaVuSans-62\"/>\n      <use x=\"63.476562\" xlink:href=\"#DejaVuSans-70\"/>\n      <use x=\"126.953125\" xlink:href=\"#DejaVuSans-74\"/>\n      <use x=\"166.162109\" xlink:href=\"#DejaVuSans-74\"/>\n     </g>\n    </g>\n   </g>\n   <g id=\"matplotlib.axis_4\">\n    <g id=\"ytick_9\">\n     <g id=\"line2d_29\">\n      <g>\n       <use style=\"stroke:#000000;stroke-width:0.8;\" x=\"362.071507\" xlink:href=\"#mcd2b010279\" y=\"279\"/>\n      </g>\n     </g>\n     <g id=\"text_26\">\n      <!-- 0 -->\n      <g transform=\"translate(348.709007 282.799219)scale(0.1 -0.1)\">\n       <use xlink:href=\"#DejaVuSans-30\"/>\n      </g>\n     </g>\n    </g>\n    <g id=\"ytick_10\">\n     <g id=\"line2d_30\">\n      <g>\n       <use style=\"stroke:#000000;stroke-width:0.8;\" x=\"362.071507\" xlink:href=\"#mcd2b010279\" y=\"243.889899\"/>\n      </g>\n     </g>\n     <g id=\"text_27\">\n      <!-- 20 -->\n      <g transform=\"translate(342.346507 247.689117)scale(0.1 -0.1)\">\n       <use xlink:href=\"#DejaVuSans-32\"/>\n       <use x=\"63.623047\" xlink:href=\"#DejaVuSans-30\"/>\n      </g>\n     </g>\n    </g>\n    <g id=\"ytick_11\">\n     <g id=\"line2d_31\">\n      <g>\n       <use style=\"stroke:#000000;stroke-width:0.8;\" x=\"362.071507\" xlink:href=\"#mcd2b010279\" y=\"208.779797\"/>\n      </g>\n     </g>\n     <g id=\"text_28\">\n      <!-- 40 -->\n      <g transform=\"translate(342.346507 212.579016)scale(0.1 -0.1)\">\n       <use xlink:href=\"#DejaVuSans-34\"/>\n       <use x=\"63.623047\" xlink:href=\"#DejaVuSans-30\"/>\n      </g>\n     </g>\n    </g>\n    <g id=\"ytick_12\">\n     <g id=\"line2d_32\">\n      <g>\n       <use style=\"stroke:#000000;stroke-width:0.8;\" x=\"362.071507\" xlink:href=\"#mcd2b010279\" y=\"173.669696\"/>\n      </g>\n     </g>\n     <g id=\"text_29\">\n      <!-- 60 -->\n      <g transform=\"translate(342.346507 177.468914)scale(0.1 -0.1)\">\n       <use xlink:href=\"#DejaVuSans-36\"/>\n       <use x=\"63.623047\" xlink:href=\"#DejaVuSans-30\"/>\n      </g>\n     </g>\n    </g>\n    <g id=\"ytick_13\">\n     <g id=\"line2d_33\">\n      <g>\n       <use style=\"stroke:#000000;stroke-width:0.8;\" x=\"362.071507\" xlink:href=\"#mcd2b010279\" y=\"138.559594\"/>\n      </g>\n     </g>\n     <g id=\"text_30\">\n      <!-- 80 -->\n      <g transform=\"translate(342.346507 142.358813)scale(0.1 -0.1)\">\n       <use xlink:href=\"#DejaVuSans-38\"/>\n       <use x=\"63.623047\" xlink:href=\"#DejaVuSans-30\"/>\n      </g>\n     </g>\n    </g>\n    <g id=\"ytick_14\">\n     <g id=\"line2d_34\">\n      <g>\n       <use style=\"stroke:#000000;stroke-width:0.8;\" x=\"362.071507\" xlink:href=\"#mcd2b010279\" y=\"103.449493\"/>\n      </g>\n     </g>\n     <g id=\"text_31\">\n      <!-- 100 -->\n      <g transform=\"translate(335.984007 107.248711)scale(0.1 -0.1)\">\n       <use xlink:href=\"#DejaVuSans-31\"/>\n       <use x=\"63.623047\" xlink:href=\"#DejaVuSans-30\"/>\n       <use x=\"127.246094\" xlink:href=\"#DejaVuSans-30\"/>\n      </g>\n     </g>\n    </g>\n    <g id=\"ytick_15\">\n     <g id=\"line2d_35\">\n      <g>\n       <use style=\"stroke:#000000;stroke-width:0.8;\" x=\"362.071507\" xlink:href=\"#mcd2b010279\" y=\"68.339391\"/>\n      </g>\n     </g>\n     <g id=\"text_32\">\n      <!-- 120 -->\n      <g transform=\"translate(335.984007 72.13861)scale(0.1 -0.1)\">\n       <use xlink:href=\"#DejaVuSans-31\"/>\n       <use x=\"63.623047\" xlink:href=\"#DejaVuSans-32\"/>\n       <use x=\"127.246094\" xlink:href=\"#DejaVuSans-30\"/>\n      </g>\n     </g>\n    </g>\n    <g id=\"ytick_16\">\n     <g id=\"line2d_36\">\n      <g>\n       <use style=\"stroke:#000000;stroke-width:0.8;\" x=\"362.071507\" xlink:href=\"#mcd2b010279\" y=\"33.22929\"/>\n      </g>\n     </g>\n     <g id=\"text_33\">\n      <!-- 140 -->\n      <g transform=\"translate(335.984007 37.028509)scale(0.1 -0.1)\">\n       <use xlink:href=\"#DejaVuSans-31\"/>\n       <use x=\"63.623047\" xlink:href=\"#DejaVuSans-34\"/>\n       <use x=\"127.246094\" xlink:href=\"#DejaVuSans-30\"/>\n      </g>\n     </g>\n    </g>\n    <g id=\"text_34\">\n     <!-- Perplexity -->\n     <g transform=\"translate(329.90432 167.885938)rotate(-90)scale(0.1 -0.1)\">\n      <use xlink:href=\"#DejaVuSans-50\"/>\n      <use x=\"56.677734\" xlink:href=\"#DejaVuSans-65\"/>\n      <use x=\"118.201172\" xlink:href=\"#DejaVuSans-72\"/>\n      <use x=\"159.314453\" xlink:href=\"#DejaVuSans-70\"/>\n      <use x=\"222.791016\" xlink:href=\"#DejaVuSans-6c\"/>\n      <use x=\"250.574219\" xlink:href=\"#DejaVuSans-65\"/>\n      <use x=\"310.347656\" xlink:href=\"#DejaVuSans-78\"/>\n      <use x=\"369.527344\" xlink:href=\"#DejaVuSans-69\"/>\n      <use x=\"397.310547\" xlink:href=\"#DejaVuSans-74\"/>\n      <use x=\"436.519531\" xlink:href=\"#DejaVuSans-79\"/>\n     </g>\n    </g>\n   </g>\n   <g id=\"line2d_37\">\n    <path clip-path=\"url(#p36f32d5f12)\" d=\"M 374.007336 268.516192 \nL 421.750652 269.666942 \nL 517.237283 269.695268 \nL 612.723914 269.760707 \n\" style=\"fill:none;stroke:#1f77b4;stroke-linecap:square;stroke-width:1.5;\"/>\n   </g>\n   <g id=\"line2d_38\">\n    <path clip-path=\"url(#p36f32d5f12)\" d=\"M 374.007336 205.584813 \nL 421.750652 209.724487 \nL 517.237283 209.848115 \nL 612.723914 209.922227 \n\" style=\"fill:none;stroke:#ff7f0e;stroke-linecap:square;stroke-width:1.5;\"/>\n   </g>\n   <g id=\"line2d_39\">\n    <path clip-path=\"url(#p36f32d5f12)\" d=\"M 374.007336 125.325984 \nL 421.750652 113.148174 \nL 517.237283 114.88046 \nL 612.723914 113.18337 \n\" style=\"fill:none;stroke:#2ca02c;stroke-linecap:square;stroke-width:1.5;\"/>\n   </g>\n   <g id=\"patch_9\">\n    <path d=\"M 362.071507 279 \nL 362.071507 7.2 \n\" style=\"fill:none;stroke:#000000;stroke-linecap:square;stroke-linejoin:miter;stroke-width:0.8;\"/>\n   </g>\n   <g id=\"patch_10\">\n    <path d=\"M 624.659743 279 \nL 624.659743 7.2 \n\" style=\"fill:none;stroke:#000000;stroke-linecap:square;stroke-linejoin:miter;stroke-width:0.8;\"/>\n   </g>\n   <g id=\"patch_11\">\n    <path d=\"M 362.071507 279 \nL 624.659743 279 \n\" style=\"fill:none;stroke:#000000;stroke-linecap:square;stroke-linejoin:miter;stroke-width:0.8;\"/>\n   </g>\n   <g id=\"patch_12\">\n    <path d=\"M 362.071507 7.2 \nL 624.659743 7.2 \n\" style=\"fill:none;stroke:#000000;stroke-linecap:square;stroke-linejoin:miter;stroke-width:0.8;\"/>\n   </g>\n   <g id=\"legend_2\">\n    <g id=\"patch_13\">\n     <path d=\"M 574.087868 59.234375 \nL 617.659743 59.234375 \nQ 619.659743 59.234375 619.659743 57.234375 \nL 619.659743 14.2 \nQ 619.659743 12.2 617.659743 12.2 \nL 574.087868 12.2 \nQ 572.087868 12.2 572.087868 14.2 \nL 572.087868 57.234375 \nQ 572.087868 59.234375 574.087868 59.234375 \nz\n\" style=\"fill:#ffffff;opacity:0.8;stroke:#cccccc;stroke-linejoin:miter;\"/>\n    </g>\n    <g id=\"line2d_40\">\n     <path d=\"M 576.087868 20.298437 \nL 596.087868 20.298437 \n\" style=\"fill:none;stroke:#1f77b4;stroke-linecap:square;stroke-width:1.5;\"/>\n    </g>\n    <g id=\"line2d_41\"/>\n    <g id=\"text_35\">\n     <!-- s1 -->\n     <g transform=\"translate(604.087868 23.798437)scale(0.1 -0.1)\">\n      <use xlink:href=\"#DejaVuSans-73\"/>\n      <use x=\"52.099609\" xlink:href=\"#DejaVuSans-31\"/>\n     </g>\n    </g>\n    <g id=\"line2d_42\">\n     <path d=\"M 576.087868 34.976562 \nL 596.087868 34.976562 \n\" style=\"fill:none;stroke:#ff7f0e;stroke-linecap:square;stroke-width:1.5;\"/>\n    </g>\n    <g id=\"line2d_43\"/>\n    <g id=\"text_36\">\n     <!-- s2 -->\n     <g transform=\"translate(604.087868 38.476562)scale(0.1 -0.1)\">\n      <use xlink:href=\"#DejaVuSans-73\"/>\n      <use x=\"52.099609\" xlink:href=\"#DejaVuSans-32\"/>\n     </g>\n    </g>\n    <g id=\"line2d_44\">\n     <path d=\"M 576.087868 49.654687 \nL 596.087868 49.654687 \n\" style=\"fill:none;stroke:#2ca02c;stroke-linecap:square;stroke-width:1.5;\"/>\n    </g>\n    <g id=\"line2d_45\"/>\n    <g id=\"text_37\">\n     <!-- s3 -->\n     <g transform=\"translate(604.087868 53.154687)scale(0.1 -0.1)\">\n      <use xlink:href=\"#DejaVuSans-73\"/>\n      <use x=\"52.099609\" xlink:href=\"#DejaVuSans-33\"/>\n     </g>\n    </g>\n   </g>\n  </g>\n  <g id=\"axes_3\">\n   <g id=\"patch_14\">\n    <path d=\"M 677.17739 279 \nL 939.765625 279 \nL 939.765625 7.2 \nL 677.17739 7.2 \nz\n\" style=\"fill:#ffffff;\"/>\n   </g>\n   <g id=\"matplotlib.axis_5\">\n    <g id=\"xtick_12\">\n     <g id=\"line2d_46\">\n      <g>\n       <use style=\"stroke:#000000;stroke-width:0.8;\" x=\"689.113219\" xlink:href=\"#m40de900354\" y=\"279\"/>\n      </g>\n     </g>\n     <g id=\"text_38\">\n      <!-- 10 -->\n      <g transform=\"translate(691.872594 298.725)rotate(-90)scale(0.1 -0.1)\">\n       <use xlink:href=\"#DejaVuSans-31\"/>\n       <use x=\"63.623047\" xlink:href=\"#DejaVuSans-30\"/>\n      </g>\n     </g>\n    </g>\n    <g id=\"xtick_13\">\n     <g id=\"line2d_47\">\n      <g>\n       <use style=\"stroke:#000000;stroke-width:0.8;\" x=\"703.52267\" xlink:href=\"#m40de900354\" y=\"279\"/>\n      </g>\n     </g>\n     <g id=\"text_39\">\n      <!-- 100 -->\n      <g transform=\"translate(706.282045 305.0875)rotate(-90)scale(0.1 -0.1)\">\n       <use xlink:href=\"#DejaVuSans-31\"/>\n       <use x=\"63.623047\" xlink:href=\"#DejaVuSans-30\"/>\n       <use x=\"127.246094\" xlink:href=\"#DejaVuSans-30\"/>\n      </g>\n     </g>\n    </g>\n    <g id=\"xtick_14\">\n     <g id=\"line2d_48\">\n      <g>\n       <use style=\"stroke:#000000;stroke-width:0.8;\" x=\"927.829796\" xlink:href=\"#m40de900354\" y=\"279\"/>\n      </g>\n     </g>\n     <g id=\"text_40\">\n      <!-- 1501 -->\n      <g transform=\"translate(930.589171 311.45)rotate(-90)scale(0.1 -0.1)\">\n       <use xlink:href=\"#DejaVuSans-31\"/>\n       <use x=\"63.623047\" xlink:href=\"#DejaVuSans-35\"/>\n       <use x=\"127.246094\" xlink:href=\"#DejaVuSans-30\"/>\n       <use x=\"190.869141\" xlink:href=\"#DejaVuSans-31\"/>\n      </g>\n     </g>\n    </g>\n    <g id=\"text_41\">\n     <!-- class -->\n     <g transform=\"translate(796.059789 323.048437)scale(0.1 -0.1)\">\n      <defs>\n       <path d=\"M 3122 3366 \nL 3122 2828 \nQ 2878 2963 2633 3030 \nQ 2388 3097 2138 3097 \nQ 1578 3097 1268 2742 \nQ 959 2388 959 1747 \nQ 959 1106 1268 751 \nQ 1578 397 2138 397 \nQ 2388 397 2633 464 \nQ 2878 531 3122 666 \nL 3122 134 \nQ 2881 22 2623 -34 \nQ 2366 -91 2075 -91 \nQ 1284 -91 818 406 \nQ 353 903 353 1747 \nQ 353 2603 823 3093 \nQ 1294 3584 2113 3584 \nQ 2378 3584 2631 3529 \nQ 2884 3475 3122 3366 \nz\n\" id=\"DejaVuSans-63\" transform=\"scale(0.015625)\"/>\n       <path d=\"M 2194 1759 \nQ 1497 1759 1228 1600 \nQ 959 1441 959 1056 \nQ 959 750 1161 570 \nQ 1363 391 1709 391 \nQ 2188 391 2477 730 \nQ 2766 1069 2766 1631 \nL 2766 1759 \nL 2194 1759 \nz\nM 3341 1997 \nL 3341 0 \nL 2766 0 \nL 2766 531 \nQ 2569 213 2275 61 \nQ 1981 -91 1556 -91 \nQ 1019 -91 701 211 \nQ 384 513 384 1019 \nQ 384 1609 779 1909 \nQ 1175 2209 1959 2209 \nL 2766 2209 \nL 2766 2266 \nQ 2766 2663 2505 2880 \nQ 2244 3097 1772 3097 \nQ 1472 3097 1187 3025 \nQ 903 2953 641 2809 \nL 641 3341 \nQ 956 3463 1253 3523 \nQ 1550 3584 1831 3584 \nQ 2591 3584 2966 3190 \nQ 3341 2797 3341 1997 \nz\n\" id=\"DejaVuSans-61\" transform=\"scale(0.015625)\"/>\n      </defs>\n      <use xlink:href=\"#DejaVuSans-63\"/>\n      <use x=\"54.980469\" xlink:href=\"#DejaVuSans-6c\"/>\n      <use x=\"82.763672\" xlink:href=\"#DejaVuSans-61\"/>\n      <use x=\"144.042969\" xlink:href=\"#DejaVuSans-73\"/>\n      <use x=\"196.142578\" xlink:href=\"#DejaVuSans-73\"/>\n     </g>\n    </g>\n   </g>\n   <g id=\"matplotlib.axis_6\">\n    <g id=\"ytick_17\">\n     <g id=\"line2d_49\">\n      <g>\n       <use style=\"stroke:#000000;stroke-width:0.8;\" x=\"677.17739\" xlink:href=\"#mcd2b010279\" y=\"279\"/>\n      </g>\n     </g>\n     <g id=\"text_42\">\n      <!-- 0 -->\n      <g transform=\"translate(663.81489 282.799219)scale(0.1 -0.1)\">\n       <use xlink:href=\"#DejaVuSans-30\"/>\n      </g>\n     </g>\n    </g>\n    <g id=\"ytick_18\">\n     <g id=\"line2d_50\">\n      <g>\n       <use style=\"stroke:#000000;stroke-width:0.8;\" x=\"677.17739\" xlink:href=\"#mcd2b010279\" y=\"243.889899\"/>\n      </g>\n     </g>\n     <g id=\"text_43\">\n      <!-- 20 -->\n      <g transform=\"translate(657.45239 247.689117)scale(0.1 -0.1)\">\n       <use xlink:href=\"#DejaVuSans-32\"/>\n       <use x=\"63.623047\" xlink:href=\"#DejaVuSans-30\"/>\n      </g>\n     </g>\n    </g>\n    <g id=\"ytick_19\">\n     <g id=\"line2d_51\">\n      <g>\n       <use style=\"stroke:#000000;stroke-width:0.8;\" x=\"677.17739\" xlink:href=\"#mcd2b010279\" y=\"208.779797\"/>\n      </g>\n     </g>\n     <g id=\"text_44\">\n      <!-- 40 -->\n      <g transform=\"translate(657.45239 212.579016)scale(0.1 -0.1)\">\n       <use xlink:href=\"#DejaVuSans-34\"/>\n       <use x=\"63.623047\" xlink:href=\"#DejaVuSans-30\"/>\n      </g>\n     </g>\n    </g>\n    <g id=\"ytick_20\">\n     <g id=\"line2d_52\">\n      <g>\n       <use style=\"stroke:#000000;stroke-width:0.8;\" x=\"677.17739\" xlink:href=\"#mcd2b010279\" y=\"173.669696\"/>\n      </g>\n     </g>\n     <g id=\"text_45\">\n      <!-- 60 -->\n      <g transform=\"translate(657.45239 177.468914)scale(0.1 -0.1)\">\n       <use xlink:href=\"#DejaVuSans-36\"/>\n       <use x=\"63.623047\" xlink:href=\"#DejaVuSans-30\"/>\n      </g>\n     </g>\n    </g>\n    <g id=\"ytick_21\">\n     <g id=\"line2d_53\">\n      <g>\n       <use style=\"stroke:#000000;stroke-width:0.8;\" x=\"677.17739\" xlink:href=\"#mcd2b010279\" y=\"138.559594\"/>\n      </g>\n     </g>\n     <g id=\"text_46\">\n      <!-- 80 -->\n      <g transform=\"translate(657.45239 142.358813)scale(0.1 -0.1)\">\n       <use xlink:href=\"#DejaVuSans-38\"/>\n       <use x=\"63.623047\" xlink:href=\"#DejaVuSans-30\"/>\n      </g>\n     </g>\n    </g>\n    <g id=\"ytick_22\">\n     <g id=\"line2d_54\">\n      <g>\n       <use style=\"stroke:#000000;stroke-width:0.8;\" x=\"677.17739\" xlink:href=\"#mcd2b010279\" y=\"103.449493\"/>\n      </g>\n     </g>\n     <g id=\"text_47\">\n      <!-- 100 -->\n      <g transform=\"translate(651.08989 107.248711)scale(0.1 -0.1)\">\n       <use xlink:href=\"#DejaVuSans-31\"/>\n       <use x=\"63.623047\" xlink:href=\"#DejaVuSans-30\"/>\n       <use x=\"127.246094\" xlink:href=\"#DejaVuSans-30\"/>\n      </g>\n     </g>\n    </g>\n    <g id=\"ytick_23\">\n     <g id=\"line2d_55\">\n      <g>\n       <use style=\"stroke:#000000;stroke-width:0.8;\" x=\"677.17739\" xlink:href=\"#mcd2b010279\" y=\"68.339391\"/>\n      </g>\n     </g>\n     <g id=\"text_48\">\n      <!-- 120 -->\n      <g transform=\"translate(651.08989 72.13861)scale(0.1 -0.1)\">\n       <use xlink:href=\"#DejaVuSans-31\"/>\n       <use x=\"63.623047\" xlink:href=\"#DejaVuSans-32\"/>\n       <use x=\"127.246094\" xlink:href=\"#DejaVuSans-30\"/>\n      </g>\n     </g>\n    </g>\n    <g id=\"ytick_24\">\n     <g id=\"line2d_56\">\n      <g>\n       <use style=\"stroke:#000000;stroke-width:0.8;\" x=\"677.17739\" xlink:href=\"#mcd2b010279\" y=\"33.22929\"/>\n      </g>\n     </g>\n     <g id=\"text_49\">\n      <!-- 140 -->\n      <g transform=\"translate(651.08989 37.028509)scale(0.1 -0.1)\">\n       <use xlink:href=\"#DejaVuSans-31\"/>\n       <use x=\"63.623047\" xlink:href=\"#DejaVuSans-34\"/>\n       <use x=\"127.246094\" xlink:href=\"#DejaVuSans-30\"/>\n      </g>\n     </g>\n    </g>\n    <g id=\"text_50\">\n     <!-- Perplexity -->\n     <g transform=\"translate(645.010202 167.885938)rotate(-90)scale(0.1 -0.1)\">\n      <use xlink:href=\"#DejaVuSans-50\"/>\n      <use x=\"56.677734\" xlink:href=\"#DejaVuSans-65\"/>\n      <use x=\"118.201172\" xlink:href=\"#DejaVuSans-72\"/>\n      <use x=\"159.314453\" xlink:href=\"#DejaVuSans-70\"/>\n      <use x=\"222.791016\" xlink:href=\"#DejaVuSans-6c\"/>\n      <use x=\"250.574219\" xlink:href=\"#DejaVuSans-65\"/>\n      <use x=\"310.347656\" xlink:href=\"#DejaVuSans-78\"/>\n      <use x=\"369.527344\" xlink:href=\"#DejaVuSans-69\"/>\n      <use x=\"397.310547\" xlink:href=\"#DejaVuSans-74\"/>\n      <use x=\"436.519531\" xlink:href=\"#DejaVuSans-79\"/>\n     </g>\n    </g>\n   </g>\n   <g id=\"line2d_57\">\n    <path clip-path=\"url(#pf6abd09c85)\" d=\"M 689.113219 269.506529 \nL 703.52267 269.695268 \nL 927.829796 269.592782 \n\" style=\"fill:none;stroke:#1f77b4;stroke-linecap:square;stroke-width:1.5;\"/>\n   </g>\n   <g id=\"line2d_58\">\n    <path clip-path=\"url(#pf6abd09c85)\" d=\"M 689.113219 212.217403 \nL 703.52267 209.848115 \nL 927.829796 219.898073 \n\" style=\"fill:none;stroke:#ff7f0e;stroke-linecap:square;stroke-width:1.5;\"/>\n   </g>\n   <g id=\"line2d_59\">\n    <path clip-path=\"url(#pf6abd09c85)\" d=\"M 689.113219 124.515197 \nL 703.52267 114.88046 \nL 927.829796 127.330041 \n\" style=\"fill:none;stroke:#2ca02c;stroke-linecap:square;stroke-width:1.5;\"/>\n   </g>\n   <g id=\"patch_15\">\n    <path d=\"M 677.17739 279 \nL 677.17739 7.2 \n\" style=\"fill:none;stroke:#000000;stroke-linecap:square;stroke-linejoin:miter;stroke-width:0.8;\"/>\n   </g>\n   <g id=\"patch_16\">\n    <path d=\"M 939.765625 279 \nL 939.765625 7.2 \n\" style=\"fill:none;stroke:#000000;stroke-linecap:square;stroke-linejoin:miter;stroke-width:0.8;\"/>\n   </g>\n   <g id=\"patch_17\">\n    <path d=\"M 677.17739 279 \nL 939.765625 279 \n\" style=\"fill:none;stroke:#000000;stroke-linecap:square;stroke-linejoin:miter;stroke-width:0.8;\"/>\n   </g>\n   <g id=\"patch_18\">\n    <path d=\"M 677.17739 7.2 \nL 939.765625 7.2 \n\" style=\"fill:none;stroke:#000000;stroke-linecap:square;stroke-linejoin:miter;stroke-width:0.8;\"/>\n   </g>\n   <g id=\"legend_3\">\n    <g id=\"patch_19\">\n     <path d=\"M 889.19375 59.234375 \nL 932.765625 59.234375 \nQ 934.765625 59.234375 934.765625 57.234375 \nL 934.765625 14.2 \nQ 934.765625 12.2 932.765625 12.2 \nL 889.19375 12.2 \nQ 887.19375 12.2 887.19375 14.2 \nL 887.19375 57.234375 \nQ 887.19375 59.234375 889.19375 59.234375 \nz\n\" style=\"fill:#ffffff;opacity:0.8;stroke:#cccccc;stroke-linejoin:miter;\"/>\n    </g>\n    <g id=\"line2d_60\">\n     <path d=\"M 891.19375 20.298437 \nL 911.19375 20.298437 \n\" style=\"fill:none;stroke:#1f77b4;stroke-linecap:square;stroke-width:1.5;\"/>\n    </g>\n    <g id=\"line2d_61\"/>\n    <g id=\"text_51\">\n     <!-- s1 -->\n     <g transform=\"translate(919.19375 23.798437)scale(0.1 -0.1)\">\n      <use xlink:href=\"#DejaVuSans-73\"/>\n      <use x=\"52.099609\" xlink:href=\"#DejaVuSans-31\"/>\n     </g>\n    </g>\n    <g id=\"line2d_62\">\n     <path d=\"M 891.19375 34.976562 \nL 911.19375 34.976562 \n\" style=\"fill:none;stroke:#ff7f0e;stroke-linecap:square;stroke-width:1.5;\"/>\n    </g>\n    <g id=\"line2d_63\"/>\n    <g id=\"text_52\">\n     <!-- s2 -->\n     <g transform=\"translate(919.19375 38.476562)scale(0.1 -0.1)\">\n      <use xlink:href=\"#DejaVuSans-73\"/>\n      <use x=\"52.099609\" xlink:href=\"#DejaVuSans-32\"/>\n     </g>\n    </g>\n    <g id=\"line2d_64\">\n     <path d=\"M 891.19375 49.654687 \nL 911.19375 49.654687 \n\" style=\"fill:none;stroke:#2ca02c;stroke-linecap:square;stroke-width:1.5;\"/>\n    </g>\n    <g id=\"line2d_65\"/>\n    <g id=\"text_53\">\n     <!-- s3 -->\n     <g transform=\"translate(919.19375 53.154687)scale(0.1 -0.1)\">\n      <use xlink:href=\"#DejaVuSans-73\"/>\n      <use x=\"52.099609\" xlink:href=\"#DejaVuSans-33\"/>\n     </g>\n    </g>\n   </g>\n  </g>\n </g>\n <defs>\n  <clipPath id=\"pe1a2d52ee4\">\n   <rect height=\"271.8\" width=\"262.588235\" x=\"46.965625\" y=\"7.2\"/>\n  </clipPath>\n  <clipPath id=\"p36f32d5f12\">\n   <rect height=\"271.8\" width=\"262.588235\" x=\"362.071507\" y=\"7.2\"/>\n  </clipPath>\n  <clipPath id=\"pf6abd09c85\">\n   <rect height=\"271.8\" width=\"262.588235\" x=\"677.17739\" y=\"7.2\"/>\n  </clipPath>\n </defs>\n</svg>\n",
      "image/png": "[encoded data removed]"
     },
     "metadata": {
      "needs_background": "light"
     }
    }
   ],
   "metadata": {}
  },
  {
   "cell_type": "markdown",
   "source": [
    "The first plot shows the perplexity values for different sizes of the `hidden` layer of the RNNLM for a fixed value of `bptt` and `class`. In all cases, increasing the number of hidden layers gives a lower (better) perplexity. For `s1`and `s2`, changing from 5 to 20 hidden neurons implies a huge decrease. The intensity of change is lessened when there are more and more neurons. From 100 neurons onwards, the differences are negligible.\n",
    "\n",
    "The second plot shows how the perplexity varies with `bptt`. In general, this hyperparameter does not have a big impact to the perplexity. While for `s1` and `s2`, increasing `bptt` from 0 to 1 results in slightly better perplexities, the reverse is true for `s3`. Higher values of `bptt` then have almost no impact to the perplexity on average.\n",
    "\n",
    "The variation of the perplexity for different values of `class` is shown in the third plot. From 100, increasing the number of classes usually reduces the perplexity for the three vocabulary sizes. There is a trade-off between model performance and training speed: a higher value of `class` requires longer time to train but may result in a marginally better performance and vice versa.\n",
    "\n",
    "Another interesting observation is that the overall performance of `s1` is much better than `s2`, which in turn is much better than `s3`. **We suspect this is because the *rnnlm toolkit* misunderstood the spaces in the input files (which represent separation between tokens) as meaningful characters of the text**. Thus, for `s1`, it can just predict that for any non-space character, the next character is a space, and then it has half of the predictions correct, which results in such a low perplexity. Since we are more focused on OOV handling but not perplexity optimization, we ignore this problem for the rest of the project.\n"
   ],
   "metadata": {}
  },
  {
   "cell_type": "markdown",
   "source": [
    "\n",
    "**Results**:\n",
    "\n",
    "There are different approaches to select the sets of optimal hyperparameters base on the above results and observations. One may follow Occam's Razor and prefer small values for the hyperparameters as long as the perplexity is only slightly higher than the minimum one. Another may directly choose the sets of values that result in the optimal perplexities. For simplicity, we opt for the second approach.\n",
    "\n",
    "The configurations of hyperparameters that minimize the perplexity of the model for each vocabulary size are: "
   ],
   "metadata": {}
  },
  {
   "cell_type": "code",
   "execution_count": 28,
   "source": [
    "for seg in seg_profiles[LANG.name]:\n",
    "    results = dict((k, v) for (k, v) in grid_results.items() if k[1] == seg.id)\n",
    "    print(f\"{seg.id}: {min(results, key=results.get)}\")"
   ],
   "outputs": [
    {
     "output_type": "stream",
     "name": "stdout",
     "text": [
      "s1: ('bn', 's1', 200, 4, 1700)\n",
      "s2: ('bn', 's2', 200, 4, 1700)\n",
      "s3: ('bn', 's3', 200, 4, 1700)\n"
     ]
    }
   ],
   "metadata": {}
  },
  {
   "cell_type": "code",
   "execution_count": null,
   "source": [
    "# train and save LMs for the optimal configurations\n",
    "importlib.reload(config)\n",
    "from config import optimal_conf\n",
    "\n",
    "for id, (hidden, rand_seed, debug, bptt, n_class) in \\\n",
    "    enumerate(optimal_conf[LANG.name], start=1):\n",
    "    \n",
    "    seg_id = f's{id}'\n",
    "\n",
    "    # paths\n",
    "    model_path = f'models/rnnlm/{LANG.name}/{seg_id}_optimal'\n",
    "    train_path = f'../../../../data/{LANG.name}/segmentation/{seg_id}.txt'\n",
    "    valid_path = f'../../../../data/{LANG.name}/segmentation/{seg_id}_test.txt'\n",
    "\n",
    "    # run the model \n",
    "    !rm -rf $model_path \\\n",
    "      && mkdir $model_path \\\n",
    "      && cd $model_path \\\n",
    "      && ../../../../rnnlm-0.3e/rnnlm \\\n",
    "        -train $train_path \\\n",
    "        -valid $valid_path \\\n",
    "        -rnnlm model \\\n",
    "        -hidden $hidden \\\n",
    "        -rand-seed $rand_seed \\\n",
    "        -debug $debug \\\n",
    "        -bptt $bptt \\\n",
    "        -class $n_class"
   ],
   "outputs": [],
   "metadata": {}
  },
  {
   "cell_type": "markdown",
   "source": [
    "# 4. Text Generation"
   ],
   "metadata": {}
  },
  {
   "cell_type": "markdown",
   "source": [
    "We generate texts of different lengths for each of the 6 language models (3 baseline and 3 optimal models) from section 3. The generated texts are then decoded by the corresponding segmentation models. Next, we compare the artificial texts of length 100:"
   ],
   "metadata": {}
  },
  {
   "cell_type": "code",
   "execution_count": 5,
   "source": [
    "from config import SEG_MODELS_PATH"
   ],
   "outputs": [],
   "metadata": {}
  },
  {
   "cell_type": "markdown",
   "source": [
    "## 4.1. Baseline models"
   ],
   "metadata": {}
  },
  {
   "cell_type": "code",
   "execution_count": 6,
   "source": [
    "for seg in seg_profiles[LANG.name]:\n",
    "    gen_folder = f'data/{LANG.name}/generation/{seg.id}_baseline'\n",
    "    # path to LM file\n",
    "    language_model_file = f'models/rnnlm/{LANG.name}/{seg.id}_baseline/model'\n",
    "    # path to segmentation file\n",
    "    if seg.model_type == 'char':\n",
    "        seg_model_file = f'{SEG_MODELS_PATH}/{LANG.name}/spm_{seg.model_type}.model'\n",
    "    else:\n",
    "        seg_model_file = f'{SEG_MODELS_PATH}/{LANG.name}/spm_{seg.model_type}_vocabsize-{seg.vocab_size}.model'\n",
    "    \n",
    "    # remove the text-generation folder\n",
    "    !rm -rf $gen_folder \\\n",
    "        && mkdir $gen_folder\n",
    "    \n",
    "    for n_gen in [10, 100, 1000, 10000, 100000, 1000000, 10000000]:\n",
    "        # generate text using rnnlm\n",
    "        gen_file = f'{gen_folder}/{n_gen}.txt'\n",
    "        !rnnlm-0.3e/rnnlm \\\n",
    "                -rnnlm $language_model_file \\\n",
    "                -gen $n_gen \\\n",
    "                -debug 0 \\\n",
    "            > $gen_file\n",
    "        \n",
    "        # decode generated text using sentencepiece\n",
    "        decoded_gen_file = f'{gen_folder}/{n_gen}_decoded.txt'\n",
    "        decode_text_file(gen_file, seg_model_file, decoded_gen_file)"
   ],
   "outputs": [],
   "metadata": {}
  },
  {
   "cell_type": "markdown",
   "source": [
    "`s1 baseline`:\n",
    "> Withle his hear very time a lid shoup of bith could arraution pogg a won't ince: boghmendhed insee \n",
    "\n",
    "`s2 baseline`:\n",
    "> Alice began little lesson--thege in courthed pice, as prie was the Criter kipp now in Wet, twink on, cards have cometely to that is any haird.  \n",
    "`What hildider that flay too much nerept the way of you werehadge, will I can't anything out in your inter, if they'\n",
    "\n",
    "`s3 baseline`:\n",
    "> he took the Duchess--' to!'  \n",
    "\\`No are that,' said Alice, and all a nl t argo, beginning!'  \n",
    "\\`It's it how?'  \n",
    "Arills all, I have go out of any a thing it written.'  \n",
    "O E did you tast either you,' said the Mock Turtle; \\` swro idea anyab came to know when the Nes!  \n",
    "\\`It's begunered to see them about, when I can tell you more"
   ],
   "metadata": {}
  },
  {
   "cell_type": "markdown",
   "source": [
    "## 4.2. Tuned models"
   ],
   "metadata": {}
  },
  {
   "cell_type": "code",
   "execution_count": 41,
   "source": [
    "for seg in seg_profiles[LANG.name]:\n",
    "    gen_folder = f'data/{LANG.name}/generation/{seg.id}'\n",
    "    # path to LM file\n",
    "    language_model_file = f'models/rnnlm/{LANG.name}/{seg.id}_optimal/model'\n",
    "    # path to segmentation file\n",
    "    if seg.model_type == 'char':\n",
    "        seg_model_file = f'{SEG_MODELS_PATH}/{LANG.name}/spm_{seg.model_type}.model'\n",
    "    else:\n",
    "        seg_model_file = f'{SEG_MODELS_PATH}/{LANG.name}/spm_{seg.model_type}_vocabsize-{seg.vocab_size}.model'\n",
    "    \n",
    "    # remove the text-generation folder\n",
    "    !rm -rf $gen_folder \\\n",
    "        && mkdir $gen_folder\n",
    "    \n",
    "    for n_gen in [10, 100, 1000, 10000, 100000, 1000000, 10000000]:\n",
    "        # generate text using rnnlm\n",
    "        gen_file = f'{gen_folder}/{n_gen}.txt'\n",
    "        !rnnlm-0.3e/rnnlm \\\n",
    "                -rnnlm $language_model_file \\\n",
    "                -gen $n_gen \\\n",
    "                -debug 0 \\\n",
    "            > $gen_file\n",
    "        \n",
    "        # decode generated text using sentencepiece\n",
    "        decoded_gen_file = f'{gen_folder}/{n_gen}_decoded.txt'\n",
    "        decode_text_file(gen_file, seg_model_file, decoded_gen_file)"
   ],
   "outputs": [],
   "metadata": {}
  },
  {
   "cell_type": "markdown",
   "source": [
    "`s1 optimal`:\n",
    "> \\`If her head of a.'  \n",
    "\\`I should this losk, deen tone; \\`But that's at remarked,' Alice found Alice, a\n",
    "\n",
    "`s2 optimal`:\n",
    "> Atter used the time in looked blows at the guess of the book, and he found on the pimmiast, the children last nearly.  \n",
    "And she was goved, little she thought peep at it, so went to sure.  \n",
    "poolowing the biture: but Alice toom at the musost, and a great song that s\n",
    "\n",
    "`s3 optimal`:\n",
    "> She said the Lpoty is, \\` soon knew her teanher of a Fock tearenion, beautifulidly, and began finished her feet, that had an moral to get off; and behind it, and a great hard sadceen in that, howb jo under a poor little anything viola quietly.  \n",
    "\\`There's getting likeer about at them soto.  \n",
    "said the Gryphon remarked, \\`and this ear turned a tone of them sisterass\n",
    "\n",
    "It can be seen that for both baseline and optimal models, the 3 texts have differences in length (in terms of number of characters). Since `s1` use only single characters as tokens, the text it generates is the shortest. On the other hand, `s3` generates the longest text because it uses more lengthier combinations of characters.\n",
    "\n",
    "Overall, the optimal models show a better performance over the baseline models. This agrees with the reduction in perplexity that the optimal models were optimized for.\n",
    "\n",
    "Regarding the optimal models, it looks like `s2` gives the highest quality of text. \n",
    "* For `s1`, the context seems very \"short\", each sentence comprises a small number of words, and words at moderate distance seems to be unrelated to each other. We deem this problem to be a consequence of using very short tokens (i.e. character tokens). For example, let's say the RNN LM can regard the last 10 tokens to generate the next token, if all those last 10 tokens are characters, then that effectively means our LM only has a context of 2 or 3 words. In contrast, if those tokens are all words themselves, then our LM has a larger context of 10 words.\n",
    "    \n",
    "* The same reasoning applies to explain why the text from `s3` gives longer sentence on average compared to the other models. Another observation taken from `s3` is that the generated text has many \"meaningless\" words like `teanher`, `tearenion`, `beautifulidly`. Note that these words didn't appear in the training data but rather are made up by the language model (by combining sub-words). The reason, as we suspect, is that since `s3` uses a large vocabulary size on a small training dataset, the statistics on its tokens are not significant (i.e. have low support), resulting in a bad performance.\n",
    "\n",
    "* The text generated by `s2`, while still has many flaws, seems to be most realistic. Among the 3 models, `s2` does the best job on balancing between generality and specificity of the tokens, as well as maintaining a reasonable support for them."
   ],
   "metadata": {}
  },
  {
   "cell_type": "markdown",
   "source": [
    "# 5. OOV comparison"
   ],
   "metadata": {}
  },
  {
   "cell_type": "markdown",
   "source": [
    "In this section, we compare the OOV rate of the original vocabulary and the augmented vocabularies from generated texts. (Note that we pre-process the texts with lower-casing and punctuation removal before computing OOV rates.)"
   ],
   "metadata": {}
  },
  {
   "cell_type": "code",
   "execution_count": 17,
   "source": [
    "import vocab_processing \n",
    "vocab_processing = importlib.reload(vocab_processing)\n",
    "from vocab_processing import get_word_level_vocabulary, get_word_level_tokens, get_oov_rate"
   ],
   "outputs": [],
   "metadata": {}
  },
  {
   "cell_type": "code",
   "execution_count": 18,
   "source": [
    "train_path = f'data/{LANG.name}/train.txt'\n",
    "test_path = f'data/{LANG.name}/test.txt'"
   ],
   "outputs": [],
   "metadata": {}
  },
  {
   "cell_type": "code",
   "execution_count": 19,
   "source": [
    "# get the training vocabulary on word-level\n",
    "train_vocab = get_word_level_vocabulary(LANG, train_path)\n",
    "# get the test tokens on word-level\n",
    "test_tokens = get_word_level_tokens(LANG, test_path)\n",
    "# compute and print OOV rate\n",
    "oov_rate = get_oov_rate(train_vocab, test_tokens)\n",
    "print(f'Original data\\'s OOV rate: {oov_rate:.2%}')"
   ],
   "outputs": [
    {
     "output_type": "stream",
     "name": "stdout",
     "text": [
      "Original data's OOV rate: 4.80%\n"
     ]
    }
   ],
   "metadata": {}
  },
  {
   "cell_type": "markdown",
   "source": [
    "## Augment vocabulary with generated data"
   ],
   "metadata": {}
  },
  {
   "cell_type": "markdown",
   "source": [
    "### Baseline models"
   ],
   "metadata": {}
  },
  {
   "cell_type": "code",
   "execution_count": 22,
   "source": [
    "oov_rates = []\n",
    "\n",
    "for seg in seg_profiles[LANG.name]:\n",
    "    gen_folder = f'data/{LANG.name}/generation/{seg.id}_baseline'\n",
    "    oov_rates.append([])\n",
    "    \n",
    "    for n_gen in [10, 100, 1000, 10000, 100000, 1000000, 10000000]:\n",
    "\n",
    "        # obtain the vocabulary from the generated corpora\n",
    "        decoded_gen_file = f'{gen_folder}/{n_gen}_decoded.txt'\n",
    "        gen_vocab = get_word_level_vocabulary(LANG, decoded_gen_file)\n",
    "\n",
    "        # compute the oov-rate on the augmented vocabulary\n",
    "        augmented_oov_rate = get_oov_rate(train_vocab | gen_vocab, test_tokens)\n",
    "        print(f'(Baseline) {LANG.name} {seg.id} {n_gen} OOV rate: {augmented_oov_rate:.2%}')\n",
    "        oov_rates[-1].append(augmented_oov_rate)"
   ],
   "outputs": [
    {
     "output_type": "stream",
     "name": "stdout",
     "text": [
      "(Baseline) en s1 10 OOV rate: 4.80%\n",
      "(Baseline) en s1 100 OOV rate: 4.80%\n",
      "(Baseline) en s1 1000 OOV rate: 4.80%\n",
      "(Baseline) en s1 10000 OOV rate: 4.80%\n",
      "(Baseline) en s1 100000 OOV rate: 4.62%\n",
      "(Baseline) en s1 1000000 OOV rate: 4.21%\n",
      "(Baseline) en s1 10000000 OOV rate: 3.41%\n",
      "(Baseline) en s2 10 OOV rate: 4.80%\n",
      "(Baseline) en s2 100 OOV rate: 4.80%\n",
      "(Baseline) en s2 1000 OOV rate: 4.80%\n",
      "(Baseline) en s2 10000 OOV rate: 4.75%\n",
      "(Baseline) en s2 100000 OOV rate: 4.33%\n",
      "(Baseline) en s2 1000000 OOV rate: 3.61%\n",
      "(Baseline) en s2 10000000 OOV rate: 2.83%\n",
      "(Baseline) en s3 10 OOV rate: 4.80%\n",
      "(Baseline) en s3 100 OOV rate: 4.80%\n",
      "(Baseline) en s3 1000 OOV rate: 4.79%\n",
      "(Baseline) en s3 10000 OOV rate: 4.77%\n",
      "(Baseline) en s3 100000 OOV rate: 4.51%\n",
      "(Baseline) en s3 1000000 OOV rate: 3.94%\n",
      "(Baseline) en s3 10000000 OOV rate: 3.20%\n"
     ]
    }
   ],
   "metadata": {}
  },
  {
   "cell_type": "markdown",
   "source": [
    "### Tuned models"
   ],
   "metadata": {}
  },
  {
   "cell_type": "code",
   "execution_count": 23,
   "source": [
    "for seg in seg_profiles[LANG.name]:\n",
    "    gen_folder = f'data/{LANG.name}/generation/{seg.id}'\n",
    "    oov_rates.append([])\n",
    "    \n",
    "    for n_gen in [10, 100, 1000, 10000, 100000, 1000000, 10000000]:\n",
    "\n",
    "        # obtain the vocabulary from the generated corpora\n",
    "        decoded_gen_file = f'{gen_folder}/{n_gen}_decoded.txt'\n",
    "        gen_vocab = get_word_level_vocabulary(LANG, decoded_gen_file)\n",
    "\n",
    "        # compute the oov-rate on the augmented vocabulary\n",
    "        augmented_oov_rate = get_oov_rate(train_vocab | gen_vocab, test_tokens)\n",
    "        print(f'(Tuned) {LANG.name} {seg.id} {n_gen} OOV rate: {augmented_oov_rate:.2%}')\n",
    "        oov_rates[-1].append(augmented_oov_rate)"
   ],
   "outputs": [
    {
     "output_type": "stream",
     "name": "stdout",
     "text": [
      "(Tuned) en s1 10 OOV rate: 4.80%\n",
      "(Tuned) en s1 100 OOV rate: 4.80%\n",
      "(Tuned) en s1 1000 OOV rate: 4.80%\n",
      "(Tuned) en s1 10000 OOV rate: 4.79%\n",
      "(Tuned) en s1 100000 OOV rate: 4.64%\n",
      "(Tuned) en s1 1000000 OOV rate: 3.92%\n",
      "(Tuned) en s1 10000000 OOV rate: 2.96%\n",
      "(Tuned) en s2 10 OOV rate: 4.80%\n",
      "(Tuned) en s2 100 OOV rate: 4.80%\n",
      "(Tuned) en s2 1000 OOV rate: 4.80%\n",
      "(Tuned) en s2 10000 OOV rate: 4.71%\n",
      "(Tuned) en s2 100000 OOV rate: 4.33%\n",
      "(Tuned) en s2 1000000 OOV rate: 3.59%\n",
      "(Tuned) en s2 10000000 OOV rate: 2.71%\n",
      "(Tuned) en s3 10 OOV rate: 4.80%\n",
      "(Tuned) en s3 100 OOV rate: 4.80%\n",
      "(Tuned) en s3 1000 OOV rate: 4.80%\n",
      "(Tuned) en s3 10000 OOV rate: 4.73%\n",
      "(Tuned) en s3 100000 OOV rate: 4.49%\n",
      "(Tuned) en s3 1000000 OOV rate: 3.81%\n",
      "(Tuned) en s3 10000000 OOV rate: 2.93%\n"
     ]
    }
   ],
   "metadata": {}
  },
  {
   "cell_type": "markdown",
   "source": [
    "\n",
    "While the original OOV rate is 4.80\\%, augmenting the vocabulary with RNNLM's generated texts can effectively reduce this number, as shown in the below table and figure:\n",
    "\n",
    "| model\\gen size | $10^1$ | $10^2$ | $10^3$ | $10^4$ | $10^5$ | $10^6$ | $10^7$ |\n",
    "|----------------|--------|--------|--------|--------|--------|--------|--------|\n",
    "| s1_baseline    | 4.80%  | 4.80%  | 4.80%  | 4.80%  | 4.62%  | 4.21%  | 3.41%  |\n",
    "| s2_baseline    | 4.80%  | 4.80%  | 4.80%  | 4.75%  | 4.33%  | 3.61%  | 2.83%  |\n",
    "| s3_baseline    | 4.80%  | 4.80%  | 4.79%  | 4.77%  | 4.51%  | 3.94%  | 3.20%  |\n",
    "|||||||||\n",
    "| s1_optimal     | 4.80%  | 4.80%  | 4.80%  | 4.79%  | 4.64%  | 3.92%  | 2.96%  |\n",
    "| s2_optimal     | 4.80%  | 4.80%  | 4.80%  | 4.71%  | 4.33%  | 3.59%  | 2.71%  |\n",
    "| s3_optimal     | 4.80%  | 4.80%  | 4.80%  | 4.73%  | 4.49%  | 3.81%  | 2.93%  |"
   ],
   "metadata": {}
  },
  {
   "cell_type": "code",
   "execution_count": 27,
   "source": [
    "import visualisation\n",
    "importlib.reload(visualisation)\n",
    "from visualisation import plot_oov_rates\n",
    "from config import FIGURES_PATH\n",
    "\n",
    "#plot_oov_rates(oov_rates)\n",
    "plot_oov_rates(oov_rates, save_path=f'{FIGURES_PATH}/{LANG.name}/task5_oov_rates.png')"
   ],
   "outputs": [
    {
     "output_type": "display_data",
     "data": {
      "text/plain": [
       "<Figure size 576x360 with 1 Axes>"
      ],
      "image/png": "[encoded data removed]"
     },
     "metadata": {
      "needs_background": "light"
     }
    }
   ],
   "metadata": {}
  },
  {
   "cell_type": "markdown",
   "source": [
    "\n",
    "**Observations**:\n",
    "* There are almost no improvement in OOV rates if the augmenting text is small (i.e. less than or equal to $10^3$ tokens). OOV rates start decreasing from $10^4$ tokens, but the reduction is still quite small at that stage. OOV rates get lower with longer generated texts.\n",
    "* From $10^5$ to $10^7$ tokens, the OOV rates of most models go almost linearly to the log of generated text size.\n",
    "* Overall, given the same vocabulary size, the optimal models reduce the OOV rate better than the baseline models, especially when the number of generate tokens is significant (i.e. $10^6$ and $10^7$).\n",
    "* In general, `s2` gives a better OOV rate than the other 2 models. This align well with our observation from above sections, where `s2` also showed superior results in terms of MDL and perplexity. \n",
    "* For practical applications, we would prefer `s2_optimal` over its counterparts."
   ],
   "metadata": {}
  },
  {
   "cell_type": "markdown",
   "source": [
    "# 6. Analysis"
   ],
   "metadata": {}
  },
  {
   "cell_type": "markdown",
   "source": [
    "See section 6 of the Bengali notebook."
   ],
   "metadata": {}
  },
  {
   "cell_type": "markdown",
   "source": [],
   "metadata": {}
  }
 ],
 "metadata": {
  "interpreter": {
   "hash": "709e25c9509ebf51ab33454ee450f06cdb9cf989c600b578f7235622088438d7"
  },
  "kernelspec": {
   "name": "python3",
   "display_name": "Python 3.8.10 64-bit ('snlp-vKRMqmdq': pipenv)"
  },
  "language_info": {
   "name": "python",
   "version": "3.8.10",
   "mimetype": "text/x-python",
   "codemirror_mode": {
    "name": "ipython",
    "version": 3
   },
   "pygments_lexer": "ipython3",
   "nbconvert_exporter": "python",
   "file_extension": ".py"
  }
 },
 "nbformat": 4,
 "nbformat_minor": 5
}