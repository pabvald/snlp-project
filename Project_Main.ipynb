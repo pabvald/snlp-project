{
 "cells": [
  {
   "cell_type": "markdown",
   "source": [
    "# Import basic libraries and dependencies"
   ],
   "metadata": {}
  },
  {
   "cell_type": "code",
   "execution_count": 1,
   "source": [
    "import sys\n",
    "import importlib\n",
    "import sentencepiece as spm\n",
    "import config\n",
    "\n",
    "importlib.reload(config)\n",
    "sys.path.append('./modules')\n",
    "from config import English, Bengali"
   ],
   "outputs": [],
   "metadata": {}
  },
  {
   "cell_type": "markdown",
   "source": [
    "# Set a language"
   ],
   "metadata": {}
  },
  {
   "cell_type": "code",
   "execution_count": 2,
   "source": [
    "LANG = Bengali # English, Bengali"
   ],
   "outputs": [],
   "metadata": {}
  },
  {
   "cell_type": "markdown",
   "source": [
    "# 1. Data Preparation"
   ],
   "metadata": {}
  },
  {
   "cell_type": "code",
   "execution_count": 3,
   "source": [
    "# import libraries and dependencies\n",
    "import preprocessing\n",
    "importlib.reload(preprocessing)\n",
    "from preprocessing import raw_preprocess, split_train_test"
   ],
   "outputs": [],
   "metadata": {}
  },
  {
   "cell_type": "markdown",
   "source": [
    "## 1.1. Preprocess data for sentencepiece"
   ],
   "metadata": {}
  },
  {
   "cell_type": "code",
   "execution_count": 4,
   "source": [
    "# preprocess raw data to get a list of sentences.\n",
    "sentences = raw_preprocess(LANG)\n",
    "\n",
    "# write the sentences into a file, each sentence on one line.\n",
    "with open(f'data/{LANG.name}_preprocessed.txt', 'w') as f:\n",
    "    for sentence in sentences:\n",
    "        f.write(f'{sentence}\\n')"
   ],
   "outputs": [],
   "metadata": {}
  },
  {
   "cell_type": "markdown",
   "source": [
    "## 1.2. Train/test split"
   ],
   "metadata": {}
  },
  {
   "cell_type": "code",
   "execution_count": 5,
   "source": [
    "# split data to train and test.\n",
    "train, test = split_train_test(sentences, LANG)\n",
    "\n",
    "# write train and test data into corresponding files.\n",
    "train_path = f'data/{LANG.name}_train.txt'\n",
    "test_path = f'data/{LANG.name}_test.txt'\n",
    "\n",
    "with open(train_path, 'w') as f:\n",
    "    f.write('\\n'.join(train))\n",
    "with open(test_path, 'w') as f:\n",
    "    f.write('\\n'.join(test))"
   ],
   "outputs": [],
   "metadata": {}
  },
  {
   "cell_type": "markdown",
   "source": [
    "# 2. Subword segmentation"
   ],
   "metadata": {}
  },
  {
   "cell_type": "markdown",
   "source": [
    "We use a small subword vocabulary size of 500 and a large subword vocabulary size of 1500."
   ],
   "metadata": {}
  },
  {
   "cell_type": "code",
   "execution_count": 6,
   "source": [
    "# import libraries and dependencies\n",
    "import segmentation\n",
    "importlib.reload(segmentation)\n",
    "from segmentation import train_segmentation, encode_text_file, decode_text_file\n",
    "from config import seg_profiles"
   ],
   "outputs": [],
   "metadata": {}
  },
  {
   "cell_type": "code",
   "execution_count": 7,
   "source": [
    "seg_profiles[LANG.name]"
   ],
   "outputs": [
    {
     "output_type": "execute_result",
     "data": {
      "text/plain": [
       "[SegmentationConf(id='s1', vocab_size=None, model_type='char'),\n",
       " SegmentationConf(id='s2', vocab_size=800, model_type='bpe'),\n",
       " SegmentationConf(id='s3', vocab_size=1700, model_type='bpe')]"
      ]
     },
     "metadata": {},
     "execution_count": 7
    }
   ],
   "metadata": {}
  },
  {
   "cell_type": "code",
   "execution_count": 12,
   "source": [
    "for seg in seg_profiles[LANG.name]:\n",
    "    # train segmentation on the train data\n",
    "    spm1 = train_segmentation(\n",
    "        text_file=train_path, \n",
    "        LANG=LANG, \n",
    "        vocab_size=seg.vocab_size, \n",
    "        model_type=seg.model_type)\n",
    "  \n",
    "    encoded_file = f'data/{LANG.name}_{seg.id}.txt'\n",
    "    encode_text_file(text_file=train_path, model_path=spm1, output_file=encoded_file)\n",
    "    \n",
    "    decoded_file = f'data/{LANG.name}_{seg.id}_decoded.txt'\n",
    "    decode_text_file(text_file=encoded_file, model_path=spm1, output_file=decoded_file)\n",
    "    \n",
    "    # test it on the test data\n",
    "    encoded_file = f'data/{LANG.name}_{seg.id}_test.txt'\n",
    "    encode_text_file(text_file=test_path, model_path=spm1, output_file=encoded_file)\n",
    "    \n",
    "    decoded_file = f'data/{LANG.name}_{seg.id}_decoded_test.txt'\n",
    "    decode_text_file(text_file=encoded_file, model_path=spm1, output_file=decoded_file)"
   ],
   "outputs": [
    {
     "output_type": "stream",
     "name": "stderr",
     "text": [
      "sentencepiece_trainer.cc(77) LOG(INFO) Starts training with : \n",
      "trainer_spec {\n",
      "  input: data/bn_train.txt\n",
      "  input_format: \n",
      "  model_prefix: ./seg_models/spm_bn_char\n",
      "  model_type: CHAR\n",
      "  vocab_size: 8000\n",
      "  self_test_sample_size: 0\n",
      "  character_coverage: 0.995\n",
      "  input_sentence_size: 0\n",
      "  shuffle_input_sentence: 1\n",
      "  seed_sentencepiece_size: 1000000\n",
      "  shrinking_factor: 0.75\n",
      "  max_sentence_length: 4192\n",
      "  num_threads: 16\n",
      "  num_sub_iterations: 2\n",
      "  max_sentencepiece_length: 16\n",
      "  split_by_unicode_script: 1\n",
      "  split_by_number: 1\n",
      "  split_by_whitespace: 1\n",
      "  split_digits: 0\n",
      "  treat_whitespace_as_suffix: 0\n",
      "  allow_whitespace_only_pieces: 0\n",
      "  required_chars: \n",
      "  byte_fallback: 0\n",
      "  vocabulary_output_piece_score: 1\n",
      "  train_extremely_large_corpus: 0\n",
      "  hard_vocab_limit: 1\n",
      "  use_all_vocab: 0\n",
      "  unk_id: 0\n",
      "  bos_id: 1\n",
      "  eos_id: 2\n",
      "  pad_id: -1\n",
      "  unk_piece: <unk>\n",
      "  bos_piece: <s>\n",
      "  eos_piece: </s>\n",
      "  pad_piece: <pad>\n",
      "  unk_surface:  ⁇ \n",
      "}\n",
      "normalizer_spec {\n",
      "  name: nmt_nfkc\n",
      "  add_dummy_prefix: 1\n",
      "  remove_extra_whitespaces: 1\n",
      "  escape_whitespaces: 1\n",
      "  normalization_rule_tsv: \n",
      "}\n",
      "denormalizer_spec {}\n",
      "trainer_interface.cc(329) LOG(INFO) SentenceIterator is not specified. Using MultiFileSentenceIterator.\n",
      "trainer_interface.cc(178) LOG(INFO) Loading corpus: data/bn_train.txt\n",
      "trainer_interface.cc(356) LOG(WARNING) Found too long line (5238 > 4192).\n",
      "trainer_interface.cc(358) LOG(WARNING) Too long lines are skipped in the training.\n",
      "trainer_interface.cc(359) LOG(WARNING) The maximum length can be changed with --max_sentence_length=<size> flag.\n",
      "trainer_interface.cc(385) LOG(INFO) Loaded all 9368 sentences\n",
      "trainer_interface.cc(391) LOG(INFO) Skipped 5 too long sentences.\n",
      "trainer_interface.cc(400) LOG(INFO) Adding meta_piece: <unk>\n",
      "trainer_interface.cc(400) LOG(INFO) Adding meta_piece: <s>\n",
      "trainer_interface.cc(400) LOG(INFO) Adding meta_piece: </s>\n",
      "trainer_interface.cc(405) LOG(INFO) Normalizing sentences...\n",
      "trainer_interface.cc(466) LOG(INFO) all chars count=1095226\n",
      "trainer_interface.cc(477) LOG(INFO) Done: 99.55% characters are covered.\n",
      "trainer_interface.cc(487) LOG(INFO) Alphabet size=52\n",
      "trainer_interface.cc(488) LOG(INFO) Final character coverage=0.9955\n",
      "trainer_interface.cc(520) LOG(INFO) Done! preprocessed 9368 sentences.\n",
      "trainer_interface.cc(615) LOG(INFO) Saving model: ./seg_models/spm_bn_char.model\n",
      "trainer_interface.cc(626) LOG(INFO) Saving vocabs: ./seg_models/spm_bn_char.vocab\n",
      "sentencepiece_trainer.cc(77) LOG(INFO) Starts training with : \n",
      "trainer_spec {\n",
      "  input: data/bn_train.txt\n",
      "  input_format: \n",
      "  model_prefix: ./seg_models/spm_bn_bpe_vocabsize-800\n",
      "  model_type: BPE\n",
      "  vocab_size: 800\n",
      "  self_test_sample_size: 0\n",
      "  character_coverage: 0.995\n",
      "  input_sentence_size: 0\n",
      "  shuffle_input_sentence: 1\n",
      "  seed_sentencepiece_size: 1000000\n",
      "  shrinking_factor: 0.75\n",
      "  max_sentence_length: 4192\n",
      "  num_threads: 16\n",
      "  num_sub_iterations: 2\n",
      "  max_sentencepiece_length: 16\n",
      "  split_by_unicode_script: 1\n",
      "  split_by_number: 1\n",
      "  split_by_whitespace: 1\n",
      "  split_digits: 0\n",
      "  treat_whitespace_as_suffix: 0\n",
      "  allow_whitespace_only_pieces: 0\n",
      "  required_chars: \n",
      "  byte_fallback: 0\n",
      "  vocabulary_output_piece_score: 1\n",
      "  train_extremely_large_corpus: 0\n",
      "  hard_vocab_limit: 1\n",
      "  use_all_vocab: 0\n",
      "  unk_id: 0\n",
      "  bos_id: 1\n",
      "  eos_id: 2\n",
      "  pad_id: -1\n",
      "  unk_piece: <unk>\n",
      "  bos_piece: <s>\n",
      "  eos_piece: </s>\n",
      "  pad_piece: <pad>\n",
      "  unk_surface:  ⁇ \n",
      "}\n",
      "normalizer_spec {\n",
      "  name: nmt_nfkc\n",
      "  add_dummy_prefix: 1\n",
      "  remove_extra_whitespaces: 1\n",
      "  escape_whitespaces: 1\n",
      "  normalization_rule_tsv: \n",
      "}\n",
      "denormalizer_spec {}\n",
      "trainer_interface.cc(329) LOG(INFO) SentenceIterator is not specified. Using MultiFileSentenceIterator.\n",
      "trainer_interface.cc(178) LOG(INFO) Loading corpus: data/bn_train.txt\n",
      "trainer_interface.cc(356) LOG(WARNING) Found too long line (5238 > 4192).\n",
      "trainer_interface.cc(358) LOG(WARNING) Too long lines are skipped in the training.\n",
      "trainer_interface.cc(359) LOG(WARNING) The maximum length can be changed with --max_sentence_length=<size> flag.\n",
      "trainer_interface.cc(385) LOG(INFO) Loaded all 9368 sentences\n",
      "trainer_interface.cc(391) LOG(INFO) Skipped 5 too long sentences.\n",
      "trainer_interface.cc(400) LOG(INFO) Adding meta_piece: <unk>\n",
      "trainer_interface.cc(400) LOG(INFO) Adding meta_piece: <s>\n",
      "trainer_interface.cc(400) LOG(INFO) Adding meta_piece: </s>\n",
      "trainer_interface.cc(405) LOG(INFO) Normalizing sentences...\n",
      "trainer_interface.cc(466) LOG(INFO) all chars count=1095226\n",
      "trainer_interface.cc(477) LOG(INFO) Done: 99.55% characters are covered.\n",
      "trainer_interface.cc(487) LOG(INFO) Alphabet size=52\n",
      "trainer_interface.cc(488) LOG(INFO) Final character coverage=0.9955\n",
      "trainer_interface.cc(520) LOG(INFO) Done! preprocessed 9368 sentences.\n",
      "trainer_interface.cc(526) LOG(INFO) Tokenizing input sentences with whitespace: 9368\n",
      "trainer_interface.cc(537) LOG(INFO) Done! 37989\n",
      "bpe_model_trainer.cc(167) LOG(INFO) Updating active symbols. max_freq=22983 min_freq=16\n",
      "bpe_model_trainer.cc(258) LOG(INFO) Added: freq=5746 size=20 all=2642 active=1957 piece=ন্\n",
      "bpe_model_trainer.cc(258) LOG(INFO) Added: freq=3466 size=40 all=3845 active=3160 piece=▁কি\n",
      "bpe_model_trainer.cc(258) LOG(INFO) Added: freq=2356 size=60 all=5015 active=4330 piece=িক\n",
      "bpe_model_trainer.cc(258) LOG(INFO) Added: freq=1797 size=80 all=6194 active=5509 piece=▁কা\n",
      "bpe_model_trainer.cc(258) LOG(INFO) Added: freq=1318 size=100 all=7631 active=6946 piece=ুই\n",
      "bpe_model_trainer.cc(167) LOG(INFO) Updating active symbols. max_freq=1309 min_freq=100\n",
      "bpe_model_trainer.cc(258) LOG(INFO) Added: freq=1114 size=120 all=9006 active=2302 piece=▁বে\n",
      "bpe_model_trainer.cc(258) LOG(INFO) Added: freq=942 size=140 all=9868 active=3164 piece=▁মানুষ\n",
      "bpe_model_trainer.cc(258) LOG(INFO) Added: freq=865 size=160 all=11093 active=4389 piece=লাম\n",
      "bpe_model_trainer.cc(258) LOG(INFO) Added: freq=760 size=180 all=11855 active=5151 piece=▁সম\n",
      "bpe_model_trainer.cc(258) LOG(INFO) Added: freq=691 size=200 all=12837 active=6133 piece=▁।\n",
      "bpe_model_trainer.cc(167) LOG(INFO) Updating active symbols. max_freq=685 min_freq=92\n",
      "bpe_model_trainer.cc(258) LOG(INFO) Added: freq=627 size=220 all=13415 active=1579 piece=▁বু\n",
      "bpe_model_trainer.cc(258) LOG(INFO) Added: freq=575 size=240 all=14092 active=2256 piece=▁ঘ\n",
      "bpe_model_trainer.cc(258) LOG(INFO) Added: freq=507 size=260 all=15227 active=3391 piece=▁মাদার\n",
      "bpe_model_trainer.cc(258) LOG(INFO) Added: freq=458 size=280 all=16021 active=4185 piece=▁মাগি\n",
      "bpe_model_trainer.cc(258) LOG(INFO) Added: freq=433 size=300 all=16761 active=4925 piece=▁পারে\n",
      "bpe_model_trainer.cc(167) LOG(INFO) Updating active symbols. max_freq=429 min_freq=79\n",
      "bpe_model_trainer.cc(258) LOG(INFO) Added: freq=388 size=320 all=17474 active=1691 piece=খে\n",
      "bpe_model_trainer.cc(258) LOG(INFO) Added: freq=361 size=340 all=18239 active=2456 piece=▁ভন্ড\n",
      "bpe_model_trainer.cc(258) LOG(INFO) Added: freq=341 size=360 all=18890 active=3107 piece=ক্ত\n",
      "bpe_model_trainer.cc(258) LOG(INFO) Added: freq=320 size=380 all=19442 active=3659 piece=কম\n",
      "bpe_model_trainer.cc(258) LOG(INFO) Added: freq=303 size=400 all=20213 active=4430 piece=▁মতো\n",
      "bpe_model_trainer.cc(167) LOG(INFO) Updating active symbols. max_freq=303 min_freq=69\n",
      "bpe_model_trainer.cc(258) LOG(INFO) Added: freq=283 size=420 all=20798 active=1589 piece=ড়ে\n",
      "bpe_model_trainer.cc(258) LOG(INFO) Added: freq=269 size=440 all=21545 active=2336 piece=▁গেছে\n",
      "bpe_model_trainer.cc(258) LOG(INFO) Added: freq=254 size=460 all=22341 active=3132 piece=▁হয়েছে\n",
      "bpe_model_trainer.cc(258) LOG(INFO) Added: freq=241 size=480 all=22958 active=3749 piece=▁অপরাধ\n",
      "bpe_model_trainer.cc(258) LOG(INFO) Added: freq=226 size=500 all=23514 active=4305 piece=▁ডিসি\n",
      "bpe_model_trainer.cc(167) LOG(INFO) Updating active symbols. max_freq=225 min_freq=53\n",
      "bpe_model_trainer.cc(258) LOG(INFO) Added: freq=211 size=520 all=23996 active=1643 piece=▁চি\n",
      "bpe_model_trainer.cc(258) LOG(INFO) Added: freq=203 size=540 all=24552 active=2199 piece=▁বেশি\n",
      "bpe_model_trainer.cc(258) LOG(INFO) Added: freq=192 size=560 all=24851 active=2498 piece=,,,\n",
      "bpe_model_trainer.cc(258) LOG(INFO) Added: freq=184 size=580 all=25439 active=3086 piece=নো\n",
      "bpe_model_trainer.cc(258) LOG(INFO) Added: freq=178 size=600 all=25871 active=3518 piece=▁বালের\n",
      "bpe_model_trainer.cc(167) LOG(INFO) Updating active symbols. max_freq=177 min_freq=44\n",
      "bpe_model_trainer.cc(258) LOG(INFO) Added: freq=170 size=620 all=26277 active=1698 piece=▁তোমার\n",
      "bpe_model_trainer.cc(258) LOG(INFO) Added: freq=162 size=640 all=26747 active=2168 piece=লিশ\n",
      "bpe_model_trainer.cc(258) LOG(INFO) Added: freq=157 size=660 all=27356 active=2777 piece=▁জন্\n",
      "bpe_model_trainer.cc(258) LOG(INFO) Added: freq=151 size=680 all=27891 active=3312 piece=▁শাস্তি\n",
      "bpe_model_trainer.cc(258) LOG(INFO) Added: freq=144 size=700 all=28213 active=3634 piece=▁সন্তান\n",
      "bpe_model_trainer.cc(167) LOG(INFO) Updating active symbols. max_freq=143 min_freq=37\n",
      "bpe_model_trainer.cc(258) LOG(INFO) Added: freq=139 size=720 all=28653 active=1831 piece=▁চুদা\n",
      "bpe_model_trainer.cc(258) LOG(INFO) Added: freq=133 size=740 all=29127 active=2305 piece=▁তোরা\n",
      "trainer_interface.cc(615) LOG(INFO) Saving model: ./seg_models/spm_bn_bpe_vocabsize-800.model\n",
      "trainer_interface.cc(626) LOG(INFO) Saving vocabs: ./seg_models/spm_bn_bpe_vocabsize-800.vocab\n",
      "sentencepiece_trainer.cc(77) LOG(INFO) Starts training with : \n",
      "trainer_spec {\n",
      "  input: data/bn_train.txt\n",
      "  input_format: \n",
      "  model_prefix: ./seg_models/spm_bn_bpe_vocabsize-1700\n",
      "  model_type: BPE\n",
      "  vocab_size: 1700\n",
      "  self_test_sample_size: 0\n",
      "  character_coverage: 0.995\n",
      "  input_sentence_size: 0\n",
      "  shuffle_input_sentence: 1\n",
      "  seed_sentencepiece_size: 1000000\n",
      "  shrinking_factor: 0.75\n",
      "  max_sentence_length: 4192\n",
      "  num_threads: 16\n",
      "  num_sub_iterations: 2\n",
      "  max_sentencepiece_length: 16\n",
      "  split_by_unicode_script: 1\n",
      "  split_by_number: 1\n",
      "  split_by_whitespace: 1\n",
      "  split_digits: 0\n",
      "  treat_whitespace_as_suffix: 0\n",
      "  allow_whitespace_only_pieces: 0\n",
      "  required_chars: \n",
      "  byte_fallback: 0\n",
      "  vocabulary_output_piece_score: 1\n",
      "  train_extremely_large_corpus: 0\n",
      "  hard_vocab_limit: 1\n",
      "  use_all_vocab: 0\n",
      "  unk_id: 0\n",
      "  bos_id: 1\n",
      "  eos_id: 2\n",
      "  pad_id: -1\n",
      "  unk_piece: <unk>\n",
      "  bos_piece: <s>\n",
      "  eos_piece: </s>\n",
      "  pad_piece: <pad>\n",
      "  unk_surface:  ⁇ \n",
      "}\n",
      "normalizer_spec {\n",
      "  name: nmt_nfkc\n",
      "  add_dummy_prefix: 1\n",
      "  remove_extra_whitespaces: 1\n",
      "  escape_whitespaces: 1\n",
      "  normalization_rule_tsv: \n",
      "}\n",
      "denormalizer_spec {}\n",
      "trainer_interface.cc(329) LOG(INFO) SentenceIterator is not specified. Using MultiFileSentenceIterator.\n",
      "trainer_interface.cc(178) LOG(INFO) Loading corpus: data/bn_train.txt\n",
      "trainer_interface.cc(356) LOG(WARNING) Found too long line (5238 > 4192).\n",
      "trainer_interface.cc(358) LOG(WARNING) Too long lines are skipped in the training.\n",
      "trainer_interface.cc(359) LOG(WARNING) The maximum length can be changed with --max_sentence_length=<size> flag.\n",
      "trainer_interface.cc(385) LOG(INFO) Loaded all 9368 sentences\n",
      "trainer_interface.cc(391) LOG(INFO) Skipped 5 too long sentences.\n",
      "trainer_interface.cc(400) LOG(INFO) Adding meta_piece: <unk>\n",
      "trainer_interface.cc(400) LOG(INFO) Adding meta_piece: <s>\n",
      "trainer_interface.cc(400) LOG(INFO) Adding meta_piece: </s>\n",
      "trainer_interface.cc(405) LOG(INFO) Normalizing sentences...\n",
      "trainer_interface.cc(466) LOG(INFO) all chars count=1095226\n",
      "trainer_interface.cc(477) LOG(INFO) Done: 99.55% characters are covered.\n",
      "trainer_interface.cc(487) LOG(INFO) Alphabet size=52\n",
      "trainer_interface.cc(488) LOG(INFO) Final character coverage=0.9955\n",
      "trainer_interface.cc(520) LOG(INFO) Done! preprocessed 9368 sentences.\n",
      "trainer_interface.cc(526) LOG(INFO) Tokenizing input sentences with whitespace: 9368\n",
      "trainer_interface.cc(537) LOG(INFO) Done! 37989\n",
      "bpe_model_trainer.cc(167) LOG(INFO) Updating active symbols. max_freq=22983 min_freq=16\n",
      "bpe_model_trainer.cc(258) LOG(INFO) Added: freq=5746 size=20 all=2642 active=1957 piece=ন্\n",
      "bpe_model_trainer.cc(258) LOG(INFO) Added: freq=3466 size=40 all=3845 active=3160 piece=▁কি\n",
      "bpe_model_trainer.cc(258) LOG(INFO) Added: freq=2356 size=60 all=5015 active=4330 piece=িক\n",
      "bpe_model_trainer.cc(258) LOG(INFO) Added: freq=1797 size=80 all=6194 active=5509 piece=▁কা\n",
      "bpe_model_trainer.cc(258) LOG(INFO) Added: freq=1318 size=100 all=7631 active=6946 piece=ুই\n",
      "bpe_model_trainer.cc(167) LOG(INFO) Updating active symbols. max_freq=1309 min_freq=100\n",
      "bpe_model_trainer.cc(258) LOG(INFO) Added: freq=1114 size=120 all=9006 active=2302 piece=▁বে\n",
      "bpe_model_trainer.cc(258) LOG(INFO) Added: freq=942 size=140 all=9868 active=3164 piece=▁মানুষ\n",
      "bpe_model_trainer.cc(258) LOG(INFO) Added: freq=865 size=160 all=11093 active=4389 piece=লাম\n",
      "bpe_model_trainer.cc(258) LOG(INFO) Added: freq=760 size=180 all=11855 active=5151 piece=▁সম\n",
      "bpe_model_trainer.cc(258) LOG(INFO) Added: freq=691 size=200 all=12837 active=6133 piece=▁।\n",
      "bpe_model_trainer.cc(167) LOG(INFO) Updating active symbols. max_freq=685 min_freq=92\n",
      "bpe_model_trainer.cc(258) LOG(INFO) Added: freq=627 size=220 all=13415 active=1579 piece=▁বু\n",
      "bpe_model_trainer.cc(258) LOG(INFO) Added: freq=575 size=240 all=14092 active=2256 piece=▁ঘ\n",
      "bpe_model_trainer.cc(258) LOG(INFO) Added: freq=507 size=260 all=15227 active=3391 piece=▁মাদার\n",
      "bpe_model_trainer.cc(258) LOG(INFO) Added: freq=458 size=280 all=16021 active=4185 piece=▁মাগি\n",
      "bpe_model_trainer.cc(258) LOG(INFO) Added: freq=433 size=300 all=16761 active=4925 piece=▁পারে\n",
      "bpe_model_trainer.cc(167) LOG(INFO) Updating active symbols. max_freq=429 min_freq=79\n",
      "bpe_model_trainer.cc(258) LOG(INFO) Added: freq=388 size=320 all=17474 active=1691 piece=খে\n",
      "bpe_model_trainer.cc(258) LOG(INFO) Added: freq=361 size=340 all=18239 active=2456 piece=▁ভন্ড\n",
      "bpe_model_trainer.cc(258) LOG(INFO) Added: freq=341 size=360 all=18890 active=3107 piece=ক্ত\n",
      "bpe_model_trainer.cc(258) LOG(INFO) Added: freq=320 size=380 all=19442 active=3659 piece=কম\n",
      "bpe_model_trainer.cc(258) LOG(INFO) Added: freq=303 size=400 all=20213 active=4430 piece=▁মতো\n",
      "bpe_model_trainer.cc(167) LOG(INFO) Updating active symbols. max_freq=303 min_freq=69\n",
      "bpe_model_trainer.cc(258) LOG(INFO) Added: freq=283 size=420 all=20798 active=1589 piece=ড়ে\n",
      "bpe_model_trainer.cc(258) LOG(INFO) Added: freq=269 size=440 all=21545 active=2336 piece=▁গেছে\n",
      "bpe_model_trainer.cc(258) LOG(INFO) Added: freq=254 size=460 all=22341 active=3132 piece=▁হয়েছে\n",
      "bpe_model_trainer.cc(258) LOG(INFO) Added: freq=241 size=480 all=22958 active=3749 piece=▁অপরাধ\n",
      "bpe_model_trainer.cc(258) LOG(INFO) Added: freq=226 size=500 all=23514 active=4305 piece=▁ডিসি\n",
      "bpe_model_trainer.cc(167) LOG(INFO) Updating active symbols. max_freq=225 min_freq=53\n",
      "bpe_model_trainer.cc(258) LOG(INFO) Added: freq=211 size=520 all=23996 active=1643 piece=▁চি\n",
      "bpe_model_trainer.cc(258) LOG(INFO) Added: freq=203 size=540 all=24552 active=2199 piece=▁বেশি\n",
      "bpe_model_trainer.cc(258) LOG(INFO) Added: freq=192 size=560 all=24851 active=2498 piece=,,,\n",
      "bpe_model_trainer.cc(258) LOG(INFO) Added: freq=184 size=580 all=25439 active=3086 piece=নো\n",
      "bpe_model_trainer.cc(258) LOG(INFO) Added: freq=178 size=600 all=25871 active=3518 piece=▁বালের\n",
      "bpe_model_trainer.cc(167) LOG(INFO) Updating active symbols. max_freq=177 min_freq=44\n",
      "bpe_model_trainer.cc(258) LOG(INFO) Added: freq=170 size=620 all=26277 active=1698 piece=▁তোমার\n",
      "bpe_model_trainer.cc(258) LOG(INFO) Added: freq=162 size=640 all=26747 active=2168 piece=লিশ\n",
      "bpe_model_trainer.cc(258) LOG(INFO) Added: freq=157 size=660 all=27356 active=2777 piece=▁জন্\n",
      "bpe_model_trainer.cc(258) LOG(INFO) Added: freq=151 size=680 all=27891 active=3312 piece=▁শাস্তি\n",
      "bpe_model_trainer.cc(258) LOG(INFO) Added: freq=144 size=700 all=28213 active=3634 piece=▁সন্তান\n",
      "bpe_model_trainer.cc(167) LOG(INFO) Updating active symbols. max_freq=143 min_freq=37\n",
      "bpe_model_trainer.cc(258) LOG(INFO) Added: freq=139 size=720 all=28653 active=1831 piece=▁চুদা\n",
      "bpe_model_trainer.cc(258) LOG(INFO) Added: freq=133 size=740 all=29127 active=2305 piece=▁তোরা\n",
      "bpe_model_trainer.cc(258) LOG(INFO) Added: freq=129 size=760 all=29554 active=2732 piece=▁মধ্যে\n",
      "bpe_model_trainer.cc(258) LOG(INFO) Added: freq=124 size=780 all=29982"
     ]
    }
   ],
   "metadata": {}
  },
  {
   "cell_type": "markdown",
   "source": [
    "# 3. Language Model"
   ],
   "metadata": {}
  },
  {
   "cell_type": "markdown",
   "source": [
    "## Baseline"
   ],
   "metadata": {
    "tags": []
   }
  },
  {
   "cell_type": "code",
   "execution_count": 13,
   "source": [
    "from config import baseline_conf\n",
    "baseline_conf"
   ],
   "outputs": [
    {
     "output_type": "execute_result",
     "data": {
      "text/plain": [
       "TrainingConf(hidden=40, rand_seed=1, debug=2, bptt=4, n_class=9999)"
      ]
     },
     "metadata": {},
     "execution_count": 13
    }
   ],
   "metadata": {}
  },
  {
   "cell_type": "code",
   "execution_count": 14,
   "source": [
    "for seg in seg_profiles[LANG.name]:\n",
    "    # Hyper parameters\n",
    "    hidden = baseline_conf.hidden\n",
    "    rand_seed = baseline_conf.rand_seed\n",
    "    debug = baseline_conf.debug\n",
    "    bptt = baseline_conf.bptt\n",
    "    n_class = baseline_conf.n_class\n",
    "\n",
    "    # Parameters\n",
    "    model_path = f'models/rnnlm/{LANG.name}_{seg.id}_baseline'\n",
    "    train_path = f'../../../data/{LANG.name}_{seg.id}.txt'\n",
    "    valid_path = f'../../../data/{LANG.name}_{seg.id}_test.txt'\n",
    "\n",
    "    # run the model \n",
    "    !rm -rf $model_path \\\n",
    "      && mkdir $model_path \\\n",
    "      && cd $model_path \\\n",
    "      && ../../../rnnlm-0.3e/rnnlm \\\n",
    "        -train $train_path \\\n",
    "        -valid $valid_path \\\n",
    "        -rnnlm model \\\n",
    "        -hidden $hidden \\\n",
    "        -rand-seed $rand_seed \\\n",
    "        -debug $debug \\\n",
    "        -bptt $bptt \\\n",
    "        -class $n_class\n",
    "    \n",
    "    # read output and print perplexity\n",
    "    with open(f'{model_path}/model.output.txt', 'r') as f:\n",
    "        output = f.read()\n",
    "        pp = output.split()[-1]\n",
    "        print(f'Baseline {LANG.name}-{seg.id} validation perplexity: {pp}')"
   ],
   "outputs": [
    {
     "output_type": "stream",
     "name": "stdout",
     "text": [
      "debug mode: 2\n",
      "train file: ../../../data/bn_s1.txt\n",
      "valid file: ../../../data/bn_s1_test.txt\n",
      "class size: 9999\n",
      "Hidden layer size: 40\n",
      "BPTT: 4\n",
      "Rand seed: 1\n",
      "rnnlm file: model\n",
      "Starting training using file ../../../data/bn_s1.txt\n",
      "Vocab size: 306\n",
      "Words in train file: 1113598\n",
      "WARNING: number of classes exceeds vocabulary size!\n",
      "Iter:   0\tAlpha: 0.100000\t   TRAIN entropy: 3.2145    Progress: 84.41%   Words/sec: 1057.1 ^C\n"
     ]
    },
    {
     "output_type": "error",
     "ename": "FileNotFoundError",
     "evalue": "[Errno 2] No such file or directory: 'models/rnnlm/bn_s1_baseline/model.output.txt'",
     "traceback": [
      "\u001b[0;31m---------------------------------------------------------------------------\u001b[0m",
      "\u001b[0;31mFileNotFoundError\u001b[0m                         Traceback (most recent call last)",
      "\u001b[0;32m/tmp/ipykernel_4953/912807039.py\u001b[0m in \u001b[0;36m<module>\u001b[0;34m\u001b[0m\n\u001b[1;32m     16\u001b[0m \u001b[0;34m\u001b[0m\u001b[0m\n\u001b[1;32m     17\u001b[0m     \u001b[0;31m# read output and print perplexity\u001b[0m\u001b[0;34m\u001b[0m\u001b[0;34m\u001b[0m\u001b[0;34m\u001b[0m\u001b[0m\n\u001b[0;32m---> 18\u001b[0;31m     \u001b[0;32mwith\u001b[0m \u001b[0mopen\u001b[0m\u001b[0;34m(\u001b[0m\u001b[0;34mf'{model_path}/model.output.txt'\u001b[0m\u001b[0;34m,\u001b[0m \u001b[0;34m'r'\u001b[0m\u001b[0;34m)\u001b[0m \u001b[0;32mas\u001b[0m \u001b[0mf\u001b[0m\u001b[0;34m:\u001b[0m\u001b[0;34m\u001b[0m\u001b[0;34m\u001b[0m\u001b[0m\n\u001b[0m\u001b[1;32m     19\u001b[0m         \u001b[0moutput\u001b[0m \u001b[0;34m=\u001b[0m \u001b[0mf\u001b[0m\u001b[0;34m.\u001b[0m\u001b[0mread\u001b[0m\u001b[0;34m(\u001b[0m\u001b[0;34m)\u001b[0m\u001b[0;34m\u001b[0m\u001b[0;34m\u001b[0m\u001b[0m\n\u001b[1;32m     20\u001b[0m         \u001b[0mpp\u001b[0m \u001b[0;34m=\u001b[0m \u001b[0moutput\u001b[0m\u001b[0;34m.\u001b[0m\u001b[0msplit\u001b[0m\u001b[0;34m(\u001b[0m\u001b[0;34m)\u001b[0m\u001b[0;34m[\u001b[0m\u001b[0;34m-\u001b[0m\u001b[0;36m1\u001b[0m\u001b[0;34m]\u001b[0m\u001b[0;34m\u001b[0m\u001b[0;34m\u001b[0m\u001b[0m\n",
      "\u001b[0;31mFileNotFoundError\u001b[0m: [Errno 2] No such file or directory: 'models/rnnlm/bn_s1_baseline/model.output.txt'"
     ]
    }
   ],
   "metadata": {
    "scrolled": true,
    "tags": []
   }
  },
  {
   "cell_type": "markdown",
   "source": [
    "## Experiments"
   ],
   "metadata": {}
  },
  {
   "cell_type": "code",
   "execution_count": 3,
   "source": [
    "import pickle\n",
    "import itertools"
   ],
   "outputs": [],
   "metadata": {}
  },
  {
   "cell_type": "code",
   "execution_count": 6,
   "source": [
    "# experimented results are kept in a file\n",
    "grid_result_file = f'experiments/{LANG.name}_task3_grid_search.pickle'\n",
    "# grid_results stores the results in memory\n",
    "grid_results = {}\n",
    "\n",
    "# import previous results if exists\n",
    "try:\n",
    "    with open(grid_result_file, 'rb') as f:\n",
    "        previous_results = pickle.load(f)\n",
    "        grid_results.update(previous_results)\n",
    "except:\n",
    "    pass #TODO: add exceptions etc.\n",
    "\n",
    "print(grid_results[0:5])"
   ],
   "outputs": [
    {
     "output_type": "stream",
     "name": "stdout",
     "text": [
      "{('en', 's1', 5, 0, 10): 10.887227, ('en', 's1', 5, 0, 100): 10.645946, ('en', 's1', 5, 0, 1501): 10.482386, ('en', 's1', 5, 1, 10): 10.605196, ('en', 's1', 5, 1, 100): 10.271953, ('en', 's1', 5, 1, 1501): 10.261143, ('en', 's1', 5, 3, 10): 10.650879, ('en', 's1', 5, 3, 100): 10.273488, ('en', 's1', 5, 3, 1501): 10.1756, ('en', 's1', 5, 5, 10): 10.650509, ('en', 's1', 5, 5, 100): 10.275037, ('en', 's1', 5, 5, 1501): 10.170872, ('en', 's1', 20, 0, 10): 7.372125, ('en', 's1', 20, 0, 100): 6.910608, ('en', 's1', 20, 0, 1501): 7.039472, ('en', 's1', 20, 1, 10): 6.759173, ('en', 's1', 20, 1, 100): 6.477795, ('en', 's1', 20, 1, 1501): 6.552387, ('en', 's1', 20, 3, 10): 6.617757, ('en', 's1', 20, 3, 100): 6.550642, ('en', 's1', 20, 3, 1501): 6.441925, ('en', 's1', 20, 5, 10): 6.675042, ('en', 's1', 20, 5, 100): 6.571401, ('en', 's1', 20, 5, 1501): 6.611228, ('en', 's1', 40, 0, 10): 6.051518, ('en', 's1', 40, 0, 100): 5.971961, ('en', 's1', 40, 0, 1501): 5.99838, ('en', 's1', 40, 1, 10): 5.437759, ('en', 's1', 40, 1, 100): 5.316452, ('en', 's1', 40, 1, 1501): 5.325766, ('en', 's1', 40, 3, 10): 5.407829, ('en', 's1', 40, 3, 100): 5.300316, ('en', 's1', 40, 3, 1501): 5.358696, ('en', 's1', 40, 5, 10): 5.450305, ('en', 's1', 40, 5, 100): 5.26304, ('en', 's1', 40, 5, 1501): 5.314311, ('en', 's1', 70, 0, 10): 5.305246, ('en', 's1', 70, 0, 100): 5.192741, ('en', 's1', 70, 0, 1501): 5.206954, ('en', 's1', 70, 1, 10): 4.716855, ('en', 's1', 70, 1, 100): 4.592401, ('en', 's1', 70, 1, 1501): 4.615947, ('en', 's1', 70, 3, 10): 4.694345, ('en', 's1', 70, 3, 100): 4.618809, ('en', 's1', 70, 3, 1501): 4.580358, ('en', 's1', 70, 5, 10): 4.756707, ('en', 's1', 70, 5, 100): 4.612161, ('en', 's1', 70, 5, 1501): 4.571423, ('en', 's1', 100, 0, 10): 5.00432, ('en', 's1', 100, 0, 100): 4.906095, ('en', 's1', 100, 0, 1501): 4.747253, ('en', 's1', 100, 1, 10): 4.424928, ('en', 's1', 100, 1, 100): 4.269873, ('en', 's1', 100, 1, 1501): 4.25408, ('en', 's1', 100, 3, 10): 4.416273, ('en', 's1', 100, 3, 100): 4.313073, ('en', 's1', 100, 3, 1501): 4.253318, ('en', 's1', 100, 5, 10): 4.38419, ('en', 's1', 100, 5, 100): 4.268893, ('en', 's1', 100, 5, 1501): 4.306499, ('en', 's2', 5, 0, 10): 79.917113, ('en', 's2', 5, 0, 100): 91.003108, ('en', 's2', 5, 0, 1501): 76.94798, ('en', 's2', 5, 1, 10): 81.820482, ('en', 's2', 5, 1, 100): 89.977811, ('en', 's2', 5, 1, 1501): 76.729335, ('en', 's2', 5, 3, 10): 81.852043, ('en', 's2', 5, 3, 100): 90.061156, ('en', 's2', 5, 3, 1501): 78.192649, ('en', 's2', 5, 5, 10): 81.062396, ('en', 's2', 5, 5, 100): 90.06735, ('en', 's2', 5, 5, 1501): 78.185581, ('en', 's2', 20, 0, 10): 45.955262, ('en', 's2', 20, 0, 100): 48.136868, ('en', 's2', 20, 0, 1501): 41.553778, ('en', 's2', 20, 1, 10): 43.400182, ('en', 's2', 20, 1, 100): 46.621071, ('en', 's2', 20, 1, 1501): 39.809213, ('en', 's2', 20, 3, 10): 43.379997, ('en', 's2', 20, 3, 100): 46.926589, ('en', 's2', 20, 3, 1501): 40.009833, ('en', 's2', 20, 5, 10): 43.661502, ('en', 's2', 20, 5, 100): 46.680885, ('en', 's2', 20, 5, 1501): 39.995691, ('en', 's2', 40, 0, 10): 39.261794, ('en', 's2', 40, 0, 100): 41.81998, ('en', 's2', 40, 0, 1501): 35.676485, ('en', 's2', 40, 1, 10): 37.889069, ('en', 's2', 40, 1, 100): 39.46187, ('en', 's2', 40, 1, 1501): 34.018567, ('en', 's2', 40, 3, 10): 38.041814, ('en', 's2', 40, 3, 100): 39.391447, ('en', 's2', 40, 3, 1501): 33.666623, ('en', 's2', 40, 5, 10): 38.163084, ('en', 's2', 40, 5, 100): 39.34923, ('en', 's2', 40, 5, 1501): 33.926588, ('en', 's2', 70, 0, 10): 37.479954, ('en', 's2', 70, 0, 100): 38.349149, ('en', 's2', 70, 0, 1501): 34.186575, ('en', 's2', 70, 1, 10): 37.086731, ('en', 's2', 70, 1, 100): 36.532976, ('en', 's2', 70, 1, 1501): 31.983317, ('en', 's2', 70, 3, 10): 36.082172, ('en', 's2', 70, 3, 100): 36.814332, ('en', 's2', 70, 3, 1501): 32.01026, ('en', 's2', 70, 5, 10): 36.1004, ('en', 's2', 70, 5, 100): 37.142751, ('en', 's2', 70, 5, 1501): 31.948504, ('en', 's2', 100, 0, 10): 37.132552, ('en', 's2', 100, 0, 100): 37.63228, ('en', 's2', 100, 0, 1501): 34.24341, ('en', 's2', 100, 1, 10): 35.457378, ('en', 's2', 100, 1, 100): 36.476024, ('en', 's2', 100, 1, 1501): 32.254808, ('en', 's2', 100, 3, 10): 35.248742, ('en', 's2', 100, 3, 100): 36.105768, ('en', 's2', 100, 3, 1501): 31.724294, ('en', 's2', 100, 5, 10): 35.378668, ('en', 's2', 100, 5, 100): 36.213214, ('en', 's2', 100, 5, 1501): 32.134818, ('en', 's3', 5, 0, 10): 129.486665, ('en', 's3', 5, 0, 100): 154.827237, ('en', 's3', 5, 0, 1501): 124.444336, ('en', 's3', 5, 1, 10): 129.329557, ('en', 's3', 5, 1, 100): 146.402615, ('en', 's3', 5, 1, 1501): 126.377034, ('en', 's3', 5, 3, 10): 129.802971, ('en', 's3', 5, 3, 100): 146.458968, ('en', 's3', 5, 3, 1501): 125.207263, ('en', 's3', 5, 5, 10): 129.817731, ('en', 's3', 5, 5, 100): 146.510168, ('en', 's3', 5, 5, 1501): 125.232471, ('en', 's3', 20, 0, 10): 84.936761, ('en', 's3', 20, 0, 100): 92.439914, ('en', 's3', 20, 0, 1501): 83.038117, ('en', 's3', 20, 1, 10): 87.361218, ('en', 's3', 20, 1, 100): 95.813698, ('en', 's3', 20, 1, 1501): 84.001277, ('en', 's3', 20, 3, 10): 91.381798, ('en', 's3', 20, 3, 100): 96.344725, ('en', 's3', 20, 3, 1501): 87.109214, ('en', 's3', 20, 5, 10): 92.278409, ('en', 's3', 20, 5, 100): 95.730928, ('en', 's3', 20, 5, 1501): 87.425986, ('en', 's3', 40, 0, 10): 82.584596, ('en', 's3', 40, 0, 100): 87.538349, ('en', 's3', 40, 0, 1501): 81.272751, ('en', 's3', 40, 1, 10): 87.442705, ('en', 's3', 40, 1, 100): 94.475276, ('en', 's3', 40, 1, 1501): 84.571293, ('en', 's3', 40, 3, 10): 88.000203, ('en', 's3', 40, 3, 100): 93.488502, ('en', 's3', 40, 3, 1501): 86.396765, ('en', 's3', 40, 5, 10): 88.458003, ('en', 's3', 40, 5, 100): 94.455227, ('en', 's3', 40, 5, 1501): 87.545986, ('en', 's3', 70, 0, 10): 83.427868, ('en', 's3', 70, 0, 100): 89.895547, ('en', 's3', 70, 0, 1501): 85.551072, ('en', 's3', 70, 1, 10): 86.183936, ('en', 's3', 70, 1, 100): 91.10678, ('en', 's3', 70, 1, 1501): 85.31454, ('en', 's3', 70, 3, 10): 87.148869, ('en', 's3', 70, 3, 100): 93.839767, ('en', 's3', 70, 3, 1501): 87.199227, ('en', 's3', 70, 5, 10): 87.453107, ('en', 's3', 70, 5, 100): 93.421055, ('en', 's3', 70, 5, 1501): 88.09753, ('en', 's3', 100, 0, 10): 84.750986, ('en', 's3', 100, 0, 100): 91.323652, ('en', 's3', 100, 0, 1501): 86.012182, ('en', 's3', 100, 1, 10): 88.366665, ('en', 's3', 100, 1, 100): 92.328073, ('en', 's3', 100, 1, 1501): 88.589836, ('en', 's3', 100, 3, 10): 87.912403, ('en', 's3', 100, 3, 100): 92.999376, ('en', 's3', 100, 3, 1501): 96.743101, ('en', 's3', 100, 5, 10): 88.806794, ('en', 's3', 100, 5, 100): 95.070122, ('en', 's3', 100, 5, 1501): 89.744803, ('en', 's1', 150, 0, 10): 4.781489, ('en', 's1', 150, 0, 100): 4.605979, ('en', 's1', 150, 0, 1501): 4.515349, ('en', 's1', 150, 1, 10): 4.198978, ('en', 's1', 150, 1, 100): 4.102886, ('en', 's1', 150, 1, 1501): 4.120607, ('en', 's1', 150, 3, 10): 4.13526, ('en', 's1', 150, 3, 100): 4.127839, ('en', 's1', 150, 3, 1501): 4.049141, ('en', 's1', 150, 5, 10): 4.201073, ('en', 's1', 150, 5, 100): 4.069257, ('en', 's1', 150, 5, 1501): 4.055643, ('en', 's1', 200, 0, 10): 4.709409, ('en', 's1', 200, 0, 100): 4.558869, ('en', 's1', 200, 0, 1501): 4.614805, ('en', 's1', 200, 1, 10): 4.095692, ('en', 's1', 200, 1, 100): 4.058359, ('en', 's1', 200, 1, 1501): 4.018158, ('en', 's1', 200, 3, 10): 4.073541, ('en', 's1', 200, 3, 100): 3.958083, ('en', 's1', 200, 3, 1501): 3.996584, ('en', 's1', 200, 5, 10): 4.099608, ('en', 's1', 200, 5, 100): 4.040458, ('en', 's1', 200, 5, 1501): 3.980423, ('en', 's2', 150, 0, 10): 36.179975, ('en', 's2', 150, 0, 100): 36.448608, ('en', 's2', 150, 0, 1501): 33.964105, ('en', 's2', 150, 1, 10): 35.481469, ('en', 's2', 150, 1, 100): 35.831927, ('en', 's2', 150, 1, 1501): 32.380335, ('en', 's2', 150, 3, 10): 35.752299, ('en', 's2', 150, 3, 100): 36.01969, ('en', 's2', 150, 3, 1501): 31.466389, ('en', 's2', 150, 5, 10): 35.315552, ('en', 's2', 150, 5, 100): 36.098534, ('en', 's2', 150, 5, 1501): 31.823615, ('en', 's2', 200, 0, 10): 36.100396, ('en', 's2', 200, 0, 100): 36.59243, ('en', 's2', 200, 0, 1501): 33.80988, ('en', 's2', 200, 1, 10): 35.105685, ('en', 's2', 200, 1, 100): 36.088001, ('en', 's2', 200, 1, 1501): 32.343795, ('en', 's2', 200, 3, 10): 35.166543, ('en', 's2', 200, 3, 100): 36.4616, ('en', 's2', 200, 3, 1501): 31.358697, ('en', 's2', 200, 5, 10): 35.102639, ('en', 's2', 200, 5, 100): 36.149027, ('en', 's2', 200, 5, 1501): 31.537923, ('en', 's3', 150, 0, 10): 86.195108, ('en', 's3', 150, 0, 100): 89.120879, ('en', 's3', 150, 0, 1501): 88.098382, ('en', 's3', 150, 1, 10): 87.674062, ('en', 's3', 150, 1, 100): 90.484762, ('en', 's3', 150, 1, 1501): 88.756647, ('en', 's3', 150, 3, 10): 88.410128, ('en', 's3', 150, 3, 100): 91.128259, ('en', 's3', 150, 3, 1501): 91.295904, ('en', 's3', 150, 5, 10): 87.808701, ('en', 's3', 150, 5, 100): 91.722583, ('en', 's3', 150, 5, 1501): 91.035236, ('en', 's3', 200, 0, 10): 85.464932, ('en', 's3', 200, 0, 100): 89.023724, ('en', 's3', 200, 0, 1501): 86.097993, ('en', 's3', 200, 1, 10): 86.257335, ('en', 's3', 200, 1, 100): 90.254313, ('en', 's3', 200, 1, 1501): 90.185754, ('en', 's3', 200, 3, 10): 87.47169, ('en', 's3', 200, 3, 100): 90.232826, ('en', 's3', 200, 3, 1501): 89.895455, ('en', 's3', 200, 5, 10): 102.336159, ('en', 's3', 200, 5, 100): 91.813027, ('en', 's3', 200, 5, 1501): 90.32816}\n"
     ]
    }
   ],
   "metadata": {
    "scrolled": true,
    "tags": []
   }
  },
  {
   "cell_type": "code",
   "execution_count": null,
   "source": [
    "hidden_choices = [5, 20, 40, 70, 100, 150, 200]\n",
    "bptt_choices = [0, 1, 3, 5]\n",
    "class_choices = [10, 100, 1501]\n",
    "rand_seed = 1\n",
    "debug = 2\n",
    "\n",
    "for seg, hidden, bptt, _class in itertools.product(\n",
    "    seg_profiles[LANG.name], hidden_choices, bptt_choices, class_choices):\n",
    "\n",
    "    if (LANG.name, seg.id, hidden, bptt, _class) in grid_results:\n",
    "        print(f'skip {LANG.name} {seg.id} {hidden} {bptt} {_class}')\n",
    "        continue\n",
    "\n",
    "    # Parameters\n",
    "    model_path = f'models/rnnlm/{LANG.name}_{seg.id}'\n",
    "    train_path = f'../../../data/{LANG.name}_{seg.id}.txt'\n",
    "    valid_path = f'../../../data/{LANG.name}_{seg.id}_test.txt'\n",
    "\n",
    "    # run the model \n",
    "    !rm -rf $model_path \\\n",
    "      && mkdir $model_path \\\n",
    "      && cd $model_path \\\n",
    "      && ../../../rnnlm-0.3e/rnnlm \\\n",
    "        -train $train_path \\\n",
    "        -valid $valid_path \\\n",
    "        -rnnlm model \\\n",
    "        -hidden $hidden \\\n",
    "        -rand-seed $rand_seed \\\n",
    "        -debug $debug \\\n",
    "        -bptt $bptt \\\n",
    "        -class $_class \\\n",
    "        2> error.txt\n",
    "\n",
    "    # read output extract validation perplexity\n",
    "    with open(f'{model_path}/model.output.txt', 'r') as f:\n",
    "        output = f.read()\n",
    "        pp = float(output.split()[-1])\n",
    "        grid_results[(LANG.name, seg.id, hidden, bptt, _class)] = pp\n",
    "\n",
    "    # write current results to file\n",
    "    with open(grid_result_file, 'wb') as f:\n",
    "        pickle.dump(grid_results, f)"
   ],
   "outputs": [],
   "metadata": {
    "scrolled": true,
    "tags": []
   }
  },
  {
   "cell_type": "code",
   "execution_count": 28,
   "source": [
    "import visualization \n",
    "visualization = importlib.reload(visualization)\n",
    "\n",
    "visualization.plot_grid_results(grid_results)"
   ],
   "outputs": [
    {
     "output_type": "display_data",
     "data": {
      "text/plain": [
       "<Figure size 1152x360 with 3 Axes>"
      ],
      "image/png": "[encoded data removed]"
     },
     "metadata": {
      "needs_background": "light"
     }
    }
   ],
   "metadata": {}
  },
  {
   "cell_type": "markdown",
   "source": [
    "The optimal configurations of hyperparameters for each vocabulary size are:"
   ],
   "metadata": {}
  },
  {
   "cell_type": "code",
   "execution_count": 12,
   "source": [
    "for seg in seg_profiles:\n",
    "    results = dict((k, v) for (k, v) in grid_results.items() if k[1] == seg.id)\n",
    "    print(f\"{seg.id}: {min(results, key=results.get)}\")\n"
   ],
   "outputs": [
    {
     "output_type": "stream",
     "name": "stdout",
     "text": [
      "s1: ('en', 's1', 200, 3, 100)\n",
      "s2: ('en', 's2', 200, 3, 1501)\n",
      "s3: ('en', 's3', 40, 0, 1501)\n"
     ]
    }
   ],
   "metadata": {}
  }
 ],
 "metadata": {
  "interpreter": {
   "hash": "0ba93cb785b08a5c388f5a645f2c192b35e18c76a279f6b816e8452dcbc7cdb2"
  },
  "kernelspec": {
   "name": "python3",
   "display_name": "Python 3.8.10 64-bit ('snlp-vKRMqmdq': pipenv)"
  },
  "language_info": {
   "name": "python",
   "version": "3.8.10",
   "mimetype": "text/x-python",
   "codemirror_mode": {
    "name": "ipython",
    "version": 3
   },
   "pygments_lexer": "ipython3",
   "nbconvert_exporter": "python",
   "file_extension": ".py"
  }
 },
 "nbformat": 4,
 "nbformat_minor": 5
}