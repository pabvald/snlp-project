{
 "cells": [
  {
   "cell_type": "markdown",
   "id": "8588382d",
   "metadata": {},
   "source": [
    "# Import basic libraries and dependencies"
   ]
  },
  {
   "cell_type": "code",
   "execution_count": 1,
   "id": "44c7a241",
   "metadata": {},
   "outputs": [],
   "source": [
    "import sys\n",
    "import importlib\n",
    "\n",
    "sys.path.append('./modules')\n",
    "from config import English, Bengali"
   ]
  },
  {
   "cell_type": "markdown",
   "id": "3fa5416b",
   "metadata": {},
   "source": [
    "# Set a language"
   ]
  },
  {
   "cell_type": "code",
   "execution_count": 2,
   "id": "8e4f4e64",
   "metadata": {},
   "outputs": [],
   "source": [
    "LANG = English # English, Bengali"
   ]
  },
  {
   "cell_type": "markdown",
   "id": "1bdf4e2b",
   "metadata": {},
   "source": [
    "# 1. Data Preparation"
   ]
  },
  {
   "cell_type": "code",
   "execution_count": 6,
   "id": "90c97c7d",
   "metadata": {},
   "outputs": [],
   "source": [
    "# import libraries and dependencies\n",
    "import preprocessing\n",
    "import utils\n",
    "importlib.reload(preprocessing)\n",
    "from preprocessing import raw_preprocess, split_train_test"
   ]
  },
  {
   "cell_type": "markdown",
   "id": "9258c1e3",
   "metadata": {},
   "source": [
    "## 1.1. Preprocess data for sentencepiece"
   ]
  },
  {
   "cell_type": "code",
   "execution_count": 7,
   "id": "e16c6e55",
   "metadata": {},
   "outputs": [
    {
     "name": "stdout",
     "output_type": "stream",
     "text": [
      "Num. of sentences = 11717\n",
      "Avg. length = 113.63471878467185\n",
      "Std. dev. of the length = 152.39452707784676\n",
      "Maximum length = 2316\n",
      "Minimum length = 1\n"
     ]
    }
   ],
   "source": [
    "# preprocess raw data to get a list of sentences.\n",
    "sentences = raw_preprocess(LANG)\n",
    "\n",
    "# write the sentences into a file, each sentence on one line.\n",
    "with open(f'data/{LANG.name}/preprocessed.txt', 'w') as f:\n",
    "    for sentence in sentences:\n",
    "        f.write(f'{sentence}\\n')\n",
    "\n",
    "utils.print_length_statistics(sentences)"
   ]
  },
  {
   "cell_type": "markdown",
   "id": "02e1aea3",
   "metadata": {},
   "source": [
    "## 1.2. Train/test split"
   ]
  },
  {
   "cell_type": "code",
   "execution_count": 8,
   "id": "ffb2767d",
   "metadata": {},
   "outputs": [],
   "source": [
    "# split data to train and test.\n",
    "train, test = split_train_test(sentences, LANG)\n",
    "\n",
    "# write train and test data into corresponding files.\n",
    "train_path = f'data/{LANG.name}/train.txt'\n",
    "test_path = f'data/{LANG.name}/test.txt'\n",
    "\n",
    "with open(train_path, 'w') as f:\n",
    "    f.write('\\n'.join(train))\n",
    "with open(test_path, 'w') as f:\n",
    "    f.write('\\n'.join(test))"
   ]
  },
  {
   "cell_type": "markdown",
   "id": "35014dee",
   "metadata": {},
   "source": [
    "# 2. Subword segmentation"
   ]
  },
  {
   "cell_type": "markdown",
   "id": "ec658661",
   "metadata": {},
   "source": [
    "For English. we use a small subword vocabulary size of 500 and a large subword vocabulary size of 1500. For Bengali, these numbers are 800 and 1700."
   ]
  },
  {
   "cell_type": "code",
   "execution_count": 11,
   "id": "dec47d37",
   "metadata": {},
   "outputs": [],
   "source": [
    "# import libraries and dependencies\n",
    "import segmentation\n",
    "importlib.reload(segmentation)\n",
    "from segmentation import train_segmentation, encode_text_file, decode_text_file\n",
    "from config import seg_profiles"
   ]
  },
  {
   "cell_type": "code",
   "execution_count": 10,
   "id": "3b65c3be",
   "metadata": {},
   "outputs": [
    {
     "data": {
      "text/plain": [
       "[SegmentationConf(id='s1', vocab_size=None, model_type='char'),\n",
       " SegmentationConf(id='s2', vocab_size=800, model_type='bpe'),\n",
       " SegmentationConf(id='s3', vocab_size=1700, model_type='bpe')]"
      ]
     },
     "execution_count": 10,
     "metadata": {},
     "output_type": "execute_result"
    }
   ],
   "source": [
    "seg_profiles[LANG.name]"
   ]
  },
  {
   "cell_type": "code",
   "execution_count": null,
   "id": "9020991f",
   "metadata": {},
   "outputs": [],
   "source": [
    "for seg in seg_profiles[LANG.name]:\n",
    "    # train segmentation on the train data\n",
    "    spm1 = train_segmentation(\n",
    "        text_file=train_path, \n",
    "        LANG=LANG, \n",
    "        vocab_size=seg.vocab_size, \n",
    "        model_type=seg.model_type)\n",
    "  \n",
    "    encoded_file = f'data/{LANG.name}/segmentation/{seg.id}.txt'\n",
    "    encode_text_file(text_file=train_path, model_path=spm1, output_file=encoded_file)\n",
    "    \n",
    "    decoded_file = f'data/{LANG.name}/segmentation/{seg.id}_decoded.txt'\n",
    "    decode_text_file(text_file=encoded_file, model_path=spm1, output_file=decoded_file)\n",
    "    \n",
    "    # test it on the test data\n",
    "    encoded_file = f'data/{LANG.name}/segmentation/{seg.id}_test.txt'\n",
    "    encode_text_file(text_file=test_path, model_path=spm1, output_file=encoded_file)\n",
    "    \n",
    "    decoded_file = f'data/{LANG.name}/segmentation/{seg.id}_decoded_test.txt'\n",
    "    decode_text_file(text_file=encoded_file, model_path=spm1, output_file=decoded_file)"
   ]
  },
  {
   "cell_type": "markdown",
   "id": "8ae3c3f4",
   "metadata": {},
   "source": [
    "# 3. Language Model"
   ]
  },
  {
   "cell_type": "markdown",
   "id": "8da7f9aa",
   "metadata": {
    "tags": []
   },
   "source": [
    "## Baseline"
   ]
  },
  {
   "cell_type": "code",
   "execution_count": 12,
   "id": "810ed172",
   "metadata": {},
   "outputs": [
    {
     "data": {
      "text/plain": [
       "TrainingConf(hidden=40, rand_seed=1, debug=2, bptt=4, n_class=9999)"
      ]
     },
     "execution_count": 12,
     "metadata": {},
     "output_type": "execute_result"
    }
   ],
   "source": [
    "from config import baseline_conf\n",
    "baseline_conf"
   ]
  },
  {
   "cell_type": "markdown",
   "id": "9ea19ab8",
   "metadata": {},
   "source": [
    "Executing the following cell will delete the already trained language models. To simply see the perplexity of the trained models, skip this cell and execute the next one."
   ]
  },
  {
   "cell_type": "code",
   "execution_count": null,
   "id": "fcbfcc07",
   "metadata": {},
   "outputs": [],
   "source": [
    "for seg in seg_profiles[LANG.name]:\n",
    "    # Hyper parameters\n",
    "    hidden = baseline_conf.hidden\n",
    "    rand_seed = baseline_conf.rand_seed\n",
    "    debug = baseline_conf.debug\n",
    "    bptt = baseline_conf.bptt\n",
    "    n_class = baseline_conf.n_class\n",
    "\n",
    "    # Parameters\n",
    "    model_path = f'models/rnnlm/{LANG.name}/{seg.id}_baseline'\n",
    "    train_path = f'../../../../data/{LANG.name}/segmentation/{seg.id}.txt'\n",
    "    valid_path = f'../../../../data/{LANG.name}/segmentation/{seg.id}_test.txt'\n",
    "\n",
    "    # run the model \n",
    "    !rm -rf $model_path \\\n",
    "      && mkdir $model_path \\\n",
    "      && cd $model_path \\\n",
    "      && ../../../../rnnlm-0.3e/rnnlm \\\n",
    "        -train $train_path \\\n",
    "        -valid $valid_path \\\n",
    "        -rnnlm model \\\n",
    "        -hidden $hidden \\\n",
    "        -rand-seed $rand_seed \\\n",
    "        -debug $debug \\\n",
    "        -bptt $bptt \\\n",
    "        -class $n_class"
   ]
  },
  {
   "cell_type": "markdown",
   "id": "4019fdcd",
   "metadata": {},
   "source": [
    "The validation perplexities of the baseline models are:"
   ]
  },
  {
   "cell_type": "code",
   "execution_count": 13,
   "id": "f9677ad5",
   "metadata": {},
   "outputs": [
    {
     "name": "stdout",
     "output_type": "stream",
     "text": [
      "Baseline bn-s1 validation perplexity: 7.368929\n",
      "Baseline bn-s2 validation perplexity: 94.109742\n",
      "Baseline bn-s3 validation perplexity: 176.930043\n"
     ]
    }
   ],
   "source": [
    "for seg in seg_profiles[LANG.name]:\n",
    "    model_path = f'models/rnnlm/{LANG.name}/{seg.id}_baseline'\n",
    "        \n",
    "    # read output and print perplexity\n",
    "    with open(f'{model_path}/model.output.txt', 'r') as f:\n",
    "        output = f.read()\n",
    "        pp = output.split()[-1]\n",
    "        print(f'Baseline {LANG.name}-{seg.id} validation perplexity: {pp}')"
   ]
  },
  {
   "cell_type": "markdown",
   "id": "1bec8daf",
   "metadata": {},
   "source": [
    "## Experiments"
   ]
  },
  {
   "cell_type": "code",
   "execution_count": 15,
   "id": "4743b53f",
   "metadata": {},
   "outputs": [],
   "source": [
    "import pickle\n",
    "import itertools"
   ]
  },
  {
   "cell_type": "code",
   "execution_count": 16,
   "id": "0c03f19e",
   "metadata": {
    "scrolled": true,
    "tags": []
   },
   "outputs": [
    {
     "data": {
      "text/plain": [
       "{('bn', 's1', 200, 4, 1700): 5.198053,\n",
       " ('bn', 's2', 200, 4, 1700): 77.243412,\n",
       " ('bn', 's3', 200, 4, 1700): 170.361866}"
      ]
     },
     "execution_count": 16,
     "metadata": {},
     "output_type": "execute_result"
    }
   ],
   "source": [
    "# experimented results are kept in a file\n",
    "grid_result_file = f'experiments/{LANG.name}/task3_grid_search.pickle'\n",
    "# grid_results stores the results in memory\n",
    "grid_results = {}\n",
    "\n",
    "# import previous results if exists\n",
    "\n",
    "with open(grid_result_file, 'rb') as f:\n",
    "    previous_results = pickle.load(f)\n",
    "    grid_results.update(previous_results)\n",
    "\n",
    "grid_results"
   ]
  },
  {
   "cell_type": "code",
   "execution_count": null,
   "id": "bc063d8f",
   "metadata": {
    "scrolled": true,
    "tags": []
   },
   "outputs": [],
   "source": [
    "hidden_choices = [5, 20, 40, 70, 100, 150, 200]\n",
    "bptt_choices = [0, 1, 3, 5]\n",
    "class_choices = [10, 100, 1501]\n",
    "rand_seed = 1\n",
    "debug = 2\n",
    "\n",
    "for seg, hidden, bptt, _class in itertools.product(\n",
    "    seg_profiles[LANG.name], hidden_choices, bptt_choices, class_choices):\n",
    "\n",
    "    if (LANG.name, seg.id, hidden, bptt, _class) in grid_results:\n",
    "        print(f'skip {LANG.name} {seg.id} {hidden} {bptt} {_class}')\n",
    "        continue\n",
    "\n",
    "    # Parameters\n",
    "    model_path = f'models/rnnlm/{LANG.name}/{seg.id}'\n",
    "    train_path = f'../../../../data/{LANG.name}/segmentation/{seg.id}.txt'\n",
    "    valid_path = f'../../../../data/{LANG.name}/segmentation/{seg.id}_test.txt'\n",
    "\n",
    "    # run the model \n",
    "    !rm -rf $model_path \\\n",
    "      && mkdir $model_path \\\n",
    "      && cd $model_path \\\n",
    "      && ../../../../rnnlm-0.3e/rnnlm \\\n",
    "        -train $train_path \\\n",
    "        -valid $valid_path \\\n",
    "        -rnnlm model \\\n",
    "        -hidden $hidden \\\n",
    "        -rand-seed $rand_seed \\\n",
    "        -debug $debug \\\n",
    "        -bptt $bptt \\\n",
    "        -class $_class \\\n",
    "        2> error.txt\n",
    "\n",
    "    # read output extract validation perplexity\n",
    "    with open(f'{model_path}/model.output.txt', 'r') as f:\n",
    "        output = f.read()\n",
    "        pp = float(output.split()[-1])\n",
    "        grid_results[(LANG.name, seg.id, hidden, bptt, _class)] = pp\n",
    "\n",
    "    # write current results to file\n",
    "    with open(grid_result_file, 'wb') as f:\n",
    "        pickle.dump(grid_results, f)"
   ]
  },
  {
   "cell_type": "code",
   "execution_count": 17,
   "id": "b8d0385e",
   "metadata": {},
   "outputs": [],
   "source": [
    "import visualisation \n",
    "\n",
    "if LANG == English:\n",
    "    visualisation.plot_grid_results(English, grid_results)"
   ]
  },
  {
   "cell_type": "markdown",
   "id": "5381d0e1",
   "metadata": {},
   "source": [
    "The optimal configurations of hyperparameters for each vocabulary size are:"
   ]
  },
  {
   "cell_type": "code",
   "execution_count": 28,
   "id": "f1de09a4",
   "metadata": {},
   "outputs": [
    {
     "name": "stdout",
     "output_type": "stream",
     "text": [
      "s1: ('bn', 's1', 200, 4, 1700)\n",
      "s2: ('bn', 's2', 200, 4, 1700)\n",
      "s3: ('bn', 's3', 200, 4, 1700)\n"
     ]
    }
   ],
   "source": [
    "for seg in seg_profiles[LANG.name]:\n",
    "    results = dict((k, v) for (k, v) in grid_results.items() if k[1] == seg.id)\n",
    "    print(f\"{seg.id}: {min(results, key=results.get)}\")"
   ]
  },
  {
   "cell_type": "code",
   "execution_count": null,
   "id": "7f05a973",
   "metadata": {},
   "outputs": [],
   "source": [
    "# train and save LMs for the optimal configurations\n",
    "importlib.reload(config)\n",
    "from config import optimal_conf\n",
    "\n",
    "for id, (hidden, rand_seed, debug, bptt, n_class) in \\\n",
    "    enumerate(optimal_conf[LANG.name], start=1):\n",
    "    \n",
    "    seg_id = f's{id}'\n",
    "\n",
    "    # paths\n",
    "    model_path = f'models/rnnlm/{LANG.name}/{seg_id}_optimal'\n",
    "    train_path = f'../../../../data/{LANG.name}/segmentation/{seg_id}.txt'\n",
    "    valid_path = f'../../../../data/{LANG.name}/segmentation/{seg_id}_test.txt'\n",
    "\n",
    "    # run the model \n",
    "    !rm -rf $model_path \\\n",
    "      && mkdir $model_path \\\n",
    "      && cd $model_path \\\n",
    "      && ../../../../rnnlm-0.3e/rnnlm \\\n",
    "        -train $train_path \\\n",
    "        -valid $valid_path \\\n",
    "        -rnnlm model \\\n",
    "        -hidden $hidden \\\n",
    "        -rand-seed $rand_seed \\\n",
    "        -debug $debug \\\n",
    "        -bptt $bptt \\\n",
    "        -class $n_class"
   ]
  },
  {
   "cell_type": "markdown",
   "id": "67da6df5",
   "metadata": {},
   "source": [
    "# 4. Text Generation"
   ]
  },
  {
   "cell_type": "code",
   "execution_count": 1,
   "id": "c05bc222",
   "metadata": {},
   "outputs": [],
   "source": [
    "from config import SEG_MODELS_PATH"
   ]
  },
  {
   "cell_type": "code",
   "execution_count": 41,
   "id": "c73235ee",
   "metadata": {},
   "outputs": [],
   "source": [
    "for seg in seg_profiles[LANG.name]:\n",
    "    gen_folder = f'data/{LANG.name}/generation/{seg.id}'\n",
    "    # path to LM file\n",
    "    language_model_file = f'models/rnnlm/{LANG.name}/{seg.id}_optimal/model'\n",
    "    # path to segmentation file\n",
    "    if seg.model_type == 'char':\n",
    "        seg_model_file = f'{SEG_MODELS_PATH}/{LANG.name}/spm_{seg.model_type}.model'\n",
    "    else:\n",
    "        seg_model_file = f'{SEG_MODELS_PATH}/{LANG.name}/spm_{seg.model_type}_vocabsize-{seg.vocab_size}.model'\n",
    "    \n",
    "    # remove the text-generation folder\n",
    "    !rm -rf $gen_folder \\\n",
    "        && mkdir $gen_folder\n",
    "    \n",
    "    for n_gen in [10, 100, 1000, 10000, 100000, 1000000, 10000000]:\n",
    "        # generate text using rnnlm\n",
    "        gen_file = f'{gen_folder}/{n_gen}.txt'\n",
    "        !rnnlm-0.3e/rnnlm \\\n",
    "                -rnnlm $language_model_file \\\n",
    "                -gen $n_gen \\\n",
    "                -debug 0 \\\n",
    "            > $gen_file\n",
    "        \n",
    "        # decode generated text using sentencepiece\n",
    "        decoded_gen_file = f'{gen_folder}/{n_gen}_decoded.txt'\n",
    "        decode_text_file(gen_file, seg_model_file, decoded_gen_file)"
   ]
  },
  {
   "cell_type": "markdown",
   "id": "2b455d4e",
   "metadata": {},
   "source": [
    "# 5. OOV comparison"
   ]
  },
  {
   "cell_type": "code",
   "execution_count": 7,
   "id": "69bac92d",
   "metadata": {},
   "outputs": [],
   "source": [
    "import vocab_processing \n",
    "vocab_processing = importlib.reload(vocab_processing)\n",
    "from vocab_processing import get_word_level_vocabulary, get_word_level_tokens, get_oov_rate"
   ]
  },
  {
   "cell_type": "code",
   "execution_count": 8,
   "id": "61ce6281",
   "metadata": {},
   "outputs": [],
   "source": [
    "train_path = f'data/{LANG.name}/train.txt'\n",
    "test_path = f'data/{LANG.name}/test.txt'"
   ]
  },
  {
   "cell_type": "code",
   "execution_count": 9,
   "id": "ac491dbd",
   "metadata": {},
   "outputs": [
    {
     "name": "stdout",
     "output_type": "stream",
     "text": [
      "Original data's OOV rate: 4.80%\n"
     ]
    }
   ],
   "source": [
    "# get the training vocabulary on word-level\n",
    "train_vocab = get_word_level_vocabulary(LANG, train_path)\n",
    "# get the test tokens on word-level\n",
    "test_tokens = get_word_level_tokens(LANG, test_path)\n",
    "# compute and print OOV rate\n",
    "oov_rate = get_oov_rate(train_vocab, test_tokens)\n",
    "print(f'Original data\\'s OOV rate: {oov_rate:.2%}')"
   ]
  },
  {
   "cell_type": "markdown",
   "id": "ee06ea81",
   "metadata": {},
   "source": [
    "## Augment vocabulary with generated data"
   ]
  },
  {
   "cell_type": "code",
   "execution_count": 12,
   "id": "1a53ad39",
   "metadata": {},
   "outputs": [
    {
     "name": "stdout",
     "output_type": "stream",
     "text": [
      "en s1 10 OOV rate: 4.80%\n",
      "en s1 100 OOV rate: 4.80%\n",
      "en s1 1000 OOV rate: 4.80%\n",
      "en s1 10000 OOV rate: 4.79%\n",
      "en s1 100000 OOV rate: 4.64%\n",
      "en s1 1000000 OOV rate: 3.92%\n",
      "en s1 10000000 OOV rate: 2.96%\n",
      "en s2 10 OOV rate: 4.80%\n",
      "en s2 100 OOV rate: 4.80%\n",
      "en s2 1000 OOV rate: 4.80%\n",
      "en s2 10000 OOV rate: 4.71%\n",
      "en s2 100000 OOV rate: 4.33%\n",
      "en s2 1000000 OOV rate: 3.59%\n",
      "en s2 10000000 OOV rate: 2.71%\n",
      "en s3 10 OOV rate: 4.80%\n",
      "en s3 100 OOV rate: 4.80%\n",
      "en s3 1000 OOV rate: 4.80%\n",
      "en s3 10000 OOV rate: 4.73%\n",
      "en s3 100000 OOV rate: 4.49%\n",
      "en s3 1000000 OOV rate: 3.81%\n",
      "en s3 10000000 OOV rate: 2.93%\n"
     ]
    }
   ],
   "source": [
    "oov_rates = []\n",
    "\n",
    "for seg in seg_profiles[LANG.name]:\n",
    "    gen_folder = f'data/{LANG.name}/generation/{seg.id}'\n",
    "    oov_rates.append([])\n",
    "    \n",
    "    for n_gen in [10, 100, 1000, 10000, 100000, 1000000, 10000000]:\n",
    "\n",
    "        # obtain the vocabulary from the generated corpora\n",
    "        decoded_gen_file = f'{gen_folder}/{n_gen}_decoded.txt'\n",
    "        gen_vocab = get_word_level_vocabulary(LANG, decoded_gen_file)\n",
    "\n",
    "        # compute the oov-rate on the augmented vocabulary\n",
    "        augmented_oov_rate = get_oov_rate(train_vocab | gen_vocab, test_tokens)\n",
    "        print(f'{LANG.name} {seg.id} {n_gen} OOV rate: {augmented_oov_rate:.2%}')\n",
    "        oov_rates[-1].append(augmented_oov_rate)"
   ]
  },
  {
   "cell_type": "code",
   "execution_count": 13,
   "id": "3eb324ab",
   "metadata": {},
   "outputs": [
    {
     "data": {
      "image/png": "[encoded data removed]",
      "text/plain": [
       "<Figure size 576x360 with 1 Axes>"
      ]
     },
     "metadata": {
      "needs_background": "light"
     },
     "output_type": "display_data"
    }
   ],
   "source": [
    "import visualisation\n",
    "from visualisation import plot_oov_rates\n",
    "from config import FIGURES_PATH\n",
    "\n",
    "#plot_oov_rates(oov_rates)\n",
    "plot_oov_rates(oov_rates, save_path=f'{FIGURES_PATH}/{LANG.name}/task5_oov_rates.png')"
   ]
  },
  {
   "cell_type": "markdown",
   "id": "4901f25f",
   "metadata": {},
   "source": [
    "# 6. Analysis"
   ]
  },
  {
   "cell_type": "markdown",
   "id": "107b9f60",
   "metadata": {},
   "source": [
    "TO DO "
   ]
  },
  {
   "cell_type": "code",
   "execution_count": 82,
   "id": "c87641c9-86b5-4afa-8a76-d99b2d1faa69",
   "metadata": {},
   "outputs": [
    {
     "name": "stdout",
     "output_type": "stream",
     "text": [
      "sdf23fsdf1  vfb \n"
     ]
    }
   ],
   "source": [
    "import string\n",
    "\n",
    "account_number = 'sdf23fsdf1@#vfb#'\n",
    "\n",
    "final_account_number = account_number.translate(\n",
    "    str.maketrans(string.punctuation, ' '*len(string.punctuation))\n",
    ")\n",
    "\n",
    "print(final_account_number)"
   ]
  },
  {
   "cell_type": "code",
   "execution_count": 83,
   "id": "43a9d424-d030-4805-8bde-1de35d5a5836",
   "metadata": {},
   "outputs": [
    {
     "data": {
      "text/plain": [
       "'asbvsdbdsd323@#'"
      ]
     },
     "execution_count": 83,
     "metadata": {},
     "output_type": "execute_result"
    }
   ],
   "source": [
    "'ASbvSDBDsd323@#'.lower()"
   ]
  },
  {
   "cell_type": "code",
   "execution_count": null,
   "id": "eefc78bd-1842-4e01-95dc-a3f02e924abe",
   "metadata": {},
   "outputs": [],
   "source": []
  }
 ],
 "metadata": {
  "interpreter": {
   "hash": "709e25c9509ebf51ab33454ee450f06cdb9cf989c600b578f7235622088438d7"
  },
  "kernelspec": {
   "display_name": "Python 3",
   "language": "python",
   "name": "python3"
  },
  "language_info": {
   "codemirror_mode": {
    "name": "ipython",
    "version": 3
   },
   "file_extension": ".py",
   "mimetype": "text/x-python",
   "name": "python",
   "nbconvert_exporter": "python",
   "pygments_lexer": "ipython3",
   "version": "3.8.3"
  }
 },
 "nbformat": 4,
 "nbformat_minor": 5
}
