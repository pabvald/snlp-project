{
 "cells": [
  {
   "cell_type": "markdown",
   "id": "1e6415d4",
   "metadata": {},
   "source": [
    "# Import basic libraries and dependencies"
   ]
  },
  {
   "cell_type": "code",
   "execution_count": 4,
   "id": "143014b1",
   "metadata": {},
   "outputs": [],
   "source": [
    "import sys\n",
    "import importlib\n",
    "import sentencepiece as spm\n",
    "\n",
    "import config\n",
    "importlib.reload(config)\n",
    "from config import English, Bengali\n",
    "\n",
    "sys.path.append('./scripts')"
   ]
  },
  {
   "cell_type": "markdown",
   "id": "9a24bec7",
   "metadata": {},
   "source": [
    "# Set a language"
   ]
  },
  {
   "cell_type": "code",
   "execution_count": 5,
   "id": "2bb332cd",
   "metadata": {},
   "outputs": [],
   "source": [
    "LANG = English # English, Bengali"
   ]
  },
  {
   "cell_type": "markdown",
   "id": "8c87a62b",
   "metadata": {},
   "source": [
    "# 1. Data Preparation"
   ]
  },
  {
   "cell_type": "code",
   "execution_count": 6,
   "id": "5ac585aa",
   "metadata": {},
   "outputs": [],
   "source": [
    "# import libraries and dependencies\n",
    "import preprocessing\n",
    "importlib.reload(preprocessing)\n",
    "from preprocessing import raw_preprocess, split_train_test"
   ]
  },
  {
   "cell_type": "markdown",
   "id": "b3991b08",
   "metadata": {},
   "source": [
    "## 1.1. Preprocess data for sentencepiece"
   ]
  },
  {
   "cell_type": "code",
   "execution_count": 7,
   "id": "115371ac",
   "metadata": {},
   "outputs": [],
   "source": [
    "# preprocess raw data to get a list of sentences.\n",
    "sentences = raw_preprocess(LANG)\n",
    "\n",
    "# write the sentences into a file, each sentence on one line.\n",
    "with open(f'data/{LANG.name}_preprocessed.txt', 'w') as f:\n",
    "    for sentence in sentences:\n",
    "        f.write(f'{sentence}\\n')"
   ]
  },
  {
   "cell_type": "markdown",
   "id": "d81a1167",
   "metadata": {},
   "source": [
    "## 1.2. Train/test split"
   ]
  },
  {
   "cell_type": "code",
   "execution_count": 8,
   "id": "5b61804b",
   "metadata": {},
   "outputs": [],
   "source": [
    "# split data to train and test.\n",
    "train, test = split_train_test(sentences, LANG)\n",
    "\n",
    "# write train and test data into corresponding files.\n",
    "train_path = f'data/{LANG.name}_train.txt'\n",
    "test_path = f'data/{LANG.name}_test.txt'\n",
    "\n",
    "with open(train_path, 'w') as f:\n",
    "    f.write('\\n'.join(train))\n",
    "with open(test_path, 'w') as f:\n",
    "    f.write('\\n'.join(test))"
   ]
  },
  {
   "cell_type": "markdown",
   "id": "aca00d08",
   "metadata": {},
   "source": [
    "# 2. Subword segmentation"
   ]
  },
  {
   "cell_type": "markdown",
   "id": "037f11a5-f04e-4764-a237-d1edbbbdae90",
   "metadata": {},
   "source": [
    "We use a small subword vocabulary size of 500 and a large subword vocabulary size of 1500."
   ]
  },
  {
   "cell_type": "code",
   "execution_count": 10,
   "id": "3b8671d5",
   "metadata": {},
   "outputs": [],
   "source": [
    "# import libraries and dependencies\n",
    "from collections import namedtuple\n",
    "import segmentation\n",
    "importlib.reload(segmentation)\n",
    "from segmentation import train_segmentation, encode_text_file, decode_text_file"
   ]
  },
  {
   "cell_type": "code",
   "execution_count": 25,
   "id": "9c0f278c",
   "metadata": {},
   "outputs": [],
   "source": [
    "# make a profile for each granularity level.\n",
    "Segmentation_config = namedtuple('Segmentation_config', 'id vocab_size, model_type')\n",
    "seg_profiles = [\n",
    "    Segmentation_config('s1', None, 'char'), # segmentation by characters.\n",
    "    Segmentation_config('s2', 500, 'bpe'), # segmentation by subwords with small vocabulary.\n",
    "    Segmentation_config('s3', 1500, 'bpe'), # segmentation by subwords with large vocabulary.\n",
    "]"
   ]
  },
  {
   "cell_type": "code",
   "execution_count": 26,
   "id": "61904c10",
   "metadata": {},
   "outputs": [],
   "source": [
    "for seg in seg_profiles:\n",
    "    # train segmentation on the train data\n",
    "    spm1 = train_segmentation(\n",
    "        text_file=train_path, \n",
    "        LANG=LANG, \n",
    "        vocab_size=seg.vocab_size, \n",
    "        model_type=seg.model_type)\n",
    "  \n",
    "    encoded_file = f'data/{LANG.name}_{seg.id}.txt'\n",
    "    encode_text_file(text_file=train_path, model_path=spm1, output_file=encoded_file)\n",
    "    \n",
    "    decoded_file = f'data/{LANG.name}_{seg.id}_decoded.txt'\n",
    "    decode_text_file(text_file=encoded_file, model_path=spm1, output_file=decoded_file)\n",
    "    \n",
    "    # test it on the test data\n",
    "    encoded_file = f'data/{LANG.name}_{seg.id}_test.txt'\n",
    "    encode_text_file(text_file=test_path, model_path=spm1, output_file=encoded_file)\n",
    "    \n",
    "    decoded_file = f'data/{LANG.name}_{seg.id}_decoded_test.txt'\n",
    "    decode_text_file(text_file=encoded_file, model_path=spm1, output_file=decoded_file)"
   ]
  },
  {
   "cell_type": "markdown",
   "id": "e8b619e6",
   "metadata": {},
   "source": [
    "# 3. Language Model"
   ]
  },
  {
   "cell_type": "code",
   "execution_count": 20,
   "id": "e9684a25",
   "metadata": {},
   "outputs": [],
   "source": [
    "import  neptune.new as neptune \n",
    "from config import NeptuneConfig"
   ]
  },
  {
   "cell_type": "markdown",
   "id": "44fdd146",
   "metadata": {
    "tags": []
   },
   "source": [
    "#### Baseline"
   ]
  },
  {
   "cell_type": "code",
   "execution_count": 34,
   "id": "4af09d01",
   "metadata": {},
   "outputs": [
    {
     "name": "stdout",
     "output_type": "stream",
     "text": [
      "/bin/bash: ../../rnnlm-0.3e/rnnlm: No such file or directory\n"
     ]
    }
   ],
   "source": [
    "# Hyper parameters\n",
    "seg = seg_profiles[0]\n",
    "hidden = 40\n",
    "rand_seed = 1\n",
    "debug = 2\n",
    "bptt = 3\n",
    "_class = 9999\n",
    "\n",
    "# Parameters\n",
    "model_path = f'models/rnnlm/{LANG.name}_{seg.id}'\n",
    "train_path = f'../../../data/{LANG.name}_{seg.id}.txt'\n",
    "valid_path = f'../../../data/{LANG.name}_{seg.id}_test.txt'\n",
    "\n",
    "# run the model \n",
    "!rm -rf $model_path \\\n",
    "  && mkdir $model_path \\\n",
    "  && cd $model_path \\\n",
    "  && ../../../rnnlm-0.3e/rnnlm \\\n",
    "    -train $train_path \\\n",
    "    -valid $valid_path \\\n",
    "    -rnnlm model \\\n",
    "    -hidden $hidden \\\n",
    "    -rand-seed $rand_seed \\\n",
    "    -debug $debug \\\n",
    "    -bptt $bptt \\\n",
    "    -class $_class"
   ]
  },
  {
   "cell_type": "code",
   "execution_count": 26,
   "id": "2eaabad4",
   "metadata": {},
   "outputs": [
    {
     "data": {
      "text/plain": [
       "[]"
      ]
     },
     "execution_count": 26,
     "metadata": {},
     "output_type": "execute_result"
    }
   ],
   "source": []
  },
  {
   "cell_type": "code",
   "execution_count": null,
   "id": "52c4624b",
   "metadata": {},
   "outputs": [],
   "source": []
  }
 ],
 "metadata": {
  "interpreter": {
   "hash": "0ba93cb785b08a5c388f5a645f2c192b35e18c76a279f6b816e8452dcbc7cdb2"
  },
  "kernelspec": {
   "display_name": "Python 3",
   "language": "python",
   "name": "python3"
  },
  "language_info": {
   "codemirror_mode": {
    "name": "ipython",
    "version": 3
   },
   "file_extension": ".py",
   "mimetype": "text/x-python",
   "name": "python",
   "nbconvert_exporter": "python",
   "pygments_lexer": "ipython3",
   "version": "3.8.3"
  }
 },
 "nbformat": 4,
 "nbformat_minor": 5
}
