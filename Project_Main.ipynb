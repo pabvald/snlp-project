{
 "cells": [
  {
   "cell_type": "markdown",
   "id": "7202b175",
   "metadata": {},
   "source": [
    "# Import basic libraries and dependencies"
   ]
  },
  {
   "cell_type": "code",
   "execution_count": 1,
   "id": "585efdb5",
   "metadata": {},
   "outputs": [],
   "source": [
    "import sys\n",
    "import importlib\n",
    "import sentencepiece as spm\n",
    "import config\n",
    "\n",
    "importlib.reload(config)\n",
    "sys.path.append('./modules')\n",
    "from config import English, Bengali"
   ]
  },
  {
   "cell_type": "markdown",
   "id": "1864f3e0",
   "metadata": {},
   "source": [
    "# Set a language"
   ]
  },
  {
   "cell_type": "code",
   "execution_count": 2,
   "id": "f87cc963",
   "metadata": {},
   "outputs": [],
   "source": [
    "LANG = English # English, Bengali"
   ]
  },
  {
   "cell_type": "markdown",
   "id": "d5ad1811",
   "metadata": {},
   "source": [
    "# 1. Data Preparation"
   ]
  },
  {
   "cell_type": "code",
   "execution_count": 3,
   "id": "70d8fc5d",
   "metadata": {},
   "outputs": [],
   "source": [
    "# import libraries and dependencies\n",
    "import preprocessing\n",
    "importlib.reload(preprocessing)\n",
    "from preprocessing import raw_preprocess, split_train_test"
   ]
  },
  {
   "cell_type": "markdown",
   "id": "9c850cb0",
   "metadata": {},
   "source": [
    "## 1.1. Preprocess data for sentencepiece"
   ]
  },
  {
   "cell_type": "code",
   "execution_count": 4,
   "id": "0e9cc22b",
   "metadata": {},
   "outputs": [],
   "source": [
    "# preprocess raw data to get a list of sentences.\n",
    "sentences = raw_preprocess(LANG)\n",
    "\n",
    "# write the sentences into a file, each sentence on one line.\n",
    "with open(f'data/{LANG.name}_preprocessed.txt', 'w') as f:\n",
    "    for sentence in sentences:\n",
    "        f.write(f'{sentence}\\n')"
   ]
  },
  {
   "cell_type": "markdown",
   "id": "5fd43bc8",
   "metadata": {},
   "source": [
    "## 1.2. Train/test split"
   ]
  },
  {
   "cell_type": "code",
   "execution_count": 5,
   "id": "d6e53181",
   "metadata": {},
   "outputs": [],
   "source": [
    "# split data to train and test.\n",
    "train, test = split_train_test(sentences, LANG)\n",
    "\n",
    "# write train and test data into corresponding files.\n",
    "train_path = f'data/{LANG.name}_train.txt'\n",
    "test_path = f'data/{LANG.name}_test.txt'\n",
    "\n",
    "with open(train_path, 'w') as f:\n",
    "    f.write('\\n'.join(train))\n",
    "with open(test_path, 'w') as f:\n",
    "    f.write('\\n'.join(test))"
   ]
  },
  {
   "cell_type": "markdown",
   "id": "9cfa97de",
   "metadata": {},
   "source": [
    "# 2. Subword segmentation"
   ]
  },
  {
   "cell_type": "markdown",
   "id": "801e276b",
   "metadata": {},
   "source": [
    "For English. we use a small subword vocabulary size of 500 and a large subword vocabulary size of 1500. For Bengali, these numbers are 800 and 1700."
   ]
  },
  {
   "cell_type": "code",
   "execution_count": 6,
   "id": "6ba0bca9",
   "metadata": {},
   "outputs": [],
   "source": [
    "# import libraries and dependencies\n",
    "import segmentation\n",
    "importlib.reload(segmentation)\n",
    "from segmentation import train_segmentation, encode_text_file, decode_text_file\n",
    "from config import seg_profiles"
   ]
  },
  {
   "cell_type": "code",
   "execution_count": 7,
   "id": "a3ce8b88",
   "metadata": {},
   "outputs": [
    {
     "data": {
      "text/plain": [
       "[SegmentationConf(id='s1', vocab_size=None, model_type='char'),\n",
       " SegmentationConf(id='s2', vocab_size=800, model_type='bpe'),\n",
       " SegmentationConf(id='s3', vocab_size=1700, model_type='bpe')]"
      ]
     },
     "execution_count": 7,
     "metadata": {},
     "output_type": "execute_result"
    }
   ],
   "source": [
    "seg_profiles[LANG.name]"
   ]
  },
  {
   "cell_type": "code",
   "execution_count": null,
   "id": "fbfa4bfe",
   "metadata": {},
   "outputs": [],
   "source": [
    "for seg in seg_profiles[LANG.name]:\n",
    "    # train segmentation on the train data\n",
    "    spm1 = train_segmentation(\n",
    "        text_file=train_path, \n",
    "        LANG=LANG, \n",
    "        vocab_size=seg.vocab_size, \n",
    "        model_type=seg.model_type)\n",
    "  \n",
    "    encoded_file = f'data/{LANG.name}_{seg.id}.txt'\n",
    "    encode_text_file(text_file=train_path, model_path=spm1, output_file=encoded_file)\n",
    "    \n",
    "    decoded_file = f'data/{LANG.name}_{seg.id}_decoded.txt'\n",
    "    decode_text_file(text_file=encoded_file, model_path=spm1, output_file=decoded_file)\n",
    "    \n",
    "    # test it on the test data\n",
    "    encoded_file = f'data/{LANG.name}_{seg.id}_test.txt'\n",
    "    encode_text_file(text_file=test_path, model_path=spm1, output_file=encoded_file)\n",
    "    \n",
    "    decoded_file = f'data/{LANG.name}_{seg.id}_decoded_test.txt'\n",
    "    decode_text_file(text_file=encoded_file, model_path=spm1, output_file=decoded_file)"
   ]
  },
  {
   "cell_type": "markdown",
   "id": "b76cf2ec",
   "metadata": {},
   "source": [
    "# 3. Language Model"
   ]
  },
  {
   "cell_type": "markdown",
   "id": "56adb306",
   "metadata": {
    "tags": []
   },
   "source": [
    "## Baseline"
   ]
  },
  {
   "cell_type": "code",
   "execution_count": 7,
   "id": "d48c0165",
   "metadata": {},
   "outputs": [
    {
     "data": {
      "text/plain": [
       "TrainingConf(hidden=40, rand_seed=1, debug=2, bptt=4, n_class=9999)"
      ]
     },
     "execution_count": 7,
     "metadata": {},
     "output_type": "execute_result"
    }
   ],
   "source": [
    "from config import baseline_conf\n",
    "baseline_conf"
   ]
  },
  {
   "cell_type": "code",
   "execution_count": null,
   "id": "0b282429",
   "metadata": {
    "scrolled": true,
    "tags": []
   },
   "outputs": [],
   "source": [
    "for seg in seg_profiles[LANG.name]:\n",
    "    # Hyper parameters\n",
    "    hidden = baseline_conf.hidden\n",
    "    rand_seed = baseline_conf.rand_seed\n",
    "    debug = baseline_conf.debug\n",
    "    bptt = baseline_conf.bptt\n",
    "    n_class = baseline_conf.n_class\n",
    "\n",
    "    # Parameters\n",
    "    model_path = f'models/rnnlm/{LANG.name}_{seg.id}_baseline'\n",
    "    train_path = f'../../../data/{LANG.name}_{seg.id}.txt'\n",
    "    valid_path = f'../../../data/{LANG.name}_{seg.id}_test.txt'\n",
    "\n",
    "    # run the model \n",
    "    !rm -rf $model_path \\\n",
    "      && mkdir $model_path \\\n",
    "      && cd $model_path \\\n",
    "      && ../../../rnnlm-0.3e/rnnlm \\\n",
    "        -train $train_path \\\n",
    "        -valid $valid_path \\\n",
    "        -rnnlm model \\\n",
    "        -hidden $hidden \\\n",
    "        -rand-seed $rand_seed \\\n",
    "        -debug $debug \\\n",
    "        -bptt $bptt \\\n",
    "        -class $n_class\n",
    "    \n",
    "    # read output and print perplexity\n",
    "    with open(f'{model_path}/model.output.txt', 'r') as f:\n",
    "        output = f.read()\n",
    "        pp = output.split()[-1]\n",
    "        print(f'Baseline {LANG.name}-{seg.id} validation perplexity: {pp}')"
   ]
  },
  {
   "cell_type": "markdown",
   "id": "5379debc",
   "metadata": {},
   "source": [
    "## Experiments"
   ]
  },
  {
   "cell_type": "code",
   "execution_count": 8,
   "id": "7384b820",
   "metadata": {},
   "outputs": [],
   "source": [
    "import pickle\n",
    "import itertools"
   ]
  },
  {
   "cell_type": "code",
   "execution_count": 6,
   "id": "d7aa9cf7",
   "metadata": {
    "scrolled": true,
    "tags": []
   },
   "outputs": [
    {
     "name": "stdout",
     "output_type": "stream",
     "text": [
      "{('en', 's1', 5, 0, 10): 10.887227, ('en', 's1', 5, 0, 100): 10.645946, ('en', 's1', 5, 0, 1501): 10.482386, ('en', 's1', 5, 1, 10): 10.605196, ('en', 's1', 5, 1, 100): 10.271953, ('en', 's1', 5, 1, 1501): 10.261143, ('en', 's1', 5, 3, 10): 10.650879, ('en', 's1', 5, 3, 100): 10.273488, ('en', 's1', 5, 3, 1501): 10.1756, ('en', 's1', 5, 5, 10): 10.650509, ('en', 's1', 5, 5, 100): 10.275037, ('en', 's1', 5, 5, 1501): 10.170872, ('en', 's1', 20, 0, 10): 7.372125, ('en', 's1', 20, 0, 100): 6.910608, ('en', 's1', 20, 0, 1501): 7.039472, ('en', 's1', 20, 1, 10): 6.759173, ('en', 's1', 20, 1, 100): 6.477795, ('en', 's1', 20, 1, 1501): 6.552387, ('en', 's1', 20, 3, 10): 6.617757, ('en', 's1', 20, 3, 100): 6.550642, ('en', 's1', 20, 3, 1501): 6.441925, ('en', 's1', 20, 5, 10): 6.675042, ('en', 's1', 20, 5, 100): 6.571401, ('en', 's1', 20, 5, 1501): 6.611228, ('en', 's1', 40, 0, 10): 6.051518, ('en', 's1', 40, 0, 100): 5.971961, ('en', 's1', 40, 0, 1501): 5.99838, ('en', 's1', 40, 1, 10): 5.437759, ('en', 's1', 40, 1, 100): 5.316452, ('en', 's1', 40, 1, 1501): 5.325766, ('en', 's1', 40, 3, 10): 5.407829, ('en', 's1', 40, 3, 100): 5.300316, ('en', 's1', 40, 3, 1501): 5.358696, ('en', 's1', 40, 5, 10): 5.450305, ('en', 's1', 40, 5, 100): 5.26304, ('en', 's1', 40, 5, 1501): 5.314311, ('en', 's1', 70, 0, 10): 5.305246, ('en', 's1', 70, 0, 100): 5.192741, ('en', 's1', 70, 0, 1501): 5.206954, ('en', 's1', 70, 1, 10): 4.716855, ('en', 's1', 70, 1, 100): 4.592401, ('en', 's1', 70, 1, 1501): 4.615947, ('en', 's1', 70, 3, 10): 4.694345, ('en', 's1', 70, 3, 100): 4.618809, ('en', 's1', 70, 3, 1501): 4.580358, ('en', 's1', 70, 5, 10): 4.756707, ('en', 's1', 70, 5, 100): 4.612161, ('en', 's1', 70, 5, 1501): 4.571423, ('en', 's1', 100, 0, 10): 5.00432, ('en', 's1', 100, 0, 100): 4.906095, ('en', 's1', 100, 0, 1501): 4.747253, ('en', 's1', 100, 1, 10): 4.424928, ('en', 's1', 100, 1, 100): 4.269873, ('en', 's1', 100, 1, 1501): 4.25408, ('en', 's1', 100, 3, 10): 4.416273, ('en', 's1', 100, 3, 100): 4.313073, ('en', 's1', 100, 3, 1501): 4.253318, ('en', 's1', 100, 5, 10): 4.38419, ('en', 's1', 100, 5, 100): 4.268893, ('en', 's1', 100, 5, 1501): 4.306499, ('en', 's2', 5, 0, 10): 79.917113, ('en', 's2', 5, 0, 100): 91.003108, ('en', 's2', 5, 0, 1501): 76.94798, ('en', 's2', 5, 1, 10): 81.820482, ('en', 's2', 5, 1, 100): 89.977811, ('en', 's2', 5, 1, 1501): 76.729335, ('en', 's2', 5, 3, 10): 81.852043, ('en', 's2', 5, 3, 100): 90.061156, ('en', 's2', 5, 3, 1501): 78.192649, ('en', 's2', 5, 5, 10): 81.062396, ('en', 's2', 5, 5, 100): 90.06735, ('en', 's2', 5, 5, 1501): 78.185581, ('en', 's2', 20, 0, 10): 45.955262, ('en', 's2', 20, 0, 100): 48.136868, ('en', 's2', 20, 0, 1501): 41.553778, ('en', 's2', 20, 1, 10): 43.400182, ('en', 's2', 20, 1, 100): 46.621071, ('en', 's2', 20, 1, 1501): 39.809213, ('en', 's2', 20, 3, 10): 43.379997, ('en', 's2', 20, 3, 100): 46.926589, ('en', 's2', 20, 3, 1501): 40.009833, ('en', 's2', 20, 5, 10): 43.661502, ('en', 's2', 20, 5, 100): 46.680885, ('en', 's2', 20, 5, 1501): 39.995691, ('en', 's2', 40, 0, 10): 39.261794, ('en', 's2', 40, 0, 100): 41.81998, ('en', 's2', 40, 0, 1501): 35.676485, ('en', 's2', 40, 1, 10): 37.889069, ('en', 's2', 40, 1, 100): 39.46187, ('en', 's2', 40, 1, 1501): 34.018567, ('en', 's2', 40, 3, 10): 38.041814, ('en', 's2', 40, 3, 100): 39.391447, ('en', 's2', 40, 3, 1501): 33.666623, ('en', 's2', 40, 5, 10): 38.163084, ('en', 's2', 40, 5, 100): 39.34923, ('en', 's2', 40, 5, 1501): 33.926588, ('en', 's2', 70, 0, 10): 37.479954, ('en', 's2', 70, 0, 100): 38.349149, ('en', 's2', 70, 0, 1501): 34.186575, ('en', 's2', 70, 1, 10): 37.086731, ('en', 's2', 70, 1, 100): 36.532976, ('en', 's2', 70, 1, 1501): 31.983317, ('en', 's2', 70, 3, 10): 36.082172, ('en', 's2', 70, 3, 100): 36.814332, ('en', 's2', 70, 3, 1501): 32.01026, ('en', 's2', 70, 5, 10): 36.1004, ('en', 's2', 70, 5, 100): 37.142751, ('en', 's2', 70, 5, 1501): 31.948504, ('en', 's2', 100, 0, 10): 37.132552, ('en', 's2', 100, 0, 100): 37.63228, ('en', 's2', 100, 0, 1501): 34.24341, ('en', 's2', 100, 1, 10): 35.457378, ('en', 's2', 100, 1, 100): 36.476024, ('en', 's2', 100, 1, 1501): 32.254808, ('en', 's2', 100, 3, 10): 35.248742, ('en', 's2', 100, 3, 100): 36.105768, ('en', 's2', 100, 3, 1501): 31.724294, ('en', 's2', 100, 5, 10): 35.378668, ('en', 's2', 100, 5, 100): 36.213214, ('en', 's2', 100, 5, 1501): 32.134818, ('en', 's3', 5, 0, 10): 129.486665, ('en', 's3', 5, 0, 100): 154.827237, ('en', 's3', 5, 0, 1501): 124.444336, ('en', 's3', 5, 1, 10): 129.329557, ('en', 's3', 5, 1, 100): 146.402615, ('en', 's3', 5, 1, 1501): 126.377034, ('en', 's3', 5, 3, 10): 129.802971, ('en', 's3', 5, 3, 100): 146.458968, ('en', 's3', 5, 3, 1501): 125.207263, ('en', 's3', 5, 5, 10): 129.817731, ('en', 's3', 5, 5, 100): 146.510168, ('en', 's3', 5, 5, 1501): 125.232471, ('en', 's3', 20, 0, 10): 84.936761, ('en', 's3', 20, 0, 100): 92.439914, ('en', 's3', 20, 0, 1501): 83.038117, ('en', 's3', 20, 1, 10): 87.361218, ('en', 's3', 20, 1, 100): 95.813698, ('en', 's3', 20, 1, 1501): 84.001277, ('en', 's3', 20, 3, 10): 91.381798, ('en', 's3', 20, 3, 100): 96.344725, ('en', 's3', 20, 3, 1501): 87.109214, ('en', 's3', 20, 5, 10): 92.278409, ('en', 's3', 20, 5, 100): 95.730928, ('en', 's3', 20, 5, 1501): 87.425986, ('en', 's3', 40, 0, 10): 82.584596, ('en', 's3', 40, 0, 100): 87.538349, ('en', 's3', 40, 0, 1501): 81.272751, ('en', 's3', 40, 1, 10): 87.442705, ('en', 's3', 40, 1, 100): 94.475276, ('en', 's3', 40, 1, 1501): 84.571293, ('en', 's3', 40, 3, 10): 88.000203, ('en', 's3', 40, 3, 100): 93.488502, ('en', 's3', 40, 3, 1501): 86.396765, ('en', 's3', 40, 5, 10): 88.458003, ('en', 's3', 40, 5, 100): 94.455227, ('en', 's3', 40, 5, 1501): 87.545986, ('en', 's3', 70, 0, 10): 83.427868, ('en', 's3', 70, 0, 100): 89.895547, ('en', 's3', 70, 0, 1501): 85.551072, ('en', 's3', 70, 1, 10): 86.183936, ('en', 's3', 70, 1, 100): 91.10678, ('en', 's3', 70, 1, 1501): 85.31454, ('en', 's3', 70, 3, 10): 87.148869, ('en', 's3', 70, 3, 100): 93.839767, ('en', 's3', 70, 3, 1501): 87.199227, ('en', 's3', 70, 5, 10): 87.453107, ('en', 's3', 70, 5, 100): 93.421055, ('en', 's3', 70, 5, 1501): 88.09753, ('en', 's3', 100, 0, 10): 84.750986, ('en', 's3', 100, 0, 100): 91.323652, ('en', 's3', 100, 0, 1501): 86.012182, ('en', 's3', 100, 1, 10): 88.366665, ('en', 's3', 100, 1, 100): 92.328073, ('en', 's3', 100, 1, 1501): 88.589836, ('en', 's3', 100, 3, 10): 87.912403, ('en', 's3', 100, 3, 100): 92.999376, ('en', 's3', 100, 3, 1501): 96.743101, ('en', 's3', 100, 5, 10): 88.806794, ('en', 's3', 100, 5, 100): 95.070122, ('en', 's3', 100, 5, 1501): 89.744803, ('en', 's1', 150, 0, 10): 4.781489, ('en', 's1', 150, 0, 100): 4.605979, ('en', 's1', 150, 0, 1501): 4.515349, ('en', 's1', 150, 1, 10): 4.198978, ('en', 's1', 150, 1, 100): 4.102886, ('en', 's1', 150, 1, 1501): 4.120607, ('en', 's1', 150, 3, 10): 4.13526, ('en', 's1', 150, 3, 100): 4.127839, ('en', 's1', 150, 3, 1501): 4.049141, ('en', 's1', 150, 5, 10): 4.201073, ('en', 's1', 150, 5, 100): 4.069257, ('en', 's1', 150, 5, 1501): 4.055643, ('en', 's1', 200, 0, 10): 4.709409, ('en', 's1', 200, 0, 100): 4.558869, ('en', 's1', 200, 0, 1501): 4.614805, ('en', 's1', 200, 1, 10): 4.095692, ('en', 's1', 200, 1, 100): 4.058359, ('en', 's1', 200, 1, 1501): 4.018158, ('en', 's1', 200, 3, 10): 4.073541, ('en', 's1', 200, 3, 100): 3.958083, ('en', 's1', 200, 3, 1501): 3.996584, ('en', 's1', 200, 5, 10): 4.099608, ('en', 's1', 200, 5, 100): 4.040458, ('en', 's1', 200, 5, 1501): 3.980423, ('en', 's2', 150, 0, 10): 36.179975, ('en', 's2', 150, 0, 100): 36.448608, ('en', 's2', 150, 0, 1501): 33.964105, ('en', 's2', 150, 1, 10): 35.481469, ('en', 's2', 150, 1, 100): 35.831927, ('en', 's2', 150, 1, 1501): 32.380335, ('en', 's2', 150, 3, 10): 35.752299, ('en', 's2', 150, 3, 100): 36.01969, ('en', 's2', 150, 3, 1501): 31.466389, ('en', 's2', 150, 5, 10): 35.315552, ('en', 's2', 150, 5, 100): 36.098534, ('en', 's2', 150, 5, 1501): 31.823615, ('en', 's2', 200, 0, 10): 36.100396, ('en', 's2', 200, 0, 100): 36.59243, ('en', 's2', 200, 0, 1501): 33.80988, ('en', 's2', 200, 1, 10): 35.105685, ('en', 's2', 200, 1, 100): 36.088001, ('en', 's2', 200, 1, 1501): 32.343795, ('en', 's2', 200, 3, 10): 35.166543, ('en', 's2', 200, 3, 100): 36.4616, ('en', 's2', 200, 3, 1501): 31.358697, ('en', 's2', 200, 5, 10): 35.102639, ('en', 's2', 200, 5, 100): 36.149027, ('en', 's2', 200, 5, 1501): 31.537923, ('en', 's3', 150, 0, 10): 86.195108, ('en', 's3', 150, 0, 100): 89.120879, ('en', 's3', 150, 0, 1501): 88.098382, ('en', 's3', 150, 1, 10): 87.674062, ('en', 's3', 150, 1, 100): 90.484762, ('en', 's3', 150, 1, 1501): 88.756647, ('en', 's3', 150, 3, 10): 88.410128, ('en', 's3', 150, 3, 100): 91.128259, ('en', 's3', 150, 3, 1501): 91.295904, ('en', 's3', 150, 5, 10): 87.808701, ('en', 's3', 150, 5, 100): 91.722583, ('en', 's3', 150, 5, 1501): 91.035236, ('en', 's3', 200, 0, 10): 85.464932, ('en', 's3', 200, 0, 100): 89.023724, ('en', 's3', 200, 0, 1501): 86.097993, ('en', 's3', 200, 1, 10): 86.257335, ('en', 's3', 200, 1, 100): 90.254313, ('en', 's3', 200, 1, 1501): 90.185754, ('en', 's3', 200, 3, 10): 87.47169, ('en', 's3', 200, 3, 100): 90.232826, ('en', 's3', 200, 3, 1501): 89.895455, ('en', 's3', 200, 5, 10): 102.336159, ('en', 's3', 200, 5, 100): 91.813027, ('en', 's3', 200, 5, 1501): 90.32816}\n"
     ]
    }
   ],
   "source": [
    "# experimented results are kept in a file\n",
    "grid_result_file = f'experiments/{LANG.name}_task3_grid_search.pickle'\n",
    "# grid_results stores the results in memory\n",
    "grid_results = {}\n",
    "\n",
    "# import previous results if exists\n",
    "try:\n",
    "    with open(grid_result_file, 'rb') as f:\n",
    "        previous_results = pickle.load(f)\n",
    "        grid_results.update(previous_results)\n",
    "except:\n",
    "    pass #TODO: add exceptions etc.\n",
    "\n",
    "print(grid_results[0:5])"
   ]
  },
  {
   "cell_type": "code",
   "execution_count": null,
   "id": "0699f7be",
   "metadata": {
    "scrolled": true,
    "tags": []
   },
   "outputs": [],
   "source": [
    "hidden_choices = [5, 20, 40, 70, 100, 150, 200]\n",
    "bptt_choices = [0, 1, 3, 5]\n",
    "class_choices = [10, 100, 1501]\n",
    "rand_seed = 1\n",
    "debug = 2\n",
    "\n",
    "for seg, hidden, bptt, _class in itertools.product(\n",
    "    seg_profiles[LANG.name], hidden_choices, bptt_choices, class_choices):\n",
    "\n",
    "    if (LANG.name, seg.id, hidden, bptt, _class) in grid_results:\n",
    "        print(f'skip {LANG.name} {seg.id} {hidden} {bptt} {_class}')\n",
    "        continue\n",
    "\n",
    "    # Parameters\n",
    "    model_path = f'models/rnnlm/{LANG.name}_{seg.id}'\n",
    "    train_path = f'../../../data/{LANG.name}_{seg.id}.txt'\n",
    "    valid_path = f'../../../data/{LANG.name}_{seg.id}_test.txt'\n",
    "\n",
    "    # run the model \n",
    "    !rm -rf $model_path \\\n",
    "      && mkdir $model_path \\\n",
    "      && cd $model_path \\\n",
    "      && ../../../rnnlm-0.3e/rnnlm \\\n",
    "        -train $train_path \\\n",
    "        -valid $valid_path \\\n",
    "        -rnnlm model \\\n",
    "        -hidden $hidden \\\n",
    "        -rand-seed $rand_seed \\\n",
    "        -debug $debug \\\n",
    "        -bptt $bptt \\\n",
    "        -class $_class \\\n",
    "        2> error.txt\n",
    "\n",
    "    # read output extract validation perplexity\n",
    "    with open(f'{model_path}/model.output.txt', 'r') as f:\n",
    "        output = f.read()\n",
    "        pp = float(output.split()[-1])\n",
    "        grid_results[(LANG.name, seg.id, hidden, bptt, _class)] = pp\n",
    "\n",
    "    # write current results to file\n",
    "    with open(grid_result_file, 'wb') as f:\n",
    "        pickle.dump(grid_results, f)"
   ]
  },
  {
   "cell_type": "code",
   "execution_count": 28,
   "id": "3e9b6ba3",
   "metadata": {},
   "outputs": [
    {
     "data": {
      "image/png": "[encoded data removed]",
      "text/plain": [
       "<Figure size 1152x360 with 3 Axes>"
      ]
     },
     "metadata": {
      "needs_background": "light"
     },
     "output_type": "display_data"
    }
   ],
   "source": [
    "import visualization \n",
    "visualization = importlib.reload(visualization)\n",
    "\n",
    "visualization.plot_grid_results(grid_results)"
   ]
  },
  {
   "cell_type": "markdown",
   "id": "5c548621",
   "metadata": {},
   "source": [
    "The optimal configurations of hyperparameters for each vocabulary size are:"
   ]
  },
  {
   "cell_type": "code",
   "execution_count": 12,
   "id": "b257094c",
   "metadata": {},
   "outputs": [
    {
     "name": "stdout",
     "output_type": "stream",
     "text": [
      "s1: ('en', 's1', 200, 3, 100)\n",
      "s2: ('en', 's2', 200, 3, 1501)\n",
      "s3: ('en', 's3', 40, 0, 1501)\n"
     ]
    }
   ],
   "source": [
    "for seg in seg_profiles:\n",
    "    results = dict((k, v) for (k, v) in grid_results.items() if k[1] == seg.id)\n",
    "    print(f\"{seg.id}: {min(results, key=results.get)}\")"
   ]
  },
  {
   "cell_type": "code",
   "execution_count": 18,
   "id": "7e682def-d73a-40a7-ad20-a7003d3f28d4",
   "metadata": {
    "scrolled": true,
    "tags": []
   },
   "outputs": [
    {
     "name": "stdout",
     "output_type": "stream",
     "text": [
      "debug mode: 2\n",
      "train file: ../../../data/en_s1.txt\n",
      "valid file: ../../../data/en_s1_test.txt\n",
      "class size: 100\n",
      "Hidden layer size: 200\n",
      "BPTT: 3\n",
      "Rand seed: 1\n",
      "rnnlm file: model\n",
      "Starting training using file ../../../data/en_s1.txt\n",
      "Vocab size: 72\n",
      "Words in train file: 115565\n",
      "WARNING: number of classes exceeds vocabulary size!\n",
      "Iter:   0\tAlpha: 0.100000\t   TRAIN entropy: 3.1770    Words/sec: 9620.3   VALID entropy: 2.7640\n",
      "Iter:   1\tAlpha: 0.100000\t   TRAIN entropy: 2.6055    Words/sec: 9618.7   VALID entropy: 2.5331\n",
      "Iter:   2\tAlpha: 0.100000\t   TRAIN entropy: 2.4166    Words/sec: 9598.8   VALID entropy: 2.4186\n",
      "Iter:   3\tAlpha: 0.100000\t   TRAIN entropy: 2.3017    Words/sec: 9669.8   VALID entropy: 2.3476\n",
      "Iter:   4\tAlpha: 0.100000\t   TRAIN entropy: 2.2207    Words/sec: 9582.0   VALID entropy: 2.2939\n",
      "Iter:   5\tAlpha: 0.100000\t   TRAIN entropy: 2.1579    Words/sec: 9569.7   VALID entropy: 2.2625\n",
      "Iter:   6\tAlpha: 0.100000\t   TRAIN entropy: 2.1089    Words/sec: 9481.0   VALID entropy: 2.2430\n",
      "Iter:   7\tAlpha: 0.100000\t   TRAIN entropy: 2.0687    Words/sec: 9338.8   VALID entropy: 2.2342\n",
      "Iter:   8\tAlpha: 0.100000\t   TRAIN entropy: 2.0350    Words/sec: 9559.3   VALID entropy: 2.2109\n",
      "Iter:   9\tAlpha: 0.100000\t   TRAIN entropy: 2.0091    Words/sec: 9589.4   VALID entropy: 2.1912\n",
      "Iter:  10\tAlpha: 0.100000\t   TRAIN entropy: 1.9834    Words/sec: 9722.6   VALID entropy: 2.1897\n",
      "Iter:  11\tAlpha: 0.050000\t   TRAIN entropy: 1.8494    Words/sec: 9745.2   VALID entropy: 2.0861\n",
      "Iter:  12\tAlpha: 0.025000\t   TRAIN entropy: 1.7674    Words/sec: 9732.4   VALID entropy: 2.0305\n",
      "Iter:  13\tAlpha: 0.012500\t   TRAIN entropy: 1.7226    Words/sec: 9740.5   VALID entropy: 2.0026\n",
      "Iter:  14\tAlpha: 0.006250\t   TRAIN entropy: 1.6973    Words/sec: 9717.3   VALID entropy: 1.9899\n",
      "Iter:  15\tAlpha: 0.003125\t   TRAIN entropy: 1.6828    Words/sec: 9577.9   VALID entropy: 1.9848\n",
      "debug mode: 2\n",
      "train file: ../../../data/en_s2.txt\n",
      "valid file: ../../../data/en_s2_test.txt\n",
      "class size: 1501\n",
      "Hidden layer size: 200\n",
      "BPTT: 3\n",
      "Rand seed: 1\n",
      "rnnlm file: model\n",
      "Starting training using file ../../../data/en_s2.txt\n",
      "Vocab size: 490\n",
      "Words in train file: 45425\n",
      "WARNING: number of classes exceeds vocabulary size!\n",
      "Iter:   0\tAlpha: 0.100000\t   TRAIN entropy: 7.7646    Words/sec: 1567.4   VALID entropy: 7.2527\n",
      "Iter:   1\tAlpha: 0.100000\t   TRAIN entropy: 6.7928    Words/sec: 1554.7   VALID entropy: 6.5364\n",
      "Iter:   2\tAlpha: 0.100000\t   TRAIN entropy: 6.1249    Words/sec: 1562.3   VALID entropy: 6.0089\n",
      "Iter:   3\tAlpha: 0.100000\t   TRAIN entropy: 5.6386    Words/sec: 1570.7   VALID entropy: 5.6706\n",
      "Iter:   4\tAlpha: 0.100000\t   TRAIN entropy: 5.2916    Words/sec: 1569.6   VALID entropy: 5.4697\n",
      "Iter:   5\tAlpha: 0.100000\t   TRAIN entropy: 5.0356    Words/sec: 1609.9   VALID entropy: 5.3516\n",
      "Iter:   6\tAlpha: 0.100000\t   TRAIN entropy: 4.8295    Words/sec: 1554.2   VALID entropy: 5.2811\n",
      "Iter:   7\tAlpha: 0.100000\t   TRAIN entropy: 4.6537    Words/sec: 1567.6   VALID entropy: 5.2556\n",
      "Iter:   8\tAlpha: 0.100000\t   TRAIN entropy: 4.4992    Words/sec: 1675.1   VALID entropy: 5.2595\n",
      "Iter:   9\tAlpha: 0.050000\t   TRAIN entropy: 4.3214    Words/sec: 1700.1   VALID entropy: 5.1300\n",
      "Iter:  10\tAlpha: 0.025000\t   TRAIN entropy: 4.1185    Words/sec: 1644.1   VALID entropy: 5.0610\n",
      "Iter:  11\tAlpha: 0.012500\t   TRAIN entropy: 4.0000    Words/sec: 1559.2   VALID entropy: 5.0222\n",
      "Iter:  12\tAlpha: 0.006250\t   TRAIN entropy: 3.9323    Words/sec: 1472.4   VALID entropy: 4.9987\n",
      "Iter:  13\tAlpha: 0.003125\t   TRAIN entropy: 3.8939    Words/sec: 1548.7   VALID entropy: 4.9820\n",
      "Iter:  14\tAlpha: 0.001563\t   TRAIN entropy: 3.8724    Words/sec: 1570.2   VALID entropy: 4.9708\n",
      "debug mode: 2\n",
      "train file: ../../../data/en_s3.txt\n",
      "valid file: ../../../data/en_s3_test.txt\n",
      "class size: 1501\n",
      "Hidden layer size: 40\n",
      "BPTT: 0\n",
      "Rand seed: 1\n",
      "rnnlm file: model\n",
      "Starting training using file ../../../data/en_s3.txt\n",
      "Vocab size: 1415\n",
      "Words in train file: 34699\n",
      "WARNING: number of classes exceeds vocabulary size!\n",
      "Iter:   0\tAlpha: 0.100000\t   TRAIN entropy: 8.3287    Words/sec: 9524.8   VALID entropy: 8.0300\n",
      "Iter:   1\tAlpha: 0.100000\t   TRAIN entropy: 7.6896    Words/sec: 9528.7   VALID entropy: 7.6126\n",
      "Iter:   2\tAlpha: 0.100000\t   TRAIN entropy: 7.2738    Words/sec: 9419.2   VALID entropy: 7.3360\n",
      "Iter:   3\tAlpha: 0.100000\t   TRAIN entropy: 6.9863    Words/sec: 9158.7   VALID entropy: 7.1603\n",
      "Iter:   4\tAlpha: 0.100000\t   TRAIN entropy: 6.7645    Words/sec: 9559.6   VALID entropy: 7.0317\n",
      "Iter:   5\tAlpha: 0.100000\t   TRAIN entropy: 6.5785    Words/sec: 9582.2   VALID entropy: 6.9373\n",
      "Iter:   6\tAlpha: 0.100000\t   TRAIN entropy: 6.4158    Words/sec: 9593.5   VALID entropy: 6.8604\n",
      "Iter:   7\tAlpha: 0.100000\t   TRAIN entropy: 6.2705    Words/sec: 9575.6   VALID entropy: 6.7977\n",
      "Iter:   8\tAlpha: 0.100000\t   TRAIN entropy: 6.1395    Words/sec: 9554.1   VALID entropy: 6.7482\n",
      "Iter:   9\tAlpha: 0.100000\t   TRAIN entropy: 6.0187    Words/sec: 9590.0   VALID entropy: 6.7153\n",
      "Iter:  10\tAlpha: 0.100000\t   TRAIN entropy: 5.9083    Words/sec: 9535.2   VALID entropy: 6.6895\n",
      "Iter:  11\tAlpha: 0.100000\t   TRAIN entropy: 5.8053    Words/sec: 9568.1   VALID entropy: 6.6675\n",
      "Iter:  12\tAlpha: 0.100000\t   TRAIN entropy: 5.7085    Words/sec: 9568.5   VALID entropy: 6.6472\n",
      "Iter:  13\tAlpha: 0.100000\t   TRAIN entropy: 5.6178    Words/sec: 9576.6   VALID entropy: 6.6293\n",
      "Iter:  14\tAlpha: 0.050000\t   TRAIN entropy: 5.3921    Words/sec: 9539.4   VALID entropy: 6.5039\n",
      "Iter:  15\tAlpha: 0.025000\t   TRAIN entropy: 5.2650    Words/sec: 9044.2   VALID entropy: 6.4308\n",
      "Iter:  16\tAlpha: 0.012500\t   TRAIN entropy: 5.1988    Words/sec: 8869.6   VALID entropy: 6.3870\n",
      "Iter:  17\tAlpha: 0.006250\t   TRAIN entropy: 5.1648    Words/sec: 9009.9   VALID entropy: 6.3594\n",
      "Iter:  18\tAlpha: 0.003125\t   TRAIN entropy: 5.1471    Words/sec: 8980.6   VALID entropy: 6.3447\n"
     ]
    }
   ],
   "source": [
    "# train and save LMs for the optimal configurations\n",
    "importlib.reload(config)\n",
    "from config import optimal_conf\n",
    "\n",
    "for id, (hidden, rand_seed, debug, bptt, n_class) in \\\n",
    "    enumerate(optimal_conf[LANG.name], start=1):\n",
    "    \n",
    "    seg_id = f's{id}'\n",
    "\n",
    "    # paths\n",
    "    model_path = f'models/rnnlm/{LANG.name}_{seg_id}_optimal'\n",
    "    train_path = f'../../../data/{LANG.name}_{seg_id}.txt'\n",
    "    valid_path = f'../../../data/{LANG.name}_{seg_id}_test.txt'\n",
    "\n",
    "    # run the model \n",
    "    !rm -rf $model_path \\\n",
    "      && mkdir $model_path \\\n",
    "      && cd $model_path \\\n",
    "      && ../../../rnnlm-0.3e/rnnlm \\\n",
    "        -train $train_path \\\n",
    "        -valid $valid_path \\\n",
    "        -rnnlm model \\\n",
    "        -hidden $hidden \\\n",
    "        -rand-seed $rand_seed \\\n",
    "        -debug $debug \\\n",
    "        -bptt $bptt \\\n",
    "        -class $n_class"
   ]
  },
  {
   "cell_type": "markdown",
   "id": "9a07effc-706f-4240-8bba-7fbe4c56477a",
   "metadata": {},
   "source": [
    "# 4. Text Generation"
   ]
  },
  {
   "cell_type": "code",
   "execution_count": 50,
   "id": "50a94c96-72c4-4210-96a4-37b92c29e8f0",
   "metadata": {},
   "outputs": [],
   "source": [
    "for seg in seg_profiles[LANG.name]:\n",
    "    gen_folder = f'data/generation/{LANG.name}_{seg.id}'\n",
    "    # path to LM file\n",
    "    language_model_file = f'models/rnnlm/{LANG.name}_{seg.id}_optimal/model'\n",
    "    # path to segmentation file\n",
    "    if seg.model_type == 'char':\n",
    "        seg_model_file = f'{LANG.seg_model_folder}/spm_{LANG.name}_{seg.model_type}.model'\n",
    "    else:\n",
    "        seg_model_file = f'{LANG.seg_model_folder}/spm_{LANG.name}_{seg.model_type}_vocabsize-{seg.vocab_size}.model'\n",
    "    \n",
    "    # remove the text-generation folder\n",
    "    !rm -rf $gen_folder \\\n",
    "        && mkdir $gen_folder\n",
    "    \n",
    "    for n_gen in [10, 100, 1000, 10000, 100000, 1000000, 10000000]:\n",
    "        # generate text using rnnlm\n",
    "        gen_file = f'{gen_folder}/{LANG.name}_{seg.id}_{n_gen}.txt'\n",
    "        !rnnlm-0.3e/rnnlm \\\n",
    "                -rnnlm $language_model_file \\\n",
    "                -gen $n_gen \\\n",
    "                -debug 0 \\\n",
    "            > $gen_file\n",
    "        \n",
    "        # decode generated text using sentencepiece\n",
    "        decoded_gen_file = f'{gen_folder}/{LANG.name}_{seg.id}_{n_gen}_decoded.txt'\n",
    "        decode_text_file(gen_file, seg_model_file, decoded_gen_file)"
   ]
  },
  {
   "cell_type": "markdown",
   "id": "ee3d01be-9259-4c50-a935-030382319d0c",
   "metadata": {},
   "source": [
    "# 5. OOV comparison"
   ]
  },
  {
   "cell_type": "markdown",
   "id": "93d1d10b-e402-477e-aab1-168910b1400c",
   "metadata": {},
   "source": [
    "## Original data"
   ]
  },
  {
   "cell_type": "code",
   "execution_count": 52,
   "id": "93669513-632f-4e67-9c80-c77981973923",
   "metadata": {},
   "outputs": [],
   "source": [
    "import nltk\n",
    "from vocab_processing import get_word_level_vocabulary, get_word_level_tokens, get_OOV_rate"
   ]
  },
  {
   "cell_type": "code",
   "execution_count": 53,
   "id": "711887f8-5efa-4f61-b96c-d28f2d127185",
   "metadata": {},
   "outputs": [],
   "source": [
    "train_path = f'data/{LANG.name}_train.txt'\n",
    "test_path = f'data/{LANG.name}_test.txt'"
   ]
  },
  {
   "cell_type": "code",
   "execution_count": 54,
   "id": "39ab2f18-7edc-495d-8515-1111278f3e80",
   "metadata": {},
   "outputs": [
    {
     "name": "stdout",
     "output_type": "stream",
     "text": [
      "Original data's OOV rate: 4.61%\n"
     ]
    }
   ],
   "source": [
    "# get the training vocabulary on word-level\n",
    "train_vocab = get_word_level_vocabulary(LANG, train_path)\n",
    "# get the test tokens on word-level\n",
    "test_tokens = get_word_level_tokens(LANG, test_path)\n",
    "# compute and print OOV rate\n",
    "oov_tokens = get_OOV_rate(train_vocab, test_tokens)\n",
    "print(f'Original data\\'s OOV rate: {oov_rate:.2%}')"
   ]
  },
  {
   "cell_type": "markdown",
   "id": "b5d8ae67-ec58-48e9-b248-3b75e68775ab",
   "metadata": {},
   "source": [
    "## Augment vocabulary with generated data"
   ]
  },
  {
   "cell_type": "code",
   "execution_count": 72,
   "id": "a5d629fd-24a7-4c7e-b83d-de404f2e91dc",
   "metadata": {},
   "outputs": [
    {
     "name": "stdout",
     "output_type": "stream",
     "text": [
      "en s1 10 OOV rate: 4.61%\n",
      "en s1 100 OOV rate: 4.61%\n",
      "en s1 1000 OOV rate: 4.61%\n",
      "en s1 10000 OOV rate: 4.61%\n",
      "en s1 100000 OOV rate: 4.52%\n",
      "en s1 1000000 OOV rate: 3.89%\n",
      "en s1 10000000 OOV rate: 3.03%\n",
      "en s2 10 OOV rate: 4.61%\n",
      "en s2 100 OOV rate: 4.61%\n",
      "en s2 1000 OOV rate: 4.61%\n",
      "en s2 10000 OOV rate: 4.59%\n",
      "en s2 100000 OOV rate: 4.28%\n",
      "en s2 1000000 OOV rate: 3.55%\n",
      "en s2 10000000 OOV rate: 2.76%\n",
      "en s3 10 OOV rate: 4.61%\n",
      "en s3 100 OOV rate: 4.61%\n",
      "en s3 1000 OOV rate: 4.61%\n",
      "en s3 10000 OOV rate: 4.55%\n",
      "en s3 100000 OOV rate: 4.37%\n",
      "en s3 1000000 OOV rate: 3.82%\n",
      "en s3 10000000 OOV rate: 3.07%\n"
     ]
    }
   ],
   "source": [
    "oov_rates = []\n",
    "\n",
    "for seg in seg_profiles[LANG.name]:\n",
    "    gen_folder = f'data/generation/{LANG.name}_{seg.id}'\n",
    "    oov_rates.append([])\n",
    "    \n",
    "    for n_gen in [10, 100, 1000, 10000, 100000, 1000000, 10000000]:\n",
    "        decoded_gen_file = f'{gen_folder}/{LANG.name}_{seg.id}_{n_gen}_decoded.txt'\n",
    "        gen_vocab = get_word_level_vocabulary(LANG, decoded_gen_file)\n",
    "        augmented_oov_rate = get_OOV_rate(train_vocab | gen_vocab, test_tokens)\n",
    "        print(f'{LANG.name} {seg.id} {n_gen} OOV rate: {augmented_oov_rate:.2%}')\n",
    "        oov_rates[-1].append(augmented_oov_rate)"
   ]
  },
  {
   "cell_type": "code",
   "execution_count": 76,
   "id": "08dee273-3c29-4dab-9c44-6307ccfa6bed",
   "metadata": {},
   "outputs": [
    {
     "data": {
      "image/png": "[encoded data removed]",
      "text/plain": [
       "<Figure size 576x360 with 1 Axes>"
      ]
     },
     "metadata": {
      "needs_background": "light"
     },
     "output_type": "display_data"
    }
   ],
   "source": [
    "import visualization\n",
    "importlib.reload(visualization)\n",
    "from visualization import plot_oov_rates\n",
    "\n",
    "plot_oov_rates(oov_rates)\n",
    "# plot_oov_rates(oov_rates, save_path=f'figures/{LANG.name}_task5_oov_rates.png')"
   ]
  },
  {
   "cell_type": "code",
   "execution_count": null,
   "id": "795c63ad-a615-4953-91a5-469109c275db",
   "metadata": {},
   "outputs": [],
   "source": []
  }
 ],
 "metadata": {
  "interpreter": {
   "hash": "0ba93cb785b08a5c388f5a645f2c192b35e18c76a279f6b816e8452dcbc7cdb2"
  },
  "kernelspec": {
   "display_name": "Python 3",
   "language": "python",
   "name": "python3"
  },
  "language_info": {
   "codemirror_mode": {
    "name": "ipython",
    "version": 3
   },
   "file_extension": ".py",
   "mimetype": "text/x-python",
   "name": "python",
   "nbconvert_exporter": "python",
   "pygments_lexer": "ipython3",
   "version": "3.8.3"
  }
 },
 "nbformat": 4,
 "nbformat_minor": 5
}
