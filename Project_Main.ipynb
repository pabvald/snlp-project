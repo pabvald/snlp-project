{
 "cells": [
  {
   "cell_type": "markdown",
   "source": [
    "# Import basic libraries and dependencies"
   ],
   "metadata": {}
  },
  {
   "cell_type": "code",
   "execution_count": 1,
   "source": [
    "import sys\n",
    "import importlib\n",
    "import sentencepiece as spm\n",
    "import config\n",
    "\n",
    "importlib.reload(config)\n",
    "sys.path.append('./modules')\n",
    "from config import English, Bengali"
   ],
   "outputs": [],
   "metadata": {}
  },
  {
   "cell_type": "markdown",
   "source": [
    "# Set a language"
   ],
   "metadata": {}
  },
  {
   "cell_type": "code",
   "execution_count": 2,
   "source": [
    "LANG = Bengali # English, Bengali"
   ],
   "outputs": [],
   "metadata": {}
  },
  {
   "cell_type": "markdown",
   "source": [
    "# 1. Data Preparation"
   ],
   "metadata": {}
  },
  {
   "cell_type": "code",
   "execution_count": 3,
   "source": [
    "# import libraries and dependencies\n",
    "import preprocessing\n",
    "importlib.reload(preprocessing)\n",
    "from preprocessing import raw_preprocess, split_train_test"
   ],
   "outputs": [],
   "metadata": {}
  },
  {
   "cell_type": "markdown",
   "source": [
    "## 1.1. Preprocess data for sentencepiece"
   ],
   "metadata": {}
  },
  {
   "cell_type": "code",
   "execution_count": 19,
   "source": [
    "# preprocess raw data to get a list of sentences.\n",
    "sentences = raw_preprocess(LANG)\n",
    "\n",
    "# write the sentences into a file, each sentence on one line.\n",
    "with open(f'data/{LANG.name}/preprocessed.txt', 'w') as f:\n",
    "    for sentence in sentences:\n",
    "        f.write(f'{sentence}\\n')"
   ],
   "outputs": [],
   "metadata": {}
  },
  {
   "cell_type": "markdown",
   "source": [
    "## 1.2. Train/test split"
   ],
   "metadata": {}
  },
  {
   "cell_type": "code",
   "execution_count": 20,
   "source": [
    "# split data to train and test.\n",
    "train, test = split_train_test(sentences, LANG)\n",
    "\n",
    "# write train and test data into corresponding files.\n",
    "train_path = f'data/{LANG.name}/train.txt'\n",
    "test_path = f'data/{LANG.name}/test.txt'\n",
    "\n",
    "with open(train_path, 'w') as f:\n",
    "    f.write('\\n'.join(train))\n",
    "with open(test_path, 'w') as f:\n",
    "    f.write('\\n'.join(test))"
   ],
   "outputs": [],
   "metadata": {}
  },
  {
   "cell_type": "markdown",
   "source": [
    "# 2. Subword segmentation"
   ],
   "metadata": {}
  },
  {
   "cell_type": "markdown",
   "source": [
    "For English. we use a small subword vocabulary size of 500 and a large subword vocabulary size of 1500. For Bengali, these numbers are 800 and 1700."
   ],
   "metadata": {}
  },
  {
   "cell_type": "code",
   "execution_count": 4,
   "source": [
    "# import libraries and dependencies\n",
    "import segmentation\n",
    "importlib.reload(segmentation)\n",
    "from segmentation import train_segmentation, encode_text_file, decode_text_file\n",
    "from config import seg_profiles"
   ],
   "outputs": [],
   "metadata": {}
  },
  {
   "cell_type": "code",
   "execution_count": 22,
   "source": [
    "seg_profiles[LANG.name]"
   ],
   "outputs": [
    {
     "output_type": "execute_result",
     "data": {
      "text/plain": [
       "[SegmentationConf(id='s1', vocab_size=None, model_type='char'),\n",
       " SegmentationConf(id='s2', vocab_size=800, model_type='bpe'),\n",
       " SegmentationConf(id='s3', vocab_size=1700, model_type='bpe')]"
      ]
     },
     "metadata": {},
     "execution_count": 22
    }
   ],
   "metadata": {}
  },
  {
   "cell_type": "code",
   "execution_count": 23,
   "source": [
    "for seg in seg_profiles[LANG.name]:\n",
    "    # train segmentation on the train data\n",
    "    spm1 = train_segmentation(\n",
    "        text_file=train_path, \n",
    "        LANG=LANG, \n",
    "        vocab_size=seg.vocab_size, \n",
    "        model_type=seg.model_type)\n",
    "  \n",
    "    encoded_file = f'data/{LANG.name}/segmentation/{seg.id}.txt'\n",
    "    encode_text_file(text_file=train_path, model_path=spm1, output_file=encoded_file)\n",
    "    \n",
    "    decoded_file = f'data/{LANG.name}/segmentation/{seg.id}_decoded.txt'\n",
    "    decode_text_file(text_file=encoded_file, model_path=spm1, output_file=decoded_file)\n",
    "    \n",
    "    # test it on the test data\n",
    "    encoded_file = f'data/{LANG.name}/segmentation/{seg.id}_test.txt'\n",
    "    encode_text_file(text_file=test_path, model_path=spm1, output_file=encoded_file)\n",
    "    \n",
    "    decoded_file = f'data/{LANG.name}/segmentation/{seg.id}_decoded_test.txt'\n",
    "    decode_text_file(text_file=encoded_file, model_path=spm1, output_file=decoded_file)"
   ],
   "outputs": [
    {
     "output_type": "stream",
     "name": "stderr",
     "text": [
      "sentencepiece_trainer.cc(77) LOG(INFO) Starts training with : \n",
      "trainer_spec {\n",
      "  input: data/bn/train.txt\n",
      "  input_format: \n",
      "  model_prefix: ./seg_models/spm_bn_char\n",
      "  model_type: CHAR\n",
      "  vocab_size: 8000\n",
      "  self_test_sample_size: 0\n",
      "  character_coverage: 0.995\n",
      "  input_sentence_size: 0\n",
      "  shuffle_input_sentence: 1\n",
      "  seed_sentencepiece_size: 1000000\n",
      "  shrinking_factor: 0.75\n",
      "  max_sentence_length: 4192\n",
      "  num_threads: 16\n",
      "  num_sub_iterations: 2\n",
      "  max_sentencepiece_length: 16\n",
      "  split_by_unicode_script: 1\n",
      "  split_by_number: 1\n",
      "  split_by_whitespace: 1\n",
      "  split_digits: 0\n",
      "  treat_whitespace_as_suffix: 0\n",
      "  allow_whitespace_only_pieces: 0\n",
      "  required_chars: \n",
      "  byte_fallback: 0\n",
      "  vocabulary_output_piece_score: 1\n",
      "  train_extremely_large_corpus: 0\n",
      "  hard_vocab_limit: 1\n",
      "  use_all_vocab: 0\n",
      "  unk_id: 0\n",
      "  bos_id: 1\n",
      "  eos_id: 2\n",
      "  pad_id: -1\n",
      "  unk_piece: <unk>\n",
      "  bos_piece: <s>\n",
      "  eos_piece: </s>\n",
      "  pad_piece: <pad>\n",
      "  unk_surface:  ⁇ \n",
      "}\n",
      "normalizer_spec {\n",
      "  name: nmt_nfkc\n",
      "  add_dummy_prefix: 1\n",
      "  remove_extra_whitespaces: 1\n",
      "  escape_whitespaces: 1\n",
      "  normalization_rule_tsv: \n",
      "}\n",
      "denormalizer_spec {}\n",
      "trainer_interface.cc(329) LOG(INFO) SentenceIterator is not specified. Using MultiFileSentenceIterator.\n",
      "trainer_interface.cc(178) LOG(INFO) Loading corpus: data/bn/train.txt\n",
      "trainer_interface.cc(356) LOG(WARNING) Found too long line (5238 > 4192).\n",
      "trainer_interface.cc(358) LOG(WARNING) Too long lines are skipped in the training.\n",
      "trainer_interface.cc(359) LOG(WARNING) The maximum length can be changed with --max_sentence_length=<size> flag.\n",
      "trainer_interface.cc(385) LOG(INFO) Loaded all 9368 sentences\n",
      "trainer_interface.cc(391) LOG(INFO) Skipped 5 too long sentences.\n",
      "trainer_interface.cc(400) LOG(INFO) Adding meta_piece: <unk>\n",
      "trainer_interface.cc(400) LOG(INFO) Adding meta_piece: <s>\n",
      "trainer_interface.cc(400) LOG(INFO) Adding meta_piece: </s>\n",
      "trainer_interface.cc(405) LOG(INFO) Normalizing sentences...\n",
      "trainer_interface.cc(466) LOG(INFO) all chars count=1095226\n",
      "trainer_interface.cc(477) LOG(INFO) Done: 99.55% characters are covered.\n",
      "trainer_interface.cc(487) LOG(INFO) Alphabet size=52\n",
      "trainer_interface.cc(488) LOG(INFO) Final character coverage=0.9955\n",
      "trainer_interface.cc(520) LOG(INFO) Done! preprocessed 9368 sentences.\n",
      "trainer_interface.cc(615) LOG(INFO) Saving model: ./seg_models/spm_bn_char.model\n",
      "trainer_interface.cc(626) LOG(INFO) Saving vocabs: ./seg_models/spm_bn_char.vocab\n",
      "sentencepiece_trainer.cc(77) LOG(INFO) Starts training with : \n",
      "trainer_spec {\n",
      "  input: data/bn/train.txt\n",
      "  input_format: \n",
      "  model_prefix: ./seg_models/spm_bn_bpe_vocabsize-800\n",
      "  model_type: BPE\n",
      "  vocab_size: 800\n",
      "  self_test_sample_size: 0\n",
      "  character_coverage: 0.995\n",
      "  input_sentence_size: 0\n",
      "  shuffle_input_sentence: 1\n",
      "  seed_sentencepiece_size: 1000000\n",
      "  shrinking_factor: 0.75\n",
      "  max_sentence_length: 4192\n",
      "  num_threads: 16\n",
      "  num_sub_iterations: 2\n",
      "  max_sentencepiece_length: 16\n",
      "  split_by_unicode_script: 1\n",
      "  split_by_number: 1\n",
      "  split_by_whitespace: 1\n",
      "  split_digits: 0\n",
      "  treat_whitespace_as_suffix: 0\n",
      "  allow_whitespace_only_pieces: 0\n",
      "  required_chars: \n",
      "  byte_fallback: 0\n",
      "  vocabulary_output_piece_score: 1\n",
      "  train_extremely_large_corpus: 0\n",
      "  hard_vocab_limit: 1\n",
      "  use_all_vocab: 0\n",
      "  unk_id: 0\n",
      "  bos_id: 1\n",
      "  eos_id: 2\n",
      "  pad_id: -1\n",
      "  unk_piece: <unk>\n",
      "  bos_piece: <s>\n",
      "  eos_piece: </s>\n",
      "  pad_piece: <pad>\n",
      "  unk_surface:  ⁇ \n",
      "}\n",
      "normalizer_spec {\n",
      "  name: nmt_nfkc\n",
      "  add_dummy_prefix: 1\n",
      "  remove_extra_whitespaces: 1\n",
      "  escape_whitespaces: 1\n",
      "  normalization_rule_tsv: \n",
      "}\n",
      "denormalizer_spec {}\n",
      "trainer_interface.cc(329) LOG(INFO) SentenceIterator is not specified. Using MultiFileSentenceIterator.\n",
      "trainer_interface.cc(178) LOG(INFO) Loading corpus: data/bn/train.txt\n",
      "trainer_interface.cc(356) LOG(WARNING) Found too long line (5238 > 4192).\n",
      "trainer_interface.cc(358) LOG(WARNING) Too long lines are skipped in the training.\n",
      "trainer_interface.cc(359) LOG(WARNING) The maximum length can be changed with --max_sentence_length=<size> flag.\n",
      "trainer_interface.cc(385) LOG(INFO) Loaded all 9368 sentences\n",
      "trainer_interface.cc(391) LOG(INFO) Skipped 5 too long sentences.\n",
      "trainer_interface.cc(400) LOG(INFO) Adding meta_piece: <unk>\n",
      "trainer_interface.cc(400) LOG(INFO) Adding meta_piece: <s>\n",
      "trainer_interface.cc(400) LOG(INFO) Adding meta_piece: </s>\n",
      "trainer_interface.cc(405) LOG(INFO) Normalizing sentences...\n",
      "trainer_interface.cc(466) LOG(INFO) all chars count=1095226\n",
      "trainer_interface.cc(477) LOG(INFO) Done: 99.55% characters are covered.\n",
      "trainer_interface.cc(487) LOG(INFO) Alphabet size=52\n",
      "trainer_interface.cc(488) LOG(INFO) Final character coverage=0.9955\n",
      "trainer_interface.cc(520) LOG(INFO) Done! preprocessed 9368 sentences.\n",
      "trainer_interface.cc(526) LOG(INFO) Tokenizing input sentences with whitespace: 9368\n",
      "trainer_interface.cc(537) LOG(INFO) Done! 37989\n",
      "bpe_model_trainer.cc(167) LOG(INFO) Updating active symbols. max_freq=22983 min_freq=16\n",
      "bpe_model_trainer.cc(258) LOG(INFO) Added: freq=5746 size=20 all=2642 active=1957 piece=ন্\n",
      "bpe_model_trainer.cc(258) LOG(INFO) Added: freq=3466 size=40 all=3845 active=3160 piece=▁কি\n",
      "bpe_model_trainer.cc(258) LOG(INFO) Added: freq=2356 size=60 all=5015 active=4330 piece=িক\n",
      "bpe_model_trainer.cc(258) LOG(INFO) Added: freq=1797 size=80 all=6194 active=5509 piece=▁কা\n",
      "bpe_model_trainer.cc(258) LOG(INFO) Added: freq=1318 size=100 all=7631 active=6946 piece=ুই\n",
      "bpe_model_trainer.cc(167) LOG(INFO) Updating active symbols. max_freq=1309 min_freq=100\n",
      "bpe_model_trainer.cc(258) LOG(INFO) Added: freq=1114 size=120 all=9006 active=2302 piece=▁বে\n",
      "bpe_model_trainer.cc(258) LOG(INFO) Added: freq=942 size=140 all=9868 active=3164 piece=▁মানুষ\n",
      "bpe_model_trainer.cc(258) LOG(INFO) Added: freq=865 size=160 all=11093 active=4389 piece=লাম\n",
      "bpe_model_trainer.cc(258) LOG(INFO) Added: freq=760 size=180 all=11855 active=5151 piece=▁সম\n",
      "bpe_model_trainer.cc(258) LOG(INFO) Added: freq=691 size=200 all=12837 active=6133 piece=▁।\n",
      "bpe_model_trainer.cc(167) LOG(INFO) Updating active symbols. max_freq=685 min_freq=92\n",
      "bpe_model_trainer.cc(258) LOG(INFO) Added: freq=627 size=220 all=13415 active=1579 piece=▁বু\n",
      "bpe_model_trainer.cc(258) LOG(INFO) Added: freq=575 size=240 all=14092 active=2256 piece=▁ঘ\n",
      "bpe_model_trainer.cc(258) LOG(INFO) Added: freq=507 size=260 all=15227 active=3391 piece=▁মাদার\n",
      "bpe_model_trainer.cc(258) LOG(INFO) Added: freq=458 size=280 all=16021 active=4185 piece=▁মাগি\n",
      "bpe_model_trainer.cc(258) LOG(INFO) Added: freq=433 size=300 all=16761 active=4925 piece=▁পারে\n",
      "bpe_model_trainer.cc(167) LOG(INFO) Updating active symbols. max_freq=429 min_freq=79\n",
      "bpe_model_trainer.cc(258) LOG(INFO) Added: freq=388 size=320 all=17474 active=1691 piece=খে\n",
      "bpe_model_trainer.cc(258) LOG(INFO) Added: freq=361 size=340 all=18239 active=2456 piece=▁ভন্ড\n",
      "bpe_model_trainer.cc(258) LOG(INFO) Added: freq=341 size=360 all=18890 active=3107 piece=ক্ত\n",
      "bpe_model_trainer.cc(258) LOG(INFO) Added: freq=320 size=380 all=19442 active=3659 piece=কম\n",
      "bpe_model_trainer.cc(258) LOG(INFO) Added: freq=303 size=400 all=20213 active=4430 piece=▁মতো\n",
      "bpe_model_trainer.cc(167) LOG(INFO) Updating active symbols. max_freq=303 min_freq=69\n",
      "bpe_model_trainer.cc(258) LOG(INFO) Added: freq=283 size=420 all=20798 active=1589 piece=ড়ে\n",
      "bpe_model_trainer.cc(258) LOG(INFO) Added: freq=269 size=440 all=21545 active=2336 piece=▁গেছে\n",
      "bpe_model_trainer.cc(258) LOG(INFO) Added: freq=254 size=460 all=22341 active=3132 piece=▁হয়েছে\n",
      "bpe_model_trainer.cc(258) LOG(INFO) Added: freq=241 size=480 all=22958 active=3749 piece=▁অপরাধ\n",
      "bpe_model_trainer.cc(258) LOG(INFO) Added: freq=226 size=500 all=23514 active=4305 piece=▁ডিসি\n",
      "bpe_model_trainer.cc(167) LOG(INFO) Updating active symbols. max_freq=225 min_freq=53\n",
      "bpe_model_trainer.cc(258) LOG(INFO) Added: freq=211 size=520 all=23996 active=1643 piece=▁চি\n",
      "bpe_model_trainer.cc(258) LOG(INFO) Added: freq=203 size=540 all=24552 active=2199 piece=▁বেশি\n",
      "bpe_model_trainer.cc(258) LOG(INFO) Added: freq=192 size=560 all=24851 active=2498 piece=,,,\n",
      "bpe_model_trainer.cc(258) LOG(INFO) Added: freq=184 size=580 all=25439 active=3086 piece=নো\n",
      "bpe_model_trainer.cc(258) LOG(INFO) Added: freq=178 size=600 all=25871 active=3518 piece=▁বালের\n",
      "bpe_model_trainer.cc(167) LOG(INFO) Updating active symbols. max_freq=177 min_freq=44\n",
      "bpe_model_trainer.cc(258) LOG(INFO) Added: freq=170 size=620 all=26277 active=1698 piece=▁তোমার\n",
      "bpe_model_trainer.cc(258) LOG(INFO) Added: freq=162 size=640 all=26747 active=2168 piece=লিশ\n",
      "bpe_model_trainer.cc(258) LOG(INFO) Added: freq=157 size=660 all=27356 active=2777 piece=▁জন্\n",
      "bpe_model_trainer.cc(258) LOG(INFO) Added: freq=151 size=680 all=27891 active=3312 piece=▁শাস্তি\n",
      "bpe_model_trainer.cc(258) LOG(INFO) Added: freq=144 size=700 all=28213 active=3634 piece=▁সন্তান\n",
      "bpe_model_trainer.cc(167) LOG(INFO) Updating active symbols. max_freq=143 min_freq=37\n",
      "bpe_model_trainer.cc(258) LOG(INFO) Added: freq=139 size=720 all=28653 active=1831 piece=▁চুদা\n",
      "bpe_model_trainer.cc(258) LOG(INFO) Added: freq=133 size=740 all=29127 active=2305 piece=▁তোরা\n",
      "trainer_interface.cc(615) LOG(INFO) Saving model: ./seg_models/spm_bn_bpe_vocabsize-800.model\n",
      "trainer_interface.cc(626) LOG(INFO) Saving vocabs: ./seg_models/spm_bn_bpe_vocabsize-800.vocab\n",
      "sentencepiece_trainer.cc(77) LOG(INFO) Starts training with : \n",
      "trainer_spec {\n",
      "  input: data/bn/train.txt\n",
      "  input_format: \n",
      "  model_prefix: ./seg_models/spm_bn_bpe_vocabsize-1700\n",
      "  model_type: BPE\n",
      "  vocab_size: 1700\n",
      "  self_test_sample_size: 0\n",
      "  character_coverage: 0.995\n",
      "  input_sentence_size: 0\n",
      "  shuffle_input_sentence: 1\n",
      "  seed_sentencepiece_size: 1000000\n",
      "  shrinking_factor: 0.75\n",
      "  max_sentence_length: 4192\n",
      "  num_threads: 16\n",
      "  num_sub_iterations: 2\n",
      "  max_sentencepiece_length: 16\n",
      "  split_by_unicode_script: 1\n",
      "  split_by_number: 1\n",
      "  split_by_whitespace: 1\n",
      "  split_digits: 0\n",
      "  treat_whitespace_as_suffix: 0\n",
      "  allow_whitespace_only_pieces: 0\n",
      "  required_chars: \n",
      "  byte_fallback: 0\n",
      "  vocabulary_output_piece_score: 1\n",
      "  train_extremely_large_corpus: 0\n",
      "  hard_vocab_limit: 1\n",
      "  use_all_vocab: 0\n",
      "  unk_id: 0\n",
      "  bos_id: 1\n",
      "  eos_id: 2\n",
      "  pad_id: -1\n",
      "  unk_piece: <unk>\n",
      "  bos_piece: <s>\n",
      "  eos_piece: </s>\n",
      "  pad_piece: <pad>\n",
      "  unk_surface:  ⁇ \n",
      "}\n",
      "normalizer_spec {\n",
      "  name: nmt_nfkc\n",
      "  add_dummy_prefix: 1\n",
      "  remove_extra_whitespaces: 1\n",
      "  escape_whitespaces: 1\n",
      "  normalization_rule_tsv: \n",
      "}\n",
      "denormalizer_spec {}\n",
      "trainer_interface.cc(329) LOG(INFO) SentenceIterator is not specified. Using MultiFileSentenceIterator.\n",
      "trainer_interface.cc(178) LOG(INFO) Loading corpus: data/bn/train.txt\n",
      "trainer_interface.cc(356) LOG(WARNING) Found too long line (5238 > 4192).\n",
      "trainer_interface.cc(358) LOG(WARNING) Too long lines are skipped in the training.\n",
      "trainer_interface.cc(359) LOG(WARNING) The maximum length can be changed with --max_sentence_length=<size> flag.\n",
      "trainer_interface.cc(385) LOG(INFO) Loaded all 9368 sentences\n",
      "trainer_interface.cc(391) LOG(INFO) Skipped 5 too long sentences.\n",
      "trainer_interface.cc(400) LOG(INFO) Adding meta_piece: <unk>\n",
      "trainer_interface.cc(400) LOG(INFO) Adding meta_piece: <s>\n",
      "trainer_interface.cc(400) LOG(INFO) Adding meta_piece: </s>\n",
      "trainer_interface.cc(405) LOG(INFO) Normalizing sentences...\n",
      "trainer_interface.cc(466) LOG(INFO) all chars count=1095226\n",
      "trainer_interface.cc(477) LOG(INFO) Done: 99.55% characters are covered.\n",
      "trainer_interface.cc(487) LOG(INFO) Alphabet size=52\n",
      "trainer_interface.cc(488) LOG(INFO) Final character coverage=0.9955\n",
      "trainer_interface.cc(520) LOG(INFO) Done! preprocessed 9368 sentences.\n",
      "trainer_interface.cc(526) LOG(INFO) Tokenizing input sentences with whitespace: 9368\n",
      "trainer_interface.cc(537) LOG(INFO) Done! 37989\n",
      "bpe_model_trainer.cc(167) LOG(INFO) Updating active symbols. max_freq=22983 min_freq=16\n",
      "bpe_model_trainer.cc(258) LOG(INFO) Added: freq=5746 size=20 all=2642 active=1957 piece=ন্\n",
      "bpe_model_trainer.cc(258) LOG(INFO) Added: freq=3466 size=40 all=3845 active=3160 piece=▁কি\n",
      "bpe_model_trainer.cc(258) LOG(INFO) Added: freq=2356 size=60 all=5015 active=4330 piece=িক\n",
      "bpe_model_trainer.cc(258) LOG(INFO) Added: freq=1797 size=80 all=6194 active=5509 piece=▁কা\n",
      "bpe_model_trainer.cc(258) LOG(INFO) Added: freq=1318 size=100 all=7631 active=6946 piece=ুই\n",
      "bpe_model_trainer.cc(167) LOG(INFO) Updating active symbols. max_freq=1309 min_freq=100\n",
      "bpe_model_trainer.cc(258) LOG(INFO) Added: freq=1114 size=120 all=9006 active=2302 piece=▁বে\n",
      "bpe_model_trainer.cc(258) LOG(INFO) Added: freq=942 size=140 all=9868 active=3164 piece=▁মানুষ\n",
      "bpe_model_trainer.cc(258) LOG(INFO) Added: freq=865 size=160 all=11093 active=4389 piece=লাম\n",
      "bpe_model_trainer.cc(258) LOG(INFO) Added: freq=760 size=180 all=11855 active=5151 piece=▁সম\n",
      "bpe_model_trainer.cc(258) LOG(INFO) Added: freq=691 size=200 all=12837 active=6133 piece=▁।\n",
      "bpe_model_trainer.cc(167) LOG(INFO) Updating active symbols. max_freq=685 min_freq=92\n",
      "bpe_model_trainer.cc(258) LOG(INFO) Added: freq=627 size=220 all=13415 active=1579 piece=▁বু\n",
      "bpe_model_trainer.cc(258) LOG(INFO) Added: freq=575 size=240 all=14092 active=2256 piece=▁ঘ\n",
      "bpe_model_trainer.cc(258) LOG(INFO) Added: freq=507 size=260 all=15227 active=3391 piece=▁মাদার\n",
      "bpe_model_trainer.cc(258) LOG(INFO) Added: freq=458 size=280 all=16021 active=4185 piece=▁মাগি\n",
      "bpe_model_trainer.cc(258) LOG(INFO) Added: freq=433 size=300 all=16761 active=4925 piece=▁পারে\n",
      "bpe_model_trainer.cc(167) LOG(INFO) Updating active symbols. max_freq=429 min_freq=79\n",
      "bpe_model_trainer.cc(258) LOG(INFO) Added: freq=388 size=320 all=17474 active=1691 piece=খে\n",
      "bpe_model_trainer.cc(258) LOG(INFO) Added: freq=361 size=340 all=18239 active=2456 piece=▁ভন্ড\n",
      "bpe_model_trainer.cc(258) LOG(INFO) Added: freq=341 size=360 all=18890 active=3107 piece=ক্ত\n",
      "bpe_model_trainer.cc(258) LOG(INFO) Added: freq=320 size=380 all=19442 active=3659 piece=কম\n",
      "bpe_model_trainer.cc(258) LOG(INFO) Added: freq=303 size=400 all=20213 active=4430 piece=▁মতো\n",
      "bpe_model_trainer.cc(167) LOG(INFO) Updating active symbols. max_freq=303 min_freq=69\n",
      "bpe_model_trainer.cc(258) LOG(INFO) Added: freq=283 size=420 all=20798 active=1589 piece=ড়ে\n",
      "bpe_model_trainer.cc(258) LOG(INFO) Added: freq=269 size=440 all=21545 active=2336 piece=▁গেছে\n",
      "bpe_model_trainer.cc(258) LOG(INFO) Added: freq=254 size=460 all=22341 active=3132 piece=▁হয়েছে\n",
      "bpe_model_trainer.cc(258) LOG(INFO) Added: freq=241 size=480 all=22958 active=3749 piece=▁অপরাধ\n",
      "bpe_model_trainer.cc(258) LOG(INFO) Added: freq=226 size=500 all=23514 active=4305 piece=▁ডিসি\n",
      "bpe_model_trainer.cc(167) LOG(INFO) Updating active symbols. max_freq=225 min_freq=53\n",
      "bpe_model_trainer.cc(258) LOG(INFO) Added: freq=211 size=520 all=23996 active=1643 piece=▁চি\n",
      "bpe_model_trainer.cc(258) LOG(INFO) Added: freq=203 size=540 all=24552 active=2199 piece=▁বেশি\n",
      "bpe_model_trainer.cc(258) LOG(INFO) Added: freq=192 size=560 all=24851 active=2498 piece=,,,\n",
      "bpe_model_trainer.cc(258) LOG(INFO) Added: freq=184 size=580 all=25439 active=3086 piece=নো\n",
      "bpe_model_trainer.cc(258) LOG(INFO) Added: freq=178 size=600 all=25871 active=3518 piece=▁বালের\n",
      "bpe_model_trainer.cc(167) LOG(INFO) Updating active symbols. max_freq=177 min_freq=44\n",
      "bpe_model_trainer.cc(258) LOG(INFO) Added: freq=170 size=620 all=26277 active=1698 piece=▁তোমার\n",
      "bpe_model_trainer.cc(258) LOG(INFO) Added: freq=162 size=640 all=26747 active=2168 piece=লিশ\n",
      "bpe_model_trainer.cc(258) LOG(INFO) Added: freq=157 size=660 all=27356 active=2777 piece=▁জন্\n",
      "bpe_model_trainer.cc(258) LOG(INFO) Added: freq=151 size=680 all=27891 active=3312 piece=▁শাস্তি\n",
      "bpe_model_trainer.cc(258) LOG(INFO) Added: freq=144 size=700 all=28213 active=3634 piece=▁সন্তান\n",
      "bpe_model_trainer.cc(167) LOG(INFO) Updating active symbols. max_freq=143 min_freq=37\n",
      "bpe_model_trainer.cc(258) LOG(INFO) Added: freq=139 size=720 all=28653 active=1831 piece=▁চুদা\n",
      "bpe_model_trainer.cc(258) LOG(INFO) Added: freq=133 size=740 all=29127 active=2305 piece=▁তোরা\n",
      "bpe_model_trainer.cc(258) LOG(INFO) Added: freq=129 size=760 all=29554 active=2732 piece=▁মধ্যে\n",
      "bpe_model_trainer.cc(258) LOG(INFO) Added: freq=124 size=780 all=29982"
     ]
    }
   ],
   "metadata": {}
  },
  {
   "cell_type": "markdown",
   "source": [
    "# 3. Language Model"
   ],
   "metadata": {}
  },
  {
   "cell_type": "markdown",
   "source": [
    "## Baseline"
   ],
   "metadata": {
    "tags": []
   }
  },
  {
   "cell_type": "code",
   "execution_count": 5,
   "source": [
    "from config import baseline_conf\n",
    "baseline_conf"
   ],
   "outputs": [
    {
     "output_type": "execute_result",
     "data": {
      "text/plain": [
       "TrainingConf(hidden=40, rand_seed=1, debug=2, bptt=4, n_class=9999)"
      ]
     },
     "metadata": {},
     "execution_count": 5
    }
   ],
   "metadata": {}
  },
  {
   "cell_type": "code",
   "execution_count": 26,
   "source": [
    "for seg in seg_profiles[LANG.name]:\n",
    "    # Hyper parameters\n",
    "    hidden = baseline_conf.hidden\n",
    "    rand_seed = baseline_conf.rand_seed\n",
    "    debug = baseline_conf.debug\n",
    "    bptt = baseline_conf.bptt\n",
    "    n_class = baseline_conf.n_class\n",
    "\n",
    "    # Parameters\n",
    "    model_path = f'models/rnnlm/{LANG.name}/{seg.id}_baseline'\n",
    "    train_path = f'../../../../data/{LANG.name}/segmentation/{seg.id}.txt'\n",
    "    valid_path = f'../../../../data/{LANG.name}/segmentation/{seg.id}_test.txt'\n",
    "\n",
    "    # run the model \n",
    "    !rm -rf $model_path \\\n",
    "      && mkdir $model_path \\\n",
    "      && cd $model_path \\\n",
    "      && ../../../../rnnlm-0.3e/rnnlm \\\n",
    "        -train $train_path \\\n",
    "        -valid $valid_path \\\n",
    "        -rnnlm model \\\n",
    "        -hidden $hidden \\\n",
    "        -rand-seed $rand_seed \\\n",
    "        -debug $debug \\\n",
    "        -bptt $bptt \\\n",
    "        -class $n_class"
   ],
   "outputs": [
    {
     "output_type": "stream",
     "name": "stdout",
     "text": [
      "debug mode: 2\n",
      "train file: ../../../../data/bn/segmentation/s1.txt\n",
      "valid file: ../../../../data/bn/segmentation/s1_test.txt\n",
      "class size: 9999\n",
      "Hidden layer size: 40\n",
      "BPTT: 4\n",
      "Rand seed: 1\n",
      "rnnlm file: model\n",
      "Starting training using file ../../../../data/bn/segmentation/s1.txt\n",
      "Vocab size: 306\n",
      "Words in train file: 1113598\n",
      "WARNING: number of classes exceeds vocabulary size!\n",
      "Iter:   0\tAlpha: 0.100000\t   ^C\n"
     ]
    },
    {
     "output_type": "error",
     "ename": "FileNotFoundError",
     "evalue": "[Errno 2] No such file or directory: 'models/rnnlm/bn/s1_baseline/model.output.txt'",
     "traceback": [
      "\u001b[0;31m---------------------------------------------------------------------------\u001b[0m",
      "\u001b[0;31mFileNotFoundError\u001b[0m                         Traceback (most recent call last)",
      "\u001b[0;32m/tmp/ipykernel_12517/291905410.py\u001b[0m in \u001b[0;36m<module>\u001b[0;34m\u001b[0m\n\u001b[1;32m     16\u001b[0m \u001b[0;34m\u001b[0m\u001b[0m\n\u001b[1;32m     17\u001b[0m     \u001b[0;31m# read output and print perplexity\u001b[0m\u001b[0;34m\u001b[0m\u001b[0;34m\u001b[0m\u001b[0;34m\u001b[0m\u001b[0m\n\u001b[0;32m---> 18\u001b[0;31m     \u001b[0;32mwith\u001b[0m \u001b[0mopen\u001b[0m\u001b[0;34m(\u001b[0m\u001b[0;34mf'{model_path}/model.output.txt'\u001b[0m\u001b[0;34m,\u001b[0m \u001b[0;34m'r'\u001b[0m\u001b[0;34m)\u001b[0m \u001b[0;32mas\u001b[0m \u001b[0mf\u001b[0m\u001b[0;34m:\u001b[0m\u001b[0;34m\u001b[0m\u001b[0;34m\u001b[0m\u001b[0m\n\u001b[0m\u001b[1;32m     19\u001b[0m         \u001b[0moutput\u001b[0m \u001b[0;34m=\u001b[0m \u001b[0mf\u001b[0m\u001b[0;34m.\u001b[0m\u001b[0mread\u001b[0m\u001b[0;34m(\u001b[0m\u001b[0;34m)\u001b[0m\u001b[0;34m\u001b[0m\u001b[0;34m\u001b[0m\u001b[0m\n\u001b[1;32m     20\u001b[0m         \u001b[0mpp\u001b[0m \u001b[0;34m=\u001b[0m \u001b[0moutput\u001b[0m\u001b[0;34m.\u001b[0m\u001b[0msplit\u001b[0m\u001b[0;34m(\u001b[0m\u001b[0;34m)\u001b[0m\u001b[0;34m[\u001b[0m\u001b[0;34m-\u001b[0m\u001b[0;36m1\u001b[0m\u001b[0;34m]\u001b[0m\u001b[0;34m\u001b[0m\u001b[0;34m\u001b[0m\u001b[0m\n",
      "\u001b[0;31mFileNotFoundError\u001b[0m: [Errno 2] No such file or directory: 'models/rnnlm/bn/s1_baseline/model.output.txt'"
     ]
    }
   ],
   "metadata": {
    "scrolled": true,
    "tags": []
   }
  },
  {
   "cell_type": "code",
   "execution_count": 27,
   "source": [
    "for seg in seg_profiles[LANG.name]:\n",
    "    model_path = f'models/rnnlm/{LANG.name}/{seg.id}_baseline'\n",
    "        \n",
    "    # read output and print perplexity\n",
    "    with open(f'{model_path}/model.output.txt', 'r') as f:\n",
    "        output = f.read()\n",
    "        pp = output.split()[-1]\n",
    "        print(f'Baseline {LANG.name}-{seg.id} validation perplexity: {pp}')"
   ],
   "outputs": [
    {
     "output_type": "stream",
     "name": "stdout",
     "text": [
      "Baseline bn-s1 validation perplexity: 7.368929\n",
      "Baseline bn-s2 validation perplexity: 94.109742\n",
      "Baseline bn-s3 validation perplexity: 176.930043\n"
     ]
    }
   ],
   "metadata": {}
  },
  {
   "cell_type": "markdown",
   "source": [
    "## Experiments"
   ],
   "metadata": {}
  },
  {
   "cell_type": "code",
   "execution_count": 14,
   "source": [
    "import pickle\n",
    "import itertools"
   ],
   "outputs": [],
   "metadata": {}
  },
  {
   "cell_type": "code",
   "execution_count": 29,
   "source": [
    "# experimented results are kept in a file\n",
    "grid_result_file = f'experiments/{LANG.name}/task3_grid_search.pickle'\n",
    "# grid_results stores the results in memory\n",
    "grid_results = {}\n",
    "\n",
    "# import previous results if exists\n",
    "\n",
    "with open(grid_result_file, 'rb') as f:\n",
    "    previous_results = pickle.load(f)\n",
    "    grid_results.update(previous_results)\n",
    "\n",
    "grid_results\n"
   ],
   "outputs": [
    {
     "output_type": "execute_result",
     "data": {
      "text/plain": [
       "{('bn', 's1', 200, 4, 1700): 5.198053,\n",
       " ('bn', 's2', 200, 4, 1700): 77.243412,\n",
       " ('bn', 's3', 200, 4, 1700): 170.361866}"
      ]
     },
     "metadata": {},
     "execution_count": 29
    }
   ],
   "metadata": {
    "scrolled": true,
    "tags": []
   }
  },
  {
   "cell_type": "code",
   "execution_count": null,
   "source": [
    "hidden_choices = [5, 20, 40, 70, 100, 150, 200]\n",
    "bptt_choices = [0, 1, 3, 5]\n",
    "class_choices = [10, 100, 1501]\n",
    "rand_seed = 1\n",
    "debug = 2\n",
    "\n",
    "for seg, hidden, bptt, _class in itertools.product(\n",
    "    seg_profiles[LANG.name], hidden_choices, bptt_choices, class_choices):\n",
    "\n",
    "    if (LANG.name, seg.id, hidden, bptt, _class) in grid_results:\n",
    "        print(f'skip {LANG.name} {seg.id} {hidden} {bptt} {_class}')\n",
    "        continue\n",
    "\n",
    "    # Parameters\n",
    "    model_path = f'models/rnnlm/{LANG.name}/{seg.id}'\n",
    "    train_path = f'../../../../data/{LANG.name}/segmentation/{seg.id}.txt'\n",
    "    valid_path = f'../../../../data/{LANG.name}/segmentation/{seg.id}_test.txt'\n",
    "\n",
    "    # run the model \n",
    "    !rm -rf $model_path \\\n",
    "      && mkdir $model_path \\\n",
    "      && cd $model_path \\\n",
    "      && ../../../../rnnlm-0.3e/rnnlm \\\n",
    "        -train $train_path \\\n",
    "        -valid $valid_path \\\n",
    "        -rnnlm model \\\n",
    "        -hidden $hidden \\\n",
    "        -rand-seed $rand_seed \\\n",
    "        -debug $debug \\\n",
    "        -bptt $bptt \\\n",
    "        -class $_class \\\n",
    "        2> error.txt\n",
    "\n",
    "    # read output extract validation perplexity\n",
    "    with open(f'{model_path}/model.output.txt', 'r') as f:\n",
    "        output = f.read()\n",
    "        pp = float(output.split()[-1])\n",
    "        grid_results[(LANG.name, seg.id, hidden, bptt, _class)] = pp\n",
    "\n",
    "    # write current results to file\n",
    "    with open(grid_result_file, 'wb') as f:\n",
    "        pickle.dump(grid_results, f)"
   ],
   "outputs": [],
   "metadata": {
    "scrolled": true,
    "tags": []
   }
  },
  {
   "cell_type": "code",
   "execution_count": 27,
   "source": [
    "import visualization \n",
    "visualization = importlib.reload(visualization)\n",
    "\n",
    "if LANG == English:\n",
    "    visualization.plot_grid_results(English, grid_results)"
   ],
   "outputs": [],
   "metadata": {}
  },
  {
   "cell_type": "markdown",
   "source": [
    "The optimal configurations of hyperparameters for each vocabulary size are:"
   ],
   "metadata": {}
  },
  {
   "cell_type": "code",
   "execution_count": 28,
   "source": [
    "for seg in seg_profiles[LANG.name]:\n",
    "    results = dict((k, v) for (k, v) in grid_results.items() if k[1] == seg.id)\n",
    "    print(f\"{seg.id}: {min(results, key=results.get)}\")"
   ],
   "outputs": [
    {
     "output_type": "stream",
     "name": "stdout",
     "text": [
      "s1: ('bn', 's1', 200, 4, 1700)\n",
      "s2: ('bn', 's2', 200, 4, 1700)\n",
      "s3: ('bn', 's3', 200, 4, 1700)\n"
     ]
    }
   ],
   "metadata": {}
  },
  {
   "cell_type": "code",
   "execution_count": 18,
   "source": [
    "# train and save LMs for the optimal configurations\n",
    "importlib.reload(config)\n",
    "from config import optimal_conf\n",
    "\n",
    "for id, (hidden, rand_seed, debug, bptt, n_class) in \\\n",
    "    enumerate(optimal_conf[LANG.name], start=1):\n",
    "    \n",
    "    seg_id = f's{id}'\n",
    "\n",
    "    # paths\n",
    "    model_path = f'models/rnnlm/{LANG.name}/{seg_id}_optimal'\n",
    "    train_path = f'../../../../data/{LANG.name}/segmentation/{seg_id}.txt'\n",
    "    valid_path = f'../../../../data/{LANG.name}/segmentation/{seg_id}_test.txt'\n",
    "\n",
    "    # run the model \n",
    "    !rm -rf $model_path \\\n",
    "      && mkdir $model_path \\\n",
    "      && cd $model_path \\\n",
    "      && ../../../../rnnlm-0.3e/rnnlm \\\n",
    "        -train $train_path \\\n",
    "        -valid $valid_path \\\n",
    "        -rnnlm model \\\n",
    "        -hidden $hidden \\\n",
    "        -rand-seed $rand_seed \\\n",
    "        -debug $debug \\\n",
    "        -bptt $bptt \\\n",
    "        -class $n_class"
   ],
   "outputs": [
    {
     "output_type": "stream",
     "name": "stdout",
     "text": [
      "debug mode: 2\n",
      "train file: ../../../data/en_s1.txt\n",
      "valid file: ../../../data/en_s1_test.txt\n",
      "class size: 100\n",
      "Hidden layer size: 200\n",
      "BPTT: 3\n",
      "Rand seed: 1\n",
      "rnnlm file: model\n",
      "Starting training using file ../../../data/en_s1.txt\n",
      "Vocab size: 72\n",
      "Words in train file: 115565\n",
      "WARNING: number of classes exceeds vocabulary size!\n",
      "Iter:   0\tAlpha: 0.100000\t   TRAIN entropy: 3.1770    Words/sec: 9620.3   VALID entropy: 2.7640\n",
      "Iter:   1\tAlpha: 0.100000\t   TRAIN entropy: 2.6055    Words/sec: 9618.7   VALID entropy: 2.5331\n",
      "Iter:   2\tAlpha: 0.100000\t   TRAIN entropy: 2.4166    Words/sec: 9598.8   VALID entropy: 2.4186\n",
      "Iter:   3\tAlpha: 0.100000\t   TRAIN entropy: 2.3017    Words/sec: 9669.8   VALID entropy: 2.3476\n",
      "Iter:   4\tAlpha: 0.100000\t   TRAIN entropy: 2.2207    Words/sec: 9582.0   VALID entropy: 2.2939\n",
      "Iter:   5\tAlpha: 0.100000\t   TRAIN entropy: 2.1579    Words/sec: 9569.7   VALID entropy: 2.2625\n",
      "Iter:   6\tAlpha: 0.100000\t   TRAIN entropy: 2.1089    Words/sec: 9481.0   VALID entropy: 2.2430\n",
      "Iter:   7\tAlpha: 0.100000\t   TRAIN entropy: 2.0687    Words/sec: 9338.8   VALID entropy: 2.2342\n",
      "Iter:   8\tAlpha: 0.100000\t   TRAIN entropy: 2.0350    Words/sec: 9559.3   VALID entropy: 2.2109\n",
      "Iter:   9\tAlpha: 0.100000\t   TRAIN entropy: 2.0091    Words/sec: 9589.4   VALID entropy: 2.1912\n",
      "Iter:  10\tAlpha: 0.100000\t   TRAIN entropy: 1.9834    Words/sec: 9722.6   VALID entropy: 2.1897\n",
      "Iter:  11\tAlpha: 0.050000\t   TRAIN entropy: 1.8494    Words/sec: 9745.2   VALID entropy: 2.0861\n",
      "Iter:  12\tAlpha: 0.025000\t   TRAIN entropy: 1.7674    Words/sec: 9732.4   VALID entropy: 2.0305\n",
      "Iter:  13\tAlpha: 0.012500\t   TRAIN entropy: 1.7226    Words/sec: 9740.5   VALID entropy: 2.0026\n",
      "Iter:  14\tAlpha: 0.006250\t   TRAIN entropy: 1.6973    Words/sec: 9717.3   VALID entropy: 1.9899\n",
      "Iter:  15\tAlpha: 0.003125\t   TRAIN entropy: 1.6828    Words/sec: 9577.9   VALID entropy: 1.9848\n",
      "debug mode: 2\n",
      "train file: ../../../data/en_s2.txt\n",
      "valid file: ../../../data/en_s2_test.txt\n",
      "class size: 1501\n",
      "Hidden layer size: 200\n",
      "BPTT: 3\n",
      "Rand seed: 1\n",
      "rnnlm file: model\n",
      "Starting training using file ../../../data/en_s2.txt\n",
      "Vocab size: 490\n",
      "Words in train file: 45425\n",
      "WARNING: number of classes exceeds vocabulary size!\n",
      "Iter:   0\tAlpha: 0.100000\t   TRAIN entropy: 7.7646    Words/sec: 1567.4   VALID entropy: 7.2527\n",
      "Iter:   1\tAlpha: 0.100000\t   TRAIN entropy: 6.7928    Words/sec: 1554.7   VALID entropy: 6.5364\n",
      "Iter:   2\tAlpha: 0.100000\t   TRAIN entropy: 6.1249    Words/sec: 1562.3   VALID entropy: 6.0089\n",
      "Iter:   3\tAlpha: 0.100000\t   TRAIN entropy: 5.6386    Words/sec: 1570.7   VALID entropy: 5.6706\n",
      "Iter:   4\tAlpha: 0.100000\t   TRAIN entropy: 5.2916    Words/sec: 1569.6   VALID entropy: 5.4697\n",
      "Iter:   5\tAlpha: 0.100000\t   TRAIN entropy: 5.0356    Words/sec: 1609.9   VALID entropy: 5.3516\n",
      "Iter:   6\tAlpha: 0.100000\t   TRAIN entropy: 4.8295    Words/sec: 1554.2   VALID entropy: 5.2811\n",
      "Iter:   7\tAlpha: 0.100000\t   TRAIN entropy: 4.6537    Words/sec: 1567.6   VALID entropy: 5.2556\n",
      "Iter:   8\tAlpha: 0.100000\t   TRAIN entropy: 4.4992    Words/sec: 1675.1   VALID entropy: 5.2595\n",
      "Iter:   9\tAlpha: 0.050000\t   TRAIN entropy: 4.3214    Words/sec: 1700.1   VALID entropy: 5.1300\n",
      "Iter:  10\tAlpha: 0.025000\t   TRAIN entropy: 4.1185    Words/sec: 1644.1   VALID entropy: 5.0610\n",
      "Iter:  11\tAlpha: 0.012500\t   TRAIN entropy: 4.0000    Words/sec: 1559.2   VALID entropy: 5.0222\n",
      "Iter:  12\tAlpha: 0.006250\t   TRAIN entropy: 3.9323    Words/sec: 1472.4   VALID entropy: 4.9987\n",
      "Iter:  13\tAlpha: 0.003125\t   TRAIN entropy: 3.8939    Words/sec: 1548.7   VALID entropy: 4.9820\n",
      "Iter:  14\tAlpha: 0.001563\t   TRAIN entropy: 3.8724    Words/sec: 1570.2   VALID entropy: 4.9708\n",
      "debug mode: 2\n",
      "train file: ../../../data/en_s3.txt\n",
      "valid file: ../../../data/en_s3_test.txt\n",
      "class size: 1501\n",
      "Hidden layer size: 40\n",
      "BPTT: 0\n",
      "Rand seed: 1\n",
      "rnnlm file: model\n",
      "Starting training using file ../../../data/en_s3.txt\n",
      "Vocab size: 1415\n",
      "Words in train file: 34699\n",
      "WARNING: number of classes exceeds vocabulary size!\n",
      "Iter:   0\tAlpha: 0.100000\t   TRAIN entropy: 8.3287    Words/sec: 9524.8   VALID entropy: 8.0300\n",
      "Iter:   1\tAlpha: 0.100000\t   TRAIN entropy: 7.6896    Words/sec: 9528.7   VALID entropy: 7.6126\n",
      "Iter:   2\tAlpha: 0.100000\t   TRAIN entropy: 7.2738    Words/sec: 9419.2   VALID entropy: 7.3360\n",
      "Iter:   3\tAlpha: 0.100000\t   TRAIN entropy: 6.9863    Words/sec: 9158.7   VALID entropy: 7.1603\n",
      "Iter:   4\tAlpha: 0.100000\t   TRAIN entropy: 6.7645    Words/sec: 9559.6   VALID entropy: 7.0317\n",
      "Iter:   5\tAlpha: 0.100000\t   TRAIN entropy: 6.5785    Words/sec: 9582.2   VALID entropy: 6.9373\n",
      "Iter:   6\tAlpha: 0.100000\t   TRAIN entropy: 6.4158    Words/sec: 9593.5   VALID entropy: 6.8604\n",
      "Iter:   7\tAlpha: 0.100000\t   TRAIN entropy: 6.2705    Words/sec: 9575.6   VALID entropy: 6.7977\n",
      "Iter:   8\tAlpha: 0.100000\t   TRAIN entropy: 6.1395    Words/sec: 9554.1   VALID entropy: 6.7482\n",
      "Iter:   9\tAlpha: 0.100000\t   TRAIN entropy: 6.0187    Words/sec: 9590.0   VALID entropy: 6.7153\n",
      "Iter:  10\tAlpha: 0.100000\t   TRAIN entropy: 5.9083    Words/sec: 9535.2   VALID entropy: 6.6895\n",
      "Iter:  11\tAlpha: 0.100000\t   TRAIN entropy: 5.8053    Words/sec: 9568.1   VALID entropy: 6.6675\n",
      "Iter:  12\tAlpha: 0.100000\t   TRAIN entropy: 5.7085    Words/sec: 9568.5   VALID entropy: 6.6472\n",
      "Iter:  13\tAlpha: 0.100000\t   TRAIN entropy: 5.6178    Words/sec: 9576.6   VALID entropy: 6.6293\n",
      "Iter:  14\tAlpha: 0.050000\t   TRAIN entropy: 5.3921    Words/sec: 9539.4   VALID entropy: 6.5039\n",
      "Iter:  15\tAlpha: 0.025000\t   TRAIN entropy: 5.2650    Words/sec: 9044.2   VALID entropy: 6.4308\n",
      "Iter:  16\tAlpha: 0.012500\t   TRAIN entropy: 5.1988    Words/sec: 8869.6   VALID entropy: 6.3870\n",
      "Iter:  17\tAlpha: 0.006250\t   TRAIN entropy: 5.1648    Words/sec: 9009.9   VALID entropy: 6.3594\n",
      "Iter:  18\tAlpha: 0.003125\t   TRAIN entropy: 5.1471    Words/sec: 8980.6   VALID entropy: 6.3447\n"
     ]
    }
   ],
   "metadata": {
    "scrolled": true,
    "tags": []
   }
  },
  {
   "cell_type": "markdown",
   "source": [
    "# 4. Text Generation"
   ],
   "metadata": {}
  },
  {
   "cell_type": "code",
   "execution_count": 50,
   "source": [
    "for seg in seg_profiles[LANG.name]:\n",
    "    gen_folder = f'data/{LANG.name}/generation/{seg.id}'\n",
    "    # path to LM file\n",
    "    language_model_file = f'models/rnnlm/{LANG.name}/{seg.id}_optimal/model'\n",
    "    # path to segmentation file\n",
    "    if seg.model_type == 'char':\n",
    "        seg_model_file = f'{LANG.seg_model_folder}/spm_{LANG.name}_{seg.model_type}.model'\n",
    "    else:\n",
    "        seg_model_file = f'{LANG.seg_model_folder}/spm_{LANG.name}_{seg.model_type}_vocabsize-{seg.vocab_size}.model'\n",
    "    \n",
    "    # remove the text-generation folder\n",
    "    !rm -rf $gen_folder \\\n",
    "        && mkdir $gen_folder\n",
    "    \n",
    "    for n_gen in [10, 100, 1000, 10000, 100000, 1000000, 10000000]:\n",
    "        # generate text using rnnlm\n",
    "        gen_file = f'{gen_folder}/{n_gen}.txt'\n",
    "        !rnnlm-0.3e/rnnlm \\\n",
    "                -rnnlm $language_model_file \\\n",
    "                -gen $n_gen \\\n",
    "                -debug 0 \\\n",
    "            > $gen_file\n",
    "        \n",
    "        # decode generated text using sentencepiece\n",
    "        decoded_gen_file = f'{gen_folder}/{n_gen}_decoded.txt'\n",
    "        decode_text_file(gen_file, seg_model_file, decoded_gen_file)"
   ],
   "outputs": [],
   "metadata": {}
  },
  {
   "cell_type": "markdown",
   "source": [
    "# 5. OOV comparison"
   ],
   "metadata": {}
  },
  {
   "cell_type": "markdown",
   "source": [
    "## Original data"
   ],
   "metadata": {}
  },
  {
   "cell_type": "code",
   "execution_count": 52,
   "source": [
    "import nltk\n",
    "from vocab_processing import get_word_level_vocabulary, get_word_level_tokens, get_OOV_rate"
   ],
   "outputs": [],
   "metadata": {}
  },
  {
   "cell_type": "code",
   "execution_count": 53,
   "source": [
    "train_path = f'data/{LANG.name}/train.txt'\n",
    "test_path = f'data/{LANG.name}/test.txt'"
   ],
   "outputs": [],
   "metadata": {}
  },
  {
   "cell_type": "code",
   "execution_count": 54,
   "source": [
    "# get the training vocabulary on word-level\n",
    "train_vocab = get_word_level_vocabulary(LANG, train_path)\n",
    "# get the test tokens on word-level\n",
    "test_tokens = get_word_level_tokens(LANG, test_path)\n",
    "# compute and print OOV rate\n",
    "oov_tokens = get_OOV_rate(train_vocab, test_tokens)\n",
    "print(f'Original data\\'s OOV rate: {oov_rate:.2%}')"
   ],
   "outputs": [
    {
     "output_type": "stream",
     "name": "stdout",
     "text": [
      "Original data's OOV rate: 4.61%\n"
     ]
    }
   ],
   "metadata": {}
  },
  {
   "cell_type": "markdown",
   "source": [
    "## Augment vocabulary with generated data"
   ],
   "metadata": {}
  },
  {
   "cell_type": "code",
   "execution_count": 72,
   "source": [
    "oov_rates = []\n",
    "\n",
    "for seg in seg_profiles[LANG.name]:\n",
    "    gen_folder = f'data/{LANG.name}/generation/{seg.id}'\n",
    "    oov_rates.append([])\n",
    "    \n",
    "    for n_gen in [10, 100, 1000, 10000, 100000, 1000000, 10000000]:\n",
    "        decoded_gen_file = f'{gen_folder}/{n_gen}_decoded.txt'\n",
    "        gen_vocab = get_word_level_vocabulary(LANG, decoded_gen_file)\n",
    "        augmented_oov_rate = get_OOV_rate(train_vocab | gen_vocab, test_tokens)\n",
    "        print(f'{LANG.name} {seg.id} {n_gen} OOV rate: {augmented_oov_rate:.2%}')\n",
    "        oov_rates[-1].append(augmented_oov_rate)"
   ],
   "outputs": [
    {
     "output_type": "stream",
     "name": "stdout",
     "text": [
      "en s1 10 OOV rate: 4.61%\n",
      "en s1 100 OOV rate: 4.61%\n",
      "en s1 1000 OOV rate: 4.61%\n",
      "en s1 10000 OOV rate: 4.61%\n",
      "en s1 100000 OOV rate: 4.52%\n",
      "en s1 1000000 OOV rate: 3.89%\n",
      "en s1 10000000 OOV rate: 3.03%\n",
      "en s2 10 OOV rate: 4.61%\n",
      "en s2 100 OOV rate: 4.61%\n",
      "en s2 1000 OOV rate: 4.61%\n",
      "en s2 10000 OOV rate: 4.59%\n",
      "en s2 100000 OOV rate: 4.28%\n",
      "en s2 1000000 OOV rate: 3.55%\n",
      "en s2 10000000 OOV rate: 2.76%\n",
      "en s3 10 OOV rate: 4.61%\n",
      "en s3 100 OOV rate: 4.61%\n",
      "en s3 1000 OOV rate: 4.61%\n",
      "en s3 10000 OOV rate: 4.55%\n",
      "en s3 100000 OOV rate: 4.37%\n",
      "en s3 1000000 OOV rate: 3.82%\n",
      "en s3 10000000 OOV rate: 3.07%\n"
     ]
    }
   ],
   "metadata": {}
  },
  {
   "cell_type": "code",
   "execution_count": 76,
   "source": [
    "import visualization\n",
    "importlib.reload(visualization)\n",
    "from visualization import plot_oov_rates\n",
    "\n",
    "plot_oov_rates(oov_rates)\n",
    "# plot_oov_rates(oov_rates, save_path=f'figures/{LANG.name}_task5_oov_rates.png')"
   ],
   "outputs": [
    {
     "output_type": "display_data",
     "data": {
      "text/plain": [
       "<Figure size 576x360 with 1 Axes>"
      ],
      "image/png": "[encoded data removed]"
     },
     "metadata": {
      "needs_background": "light"
     }
    }
   ],
   "metadata": {}
  },
  {
   "cell_type": "code",
   "execution_count": null,
   "source": [],
   "outputs": [],
   "metadata": {}
  }
 ],
 "metadata": {
  "interpreter": {
   "hash": "0ba93cb785b08a5c388f5a645f2c192b35e18c76a279f6b816e8452dcbc7cdb2"
  },
  "kernelspec": {
   "name": "python3",
   "display_name": "Python 3.8.10 64-bit ('snlp-vKRMqmdq': pipenv)"
  },
  "language_info": {
   "codemirror_mode": {
    "name": "ipython",
    "version": 3
   },
   "file_extension": ".py",
   "mimetype": "text/x-python",
   "name": "python",
   "nbconvert_exporter": "python",
   "pygments_lexer": "ipython3",
   "version": "3.8.10"
  }
 },
 "nbformat": 4,
 "nbformat_minor": 5
}