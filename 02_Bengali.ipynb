{
 "cells": [
  {
   "cell_type": "markdown",
   "source": [
    "# Bengali Notebook"
   ],
   "metadata": {}
  },
  {
   "cell_type": "markdown",
   "source": [
    "## Import basic libraries and dependencies"
   ],
   "metadata": {}
  },
  {
   "cell_type": "code",
   "execution_count": 1,
   "source": [
    "import sys\n",
    "import importlib\n",
    "\n",
    "sys.path.append('./modules')\n",
    "from config import English, Bengali"
   ],
   "outputs": [],
   "metadata": {}
  },
  {
   "cell_type": "markdown",
   "source": [
    "## Set a language"
   ],
   "metadata": {}
  },
  {
   "cell_type": "code",
   "execution_count": 2,
   "source": [
    "LANG = Bengali # English, Bengali"
   ],
   "outputs": [],
   "metadata": {}
  },
  {
   "cell_type": "markdown",
   "source": [
    "# 0. Language overview \n",
    "\n",
    "Some characteristics of the Bengali language are:\n",
    "\n",
    "- Native speakers: around 230 million\n",
    "- Language family: Indo-European > Indo-Iranian > Indo-Aryan > Eastern Zone > Bengali-Assamese > Bengali\n",
    "- Vocabulary size: 100,000 separate words\n",
    "- Writing system: \n",
    "    + written in [Bengali  alphabet](https://en.wikipedia.org/wiki/Bengali_alphabet), a part of the [Bengali–Assamese script](https://en.wikipedia.org/wiki/Bengali%E2%80%93Assamese_script). It is an [abugida](https://en.wikipedia.org/wiki/Abugida), a segmental writing system in which consonant-vowel sequences are written as units; each unit is based on a consonant letter, and vowel notation is secondary. \n",
    "    + Bengali punctuation marks, apart from the downstroke দাড়ি dari (।), the Bengali equivalent of a full stop, have been adopted from western scripts and their usage is similar\n",
    "- Phonology: \n",
    "    + 29 consonants \n",
    "    + 7 vowels, as well as 7 nasalised vowels\n"
   ],
   "metadata": {}
  },
  {
   "cell_type": "markdown",
   "source": [
    "# 1. Data Preparation\n",
    "\n",
    "\n",
    "**Assumptions:**\n",
    "- Two-or-more end-of-line symbols (i.e. '\\n\\n') signify the separation of two paragraphs.\n",
    "- Two or more exclamation(!)/interrogation(?)/full stop(।) doesn't follow the grammatical rules; it is \n",
    "    most likely used by the writer to emphasize whatever they are saying.\n",
    "- The end of a sentence is determined by an exclamation (!), an interrogation (?) or a full stop (।)\n",
    "- The corpus is probably from a web page, since it includes HTML labels\n",
    "- Presence of text in English\n",
    "\n",
    "**Operations**: \n",
    "- Get a list of paragraphs by splitting the text by at-least-2 consecutive end-of-line characters (i.e. '\\n{2,}').\n",
    "- For each paragraph:\n",
    "    + Substitute two or more exclamations/interrogations/full stops by a single one\n",
    "    + Remove HTML tags\n",
    "    + Remove text in English  \n",
    "    + Split text in sentences using the [bltk library](https://github.com/saimoncse19/bltk)\n",
    "- Collect all sentences from all paragraphs as a list."
   ],
   "metadata": {}
  },
  {
   "cell_type": "code",
   "execution_count": 3,
   "source": [
    "# import libraries and dependencies\n",
    "import preprocessing\n",
    "import utils\n",
    "importlib.reload(preprocessing)\n",
    "from preprocessing import raw_preprocess, split_train_test"
   ],
   "outputs": [],
   "metadata": {}
  },
  {
   "cell_type": "markdown",
   "source": [
    "## 1.1. Preprocess data for sentencepiece"
   ],
   "metadata": {}
  },
  {
   "cell_type": "code",
   "execution_count": 4,
   "source": [
    "# preprocess raw data to get a list of sentences.\n",
    "sentences = raw_preprocess(LANG)\n",
    "\n",
    "# write the sentences into a file, each sentence on one line.\n",
    "with open(f'data/{LANG.name}/preprocessed.txt', 'w') as f:\n",
    "    for sentence in sentences:\n",
    "        f.write(f'{sentence}\\n')\n",
    "\n",
    "utils.print_length_statistics(sentences)"
   ],
   "outputs": [
    {
     "output_type": "stream",
     "name": "stdout",
     "text": [
      "Num. of sentences = 11717\n",
      "Avg. length = 113.63471878467185\n",
      "Std. dev. of the length = 152.39452707784676\n",
      "Maximum length = 2316\n",
      "Minimum length = 1\n"
     ]
    }
   ],
   "metadata": {}
  },
  {
   "cell_type": "markdown",
   "source": [
    "## 1.2. Train/test split"
   ],
   "metadata": {}
  },
  {
   "cell_type": "code",
   "execution_count": 8,
   "source": [
    "# split data to train and test.\n",
    "train, test = split_train_test(sentences, LANG)\n",
    "\n",
    "# write train and test data into corresponding files.\n",
    "train_path = f'data/{LANG.name}/train.txt'\n",
    "test_path = f'data/{LANG.name}/test.txt'\n",
    "\n",
    "with open(train_path, 'w') as f:\n",
    "    f.write('\\n'.join(train))\n",
    "with open(test_path, 'w') as f:\n",
    "    f.write('\\n'.join(test))"
   ],
   "outputs": [],
   "metadata": {}
  },
  {
   "cell_type": "markdown",
   "source": [
    "# 2. Subword segmentation"
   ],
   "metadata": {}
  },
  {
   "cell_type": "markdown",
   "source": [
    "In this section, we work on 3 segmentation models with difference vocabulary sizes. The first one employs character-level segmentation, which is simply to treat each character as a token, resulting in a vocabulary size of 55. In the rest of this section, we focus mostly on the other 2 models."
   ],
   "metadata": {}
  },
  {
   "cell_type": "markdown",
   "source": [
    "## 2.1. Experiments with vocabulary sizes\n",
    "\n",
    "\n",
    "There are 2 types of subword: small vocabulary size (i.e. usually from 100 to 800) and large vocabulary size (i.e. from 1500 to 3000). For each type, we do some experiments to choose an exact vocabulary size, which will be fixed for subsequent tasks.\n",
    "\n",
    "**Approach**\n",
    "\n",
    "We use the same principle used with the English corpus to select the optimal vocabulary sizes: [Minimum Description Length (MDL)](https://en.wikipedia.org/wiki/Minimum_description_length).\n",
    "\n",
    "\n",
    "a. Small vocabulary \n",
    "\n",
    "For small vocabulary sizes (from 100 to 800), the corresponding description length (or total file size) is shown in the figure below. Increasing the vocabulary size decreases the description length, being 800 the optimal vocabulary size within this range.\n",
    "\n",
    "![figures/bn/task2.3_small_vocab_file_size.png](figures/bn/task2.3_small_vocab_file_size.png)\n",
    "\n",
    "We examine the different segmentations of an example sentence to try to understand how the models behave for the Bengali language: \n",
    "\n",
    "original text: \n",
    "\n",
    "> তোবে এভাবে তার দিকে ধেয়ে যাওয়া কখনো কাম্য নয়।\n",
    "\n",
    "\n",
    "> Tōbē ēbhābē tāra dikē dhēẏē yā'ōẏā kakhanō kāmya naẏa.\n",
    "\n",
    "\n",
    ">However, it is never desirable to rush towards him like this.\n",
    "\n",
    "vocab_size = 100: \n",
    "> ▁ত ো বে ▁এ ভ া বে ▁ত ার ▁দ ি কে ▁ ধ ে য়ে ▁য া ও য়া ▁ক খ ন ো ▁ক া ম ্য ▁ন য় ।\n",
    "\n",
    "> ▁Ta ̔ō bē ▁ē bha ̔ā bē ▁ta ̔āra ▁da ̔i kē ▁ dha ̔ē ẏē ▁ya ̔ā ō ẏā ▁ka kha na ̔ō ▁ka ̔ā ma ya ▁na ẏa.\n",
    "\n",
    "vocab_size = 300: \n",
    "> ▁তো বে ▁এ ভ াবে ▁তার ▁দি কে ▁ধ েয়ে ▁যা ওয়া ▁ক খন ো ▁কা ম ্য ▁ন য় ।\n",
    "\n",
    "> ▁Tō bē ▁ē bha ̔ābē ▁tāra ▁di kē ▁dha ̔ēẏē ▁yā ōẏā ▁ka khana ̔ō ▁kā ma ya ▁na ẏa.\n",
    "\n",
    "vocab_size = 500: \n",
    "> ▁তো বে ▁এ ভাবে ▁তার ▁দি কে ▁ধ েয়ে ▁যা ওয়া ▁ক খন ো ▁কা ম ্য ▁নয় ।\n",
    "\n",
    "> ▁Tō bē ▁ē bhābē ▁tāra ▁di kē ▁dha ̔ēẏē ▁yā ōẏā ▁ka khana ̔ō ▁kā ma ya ▁naẏa.\n",
    "\n",
    "\n",
    "vocab_size = 800:\n",
    "\n",
    "> ▁তো বে ▁এ ভাবে ▁তার ▁দি কে ▁ধ েয়ে ▁যা ওয়া ▁কখন ো ▁কা ম ্য ▁নয় ।\n",
    "\n",
    "> ▁Tō bē ▁ē bhābē ▁tāra ▁di kē ▁dha ̔ēẏē ▁yā ōẏā ▁kakhana ̔ō ▁kā ma ya ▁naẏa.\n",
    " \n",
    "b. Large vocabulary\n",
    "\n",
    "For large vocabulary sizes (from 1500 to 3000), we repeat the procedure. The description lengths corresponding to different sizes are shown below.\n",
    "\n",
    "![figures/bn/task2.3_large_vocab_file_size.png](figures/bn/task2.3_large_vocab_file_size.png)\n",
    "\n",
    "The minimal description length is obtained for the vocabulary size 1700.\n",
    "\n",
    "Regarding the above example, choosing a vocabulary size of 1700 gives the following result:\n",
    "\n",
    "original text: \n",
    "\n",
    ">তোবে এভাবে তার দিকে ধেয়ে যাওয়া কখনো কাম্য নয়।\n",
    "\n",
    "> Tōbē ēbhābē tāra dikē dhēẏē yā'ōẏā kakhanō kāmya naẏa.\n",
    "\n",
    ">However, it is never desirable to rush towards him like this.\n",
    "\n",
    "vocab_size = 1700:\n",
    "\n",
    ">▁তো বে ▁এভাবে ▁তার ▁দিকে ▁ধ েয়ে ▁যা ওয়া ▁কখনো ▁কাম ্য ▁নয় ।\n",
    "\n",
    "> ▁Tō bē ▁ēbhābē ▁tāra ▁dikē ▁dha ̔ēẏē ▁yā ōẏā ▁kakhanō ▁kāma ya ▁naẏa.\n"
   ],
   "metadata": {}
  },
  {
   "cell_type": "markdown",
   "source": [
    "## 2.2. Training of Segmentation models\n",
    "\n",
    "**Operations**:\n",
    "- We train 3 segmentation models of different vocabulary sizes:\n",
    "    - character-level segmentation.\n",
    "    - small subword vocabulary size of 800.\n",
    "    - large subword vocabulary size of 1700.\n",
    "- For each vocabulary size, we:\n",
    "    - train a segmentation model.\n",
    "    - apply the model on the training data to get an encoded text.\n",
    "    - decode the encoded text, verify that the decoded text is the same as the original training data to ensure the correctness of the model.\n",
    "    - apply the same encoding, decoding operations on the test data.    \n",
    "\n"
   ],
   "metadata": {}
  },
  {
   "cell_type": "code",
   "execution_count": 13,
   "source": [
    "# import libraries and dependencies\n",
    "import segmentation\n",
    "importlib.reload(segmentation)\n",
    "from segmentation import train_segmentation, encode_text_file, decode_text_file\n",
    "from config import seg_profiles"
   ],
   "outputs": [],
   "metadata": {}
  },
  {
   "cell_type": "code",
   "execution_count": 4,
   "source": [
    "seg_profiles[LANG.name]"
   ],
   "outputs": [
    {
     "output_type": "execute_result",
     "data": {
      "text/plain": [
       "[SegmentationConf(id='s1', vocab_size=None, model_type='char'),\n",
       " SegmentationConf(id='s2', vocab_size=800, model_type='bpe'),\n",
       " SegmentationConf(id='s3', vocab_size=1700, model_type='bpe')]"
      ]
     },
     "metadata": {},
     "execution_count": 4
    }
   ],
   "metadata": {}
  },
  {
   "cell_type": "code",
   "execution_count": null,
   "source": [
    "for seg in seg_profiles[LANG.name]:\n",
    "    # train segmentation on the train data\n",
    "    spm1 = train_segmentation(\n",
    "        text_file=train_path, \n",
    "        LANG=LANG, \n",
    "        vocab_size=seg.vocab_size, \n",
    "        model_type=seg.model_type)\n",
    "  \n",
    "    encoded_file = f'data/{LANG.name}/segmentation/{seg.id}.txt'\n",
    "    encode_text_file(text_file=train_path, model_path=spm1, output_file=encoded_file)\n",
    "    \n",
    "    decoded_file = f'data/{LANG.name}/segmentation/{seg.id}_decoded.txt'\n",
    "    decode_text_file(text_file=encoded_file, model_path=spm1, output_file=decoded_file)\n",
    "    \n",
    "    # test it on the test data\n",
    "    encoded_file = f'data/{LANG.name}/segmentation/{seg.id}_test.txt'\n",
    "    encode_text_file(text_file=test_path, model_path=spm1, output_file=encoded_file)\n",
    "    \n",
    "    decoded_file = f'data/{LANG.name}/segmentation/{seg.id}_decoded_test.txt'\n",
    "    decode_text_file(text_file=encoded_file, model_path=spm1, output_file=decoded_file)"
   ],
   "outputs": [],
   "metadata": {}
  },
  {
   "cell_type": "markdown",
   "source": [
    "# 3. Language Model"
   ],
   "metadata": {}
  },
  {
   "cell_type": "markdown",
   "source": [
    "## 3.1. Baseline"
   ],
   "metadata": {
    "tags": []
   }
  },
  {
   "cell_type": "code",
   "execution_count": 12,
   "source": [
    "from config import baseline_conf\n",
    "baseline_conf"
   ],
   "outputs": [
    {
     "output_type": "execute_result",
     "data": {
      "text/plain": [
       "TrainingConf(hidden=40, rand_seed=1, debug=2, bptt=4, n_class=9999)"
      ]
     },
     "metadata": {},
     "execution_count": 12
    }
   ],
   "metadata": {}
  },
  {
   "cell_type": "markdown",
   "source": [
    "Executing the following cell will delete the already trained language models. To simply see the perplexity of the trained models, skip this cell and execute the next one."
   ],
   "metadata": {}
  },
  {
   "cell_type": "code",
   "execution_count": null,
   "source": [
    "for seg in seg_profiles[LANG.name]:\n",
    "    # Hyper parameters\n",
    "    hidden = baseline_conf.hidden\n",
    "    rand_seed = baseline_conf.rand_seed\n",
    "    debug = baseline_conf.debug\n",
    "    bptt = baseline_conf.bptt\n",
    "    n_class = baseline_conf.n_class\n",
    "\n",
    "    # Parameters\n",
    "    model_path = f'models/rnnlm/{LANG.name}/{seg.id}_baseline'\n",
    "    train_path = f'../../../../data/{LANG.name}/segmentation/{seg.id}.txt'\n",
    "    valid_path = f'../../../../data/{LANG.name}/segmentation/{seg.id}_test.txt'\n",
    "\n",
    "    # run the model \n",
    "    !rm -rf $model_path \\\n",
    "      && mkdir $model_path \\\n",
    "      && cd $model_path \\\n",
    "      && ../../../../rnnlm-0.3e/rnnlm \\\n",
    "        -train $train_path \\\n",
    "        -valid $valid_path \\\n",
    "        -rnnlm model \\\n",
    "        -hidden $hidden \\\n",
    "        -rand-seed $rand_seed \\\n",
    "        -debug $debug \\\n",
    "        -bptt $bptt \\\n",
    "        -class $n_class"
   ],
   "outputs": [],
   "metadata": {}
  },
  {
   "cell_type": "markdown",
   "source": [
    "The validation perplexities of the baseline models are:"
   ],
   "metadata": {}
  },
  {
   "cell_type": "code",
   "execution_count": 13,
   "source": [
    "for seg in seg_profiles[LANG.name]:\n",
    "    model_path = f'models/rnnlm/{LANG.name}/{seg.id}_baseline'\n",
    "        \n",
    "    # read output and print perplexity\n",
    "    with open(f'{model_path}/model.output.txt', 'r') as f:\n",
    "        output = f.read()\n",
    "        pp = output.split()[-1]\n",
    "        print(f'Baseline {LANG.name}-{seg.id} validation perplexity: {pp}')"
   ],
   "outputs": [
    {
     "output_type": "stream",
     "name": "stdout",
     "text": [
      "Baseline bn-s1 validation perplexity: 7.368929\n",
      "Baseline bn-s2 validation perplexity: 94.109742\n",
      "Baseline bn-s3 validation perplexity: 176.930043\n"
     ]
    }
   ],
   "metadata": {}
  },
  {
   "cell_type": "markdown",
   "source": [
    "## 3.2. Experiments"
   ],
   "metadata": {}
  },
  {
   "cell_type": "markdown",
   "source": [
    "We take into account the results of the grid search of the hyperparameters `hidden`, `bptt` and `class` for the English models to avoid a grid search for Bengali (it take much longer time to do experiments on the Bengali corpus). We choose the following values for the three Bengali models (`s1`, `s2` and `s3`): \n",
    "\n",
    "- `hidden=200`: we learned that the more neurons in the hidden layer, the lower the perplexity. We select again the maximum number of hidden neurons recommended by the authors of the [rnnlm toolkit](http://www.fit.vutbr.cz/~imikolov/rnnlm/FAQ.txt).\n",
    "\n",
    "- `bptt=4`: we learned that modifying the number of backpropagation steps doesn't affect the perplexity of the model much, so we keep this hyperparameter fixed (with the same value as in the baseline configuration).\n",
    "\n",
    "- `class=1700`: we select a number of classes equal to the optimal vocabulary size, i.e. 1700."
   ],
   "metadata": {}
  },
  {
   "cell_type": "code",
   "execution_count": 15,
   "source": [
    "import pickle\n",
    "import itertools"
   ],
   "outputs": [],
   "metadata": {}
  },
  {
   "cell_type": "code",
   "execution_count": 16,
   "source": [
    "# experimented results are kept in a file\n",
    "grid_result_file = f'experiments/{LANG.name}/task3_grid_search.pickle'\n",
    "# grid_results stores the results in memory\n",
    "grid_results = {}\n",
    "\n",
    "# import previous results if exists\n",
    "\n",
    "with open(grid_result_file, 'rb') as f:\n",
    "    previous_results = pickle.load(f)\n",
    "    grid_results.update(previous_results)"
   ],
   "outputs": [],
   "metadata": {
    "scrolled": true,
    "tags": []
   }
  },
  {
   "cell_type": "markdown",
   "source": [
    "**Results**:\n",
    "\n",
    "The optimal configurations of hyperparameters for each vocabulary size are:"
   ],
   "metadata": {}
  },
  {
   "cell_type": "code",
   "execution_count": 17,
   "source": [
    "for seg in seg_profiles[LANG.name]:\n",
    "    results = dict((k, v) for (k, v) in grid_results.items() if k[1] == seg.id)\n",
    "    print(f\"{seg.id}: {min(results, key=results.get)}\")"
   ],
   "outputs": [
    {
     "output_type": "stream",
     "name": "stdout",
     "text": [
      "s1: ('bn', 's1', 200, 4, 1700)\n",
      "s2: ('bn', 's2', 200, 4, 1700)\n",
      "s3: ('bn', 's3', 200, 4, 1700)\n"
     ]
    }
   ],
   "metadata": {}
  },
  {
   "cell_type": "code",
   "execution_count": null,
   "source": [
    "# train and save LMs for the optimal configurations\n",
    "importlib.reload(config)\n",
    "from config import optimal_conf\n",
    "\n",
    "for id, (hidden, rand_seed, debug, bptt, n_class) in \\\n",
    "    enumerate(optimal_conf[LANG.name], start=1):\n",
    "    \n",
    "    seg_id = f's{id}'\n",
    "\n",
    "    # paths\n",
    "    model_path = f'models/rnnlm/{LANG.name}/{seg_id}_optimal'\n",
    "    train_path = f'../../../../data/{LANG.name}/segmentation/{seg_id}.txt'\n",
    "    valid_path = f'../../../../data/{LANG.name}/segmentation/{seg_id}_test.txt'\n",
    "\n",
    "    # run the model \n",
    "    !rm -rf $model_path \\\n",
    "      && mkdir $model_path \\\n",
    "      && cd $model_path \\\n",
    "      && ../../../../rnnlm-0.3e/rnnlm \\\n",
    "        -train $train_path \\\n",
    "        -valid $valid_path \\\n",
    "        -rnnlm model \\\n",
    "        -hidden $hidden \\\n",
    "        -rand-seed $rand_seed \\\n",
    "        -debug $debug \\\n",
    "        -bptt $bptt \\\n",
    "        -class $n_class"
   ],
   "outputs": [],
   "metadata": {}
  },
  {
   "cell_type": "markdown",
   "source": [
    "# 4. Text Generation"
   ],
   "metadata": {}
  },
  {
   "cell_type": "markdown",
   "source": [
    "We generate texts of different lengths for each of the 6 language models (3 baseline and 3 optimal models) from section 3. The generated texts are then decoded by the corresponding segmentation models. We translate the texts from Bengali to English using [Google Translator](https://translate.google.com/) to gain some understanding of the content of the generated texts. Of course, when Google Translator, we must take into account that it has the ability to auto-correct word and grammar errors, giving better results in English than the original results in Bengali. Next, we compare the artificial texts of length 100: \n"
   ],
   "metadata": {}
  },
  {
   "cell_type": "code",
   "execution_count": 5,
   "source": [
    "from config import SEG_MODELS_PATH"
   ],
   "outputs": [],
   "metadata": {}
  },
  {
   "cell_type": "markdown",
   "source": [
    "## 4.1. Baseline models"
   ],
   "metadata": {}
  },
  {
   "cell_type": "code",
   "execution_count": 6,
   "source": [
    "for seg in seg_profiles[LANG.name]:\n",
    "    gen_folder = f'data/{LANG.name}/generation/{seg.id}_baseline'\n",
    "    # path to LM file\n",
    "    language_model_file = f'models/rnnlm/{LANG.name}/{seg.id}_baseline/model'\n",
    "    # path to segmentation file\n",
    "    if seg.model_type == 'char':\n",
    "        seg_model_file = f'{SEG_MODELS_PATH}/{LANG.name}/spm_{seg.model_type}.model'\n",
    "    else:\n",
    "        seg_model_file = f'{SEG_MODELS_PATH}/{LANG.name}/spm_{seg.model_type}_vocabsize-{seg.vocab_size}.model'\n",
    "    \n",
    "    # remove the text-generation folder\n",
    "    !rm -rf $gen_folder \\\n",
    "        && mkdir $gen_folder\n",
    "    \n",
    "    for n_gen in [10, 100, 1000, 10000, 100000, 1000000, 10000000]:\n",
    "        # generate text using rnnlm\n",
    "        gen_file = f'{gen_folder}/{n_gen}.txt'\n",
    "        !rnnlm-0.3e/rnnlm \\\n",
    "                -rnnlm $language_model_file \\\n",
    "                -gen $n_gen \\\n",
    "                -debug 0 \\\n",
    "            > $gen_file\n",
    "        \n",
    "        # decode generated text using sentencepiece\n",
    "        decoded_gen_file = f'{gen_folder}/{n_gen}_decoded.txt'\n",
    "        decode_text_file(gen_file, seg_model_file, decoded_gen_file)"
   ],
   "outputs": [],
   "metadata": {}
  },
  {
   "cell_type": "markdown",
   "source": [
    "`s1`:\n",
    "> টারা হচুন না অনশালে দিস আর করা শক্যোথা নাই জদিও আজতে দ্বকি তাইসবিল অপরতো তুই থেকে কোন অনেক ক্রকা রু\n",
    "\n",
    "> Tara hachun na anshale dis aar kara shakyotha nai jadio aajte dbki taisbil aparato tui to ko kanai kroka ru\n",
    "\n",
    "`s2`:\n",
    "> সাকিব নেওয়ামী ভাষাও প্রথম না তাকে সাংবাদিক নেয়ত !\n",
    "যে সাদাত করে দেন কিছু হোক।\n",
    "অশনকজনীতি ছাড়া কাকে চিত্রোন নবীতে পারেছে খুব মজা পাইলে খুদানি পাপন সাহেব অনেক ধন্যবাদ কেন?\n",
    "আন্দতেল আমি।\n",
    "তাকিয়ে দেখলাম।\n",
    "এই লোককেও বলছিলো চিনিতে মারছি, রইলব ইবিবা\n",
    "\n",
    "> Shakib Newami language was not the first to take him as a journalist!\n",
    "Whatever you make sadat.\n",
    "If you have a lot of fun in Chitron Nabi without Ashanakaniti, why is Mr. Khudani Papon thank you so much?\n",
    "Andtel I.\n",
    "I looked.\n",
    "This guy was also saying I was hitting with sugar, Raylab Ibiba\n",
    "\n",
    "`s3`:\n",
    "> সাকিবলাও কেন ছিলসাকিব মোমো হুজুর ।\n",
    "রাজনীতি হুজুর এবং বুয়ে গেলোও আর বাঁচার কৃজলায় ডগলো করা দরকার আছে আল্লাহর মজারিদের আছাদ মুদের কাছে যদিবাসী লোদা বলবে উনি ওগানজিথা।\n",
    "বাংলার চরিত্র নিয়ে দেকবো তার সিলেজের চুল কেউ মনে হয় আর রিস্টে বোমনি এটাতো নারীর ষনীতি করে ভিডিও টা দেখছেন এক জনন আবার চোরশালা এ জানতে নিয়\n",
    "\n",
    ">Why was Shakibala also Shakib Momo sir.\n",
    "Politics, sir and brother-in-law, but it is necessary to dodge the misery of survival, if the people of Loda say that he is Oganjitha.\n",
    "I will look at the character of Bengal, I think the hair of his silage is someone, and in the wrist, Bomni is watching the video of a woman being sexually assaulted.\n",
    "\n",
    "Once again, it can be seen that the three text have different lengths with `s1` < `s2` < `s3`, which is coherent with the vocabulary that each model uses.\n",
    "\n",
    "Regarding the quality of the generated texts, we can only comment on the automatic translations given by Google Translator. Within the baseline models, the bigger the vocabulary, the better the generated text: `s3` provides the results. The text generated by `s1` cannot even be translated to English. The text generated by `s2` can be translated, but the generated sentences are not gramatically correct and don't have any sense. For `s3`, even though the sentences still do not have much sense, they are more elaborated and grammatically correct. Even if Google Translator is correcting grammar errors, we can assume that it does it equally for every text and, thus, if the translation of the text generated by `s3` is better regarding grammar, the original text in Bengali will be better too."
   ],
   "metadata": {}
  },
  {
   "cell_type": "markdown",
   "source": [
    "## 4.2. Tuned models"
   ],
   "metadata": {}
  },
  {
   "cell_type": "code",
   "execution_count": 41,
   "source": [
    "for seg in seg_profiles[LANG.name]:\n",
    "    gen_folder = f'data/{LANG.name}/generation/{seg.id}'\n",
    "    # path to LM file\n",
    "    language_model_file = f'models/rnnlm/{LANG.name}/{seg.id}_optimal/model'\n",
    "    # path to segmentation file\n",
    "    if seg.model_type == 'char':\n",
    "        seg_model_file = f'{SEG_MODELS_PATH}/{LANG.name}/spm_{seg.model_type}.model'\n",
    "    else:\n",
    "        seg_model_file = f'{SEG_MODELS_PATH}/{LANG.name}/spm_{seg.model_type}_vocabsize-{seg.vocab_size}.model'\n",
    "    \n",
    "    # remove the text-generation folder\n",
    "    !rm -rf $gen_folder \\\n",
    "        && mkdir $gen_folder\n",
    "    \n",
    "    for n_gen in [10, 100, 1000, 10000, 100000, 1000000, 10000000]:\n",
    "        # generate text using rnnlm\n",
    "        gen_file = f'{gen_folder}/{n_gen}.txt'\n",
    "        !rnnlm-0.3e/rnnlm \\\n",
    "                -rnnlm $language_model_file \\\n",
    "                -gen $n_gen \\\n",
    "                -debug 0 \\\n",
    "            > $gen_file\n",
    "        \n",
    "        # decode generated text using sentencepiece\n",
    "        decoded_gen_file = f'{gen_folder}/{n_gen}_decoded.txt'\n",
    "        decode_text_file(gen_file, seg_model_file, decoded_gen_file)"
   ],
   "outputs": [],
   "metadata": {}
  },
  {
   "cell_type": "markdown",
   "source": [
    "\n",
    "`s1`:\n",
    ">“ভিডিও থেকে একটি গল্প্রান্ধু হয়।\n",
    "খানকিকুত্তার বাচ্চাহাজিয়ে যত্তকে বাস্তব যত দিন আসে সব কত বড় যু\n",
    "\n",
    ">“There is a story-teller from the video.\n",
    "How big is all the real days when the bitch's baby hajiye yatake real\n",
    "\n",
    "\n",
    "`s2`:\n",
    ">ভাইয়া আজ আবার ও  আসুনুটে যতখন এক খালেদায়েক,\n",
    "তিন পোড়ুন খেলা চিতবেতার বোদায় হায়রে বিপক্ষা, বাংলার দফাড়াতের ভুদির ছি শালা তোর বাগি নাস্তিক ভন্ড কুত্তার বাচ্চা আবাল বাঁকিয়ে তুই ইউটিউব লাথালী ও ছোট বেলা থেকে যেতে হয়তো এই রকম বং্গালের সনয়তি কে ধরে নিয়ে যাচ্ছে\n",
    "\n",
    "> Brother, come again today and as long as one Khaledayek,\n",
    "Alas for the three-burned game Chitbetar Boda, Alas for the opposition\n",
    "\n",
    "\n",
    "`s3`:\n",
    "> সিনেমা টা ভালো করে সেইভাবে একটু টাইমে নাই ওয়ামত ও নাচেগেছে মিডিয়াতে লাখ টাকা কাওয়া কাদের বা সারা মোটাফ্যাপি তোমাকেন,,,আরতেই ঘুষখোরটা সাজল শি কি খায় আর মেয়েটার সাবস্ক্রাইব করছে একডিয়া আর দিন গ্রেপ্তন করলাম সবাই কিন পৃথিবীতে কত বড় আছে আমি বাংলাদেশের কত দিতে গিয়ে।\n",
    "আজ আমার মনে ছিলো না এখানে ডেল করে!\n",
    "যে খারাপ সালা\n",
    "\n",
    "> The movie is not doing well like that. Wamat and Nachegeche are dancing in the media for lakhs of rupees. Kawa Kader or Sara Motafapi Tomaken.\n",
    "I didn't think Dale was here today!\n",
    "That bad sala\n"
   ],
   "metadata": {}
  },
  {
   "cell_type": "markdown",
   "source": [
    "In general, the quality of the generated texts seems to be of the same quality. This constrasts with the poorer results that the model `s1` for English gave. Each symbol of the Bengali language denotes a consonant followed by a particular vowel that is implicit; there are explicit vowels too. The way in which the Bengali writing systems works, allows the model `s1` to have enough context using simply the vocabulary corresponds with the alphabet.\n",
    " \n",
    "There doesn't seem to be a significant improvement with respect to the baselines of `s2` and `s3`.\n"
   ],
   "metadata": {}
  },
  {
   "cell_type": "markdown",
   "source": [
    "# 5. OOV comparison"
   ],
   "metadata": {}
  },
  {
   "cell_type": "markdown",
   "source": [
    "In this section, we compare the OOV rate of the original vocabulary and the augmented vocabularies from generated texts."
   ],
   "metadata": {}
  },
  {
   "cell_type": "code",
   "execution_count": 5,
   "source": [
    "import vocab_processing \n",
    "vocab_processing = importlib.reload(vocab_processing)\n",
    "from vocab_processing import get_word_level_vocabulary, get_word_level_tokens, get_oov_rate"
   ],
   "outputs": [],
   "metadata": {}
  },
  {
   "cell_type": "code",
   "execution_count": 6,
   "source": [
    "train_path = f'data/{LANG.name}/train.txt'\n",
    "test_path = f'data/{LANG.name}/test.txt'"
   ],
   "outputs": [],
   "metadata": {}
  },
  {
   "cell_type": "code",
   "execution_count": 7,
   "source": [
    "# get the training vocabulary on word-level\n",
    "train_vocab = get_word_level_vocabulary(LANG, train_path)\n",
    "# get the test tokens on word-level\n",
    "test_tokens = get_word_level_tokens(LANG, test_path)\n",
    "# compute and print OOV rate\n",
    "oov_rate = get_oov_rate(train_vocab, test_tokens)\n",
    "print(f'Original data\\'s OOV rate: {oov_rate:.2%}')"
   ],
   "outputs": [
    {
     "output_type": "stream",
     "name": "stdout",
     "text": [
      "Original data's OOV rate: 13.76%\n"
     ]
    }
   ],
   "metadata": {}
  },
  {
   "cell_type": "markdown",
   "source": [
    "### Baseline models"
   ],
   "metadata": {}
  },
  {
   "cell_type": "code",
   "execution_count": 10,
   "source": [
    "oov_rates = []\n",
    "\n",
    "for seg in seg_profiles[LANG.name]:\n",
    "    gen_folder = f'data/{LANG.name}/generation/{seg.id}_baseline'\n",
    "    oov_rates.append([])\n",
    "    \n",
    "    for n_gen in [10, 100, 1000, 10000, 100000, 1000000, 10000000]:\n",
    "\n",
    "        # obtain the vocabulary from the generated corpora\n",
    "        decoded_gen_file = f'{gen_folder}/{n_gen}_decoded.txt'\n",
    "        gen_vocab = get_word_level_vocabulary(LANG, decoded_gen_file)\n",
    "\n",
    "        # compute the oov-rate on the augmented vocabulary\n",
    "        augmented_oov_rate = get_oov_rate(train_vocab | gen_vocab, test_tokens)\n",
    "        print(f'(Baseline) {LANG.name} {seg.id} {n_gen} OOV rate: {augmented_oov_rate:.2%}')\n",
    "        oov_rates[-1].append(augmented_oov_rate)"
   ],
   "outputs": [
    {
     "output_type": "stream",
     "name": "stdout",
     "text": [
      "(Baseline) bn s1 10 OOV rate: 13.76%\n",
      "(Baseline) bn s1 100 OOV rate: 13.76%\n",
      "(Baseline) bn s1 1000 OOV rate: 13.76%\n",
      "(Baseline) bn s1 10000 OOV rate: 13.74%\n",
      "(Baseline) bn s1 100000 OOV rate: 13.59%\n",
      "(Baseline) bn s1 1000000 OOV rate: 13.06%\n",
      "(Baseline) bn s1 10000000 OOV rate: 11.89%\n",
      "(Baseline) bn s2 10 OOV rate: 13.76%\n",
      "(Baseline) bn s2 100 OOV rate: 13.76%\n",
      "(Baseline) bn s2 1000 OOV rate: 13.76%\n",
      "(Baseline) bn s2 10000 OOV rate: 13.73%\n",
      "(Baseline) bn s2 100000 OOV rate: 13.46%\n",
      "(Baseline) bn s2 1000000 OOV rate: 12.44%\n",
      "(Baseline) bn s2 10000000 OOV rate: 10.56%\n",
      "(Baseline) bn s3 10 OOV rate: 13.76%\n",
      "(Baseline) bn s3 100 OOV rate: 13.76%\n",
      "(Baseline) bn s3 1000 OOV rate: 13.76%\n",
      "(Baseline) bn s3 10000 OOV rate: 13.72%\n",
      "(Baseline) bn s3 100000 OOV rate: 13.43%\n",
      "(Baseline) bn s3 1000000 OOV rate: 12.24%\n",
      "(Baseline) bn s3 10000000 OOV rate: 10.28%\n"
     ]
    }
   ],
   "metadata": {}
  },
  {
   "cell_type": "markdown",
   "source": [
    "### Tuned models"
   ],
   "metadata": {}
  },
  {
   "cell_type": "code",
   "execution_count": 11,
   "source": [
    "for seg in seg_profiles[LANG.name]:\n",
    "    gen_folder = f'data/{LANG.name}/generation/{seg.id}'\n",
    "    oov_rates.append([])\n",
    "    \n",
    "    for n_gen in [10, 100, 1000, 10000, 100000, 1000000, 10000000]:\n",
    "\n",
    "        # obtain the vocabulary from the generated corpora\n",
    "        decoded_gen_file = f'{gen_folder}/{n_gen}_decoded.txt'\n",
    "        gen_vocab = get_word_level_vocabulary(LANG, decoded_gen_file)\n",
    "\n",
    "        # compute the oov-rate on the augmented vocabulary\n",
    "        augmented_oov_rate = get_oov_rate(train_vocab | gen_vocab, test_tokens)\n",
    "        print(f'(Tuned) {LANG.name} {seg.id} {n_gen} OOV rate: {augmented_oov_rate:.2%}')\n",
    "        oov_rates[-1].append(augmented_oov_rate)"
   ],
   "outputs": [
    {
     "output_type": "stream",
     "name": "stdout",
     "text": [
      "(Tuned) bn s1 10 OOV rate: 13.76%\n",
      "(Tuned) bn s1 100 OOV rate: 13.76%\n",
      "(Tuned) bn s1 1000 OOV rate: 13.76%\n",
      "(Tuned) bn s1 10000 OOV rate: 13.74%\n",
      "(Tuned) bn s1 100000 OOV rate: 13.62%\n",
      "(Tuned) bn s1 1000000 OOV rate: 12.88%\n",
      "(Tuned) bn s1 10000000 OOV rate: 11.14%\n",
      "(Tuned) bn s2 10 OOV rate: 13.76%\n",
      "(Tuned) bn s2 100 OOV rate: 13.76%\n",
      "(Tuned) bn s2 1000 OOV rate: 13.76%\n",
      "(Tuned) bn s2 10000 OOV rate: 13.73%\n",
      "(Tuned) bn s2 100000 OOV rate: 13.47%\n",
      "(Tuned) bn s2 1000000 OOV rate: 12.37%\n",
      "(Tuned) bn s2 10000000 OOV rate: 10.35%\n",
      "(Tuned) bn s3 10 OOV rate: 13.76%\n",
      "(Tuned) bn s3 100 OOV rate: 13.76%\n",
      "(Tuned) bn s3 1000 OOV rate: 13.76%\n",
      "(Tuned) bn s3 10000 OOV rate: 13.74%\n",
      "(Tuned) bn s3 100000 OOV rate: 13.46%\n",
      "(Tuned) bn s3 1000000 OOV rate: 12.30%\n",
      "(Tuned) bn s3 10000000 OOV rate: 10.17%\n"
     ]
    }
   ],
   "metadata": {}
  },
  {
   "cell_type": "markdown",
   "source": [
    "The original OOV rate for the Bengali language is 13.07%. Augmenting the vocabulary with RNNLM's generated texts can effectively reduce this number, as shown in the below table and figure:\n",
    "\n",
    "| model\\ gen. size | $10^1$ | $10^2$ | $10^3$ | $10^4$ | $10^5$ | $10^6$ | $10^7$ |\n",
    "|------------------|--------|--------|--------|--------|--------|--------|--------|\n",
    "| s1 baseline      | 13.76% | 13.76% | 13.76% | 13.74% | 13.59% | 13.06% | 11.89% |\n",
    "| s2 baseline      | 13.76% | 13.76% | 13.76% | 13.73% | 13.46% | 12.44% | 10.56% |\n",
    "| s3 baseline      | 13.76% | 13.76% | 13.76% | 13.72% | 13.43% | 12.24% | 10.28% |\n",
    "|||||||||\n",
    "| s1 optimal       | 13.76% | 13.76% | 13.76% | 13.74% | 13.62% | 12.88% | 11.14% |\n",
    "| s2 optimal       | 13.76% | 13.76% | 13.76% | 13.73% | 13.47% | 12.37% | 10.35% |\n",
    "| s3 optimal       | 13.76% | 13.76% | 13.76% | 13.74% | 13.46% | 12.30% | 10.17% |\n"
   ],
   "metadata": {}
  },
  {
   "cell_type": "code",
   "execution_count": 12,
   "source": [
    "import visualisation\n",
    "importlib.reload(visualisation)\n",
    "from visualisation import plot_oov_rates\n",
    "from config import FIGURES_PATH\n",
    "\n",
    "plot_oov_rates(oov_rates, save_path=f'{FIGURES_PATH}/{LANG.name}/task5_oov_rates.png')"
   ],
   "outputs": [
    {
     "output_type": "display_data",
     "data": {
      "text/plain": [
       "<Figure size 576x360 with 1 Axes>"
      ],
      "image/svg+xml": "<?xml version=\"1.0\" encoding=\"utf-8\" standalone=\"no\"?>\n<!DOCTYPE svg PUBLIC \"-//W3C//DTD SVG 1.1//EN\"\n  \"http://www.w3.org/Graphics/SVG/1.1/DTD/svg11.dtd\">\n<svg height=\"331.674375pt\" version=\"1.1\" viewBox=\"0 0 503.74375 331.674375\" width=\"503.74375pt\" xmlns=\"http://www.w3.org/2000/svg\" xmlns:xlink=\"http://www.w3.org/1999/xlink\">\n <metadata>\n  <rdf:RDF xmlns:cc=\"http://creativecommons.org/ns#\" xmlns:dc=\"http://purl.org/dc/elements/1.1/\" xmlns:rdf=\"http://www.w3.org/1999/02/22-rdf-syntax-ns#\">\n   <cc:Work>\n    <dc:type rdf:resource=\"http://purl.org/dc/dcmitype/StillImage\"/>\n    <dc:date>2021-08-17T09:48:42.001257</dc:date>\n    <dc:format>image/svg+xml</dc:format>\n    <dc:creator>\n     <cc:Agent>\n      <dc:title>Matplotlib v3.4.2, https://matplotlib.org/</dc:title>\n     </cc:Agent>\n    </dc:creator>\n   </cc:Work>\n  </rdf:RDF>\n </metadata>\n <defs>\n  <style type=\"text/css\">*{stroke-linecap:butt;stroke-linejoin:round;}</style>\n </defs>\n <g id=\"figure_1\">\n  <g id=\"patch_1\">\n   <path d=\"M 0 331.674375 \nL 503.74375 331.674375 \nL 503.74375 0 \nL 0 0 \nz\n\" style=\"fill:none;\"/>\n  </g>\n  <g id=\"axes_1\">\n   <g id=\"patch_2\">\n    <path d=\"M 50.14375 294.118125 \nL 496.54375 294.118125 \nL 496.54375 22.318125 \nL 50.14375 22.318125 \nz\n\" style=\"fill:#ffffff;\"/>\n   </g>\n   <g id=\"matplotlib.axis_1\">\n    <g id=\"xtick_1\">\n     <g id=\"line2d_1\">\n      <defs>\n       <path d=\"M 0 0 \nL 0 3.5 \n\" id=\"m49166112bb\" style=\"stroke:#000000;stroke-width:0.8;\"/>\n      </defs>\n      <g>\n       <use style=\"stroke:#000000;stroke-width:0.8;\" x=\"70.434659\" xlink:href=\"#m49166112bb\" y=\"294.118125\"/>\n      </g>\n     </g>\n     <g id=\"text_1\">\n      <!-- $\\mathdefault{10^{1}}$ -->\n      <g transform=\"translate(61.634659 308.716563)scale(0.1 -0.1)\">\n       <defs>\n        <path d=\"M 794 531 \nL 1825 531 \nL 1825 4091 \nL 703 3866 \nL 703 4441 \nL 1819 4666 \nL 2450 4666 \nL 2450 531 \nL 3481 531 \nL 3481 0 \nL 794 0 \nL 794 531 \nz\n\" id=\"DejaVuSans-31\" transform=\"scale(0.015625)\"/>\n        <path d=\"M 2034 4250 \nQ 1547 4250 1301 3770 \nQ 1056 3291 1056 2328 \nQ 1056 1369 1301 889 \nQ 1547 409 2034 409 \nQ 2525 409 2770 889 \nQ 3016 1369 3016 2328 \nQ 3016 3291 2770 3770 \nQ 2525 4250 2034 4250 \nz\nM 2034 4750 \nQ 2819 4750 3233 4129 \nQ 3647 3509 3647 2328 \nQ 3647 1150 3233 529 \nQ 2819 -91 2034 -91 \nQ 1250 -91 836 529 \nQ 422 1150 422 2328 \nQ 422 3509 836 4129 \nQ 1250 4750 2034 4750 \nz\n\" id=\"DejaVuSans-30\" transform=\"scale(0.015625)\"/>\n       </defs>\n       <use transform=\"translate(0 0.684375)\" xlink:href=\"#DejaVuSans-31\"/>\n       <use transform=\"translate(63.623047 0.684375)\" xlink:href=\"#DejaVuSans-30\"/>\n       <use transform=\"translate(128.203125 38.965625)scale(0.7)\" xlink:href=\"#DejaVuSans-31\"/>\n      </g>\n     </g>\n    </g>\n    <g id=\"xtick_2\">\n     <g id=\"line2d_2\">\n      <g>\n       <use style=\"stroke:#000000;stroke-width:0.8;\" x=\"138.071023\" xlink:href=\"#m49166112bb\" y=\"294.118125\"/>\n      </g>\n     </g>\n     <g id=\"text_2\">\n      <!-- $\\mathdefault{10^{2}}$ -->\n      <g transform=\"translate(129.271023 308.716563)scale(0.1 -0.1)\">\n       <defs>\n        <path d=\"M 1228 531 \nL 3431 531 \nL 3431 0 \nL 469 0 \nL 469 531 \nQ 828 903 1448 1529 \nQ 2069 2156 2228 2338 \nQ 2531 2678 2651 2914 \nQ 2772 3150 2772 3378 \nQ 2772 3750 2511 3984 \nQ 2250 4219 1831 4219 \nQ 1534 4219 1204 4116 \nQ 875 4013 500 3803 \nL 500 4441 \nQ 881 4594 1212 4672 \nQ 1544 4750 1819 4750 \nQ 2544 4750 2975 4387 \nQ 3406 4025 3406 3419 \nQ 3406 3131 3298 2873 \nQ 3191 2616 2906 2266 \nQ 2828 2175 2409 1742 \nQ 1991 1309 1228 531 \nz\n\" id=\"DejaVuSans-32\" transform=\"scale(0.015625)\"/>\n       </defs>\n       <use transform=\"translate(0 0.765625)\" xlink:href=\"#DejaVuSans-31\"/>\n       <use transform=\"translate(63.623047 0.765625)\" xlink:href=\"#DejaVuSans-30\"/>\n       <use transform=\"translate(128.203125 39.046875)scale(0.7)\" xlink:href=\"#DejaVuSans-32\"/>\n      </g>\n     </g>\n    </g>\n    <g id=\"xtick_3\">\n     <g id=\"line2d_3\">\n      <g>\n       <use style=\"stroke:#000000;stroke-width:0.8;\" x=\"205.707386\" xlink:href=\"#m49166112bb\" y=\"294.118125\"/>\n      </g>\n     </g>\n     <g id=\"text_3\">\n      <!-- $\\mathdefault{10^{3}}$ -->\n      <g transform=\"translate(196.907386 308.716563)scale(0.1 -0.1)\">\n       <defs>\n        <path d=\"M 2597 2516 \nQ 3050 2419 3304 2112 \nQ 3559 1806 3559 1356 \nQ 3559 666 3084 287 \nQ 2609 -91 1734 -91 \nQ 1441 -91 1130 -33 \nQ 819 25 488 141 \nL 488 750 \nQ 750 597 1062 519 \nQ 1375 441 1716 441 \nQ 2309 441 2620 675 \nQ 2931 909 2931 1356 \nQ 2931 1769 2642 2001 \nQ 2353 2234 1838 2234 \nL 1294 2234 \nL 1294 2753 \nL 1863 2753 \nQ 2328 2753 2575 2939 \nQ 2822 3125 2822 3475 \nQ 2822 3834 2567 4026 \nQ 2313 4219 1838 4219 \nQ 1578 4219 1281 4162 \nQ 984 4106 628 3988 \nL 628 4550 \nQ 988 4650 1302 4700 \nQ 1616 4750 1894 4750 \nQ 2613 4750 3031 4423 \nQ 3450 4097 3450 3541 \nQ 3450 3153 3228 2886 \nQ 3006 2619 2597 2516 \nz\n\" id=\"DejaVuSans-33\" transform=\"scale(0.015625)\"/>\n       </defs>\n       <use transform=\"translate(0 0.765625)\" xlink:href=\"#DejaVuSans-31\"/>\n       <use transform=\"translate(63.623047 0.765625)\" xlink:href=\"#DejaVuSans-30\"/>\n       <use transform=\"translate(128.203125 39.046875)scale(0.7)\" xlink:href=\"#DejaVuSans-33\"/>\n      </g>\n     </g>\n    </g>\n    <g id=\"xtick_4\">\n     <g id=\"line2d_4\">\n      <g>\n       <use style=\"stroke:#000000;stroke-width:0.8;\" x=\"273.34375\" xlink:href=\"#m49166112bb\" y=\"294.118125\"/>\n      </g>\n     </g>\n     <g id=\"text_4\">\n      <!-- $\\mathdefault{10^{4}}$ -->\n      <g transform=\"translate(264.54375 308.716563)scale(0.1 -0.1)\">\n       <defs>\n        <path d=\"M 2419 4116 \nL 825 1625 \nL 2419 1625 \nL 2419 4116 \nz\nM 2253 4666 \nL 3047 4666 \nL 3047 1625 \nL 3713 1625 \nL 3713 1100 \nL 3047 1100 \nL 3047 0 \nL 2419 0 \nL 2419 1100 \nL 313 1100 \nL 313 1709 \nL 2253 4666 \nz\n\" id=\"DejaVuSans-34\" transform=\"scale(0.015625)\"/>\n       </defs>\n       <use transform=\"translate(0 0.684375)\" xlink:href=\"#DejaVuSans-31\"/>\n       <use transform=\"translate(63.623047 0.684375)\" xlink:href=\"#DejaVuSans-30\"/>\n       <use transform=\"translate(128.203125 38.965625)scale(0.7)\" xlink:href=\"#DejaVuSans-34\"/>\n      </g>\n     </g>\n    </g>\n    <g id=\"xtick_5\">\n     <g id=\"line2d_5\">\n      <g>\n       <use style=\"stroke:#000000;stroke-width:0.8;\" x=\"340.980114\" xlink:href=\"#m49166112bb\" y=\"294.118125\"/>\n      </g>\n     </g>\n     <g id=\"text_5\">\n      <!-- $\\mathdefault{10^{5}}$ -->\n      <g transform=\"translate(332.180114 308.716563)scale(0.1 -0.1)\">\n       <defs>\n        <path d=\"M 691 4666 \nL 3169 4666 \nL 3169 4134 \nL 1269 4134 \nL 1269 2991 \nQ 1406 3038 1543 3061 \nQ 1681 3084 1819 3084 \nQ 2600 3084 3056 2656 \nQ 3513 2228 3513 1497 \nQ 3513 744 3044 326 \nQ 2575 -91 1722 -91 \nQ 1428 -91 1123 -41 \nQ 819 9 494 109 \nL 494 744 \nQ 775 591 1075 516 \nQ 1375 441 1709 441 \nQ 2250 441 2565 725 \nQ 2881 1009 2881 1497 \nQ 2881 1984 2565 2268 \nQ 2250 2553 1709 2553 \nQ 1456 2553 1204 2497 \nQ 953 2441 691 2322 \nL 691 4666 \nz\n\" id=\"DejaVuSans-35\" transform=\"scale(0.015625)\"/>\n       </defs>\n       <use transform=\"translate(0 0.684375)\" xlink:href=\"#DejaVuSans-31\"/>\n       <use transform=\"translate(63.623047 0.684375)\" xlink:href=\"#DejaVuSans-30\"/>\n       <use transform=\"translate(128.203125 38.965625)scale(0.7)\" xlink:href=\"#DejaVuSans-35\"/>\n      </g>\n     </g>\n    </g>\n    <g id=\"xtick_6\">\n     <g id=\"line2d_6\">\n      <g>\n       <use style=\"stroke:#000000;stroke-width:0.8;\" x=\"408.616477\" xlink:href=\"#m49166112bb\" y=\"294.118125\"/>\n      </g>\n     </g>\n     <g id=\"text_6\">\n      <!-- $\\mathdefault{10^{6}}$ -->\n      <g transform=\"translate(399.816477 308.716563)scale(0.1 -0.1)\">\n       <defs>\n        <path d=\"M 2113 2584 \nQ 1688 2584 1439 2293 \nQ 1191 2003 1191 1497 \nQ 1191 994 1439 701 \nQ 1688 409 2113 409 \nQ 2538 409 2786 701 \nQ 3034 994 3034 1497 \nQ 3034 2003 2786 2293 \nQ 2538 2584 2113 2584 \nz\nM 3366 4563 \nL 3366 3988 \nQ 3128 4100 2886 4159 \nQ 2644 4219 2406 4219 \nQ 1781 4219 1451 3797 \nQ 1122 3375 1075 2522 \nQ 1259 2794 1537 2939 \nQ 1816 3084 2150 3084 \nQ 2853 3084 3261 2657 \nQ 3669 2231 3669 1497 \nQ 3669 778 3244 343 \nQ 2819 -91 2113 -91 \nQ 1303 -91 875 529 \nQ 447 1150 447 2328 \nQ 447 3434 972 4092 \nQ 1497 4750 2381 4750 \nQ 2619 4750 2861 4703 \nQ 3103 4656 3366 4563 \nz\n\" id=\"DejaVuSans-36\" transform=\"scale(0.015625)\"/>\n       </defs>\n       <use transform=\"translate(0 0.765625)\" xlink:href=\"#DejaVuSans-31\"/>\n       <use transform=\"translate(63.623047 0.765625)\" xlink:href=\"#DejaVuSans-30\"/>\n       <use transform=\"translate(128.203125 39.046875)scale(0.7)\" xlink:href=\"#DejaVuSans-36\"/>\n      </g>\n     </g>\n    </g>\n    <g id=\"xtick_7\">\n     <g id=\"line2d_7\">\n      <g>\n       <use style=\"stroke:#000000;stroke-width:0.8;\" x=\"476.252841\" xlink:href=\"#m49166112bb\" y=\"294.118125\"/>\n      </g>\n     </g>\n     <g id=\"text_7\">\n      <!-- $\\mathdefault{10^{7}}$ -->\n      <g transform=\"translate(467.452841 308.716563)scale(0.1 -0.1)\">\n       <defs>\n        <path d=\"M 525 4666 \nL 3525 4666 \nL 3525 4397 \nL 1831 0 \nL 1172 0 \nL 2766 4134 \nL 525 4134 \nL 525 4666 \nz\n\" id=\"DejaVuSans-37\" transform=\"scale(0.015625)\"/>\n       </defs>\n       <use transform=\"translate(0 0.684375)\" xlink:href=\"#DejaVuSans-31\"/>\n       <use transform=\"translate(63.623047 0.684375)\" xlink:href=\"#DejaVuSans-30\"/>\n       <use transform=\"translate(128.203125 38.965625)scale(0.7)\" xlink:href=\"#DejaVuSans-37\"/>\n      </g>\n     </g>\n    </g>\n    <g id=\"xtick_8\">\n     <g id=\"line2d_8\">\n      <defs>\n       <path d=\"M 0 0 \nL 0 2 \n\" id=\"mbfb3c41245\" style=\"stroke:#000000;stroke-width:0.6;\"/>\n      </defs>\n      <g>\n       <use style=\"stroke:#000000;stroke-width:0.6;\" x=\"55.429616\" xlink:href=\"#mbfb3c41245\" y=\"294.118125\"/>\n      </g>\n     </g>\n    </g>\n    <g id=\"xtick_9\">\n     <g id=\"line2d_9\">\n      <g>\n       <use style=\"stroke:#000000;stroke-width:0.6;\" x=\"59.957654\" xlink:href=\"#mbfb3c41245\" y=\"294.118125\"/>\n      </g>\n     </g>\n    </g>\n    <g id=\"xtick_10\">\n     <g id=\"line2d_10\">\n      <g>\n       <use style=\"stroke:#000000;stroke-width:0.6;\" x=\"63.880018\" xlink:href=\"#mbfb3c41245\" y=\"294.118125\"/>\n      </g>\n     </g>\n    </g>\n    <g id=\"xtick_11\">\n     <g id=\"line2d_11\">\n      <g>\n       <use style=\"stroke:#000000;stroke-width:0.6;\" x=\"67.339789\" xlink:href=\"#mbfb3c41245\" y=\"294.118125\"/>\n      </g>\n     </g>\n    </g>\n    <g id=\"xtick_12\">\n     <g id=\"line2d_12\">\n      <g>\n       <use style=\"stroke:#000000;stroke-width:0.6;\" x=\"90.795233\" xlink:href=\"#mbfb3c41245\" y=\"294.118125\"/>\n      </g>\n     </g>\n    </g>\n    <g id=\"xtick_13\">\n     <g id=\"line2d_13\">\n      <g>\n       <use style=\"stroke:#000000;stroke-width:0.6;\" x=\"102.705406\" xlink:href=\"#mbfb3c41245\" y=\"294.118125\"/>\n      </g>\n     </g>\n    </g>\n    <g id=\"xtick_14\">\n     <g id=\"line2d_14\">\n      <g>\n       <use style=\"stroke:#000000;stroke-width:0.6;\" x=\"111.155808\" xlink:href=\"#mbfb3c41245\" y=\"294.118125\"/>\n      </g>\n     </g>\n    </g>\n    <g id=\"xtick_15\">\n     <g id=\"line2d_15\">\n      <g>\n       <use style=\"stroke:#000000;stroke-width:0.6;\" x=\"117.710448\" xlink:href=\"#mbfb3c41245\" y=\"294.118125\"/>\n      </g>\n     </g>\n    </g>\n    <g id=\"xtick_16\">\n     <g id=\"line2d_16\">\n      <g>\n       <use style=\"stroke:#000000;stroke-width:0.6;\" x=\"123.06598\" xlink:href=\"#mbfb3c41245\" y=\"294.118125\"/>\n      </g>\n     </g>\n    </g>\n    <g id=\"xtick_17\">\n     <g id=\"line2d_17\">\n      <g>\n       <use style=\"stroke:#000000;stroke-width:0.6;\" x=\"127.594017\" xlink:href=\"#mbfb3c41245\" y=\"294.118125\"/>\n      </g>\n     </g>\n    </g>\n    <g id=\"xtick_18\">\n     <g id=\"line2d_18\">\n      <g>\n       <use style=\"stroke:#000000;stroke-width:0.6;\" x=\"131.516382\" xlink:href=\"#mbfb3c41245\" y=\"294.118125\"/>\n      </g>\n     </g>\n    </g>\n    <g id=\"xtick_19\">\n     <g id=\"line2d_19\">\n      <g>\n       <use style=\"stroke:#000000;stroke-width:0.6;\" x=\"134.976152\" xlink:href=\"#mbfb3c41245\" y=\"294.118125\"/>\n      </g>\n     </g>\n    </g>\n    <g id=\"xtick_20\">\n     <g id=\"line2d_20\">\n      <g>\n       <use style=\"stroke:#000000;stroke-width:0.6;\" x=\"158.431597\" xlink:href=\"#mbfb3c41245\" y=\"294.118125\"/>\n      </g>\n     </g>\n    </g>\n    <g id=\"xtick_21\">\n     <g id=\"line2d_21\">\n      <g>\n       <use style=\"stroke:#000000;stroke-width:0.6;\" x=\"170.341769\" xlink:href=\"#mbfb3c41245\" y=\"294.118125\"/>\n      </g>\n     </g>\n    </g>\n    <g id=\"xtick_22\">\n     <g id=\"line2d_22\">\n      <g>\n       <use style=\"stroke:#000000;stroke-width:0.6;\" x=\"178.792171\" xlink:href=\"#mbfb3c41245\" y=\"294.118125\"/>\n      </g>\n     </g>\n    </g>\n    <g id=\"xtick_23\">\n     <g id=\"line2d_23\">\n      <g>\n       <use style=\"stroke:#000000;stroke-width:0.6;\" x=\"185.346812\" xlink:href=\"#mbfb3c41245\" y=\"294.118125\"/>\n      </g>\n     </g>\n    </g>\n    <g id=\"xtick_24\">\n     <g id=\"line2d_24\">\n      <g>\n       <use style=\"stroke:#000000;stroke-width:0.6;\" x=\"190.702344\" xlink:href=\"#mbfb3c41245\" y=\"294.118125\"/>\n      </g>\n     </g>\n    </g>\n    <g id=\"xtick_25\">\n     <g id=\"line2d_25\">\n      <g>\n       <use style=\"stroke:#000000;stroke-width:0.6;\" x=\"195.230381\" xlink:href=\"#mbfb3c41245\" y=\"294.118125\"/>\n      </g>\n     </g>\n    </g>\n    <g id=\"xtick_26\">\n     <g id=\"line2d_26\">\n      <g>\n       <use style=\"stroke:#000000;stroke-width:0.6;\" x=\"199.152745\" xlink:href=\"#mbfb3c41245\" y=\"294.118125\"/>\n      </g>\n     </g>\n    </g>\n    <g id=\"xtick_27\">\n     <g id=\"line2d_27\">\n      <g>\n       <use style=\"stroke:#000000;stroke-width:0.6;\" x=\"202.612516\" xlink:href=\"#mbfb3c41245\" y=\"294.118125\"/>\n      </g>\n     </g>\n    </g>\n    <g id=\"xtick_28\">\n     <g id=\"line2d_28\">\n      <g>\n       <use style=\"stroke:#000000;stroke-width:0.6;\" x=\"226.067961\" xlink:href=\"#mbfb3c41245\" y=\"294.118125\"/>\n      </g>\n     </g>\n    </g>\n    <g id=\"xtick_29\">\n     <g id=\"line2d_29\">\n      <g>\n       <use style=\"stroke:#000000;stroke-width:0.6;\" x=\"237.978133\" xlink:href=\"#mbfb3c41245\" y=\"294.118125\"/>\n      </g>\n     </g>\n    </g>\n    <g id=\"xtick_30\">\n     <g id=\"line2d_30\">\n      <g>\n       <use style=\"stroke:#000000;stroke-width:0.6;\" x=\"246.428535\" xlink:href=\"#mbfb3c41245\" y=\"294.118125\"/>\n      </g>\n     </g>\n    </g>\n    <g id=\"xtick_31\">\n     <g id=\"line2d_31\">\n      <g>\n       <use style=\"stroke:#000000;stroke-width:0.6;\" x=\"252.983176\" xlink:href=\"#mbfb3c41245\" y=\"294.118125\"/>\n      </g>\n     </g>\n    </g>\n    <g id=\"xtick_32\">\n     <g id=\"line2d_32\">\n      <g>\n       <use style=\"stroke:#000000;stroke-width:0.6;\" x=\"258.338707\" xlink:href=\"#mbfb3c41245\" y=\"294.118125\"/>\n      </g>\n     </g>\n    </g>\n    <g id=\"xtick_33\">\n     <g id=\"line2d_33\">\n      <g>\n       <use style=\"stroke:#000000;stroke-width:0.6;\" x=\"262.866745\" xlink:href=\"#mbfb3c41245\" y=\"294.118125\"/>\n      </g>\n     </g>\n    </g>\n    <g id=\"xtick_34\">\n     <g id=\"line2d_34\">\n      <g>\n       <use style=\"stroke:#000000;stroke-width:0.6;\" x=\"266.789109\" xlink:href=\"#mbfb3c41245\" y=\"294.118125\"/>\n      </g>\n     </g>\n    </g>\n    <g id=\"xtick_35\">\n     <g id=\"line2d_35\">\n      <g>\n       <use style=\"stroke:#000000;stroke-width:0.6;\" x=\"270.24888\" xlink:href=\"#mbfb3c41245\" y=\"294.118125\"/>\n      </g>\n     </g>\n    </g>\n    <g id=\"xtick_36\">\n     <g id=\"line2d_36\">\n      <g>\n       <use style=\"stroke:#000000;stroke-width:0.6;\" x=\"293.704324\" xlink:href=\"#mbfb3c41245\" y=\"294.118125\"/>\n      </g>\n     </g>\n    </g>\n    <g id=\"xtick_37\">\n     <g id=\"line2d_37\">\n      <g>\n       <use style=\"stroke:#000000;stroke-width:0.6;\" x=\"305.614497\" xlink:href=\"#mbfb3c41245\" y=\"294.118125\"/>\n      </g>\n     </g>\n    </g>\n    <g id=\"xtick_38\">\n     <g id=\"line2d_38\">\n      <g>\n       <use style=\"stroke:#000000;stroke-width:0.6;\" x=\"314.064899\" xlink:href=\"#mbfb3c41245\" y=\"294.118125\"/>\n      </g>\n     </g>\n    </g>\n    <g id=\"xtick_39\">\n     <g id=\"line2d_39\">\n      <g>\n       <use style=\"stroke:#000000;stroke-width:0.6;\" x=\"320.619539\" xlink:href=\"#mbfb3c41245\" y=\"294.118125\"/>\n      </g>\n     </g>\n    </g>\n    <g id=\"xtick_40\">\n     <g id=\"line2d_40\">\n      <g>\n       <use style=\"stroke:#000000;stroke-width:0.6;\" x=\"325.975071\" xlink:href=\"#mbfb3c41245\" y=\"294.118125\"/>\n      </g>\n     </g>\n    </g>\n    <g id=\"xtick_41\">\n     <g id=\"line2d_41\">\n      <g>\n       <use style=\"stroke:#000000;stroke-width:0.6;\" x=\"330.503108\" xlink:href=\"#mbfb3c41245\" y=\"294.118125\"/>\n      </g>\n     </g>\n    </g>\n    <g id=\"xtick_42\">\n     <g id=\"line2d_42\">\n      <g>\n       <use style=\"stroke:#000000;stroke-width:0.6;\" x=\"334.425473\" xlink:href=\"#mbfb3c41245\" y=\"294.118125\"/>\n      </g>\n     </g>\n    </g>\n    <g id=\"xtick_43\">\n     <g id=\"line2d_43\">\n      <g>\n       <use style=\"stroke:#000000;stroke-width:0.6;\" x=\"337.885243\" xlink:href=\"#mbfb3c41245\" y=\"294.118125\"/>\n      </g>\n     </g>\n    </g>\n    <g id=\"xtick_44\">\n     <g id=\"line2d_44\">\n      <g>\n       <use style=\"stroke:#000000;stroke-width:0.6;\" x=\"361.340688\" xlink:href=\"#mbfb3c41245\" y=\"294.118125\"/>\n      </g>\n     </g>\n    </g>\n    <g id=\"xtick_45\">\n     <g id=\"line2d_45\">\n      <g>\n       <use style=\"stroke:#000000;stroke-width:0.6;\" x=\"373.25086\" xlink:href=\"#mbfb3c41245\" y=\"294.118125\"/>\n      </g>\n     </g>\n    </g>\n    <g id=\"xtick_46\">\n     <g id=\"line2d_46\">\n      <g>\n       <use style=\"stroke:#000000;stroke-width:0.6;\" x=\"381.701262\" xlink:href=\"#mbfb3c41245\" y=\"294.118125\"/>\n      </g>\n     </g>\n    </g>\n    <g id=\"xtick_47\">\n     <g id=\"line2d_47\">\n      <g>\n       <use style=\"stroke:#000000;stroke-width:0.6;\" x=\"388.255903\" xlink:href=\"#mbfb3c41245\" y=\"294.118125\"/>\n      </g>\n     </g>\n    </g>\n    <g id=\"xtick_48\">\n     <g id=\"line2d_48\">\n      <g>\n       <use style=\"stroke:#000000;stroke-width:0.6;\" x=\"393.611435\" xlink:href=\"#mbfb3c41245\" y=\"294.118125\"/>\n      </g>\n     </g>\n    </g>\n    <g id=\"xtick_49\">\n     <g id=\"line2d_49\">\n      <g>\n       <use style=\"stroke:#000000;stroke-width:0.6;\" x=\"398.139472\" xlink:href=\"#mbfb3c41245\" y=\"294.118125\"/>\n      </g>\n     </g>\n    </g>\n    <g id=\"xtick_50\">\n     <g id=\"line2d_50\">\n      <g>\n       <use style=\"stroke:#000000;stroke-width:0.6;\" x=\"402.061836\" xlink:href=\"#mbfb3c41245\" y=\"294.118125\"/>\n      </g>\n     </g>\n    </g>\n    <g id=\"xtick_51\">\n     <g id=\"line2d_51\">\n      <g>\n       <use style=\"stroke:#000000;stroke-width:0.6;\" x=\"405.521607\" xlink:href=\"#mbfb3c41245\" y=\"294.118125\"/>\n      </g>\n     </g>\n    </g>\n    <g id=\"xtick_52\">\n     <g id=\"line2d_52\">\n      <g>\n       <use style=\"stroke:#000000;stroke-width:0.6;\" x=\"428.977052\" xlink:href=\"#mbfb3c41245\" y=\"294.118125\"/>\n      </g>\n     </g>\n    </g>\n    <g id=\"xtick_53\">\n     <g id=\"line2d_53\">\n      <g>\n       <use style=\"stroke:#000000;stroke-width:0.6;\" x=\"440.887224\" xlink:href=\"#mbfb3c41245\" y=\"294.118125\"/>\n      </g>\n     </g>\n    </g>\n    <g id=\"xtick_54\">\n     <g id=\"line2d_54\">\n      <g>\n       <use style=\"stroke:#000000;stroke-width:0.6;\" x=\"449.337626\" xlink:href=\"#mbfb3c41245\" y=\"294.118125\"/>\n      </g>\n     </g>\n    </g>\n    <g id=\"xtick_55\">\n     <g id=\"line2d_55\">\n      <g>\n       <use style=\"stroke:#000000;stroke-width:0.6;\" x=\"455.892267\" xlink:href=\"#mbfb3c41245\" y=\"294.118125\"/>\n      </g>\n     </g>\n    </g>\n    <g id=\"xtick_56\">\n     <g id=\"line2d_56\">\n      <g>\n       <use style=\"stroke:#000000;stroke-width:0.6;\" x=\"461.247798\" xlink:href=\"#mbfb3c41245\" y=\"294.118125\"/>\n      </g>\n     </g>\n    </g>\n    <g id=\"xtick_57\">\n     <g id=\"line2d_57\">\n      <g>\n       <use style=\"stroke:#000000;stroke-width:0.6;\" x=\"465.775836\" xlink:href=\"#mbfb3c41245\" y=\"294.118125\"/>\n      </g>\n     </g>\n    </g>\n    <g id=\"xtick_58\">\n     <g id=\"line2d_58\">\n      <g>\n       <use style=\"stroke:#000000;stroke-width:0.6;\" x=\"469.6982\" xlink:href=\"#mbfb3c41245\" y=\"294.118125\"/>\n      </g>\n     </g>\n    </g>\n    <g id=\"xtick_59\">\n     <g id=\"line2d_59\">\n      <g>\n       <use style=\"stroke:#000000;stroke-width:0.6;\" x=\"473.157971\" xlink:href=\"#mbfb3c41245\" y=\"294.118125\"/>\n      </g>\n     </g>\n    </g>\n    <g id=\"text_8\">\n     <!-- generated tokens -->\n     <g transform=\"translate(229.344531 322.394687)scale(0.1 -0.1)\">\n      <defs>\n       <path d=\"M 2906 1791 \nQ 2906 2416 2648 2759 \nQ 2391 3103 1925 3103 \nQ 1463 3103 1205 2759 \nQ 947 2416 947 1791 \nQ 947 1169 1205 825 \nQ 1463 481 1925 481 \nQ 2391 481 2648 825 \nQ 2906 1169 2906 1791 \nz\nM 3481 434 \nQ 3481 -459 3084 -895 \nQ 2688 -1331 1869 -1331 \nQ 1566 -1331 1297 -1286 \nQ 1028 -1241 775 -1147 \nL 775 -588 \nQ 1028 -725 1275 -790 \nQ 1522 -856 1778 -856 \nQ 2344 -856 2625 -561 \nQ 2906 -266 2906 331 \nL 2906 616 \nQ 2728 306 2450 153 \nQ 2172 0 1784 0 \nQ 1141 0 747 490 \nQ 353 981 353 1791 \nQ 353 2603 747 3093 \nQ 1141 3584 1784 3584 \nQ 2172 3584 2450 3431 \nQ 2728 3278 2906 2969 \nL 2906 3500 \nL 3481 3500 \nL 3481 434 \nz\n\" id=\"DejaVuSans-67\" transform=\"scale(0.015625)\"/>\n       <path d=\"M 3597 1894 \nL 3597 1613 \nL 953 1613 \nQ 991 1019 1311 708 \nQ 1631 397 2203 397 \nQ 2534 397 2845 478 \nQ 3156 559 3463 722 \nL 3463 178 \nQ 3153 47 2828 -22 \nQ 2503 -91 2169 -91 \nQ 1331 -91 842 396 \nQ 353 884 353 1716 \nQ 353 2575 817 3079 \nQ 1281 3584 2069 3584 \nQ 2775 3584 3186 3129 \nQ 3597 2675 3597 1894 \nz\nM 3022 2063 \nQ 3016 2534 2758 2815 \nQ 2500 3097 2075 3097 \nQ 1594 3097 1305 2825 \nQ 1016 2553 972 2059 \nL 3022 2063 \nz\n\" id=\"DejaVuSans-65\" transform=\"scale(0.015625)\"/>\n       <path d=\"M 3513 2113 \nL 3513 0 \nL 2938 0 \nL 2938 2094 \nQ 2938 2591 2744 2837 \nQ 2550 3084 2163 3084 \nQ 1697 3084 1428 2787 \nQ 1159 2491 1159 1978 \nL 1159 0 \nL 581 0 \nL 581 3500 \nL 1159 3500 \nL 1159 2956 \nQ 1366 3272 1645 3428 \nQ 1925 3584 2291 3584 \nQ 2894 3584 3203 3211 \nQ 3513 2838 3513 2113 \nz\n\" id=\"DejaVuSans-6e\" transform=\"scale(0.015625)\"/>\n       <path d=\"M 2631 2963 \nQ 2534 3019 2420 3045 \nQ 2306 3072 2169 3072 \nQ 1681 3072 1420 2755 \nQ 1159 2438 1159 1844 \nL 1159 0 \nL 581 0 \nL 581 3500 \nL 1159 3500 \nL 1159 2956 \nQ 1341 3275 1631 3429 \nQ 1922 3584 2338 3584 \nQ 2397 3584 2469 3576 \nQ 2541 3569 2628 3553 \nL 2631 2963 \nz\n\" id=\"DejaVuSans-72\" transform=\"scale(0.015625)\"/>\n       <path d=\"M 2194 1759 \nQ 1497 1759 1228 1600 \nQ 959 1441 959 1056 \nQ 959 750 1161 570 \nQ 1363 391 1709 391 \nQ 2188 391 2477 730 \nQ 2766 1069 2766 1631 \nL 2766 1759 \nL 2194 1759 \nz\nM 3341 1997 \nL 3341 0 \nL 2766 0 \nL 2766 531 \nQ 2569 213 2275 61 \nQ 1981 -91 1556 -91 \nQ 1019 -91 701 211 \nQ 384 513 384 1019 \nQ 384 1609 779 1909 \nQ 1175 2209 1959 2209 \nL 2766 2209 \nL 2766 2266 \nQ 2766 2663 2505 2880 \nQ 2244 3097 1772 3097 \nQ 1472 3097 1187 3025 \nQ 903 2953 641 2809 \nL 641 3341 \nQ 956 3463 1253 3523 \nQ 1550 3584 1831 3584 \nQ 2591 3584 2966 3190 \nQ 3341 2797 3341 1997 \nz\n\" id=\"DejaVuSans-61\" transform=\"scale(0.015625)\"/>\n       <path d=\"M 1172 4494 \nL 1172 3500 \nL 2356 3500 \nL 2356 3053 \nL 1172 3053 \nL 1172 1153 \nQ 1172 725 1289 603 \nQ 1406 481 1766 481 \nL 2356 481 \nL 2356 0 \nL 1766 0 \nQ 1100 0 847 248 \nQ 594 497 594 1153 \nL 594 3053 \nL 172 3053 \nL 172 3500 \nL 594 3500 \nL 594 4494 \nL 1172 4494 \nz\n\" id=\"DejaVuSans-74\" transform=\"scale(0.015625)\"/>\n       <path d=\"M 2906 2969 \nL 2906 4863 \nL 3481 4863 \nL 3481 0 \nL 2906 0 \nL 2906 525 \nQ 2725 213 2448 61 \nQ 2172 -91 1784 -91 \nQ 1150 -91 751 415 \nQ 353 922 353 1747 \nQ 353 2572 751 3078 \nQ 1150 3584 1784 3584 \nQ 2172 3584 2448 3432 \nQ 2725 3281 2906 2969 \nz\nM 947 1747 \nQ 947 1113 1208 752 \nQ 1469 391 1925 391 \nQ 2381 391 2643 752 \nQ 2906 1113 2906 1747 \nQ 2906 2381 2643 2742 \nQ 2381 3103 1925 3103 \nQ 1469 3103 1208 2742 \nQ 947 2381 947 1747 \nz\n\" id=\"DejaVuSans-64\" transform=\"scale(0.015625)\"/>\n       <path id=\"DejaVuSans-20\" transform=\"scale(0.015625)\"/>\n       <path d=\"M 1959 3097 \nQ 1497 3097 1228 2736 \nQ 959 2375 959 1747 \nQ 959 1119 1226 758 \nQ 1494 397 1959 397 \nQ 2419 397 2687 759 \nQ 2956 1122 2956 1747 \nQ 2956 2369 2687 2733 \nQ 2419 3097 1959 3097 \nz\nM 1959 3584 \nQ 2709 3584 3137 3096 \nQ 3566 2609 3566 1747 \nQ 3566 888 3137 398 \nQ 2709 -91 1959 -91 \nQ 1206 -91 779 398 \nQ 353 888 353 1747 \nQ 353 2609 779 3096 \nQ 1206 3584 1959 3584 \nz\n\" id=\"DejaVuSans-6f\" transform=\"scale(0.015625)\"/>\n       <path d=\"M 581 4863 \nL 1159 4863 \nL 1159 1991 \nL 2875 3500 \nL 3609 3500 \nL 1753 1863 \nL 3688 0 \nL 2938 0 \nL 1159 1709 \nL 1159 0 \nL 581 0 \nL 581 4863 \nz\n\" id=\"DejaVuSans-6b\" transform=\"scale(0.015625)\"/>\n       <path d=\"M 2834 3397 \nL 2834 2853 \nQ 2591 2978 2328 3040 \nQ 2066 3103 1784 3103 \nQ 1356 3103 1142 2972 \nQ 928 2841 928 2578 \nQ 928 2378 1081 2264 \nQ 1234 2150 1697 2047 \nL 1894 2003 \nQ 2506 1872 2764 1633 \nQ 3022 1394 3022 966 \nQ 3022 478 2636 193 \nQ 2250 -91 1575 -91 \nQ 1294 -91 989 -36 \nQ 684 19 347 128 \nL 347 722 \nQ 666 556 975 473 \nQ 1284 391 1588 391 \nQ 1994 391 2212 530 \nQ 2431 669 2431 922 \nQ 2431 1156 2273 1281 \nQ 2116 1406 1581 1522 \nL 1381 1569 \nQ 847 1681 609 1914 \nQ 372 2147 372 2553 \nQ 372 3047 722 3315 \nQ 1072 3584 1716 3584 \nQ 2034 3584 2315 3537 \nQ 2597 3491 2834 3397 \nz\n\" id=\"DejaVuSans-73\" transform=\"scale(0.015625)\"/>\n      </defs>\n      <use xlink:href=\"#DejaVuSans-67\"/>\n      <use x=\"63.476562\" xlink:href=\"#DejaVuSans-65\"/>\n      <use x=\"125\" xlink:href=\"#DejaVuSans-6e\"/>\n      <use x=\"188.378906\" xlink:href=\"#DejaVuSans-65\"/>\n      <use x=\"249.902344\" xlink:href=\"#DejaVuSans-72\"/>\n      <use x=\"291.015625\" xlink:href=\"#DejaVuSans-61\"/>\n      <use x=\"352.294922\" xlink:href=\"#DejaVuSans-74\"/>\n      <use x=\"391.503906\" xlink:href=\"#DejaVuSans-65\"/>\n      <use x=\"453.027344\" xlink:href=\"#DejaVuSans-64\"/>\n      <use x=\"516.503906\" xlink:href=\"#DejaVuSans-20\"/>\n      <use x=\"548.291016\" xlink:href=\"#DejaVuSans-74\"/>\n      <use x=\"587.5\" xlink:href=\"#DejaVuSans-6f\"/>\n      <use x=\"648.681641\" xlink:href=\"#DejaVuSans-6b\"/>\n      <use x=\"702.966797\" xlink:href=\"#DejaVuSans-65\"/>\n      <use x=\"764.490234\" xlink:href=\"#DejaVuSans-6e\"/>\n      <use x=\"827.869141\" xlink:href=\"#DejaVuSans-73\"/>\n     </g>\n    </g>\n   </g>\n   <g id=\"matplotlib.axis_2\">\n    <g id=\"ytick_1\">\n     <g id=\"line2d_60\">\n      <defs>\n       <path d=\"M 0 0 \nL -3.5 0 \n\" id=\"m34910cd7c7\" style=\"stroke:#000000;stroke-width:0.8;\"/>\n      </defs>\n      <g>\n       <use style=\"stroke:#000000;stroke-width:0.8;\" x=\"50.14375\" xlink:href=\"#m34910cd7c7\" y=\"293.764239\"/>\n      </g>\n     </g>\n     <g id=\"text_9\">\n      <!-- 10.0 -->\n      <g transform=\"translate(20.878125 297.563458)scale(0.1 -0.1)\">\n       <defs>\n        <path d=\"M 684 794 \nL 1344 794 \nL 1344 0 \nL 684 0 \nL 684 794 \nz\n\" id=\"DejaVuSans-2e\" transform=\"scale(0.015625)\"/>\n       </defs>\n       <use xlink:href=\"#DejaVuSans-31\"/>\n       <use x=\"63.623047\" xlink:href=\"#DejaVuSans-30\"/>\n       <use x=\"127.246094\" xlink:href=\"#DejaVuSans-2e\"/>\n       <use x=\"159.033203\" xlink:href=\"#DejaVuSans-30\"/>\n      </g>\n     </g>\n    </g>\n    <g id=\"ytick_2\">\n     <g id=\"line2d_61\">\n      <g>\n       <use style=\"stroke:#000000;stroke-width:0.8;\" x=\"50.14375\" xlink:href=\"#m34910cd7c7\" y=\"259.345309\"/>\n      </g>\n     </g>\n     <g id=\"text_10\">\n      <!-- 10.5 -->\n      <g transform=\"translate(20.878125 263.144528)scale(0.1 -0.1)\">\n       <use xlink:href=\"#DejaVuSans-31\"/>\n       <use x=\"63.623047\" xlink:href=\"#DejaVuSans-30\"/>\n       <use x=\"127.246094\" xlink:href=\"#DejaVuSans-2e\"/>\n       <use x=\"159.033203\" xlink:href=\"#DejaVuSans-35\"/>\n      </g>\n     </g>\n    </g>\n    <g id=\"ytick_3\">\n     <g id=\"line2d_62\">\n      <g>\n       <use style=\"stroke:#000000;stroke-width:0.8;\" x=\"50.14375\" xlink:href=\"#m34910cd7c7\" y=\"224.926379\"/>\n      </g>\n     </g>\n     <g id=\"text_11\">\n      <!-- 11.0 -->\n      <g transform=\"translate(20.878125 228.725598)scale(0.1 -0.1)\">\n       <use xlink:href=\"#DejaVuSans-31\"/>\n       <use x=\"63.623047\" xlink:href=\"#DejaVuSans-31\"/>\n       <use x=\"127.246094\" xlink:href=\"#DejaVuSans-2e\"/>\n       <use x=\"159.033203\" xlink:href=\"#DejaVuSans-30\"/>\n      </g>\n     </g>\n    </g>\n    <g id=\"ytick_4\">\n     <g id=\"line2d_63\">\n      <g>\n       <use style=\"stroke:#000000;stroke-width:0.8;\" x=\"50.14375\" xlink:href=\"#m34910cd7c7\" y=\"190.507449\"/>\n      </g>\n     </g>\n     <g id=\"text_12\">\n      <!-- 11.5 -->\n      <g transform=\"translate(20.878125 194.306668)scale(0.1 -0.1)\">\n       <use xlink:href=\"#DejaVuSans-31\"/>\n       <use x=\"63.623047\" xlink:href=\"#DejaVuSans-31\"/>\n       <use x=\"127.246094\" xlink:href=\"#DejaVuSans-2e\"/>\n       <use x=\"159.033203\" xlink:href=\"#DejaVuSans-35\"/>\n      </g>\n     </g>\n    </g>\n    <g id=\"ytick_5\">\n     <g id=\"line2d_64\">\n      <g>\n       <use style=\"stroke:#000000;stroke-width:0.8;\" x=\"50.14375\" xlink:href=\"#m34910cd7c7\" y=\"156.088519\"/>\n      </g>\n     </g>\n     <g id=\"text_13\">\n      <!-- 12.0 -->\n      <g transform=\"translate(20.878125 159.887738)scale(0.1 -0.1)\">\n       <use xlink:href=\"#DejaVuSans-31\"/>\n       <use x=\"63.623047\" xlink:href=\"#DejaVuSans-32\"/>\n       <use x=\"127.246094\" xlink:href=\"#DejaVuSans-2e\"/>\n       <use x=\"159.033203\" xlink:href=\"#DejaVuSans-30\"/>\n      </g>\n     </g>\n    </g>\n    <g id=\"ytick_6\">\n     <g id=\"line2d_65\">\n      <g>\n       <use style=\"stroke:#000000;stroke-width:0.8;\" x=\"50.14375\" xlink:href=\"#m34910cd7c7\" y=\"121.669589\"/>\n      </g>\n     </g>\n     <g id=\"text_14\">\n      <!-- 12.5 -->\n      <g transform=\"translate(20.878125 125.468808)scale(0.1 -0.1)\">\n       <use xlink:href=\"#DejaVuSans-31\"/>\n       <use x=\"63.623047\" xlink:href=\"#DejaVuSans-32\"/>\n       <use x=\"127.246094\" xlink:href=\"#DejaVuSans-2e\"/>\n       <use x=\"159.033203\" xlink:href=\"#DejaVuSans-35\"/>\n      </g>\n     </g>\n    </g>\n    <g id=\"ytick_7\">\n     <g id=\"line2d_66\">\n      <g>\n       <use style=\"stroke:#000000;stroke-width:0.8;\" x=\"50.14375\" xlink:href=\"#m34910cd7c7\" y=\"87.250659\"/>\n      </g>\n     </g>\n     <g id=\"text_15\">\n      <!-- 13.0 -->\n      <g transform=\"translate(20.878125 91.049878)scale(0.1 -0.1)\">\n       <use xlink:href=\"#DejaVuSans-31\"/>\n       <use x=\"63.623047\" xlink:href=\"#DejaVuSans-33\"/>\n       <use x=\"127.246094\" xlink:href=\"#DejaVuSans-2e\"/>\n       <use x=\"159.033203\" xlink:href=\"#DejaVuSans-30\"/>\n      </g>\n     </g>\n    </g>\n    <g id=\"ytick_8\">\n     <g id=\"line2d_67\">\n      <g>\n       <use style=\"stroke:#000000;stroke-width:0.8;\" x=\"50.14375\" xlink:href=\"#m34910cd7c7\" y=\"52.831729\"/>\n      </g>\n     </g>\n     <g id=\"text_16\">\n      <!-- 13.5 -->\n      <g transform=\"translate(20.878125 56.630948)scale(0.1 -0.1)\">\n       <use xlink:href=\"#DejaVuSans-31\"/>\n       <use x=\"63.623047\" xlink:href=\"#DejaVuSans-33\"/>\n       <use x=\"127.246094\" xlink:href=\"#DejaVuSans-2e\"/>\n       <use x=\"159.033203\" xlink:href=\"#DejaVuSans-35\"/>\n      </g>\n     </g>\n    </g>\n    <g id=\"text_17\">\n     <!-- OOV rate (%) -->\n     <g transform=\"translate(14.798437 191.409531)rotate(-90)scale(0.1 -0.1)\">\n      <defs>\n       <path d=\"M 2522 4238 \nQ 1834 4238 1429 3725 \nQ 1025 3213 1025 2328 \nQ 1025 1447 1429 934 \nQ 1834 422 2522 422 \nQ 3209 422 3611 934 \nQ 4013 1447 4013 2328 \nQ 4013 3213 3611 3725 \nQ 3209 4238 2522 4238 \nz\nM 2522 4750 \nQ 3503 4750 4090 4092 \nQ 4678 3434 4678 2328 \nQ 4678 1225 4090 567 \nQ 3503 -91 2522 -91 \nQ 1538 -91 948 565 \nQ 359 1222 359 2328 \nQ 359 3434 948 4092 \nQ 1538 4750 2522 4750 \nz\n\" id=\"DejaVuSans-4f\" transform=\"scale(0.015625)\"/>\n       <path d=\"M 1831 0 \nL 50 4666 \nL 709 4666 \nL 2188 738 \nL 3669 4666 \nL 4325 4666 \nL 2547 0 \nL 1831 0 \nz\n\" id=\"DejaVuSans-56\" transform=\"scale(0.015625)\"/>\n       <path d=\"M 1984 4856 \nQ 1566 4138 1362 3434 \nQ 1159 2731 1159 2009 \nQ 1159 1288 1364 580 \nQ 1569 -128 1984 -844 \nL 1484 -844 \nQ 1016 -109 783 600 \nQ 550 1309 550 2009 \nQ 550 2706 781 3412 \nQ 1013 4119 1484 4856 \nL 1984 4856 \nz\n\" id=\"DejaVuSans-28\" transform=\"scale(0.015625)\"/>\n       <path d=\"M 4653 2053 \nQ 4381 2053 4226 1822 \nQ 4072 1591 4072 1178 \nQ 4072 772 4226 539 \nQ 4381 306 4653 306 \nQ 4919 306 5073 539 \nQ 5228 772 5228 1178 \nQ 5228 1588 5073 1820 \nQ 4919 2053 4653 2053 \nz\nM 4653 2450 \nQ 5147 2450 5437 2106 \nQ 5728 1763 5728 1178 \nQ 5728 594 5436 251 \nQ 5144 -91 4653 -91 \nQ 4153 -91 3862 251 \nQ 3572 594 3572 1178 \nQ 3572 1766 3864 2108 \nQ 4156 2450 4653 2450 \nz\nM 1428 4353 \nQ 1159 4353 1004 4120 \nQ 850 3888 850 3481 \nQ 850 3069 1003 2837 \nQ 1156 2606 1428 2606 \nQ 1700 2606 1854 2837 \nQ 2009 3069 2009 3481 \nQ 2009 3884 1853 4118 \nQ 1697 4353 1428 4353 \nz\nM 4250 4750 \nL 4750 4750 \nL 1831 -91 \nL 1331 -91 \nL 4250 4750 \nz\nM 1428 4750 \nQ 1922 4750 2215 4408 \nQ 2509 4066 2509 3481 \nQ 2509 2891 2217 2550 \nQ 1925 2209 1428 2209 \nQ 931 2209 642 2551 \nQ 353 2894 353 3481 \nQ 353 4063 643 4406 \nQ 934 4750 1428 4750 \nz\n\" id=\"DejaVuSans-25\" transform=\"scale(0.015625)\"/>\n       <path d=\"M 513 4856 \nL 1013 4856 \nQ 1481 4119 1714 3412 \nQ 1947 2706 1947 2009 \nQ 1947 1309 1714 600 \nQ 1481 -109 1013 -844 \nL 513 -844 \nQ 928 -128 1133 580 \nQ 1338 1288 1338 2009 \nQ 1338 2731 1133 3434 \nQ 928 4138 513 4856 \nz\n\" id=\"DejaVuSans-29\" transform=\"scale(0.015625)\"/>\n      </defs>\n      <use xlink:href=\"#DejaVuSans-4f\"/>\n      <use x=\"78.710938\" xlink:href=\"#DejaVuSans-4f\"/>\n      <use x=\"155.671875\" xlink:href=\"#DejaVuSans-56\"/>\n      <use x=\"224.080078\" xlink:href=\"#DejaVuSans-20\"/>\n      <use x=\"255.867188\" xlink:href=\"#DejaVuSans-72\"/>\n      <use x=\"296.980469\" xlink:href=\"#DejaVuSans-61\"/>\n      <use x=\"358.259766\" xlink:href=\"#DejaVuSans-74\"/>\n      <use x=\"397.46875\" xlink:href=\"#DejaVuSans-65\"/>\n      <use x=\"458.992188\" xlink:href=\"#DejaVuSans-20\"/>\n      <use x=\"490.779297\" xlink:href=\"#DejaVuSans-28\"/>\n      <use x=\"529.792969\" xlink:href=\"#DejaVuSans-25\"/>\n      <use x=\"624.8125\" xlink:href=\"#DejaVuSans-29\"/>\n     </g>\n    </g>\n   </g>\n   <g id=\"line2d_68\">\n    <path clip-path=\"url(#p2265b422e8)\" d=\"M 70.434659 34.67267 \nL 138.071023 34.67267 \nL 205.707386 34.67267 \nL 273.34375 36.088214 \nL 340.980114 46.468863 \nL 408.616477 82.958418 \nL 476.252841 163.487091 \n\" style=\"fill:none;stroke:#00ff00;stroke-linecap:square;stroke-width:1.5;\"/>\n   </g>\n   <g id=\"line2d_69\">\n    <path clip-path=\"url(#p2265b422e8)\" d=\"M 70.434659 34.67267 \nL 138.071023 34.67267 \nL 205.707386 34.987236 \nL 273.34375 37.189191 \nL 340.980114 55.591252 \nL 408.616477 126.053841 \nL 476.252841 255.497391 \n\" style=\"fill:none;stroke:#00ffff;stroke-linecap:square;stroke-width:1.5;\"/>\n   </g>\n   <g id=\"line2d_70\">\n    <path clip-path=\"url(#p2265b422e8)\" d=\"M 70.434659 34.67267 \nL 138.071023 34.67267 \nL 205.707386 34.829953 \nL 273.34375 37.975604 \nL 340.980114 57.793207 \nL 408.616477 139.265576 \nL 476.252841 274.528582 \n\" style=\"fill:none;stroke:#f08080;stroke-linecap:square;stroke-width:1.5;\"/>\n   </g>\n   <g id=\"line2d_71\">\n    <path clip-path=\"url(#p2265b422e8)\" d=\"M 70.434659 34.67267 \nL 138.071023 34.67267 \nL 205.707386 34.987236 \nL 273.34375 36.560061 \nL 340.980114 44.738755 \nL 408.616477 95.38374 \nL 476.252841 215.390337 \n\" style=\"fill:none;stroke:#006400;stroke-linecap:square;stroke-width:1.5;\"/>\n   </g>\n   <g id=\"line2d_72\">\n    <path clip-path=\"url(#p2265b422e8)\" d=\"M 70.434659 34.67267 \nL 138.071023 34.67267 \nL 205.707386 34.829953 \nL 273.34375 36.717344 \nL 340.980114 54.804839 \nL 408.616477 130.30047 \nL 476.252841 269.338257 \n\" style=\"fill:none;stroke:#0000ff;stroke-linecap:square;stroke-width:1.5;\"/>\n   </g>\n   <g id=\"line2d_73\">\n    <path clip-path=\"url(#p2265b422e8)\" d=\"M 70.434659 34.67267 \nL 138.071023 34.67267 \nL 205.707386 34.987236 \nL 273.34375 36.402779 \nL 340.980114 55.591252 \nL 408.616477 135.490794 \nL 476.252841 281.76358 \n\" style=\"fill:none;stroke:#ff0000;stroke-linecap:square;stroke-width:1.5;\"/>\n   </g>\n   <g id=\"patch_3\">\n    <path d=\"M 50.14375 294.118125 \nL 50.14375 22.318125 \n\" style=\"fill:none;stroke:#000000;stroke-linecap:square;stroke-linejoin:miter;stroke-width:0.8;\"/>\n   </g>\n   <g id=\"patch_4\">\n    <path d=\"M 496.54375 294.118125 \nL 496.54375 22.318125 \n\" style=\"fill:none;stroke:#000000;stroke-linecap:square;stroke-linejoin:miter;stroke-width:0.8;\"/>\n   </g>\n   <g id=\"patch_5\">\n    <path d=\"M 50.14375 294.118125 \nL 496.54375 294.118125 \n\" style=\"fill:none;stroke:#000000;stroke-linecap:square;stroke-linejoin:miter;stroke-width:0.8;\"/>\n   </g>\n   <g id=\"patch_6\">\n    <path d=\"M 50.14375 22.318125 \nL 496.54375 22.318125 \n\" style=\"fill:none;stroke:#000000;stroke-linecap:square;stroke-linejoin:miter;stroke-width:0.8;\"/>\n   </g>\n   <g id=\"text_18\">\n    <!-- OOV rate changes with size of the generated text -->\n    <g transform=\"translate(124.421875 16.318125)scale(0.12 -0.12)\">\n     <defs>\n      <path d=\"M 3122 3366 \nL 3122 2828 \nQ 2878 2963 2633 3030 \nQ 2388 3097 2138 3097 \nQ 1578 3097 1268 2742 \nQ 959 2388 959 1747 \nQ 959 1106 1268 751 \nQ 1578 397 2138 397 \nQ 2388 397 2633 464 \nQ 2878 531 3122 666 \nL 3122 134 \nQ 2881 22 2623 -34 \nQ 2366 -91 2075 -91 \nQ 1284 -91 818 406 \nQ 353 903 353 1747 \nQ 353 2603 823 3093 \nQ 1294 3584 2113 3584 \nQ 2378 3584 2631 3529 \nQ 2884 3475 3122 3366 \nz\n\" id=\"DejaVuSans-63\" transform=\"scale(0.015625)\"/>\n      <path d=\"M 3513 2113 \nL 3513 0 \nL 2938 0 \nL 2938 2094 \nQ 2938 2591 2744 2837 \nQ 2550 3084 2163 3084 \nQ 1697 3084 1428 2787 \nQ 1159 2491 1159 1978 \nL 1159 0 \nL 581 0 \nL 581 4863 \nL 1159 4863 \nL 1159 2956 \nQ 1366 3272 1645 3428 \nQ 1925 3584 2291 3584 \nQ 2894 3584 3203 3211 \nQ 3513 2838 3513 2113 \nz\n\" id=\"DejaVuSans-68\" transform=\"scale(0.015625)\"/>\n      <path d=\"M 269 3500 \nL 844 3500 \nL 1563 769 \nL 2278 3500 \nL 2956 3500 \nL 3675 769 \nL 4391 3500 \nL 4966 3500 \nL 4050 0 \nL 3372 0 \nL 2619 2869 \nL 1863 0 \nL 1184 0 \nL 269 3500 \nz\n\" id=\"DejaVuSans-77\" transform=\"scale(0.015625)\"/>\n      <path d=\"M 603 3500 \nL 1178 3500 \nL 1178 0 \nL 603 0 \nL 603 3500 \nz\nM 603 4863 \nL 1178 4863 \nL 1178 4134 \nL 603 4134 \nL 603 4863 \nz\n\" id=\"DejaVuSans-69\" transform=\"scale(0.015625)\"/>\n      <path d=\"M 353 3500 \nL 3084 3500 \nL 3084 2975 \nL 922 459 \nL 3084 459 \nL 3084 0 \nL 275 0 \nL 275 525 \nL 2438 3041 \nL 353 3041 \nL 353 3500 \nz\n\" id=\"DejaVuSans-7a\" transform=\"scale(0.015625)\"/>\n      <path d=\"M 2375 4863 \nL 2375 4384 \nL 1825 4384 \nQ 1516 4384 1395 4259 \nQ 1275 4134 1275 3809 \nL 1275 3500 \nL 2222 3500 \nL 2222 3053 \nL 1275 3053 \nL 1275 0 \nL 697 0 \nL 697 3053 \nL 147 3053 \nL 147 3500 \nL 697 3500 \nL 697 3744 \nQ 697 4328 969 4595 \nQ 1241 4863 1831 4863 \nL 2375 4863 \nz\n\" id=\"DejaVuSans-66\" transform=\"scale(0.015625)\"/>\n      <path d=\"M 3513 3500 \nL 2247 1797 \nL 3578 0 \nL 2900 0 \nL 1881 1375 \nL 863 0 \nL 184 0 \nL 1544 1831 \nL 300 3500 \nL 978 3500 \nL 1906 2253 \nL 2834 3500 \nL 3513 3500 \nz\n\" id=\"DejaVuSans-78\" transform=\"scale(0.015625)\"/>\n     </defs>\n     <use xlink:href=\"#DejaVuSans-4f\"/>\n     <use x=\"78.710938\" xlink:href=\"#DejaVuSans-4f\"/>\n     <use x=\"155.671875\" xlink:href=\"#DejaVuSans-56\"/>\n     <use x=\"224.080078\" xlink:href=\"#DejaVuSans-20\"/>\n     <use x=\"255.867188\" xlink:href=\"#DejaVuSans-72\"/>\n     <use x=\"296.980469\" xlink:href=\"#DejaVuSans-61\"/>\n     <use x=\"358.259766\" xlink:href=\"#DejaVuSans-74\"/>\n     <use x=\"397.46875\" xlink:href=\"#DejaVuSans-65\"/>\n     <use x=\"458.992188\" xlink:href=\"#DejaVuSans-20\"/>\n     <use x=\"490.779297\" xlink:href=\"#DejaVuSans-63\"/>\n     <use x=\"545.759766\" xlink:href=\"#DejaVuSans-68\"/>\n     <use x=\"609.138672\" xlink:href=\"#DejaVuSans-61\"/>\n     <use x=\"670.417969\" xlink:href=\"#DejaVuSans-6e\"/>\n     <use x=\"733.796875\" xlink:href=\"#DejaVuSans-67\"/>\n     <use x=\"797.273438\" xlink:href=\"#DejaVuSans-65\"/>\n     <use x=\"858.796875\" xlink:href=\"#DejaVuSans-73\"/>\n     <use x=\"910.896484\" xlink:href=\"#DejaVuSans-20\"/>\n     <use x=\"942.683594\" xlink:href=\"#DejaVuSans-77\"/>\n     <use x=\"1024.470703\" xlink:href=\"#DejaVuSans-69\"/>\n     <use x=\"1052.253906\" xlink:href=\"#DejaVuSans-74\"/>\n     <use x=\"1091.462891\" xlink:href=\"#DejaVuSans-68\"/>\n     <use x=\"1154.841797\" xlink:href=\"#DejaVuSans-20\"/>\n     <use x=\"1186.628906\" xlink:href=\"#DejaVuSans-73\"/>\n     <use x=\"1238.728516\" xlink:href=\"#DejaVuSans-69\"/>\n     <use x=\"1266.511719\" xlink:href=\"#DejaVuSans-7a\"/>\n     <use x=\"1319.001953\" xlink:href=\"#DejaVuSans-65\"/>\n     <use x=\"1380.525391\" xlink:href=\"#DejaVuSans-20\"/>\n     <use x=\"1412.3125\" xlink:href=\"#DejaVuSans-6f\"/>\n     <use x=\"1473.494141\" xlink:href=\"#DejaVuSans-66\"/>\n     <use x=\"1508.699219\" xlink:href=\"#DejaVuSans-20\"/>\n     <use x=\"1540.486328\" xlink:href=\"#DejaVuSans-74\"/>\n     <use x=\"1579.695312\" xlink:href=\"#DejaVuSans-68\"/>\n     <use x=\"1643.074219\" xlink:href=\"#DejaVuSans-65\"/>\n     <use x=\"1704.597656\" xlink:href=\"#DejaVuSans-20\"/>\n     <use x=\"1736.384766\" xlink:href=\"#DejaVuSans-67\"/>\n     <use x=\"1799.861328\" xlink:href=\"#DejaVuSans-65\"/>\n     <use x=\"1861.384766\" xlink:href=\"#DejaVuSans-6e\"/>\n     <use x=\"1924.763672\" xlink:href=\"#DejaVuSans-65\"/>\n     <use x=\"1986.287109\" xlink:href=\"#DejaVuSans-72\"/>\n     <use x=\"2027.400391\" xlink:href=\"#DejaVuSans-61\"/>\n     <use x=\"2088.679688\" xlink:href=\"#DejaVuSans-74\"/>\n     <use x=\"2127.888672\" xlink:href=\"#DejaVuSans-65\"/>\n     <use x=\"2189.412109\" xlink:href=\"#DejaVuSans-64\"/>\n     <use x=\"2252.888672\" xlink:href=\"#DejaVuSans-20\"/>\n     <use x=\"2284.675781\" xlink:href=\"#DejaVuSans-74\"/>\n     <use x=\"2323.884766\" xlink:href=\"#DejaVuSans-65\"/>\n     <use x=\"2383.658203\" xlink:href=\"#DejaVuSans-78\"/>\n     <use x=\"2442.837891\" xlink:href=\"#DejaVuSans-74\"/>\n    </g>\n   </g>\n   <g id=\"legend_1\">\n    <g id=\"patch_7\">\n     <path d=\"M 57.14375 289.118125 \nL 147.601562 289.118125 \nQ 149.601562 289.118125 149.601562 287.118125 \nL 149.601562 198.380625 \nQ 149.601562 196.380625 147.601562 196.380625 \nL 57.14375 196.380625 \nQ 55.14375 196.380625 55.14375 198.380625 \nL 55.14375 287.118125 \nQ 55.14375 289.118125 57.14375 289.118125 \nz\n\" style=\"fill:#ffffff;opacity:0.8;stroke:#cccccc;stroke-linejoin:miter;\"/>\n    </g>\n    <g id=\"line2d_74\">\n     <path d=\"M 59.14375 204.479062 \nL 79.14375 204.479062 \n\" style=\"fill:none;stroke:#00ff00;stroke-linecap:square;stroke-width:1.5;\"/>\n    </g>\n    <g id=\"line2d_75\"/>\n    <g id=\"text_19\">\n     <!-- s1_baseline -->\n     <g transform=\"translate(87.14375 207.979062)scale(0.1 -0.1)\">\n      <defs>\n       <path d=\"M 3263 -1063 \nL 3263 -1509 \nL -63 -1509 \nL -63 -1063 \nL 3263 -1063 \nz\n\" id=\"DejaVuSans-5f\" transform=\"scale(0.015625)\"/>\n       <path d=\"M 3116 1747 \nQ 3116 2381 2855 2742 \nQ 2594 3103 2138 3103 \nQ 1681 3103 1420 2742 \nQ 1159 2381 1159 1747 \nQ 1159 1113 1420 752 \nQ 1681 391 2138 391 \nQ 2594 391 2855 752 \nQ 3116 1113 3116 1747 \nz\nM 1159 2969 \nQ 1341 3281 1617 3432 \nQ 1894 3584 2278 3584 \nQ 2916 3584 3314 3078 \nQ 3713 2572 3713 1747 \nQ 3713 922 3314 415 \nQ 2916 -91 2278 -91 \nQ 1894 -91 1617 61 \nQ 1341 213 1159 525 \nL 1159 0 \nL 581 0 \nL 581 4863 \nL 1159 4863 \nL 1159 2969 \nz\n\" id=\"DejaVuSans-62\" transform=\"scale(0.015625)\"/>\n       <path d=\"M 603 4863 \nL 1178 4863 \nL 1178 0 \nL 603 0 \nL 603 4863 \nz\n\" id=\"DejaVuSans-6c\" transform=\"scale(0.015625)\"/>\n      </defs>\n      <use xlink:href=\"#DejaVuSans-73\"/>\n      <use x=\"52.099609\" xlink:href=\"#DejaVuSans-31\"/>\n      <use x=\"115.722656\" xlink:href=\"#DejaVuSans-5f\"/>\n      <use x=\"165.722656\" xlink:href=\"#DejaVuSans-62\"/>\n      <use x=\"229.199219\" xlink:href=\"#DejaVuSans-61\"/>\n      <use x=\"290.478516\" xlink:href=\"#DejaVuSans-73\"/>\n      <use x=\"342.578125\" xlink:href=\"#DejaVuSans-65\"/>\n      <use x=\"404.101562\" xlink:href=\"#DejaVuSans-6c\"/>\n      <use x=\"431.884766\" xlink:href=\"#DejaVuSans-69\"/>\n      <use x=\"459.667969\" xlink:href=\"#DejaVuSans-6e\"/>\n      <use x=\"523.046875\" xlink:href=\"#DejaVuSans-65\"/>\n     </g>\n    </g>\n    <g id=\"line2d_76\">\n     <path d=\"M 59.14375 219.435313 \nL 79.14375 219.435313 \n\" style=\"fill:none;stroke:#00ffff;stroke-linecap:square;stroke-width:1.5;\"/>\n    </g>\n    <g id=\"line2d_77\"/>\n    <g id=\"text_20\">\n     <!-- s2_baseline -->\n     <g transform=\"translate(87.14375 222.935313)scale(0.1 -0.1)\">\n      <use xlink:href=\"#DejaVuSans-73\"/>\n      <use x=\"52.099609\" xlink:href=\"#DejaVuSans-32\"/>\n      <use x=\"115.722656\" xlink:href=\"#DejaVuSans-5f\"/>\n      <use x=\"165.722656\" xlink:href=\"#DejaVuSans-62\"/>\n      <use x=\"229.199219\" xlink:href=\"#DejaVuSans-61\"/>\n      <use x=\"290.478516\" xlink:href=\"#DejaVuSans-73\"/>\n      <use x=\"342.578125\" xlink:href=\"#DejaVuSans-65\"/>\n      <use x=\"404.101562\" xlink:href=\"#DejaVuSans-6c\"/>\n      <use x=\"431.884766\" xlink:href=\"#DejaVuSans-69\"/>\n      <use x=\"459.667969\" xlink:href=\"#DejaVuSans-6e\"/>\n      <use x=\"523.046875\" xlink:href=\"#DejaVuSans-65\"/>\n     </g>\n    </g>\n    <g id=\"line2d_78\">\n     <path d=\"M 59.14375 234.391562 \nL 79.14375 234.391562 \n\" style=\"fill:none;stroke:#f08080;stroke-linecap:square;stroke-width:1.5;\"/>\n    </g>\n    <g id=\"line2d_79\"/>\n    <g id=\"text_21\">\n     <!-- s3_baseline -->\n     <g transform=\"translate(87.14375 237.891562)scale(0.1 -0.1)\">\n      <use xlink:href=\"#DejaVuSans-73\"/>\n      <use x=\"52.099609\" xlink:href=\"#DejaVuSans-33\"/>\n      <use x=\"115.722656\" xlink:href=\"#DejaVuSans-5f\"/>\n      <use x=\"165.722656\" xlink:href=\"#DejaVuSans-62\"/>\n      <use x=\"229.199219\" xlink:href=\"#DejaVuSans-61\"/>\n      <use x=\"290.478516\" xlink:href=\"#DejaVuSans-73\"/>\n      <use x=\"342.578125\" xlink:href=\"#DejaVuSans-65\"/>\n      <use x=\"404.101562\" xlink:href=\"#DejaVuSans-6c\"/>\n      <use x=\"431.884766\" xlink:href=\"#DejaVuSans-69\"/>\n      <use x=\"459.667969\" xlink:href=\"#DejaVuSans-6e\"/>\n      <use x=\"523.046875\" xlink:href=\"#DejaVuSans-65\"/>\n     </g>\n    </g>\n    <g id=\"line2d_80\">\n     <path d=\"M 59.14375 249.347813 \nL 79.14375 249.347813 \n\" style=\"fill:none;stroke:#006400;stroke-linecap:square;stroke-width:1.5;\"/>\n    </g>\n    <g id=\"line2d_81\"/>\n    <g id=\"text_22\">\n     <!-- s1_optimal -->\n     <g transform=\"translate(87.14375 252.847813)scale(0.1 -0.1)\">\n      <defs>\n       <path d=\"M 1159 525 \nL 1159 -1331 \nL 581 -1331 \nL 581 3500 \nL 1159 3500 \nL 1159 2969 \nQ 1341 3281 1617 3432 \nQ 1894 3584 2278 3584 \nQ 2916 3584 3314 3078 \nQ 3713 2572 3713 1747 \nQ 3713 922 3314 415 \nQ 2916 -91 2278 -91 \nQ 1894 -91 1617 61 \nQ 1341 213 1159 525 \nz\nM 3116 1747 \nQ 3116 2381 2855 2742 \nQ 2594 3103 2138 3103 \nQ 1681 3103 1420 2742 \nQ 1159 2381 1159 1747 \nQ 1159 1113 1420 752 \nQ 1681 391 2138 391 \nQ 2594 391 2855 752 \nQ 3116 1113 3116 1747 \nz\n\" id=\"DejaVuSans-70\" transform=\"scale(0.015625)\"/>\n       <path d=\"M 3328 2828 \nQ 3544 3216 3844 3400 \nQ 4144 3584 4550 3584 \nQ 5097 3584 5394 3201 \nQ 5691 2819 5691 2113 \nL 5691 0 \nL 5113 0 \nL 5113 2094 \nQ 5113 2597 4934 2840 \nQ 4756 3084 4391 3084 \nQ 3944 3084 3684 2787 \nQ 3425 2491 3425 1978 \nL 3425 0 \nL 2847 0 \nL 2847 2094 \nQ 2847 2600 2669 2842 \nQ 2491 3084 2119 3084 \nQ 1678 3084 1418 2786 \nQ 1159 2488 1159 1978 \nL 1159 0 \nL 581 0 \nL 581 3500 \nL 1159 3500 \nL 1159 2956 \nQ 1356 3278 1631 3431 \nQ 1906 3584 2284 3584 \nQ 2666 3584 2933 3390 \nQ 3200 3197 3328 2828 \nz\n\" id=\"DejaVuSans-6d\" transform=\"scale(0.015625)\"/>\n      </defs>\n      <use xlink:href=\"#DejaVuSans-73\"/>\n      <use x=\"52.099609\" xlink:href=\"#DejaVuSans-31\"/>\n      <use x=\"115.722656\" xlink:href=\"#DejaVuSans-5f\"/>\n      <use x=\"165.722656\" xlink:href=\"#DejaVuSans-6f\"/>\n      <use x=\"226.904297\" xlink:href=\"#DejaVuSans-70\"/>\n      <use x=\"290.380859\" xlink:href=\"#DejaVuSans-74\"/>\n      <use x=\"329.589844\" xlink:href=\"#DejaVuSans-69\"/>\n      <use x=\"357.373047\" xlink:href=\"#DejaVuSans-6d\"/>\n      <use x=\"454.785156\" xlink:href=\"#DejaVuSans-61\"/>\n      <use x=\"516.064453\" xlink:href=\"#DejaVuSans-6c\"/>\n     </g>\n    </g>\n    <g id=\"line2d_82\">\n     <path d=\"M 59.14375 264.304062 \nL 79.14375 264.304062 \n\" style=\"fill:none;stroke:#0000ff;stroke-linecap:square;stroke-width:1.5;\"/>\n    </g>\n    <g id=\"line2d_83\"/>\n    <g id=\"text_23\">\n     <!-- s2_optimal -->\n     <g transform=\"translate(87.14375 267.804062)scale(0.1 -0.1)\">\n      <use xlink:href=\"#DejaVuSans-73\"/>\n      <use x=\"52.099609\" xlink:href=\"#DejaVuSans-32\"/>\n      <use x=\"115.722656\" xlink:href=\"#DejaVuSans-5f\"/>\n      <use x=\"165.722656\" xlink:href=\"#DejaVuSans-6f\"/>\n      <use x=\"226.904297\" xlink:href=\"#DejaVuSans-70\"/>\n      <use x=\"290.380859\" xlink:href=\"#DejaVuSans-74\"/>\n      <use x=\"329.589844\" xlink:href=\"#DejaVuSans-69\"/>\n      <use x=\"357.373047\" xlink:href=\"#DejaVuSans-6d\"/>\n      <use x=\"454.785156\" xlink:href=\"#DejaVuSans-61\"/>\n      <use x=\"516.064453\" xlink:href=\"#DejaVuSans-6c\"/>\n     </g>\n    </g>\n    <g id=\"line2d_84\">\n     <path d=\"M 59.14375 279.260312 \nL 79.14375 279.260312 \n\" style=\"fill:none;stroke:#ff0000;stroke-linecap:square;stroke-width:1.5;\"/>\n    </g>\n    <g id=\"line2d_85\"/>\n    <g id=\"text_24\">\n     <!-- s3_optimal -->\n     <g transform=\"translate(87.14375 282.760312)scale(0.1 -0.1)\">\n      <use xlink:href=\"#DejaVuSans-73\"/>\n      <use x=\"52.099609\" xlink:href=\"#DejaVuSans-33\"/>\n      <use x=\"115.722656\" xlink:href=\"#DejaVuSans-5f\"/>\n      <use x=\"165.722656\" xlink:href=\"#DejaVuSans-6f\"/>\n      <use x=\"226.904297\" xlink:href=\"#DejaVuSans-70\"/>\n      <use x=\"290.380859\" xlink:href=\"#DejaVuSans-74\"/>\n      <use x=\"329.589844\" xlink:href=\"#DejaVuSans-69\"/>\n      <use x=\"357.373047\" xlink:href=\"#DejaVuSans-6d\"/>\n      <use x=\"454.785156\" xlink:href=\"#DejaVuSans-61\"/>\n      <use x=\"516.064453\" xlink:href=\"#DejaVuSans-6c\"/>\n     </g>\n    </g>\n   </g>\n  </g>\n </g>\n <defs>\n  <clipPath id=\"p2265b422e8\">\n   <rect height=\"271.8\" width=\"446.4\" x=\"50.14375\" y=\"22.318125\"/>\n  </clipPath>\n </defs>\n</svg>\n",
      "image/png": "[encoded data removed]"
     },
     "metadata": {
      "needs_background": "light"
     }
    }
   ],
   "metadata": {}
  },
  {
   "cell_type": "markdown",
   "source": [
    "### Observations\n",
    "\n",
    "+ The OOV-rate starts to decrease only when  $10^4$ tokens have been generated to extend the vocabulary. From $10^5$ to $10^7$, the decrease in the OOV-rate is more notiaceable, with a reduction of more than 3% with $10^7$ for the `s2` and `s3` models.\n",
    "\n",
    "+ Among the different models, we see that both `s1` are clearly worse. `s2` and `s3` are nearly identical, but `s3` achieves a OOV-rate slightly lower.\n",
    "\n",
    "+ For the three vocabulary sizes (`s1`, `s2` and `s3`) the optimal model achieves a slower OOV-rate for $10^7$, but the improvement for `s2` and `s3` is minimal.\n"
   ],
   "metadata": {}
  },
  {
   "cell_type": "markdown",
   "source": [
    "# 6. Analysis"
   ],
   "metadata": {}
  },
  {
   "cell_type": "markdown",
   "source": [
    "The aim we have been trying to achieve with this project is obtaining the best language model of English and the best language model of Bengali possible for different vocabulary sizes, reducing their Out-of-vocabulary (oov) rate as much as possible with respect to the given  baseline models. In this sense, our objective has been achieved: using perplexity to tune the hyperparameters, we have obtained models whose generated texts reduce the OOV rate more than the corresponding baseline.\n",
    "\n",
    "There are clear differences between the results of English and Bengali. First, we see a difference in the optimal vocabulary size: 500 for English versus the 1700 for Bengali. We believe this difference can be attributed to the fact that Bengali is a morphologically much more richer language, having a higher number of different sub-words. \n",
    "\n",
    "A second obvious difference between the English and Bengali languages resides in the OOV rates: while the English language has a OOV rate of 4.80% over the original train data, the Bengali language has an OOV rate of 13.76%. This difference in the OOV rates can be also attributed to the greater morphological richness of the Bengali language. This higher original OOV rate leaves more place for improvement when augmenting the original data, and the OOV rate of the Bengali models decreases ca. 3%, compare to the decrease of ca. 1.5% for the English models. \n",
    "\n",
    "A third difference regards the improvement of the tuned models with respect to the baselines.  For Bengali, the reduction in OOV rates of the tuned models compared to the baseline models is smaller than in the English models. One reason that explains this might be the fact that we don't properly tune the hyperparameters for the Bengali models with a grid search, but only infer them from our observations from English models.\n",
    "\n",
    "As explained along the two notebooks, in order to optimise the OOV rates, we have used the Minimum Description Length (MDL) criteria to determine the optimal vocabulary sizes and we have used the perplexity over the validation set to select the best hyperparameters of the RNN language models. Regarding the hyperparameters of the RNNLMs, we have obtained the following conclusions from the grid search that we conducted for the English language models: \n",
    "\n",
    "\n",
    "- The more neurons in the hidden layer, the lower the perplexity. \n",
    "\n",
    "- Modifying the number of backpropagation steps doesn't have a major impact on the perplexity.\n",
    "\n",
    "- Selecting the number of classes (`class` hyperparameter) to the vocabulary size seems to be the best.\n",
    "\n",
    "\n",
    "Having tuned the hyperparaters of the English models by selecting those which minimized the perplexity of the validation set, we wonder if we could obtain better results if we took into account *Occam's razor*. Even though the selected hyperparameter configurations for the English models are those that give the lowest perplexity, it can been seen that other configurations provid similar perplexities and lead to less complex models i.e. less hidden neurons, less back-propagation steps and less classes. Also in relation to the tuning of hyperparameters, having conducted a grid search for the Bengali models might lead to better models. \n",
    "\n",
    "The results could also be improved by using more and varied training data, as well as trying different model architectures (e.g. transformer, SVM).\n",
    "\n",
    "\n"
   ],
   "metadata": {}
  },
  {
   "cell_type": "markdown",
   "source": [],
   "metadata": {}
  }
 ],
 "metadata": {
  "interpreter": {
   "hash": "709e25c9509ebf51ab33454ee450f06cdb9cf989c600b578f7235622088438d7"
  },
  "kernelspec": {
   "name": "python3",
   "display_name": "Python 3.8.10 64-bit ('snlp-vKRMqmdq': pipenv)"
  },
  "language_info": {
   "name": "python",
   "version": "3.8.10",
   "mimetype": "text/x-python",
   "codemirror_mode": {
    "name": "ipython",
    "version": 3
   },
   "pygments_lexer": "ipython3",
   "nbconvert_exporter": "python",
   "file_extension": ".py"
  }
 },
 "nbformat": 4,
 "nbformat_minor": 5
}